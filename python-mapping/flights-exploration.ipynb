{
 "cells": [
  {
   "cell_type": "markdown",
   "id": "f0ca696b",
   "metadata": {},
   "source": [
    "# Flights Exploration"
   ]
  },
  {
   "cell_type": "code",
   "execution_count": 1,
   "id": "92b0966a",
   "metadata": {},
   "outputs": [],
   "source": [
    "from pathlib import Path\n",
    "\n",
    "import pandas as pd\n",
    "import plotly.graph_objects as go"
   ]
  },
  {
   "cell_type": "markdown",
   "id": "2432b584",
   "metadata": {},
   "source": [
    "### Load flights data"
   ]
  },
  {
   "cell_type": "code",
   "execution_count": 2,
   "id": "ad772eb8",
   "metadata": {},
   "outputs": [],
   "source": [
    "flights = pd.read_csv('./data/SW-J flight travel.csv')"
   ]
  },
  {
   "cell_type": "code",
   "execution_count": 3,
   "id": "cf5a6baf",
   "metadata": {},
   "outputs": [
    {
     "data": {
      "text/html": [
       "<div>\n",
       "<style scoped>\n",
       "    .dataframe tbody tr th:only-of-type {\n",
       "        vertical-align: middle;\n",
       "    }\n",
       "\n",
       "    .dataframe tbody tr th {\n",
       "        vertical-align: top;\n",
       "    }\n",
       "\n",
       "    .dataframe thead th {\n",
       "        text-align: right;\n",
       "    }\n",
       "</style>\n",
       "<table border=\"1\" class=\"dataframe\">\n",
       "  <thead>\n",
       "    <tr style=\"text-align: right;\">\n",
       "      <th></th>\n",
       "      <th>flight</th>\n",
       "      <th>from country</th>\n",
       "      <th>from airport</th>\n",
       "      <th>from aiport name</th>\n",
       "      <th>from lattitude</th>\n",
       "      <th>from logntitude</th>\n",
       "      <th>to country</th>\n",
       "      <th>to airport</th>\n",
       "      <th>to aiport name</th>\n",
       "      <th>to lattitude</th>\n",
       "      <th>to logntitude</th>\n",
       "      <th>date</th>\n",
       "      <th>notes</th>\n",
       "      <th>trip name</th>\n",
       "      <th>Airline</th>\n",
       "    </tr>\n",
       "  </thead>\n",
       "  <tbody>\n",
       "    <tr>\n",
       "      <th>0</th>\n",
       "      <td>1.0</td>\n",
       "      <td>UK</td>\n",
       "      <td>Heathrow</td>\n",
       "      <td>LHR</td>\n",
       "      <td>51.477500</td>\n",
       "      <td>-0.461389</td>\n",
       "      <td>United States</td>\n",
       "      <td>Los Angeles</td>\n",
       "      <td>LAX</td>\n",
       "      <td>33.942536</td>\n",
       "      <td>-118.408075</td>\n",
       "      <td>1/8/2000</td>\n",
       "      <td>estimated date</td>\n",
       "      <td>Family United States 1</td>\n",
       "      <td>NaN</td>\n",
       "    </tr>\n",
       "    <tr>\n",
       "      <th>1</th>\n",
       "      <td>2.0</td>\n",
       "      <td>United States</td>\n",
       "      <td>San Francisco</td>\n",
       "      <td>SFO</td>\n",
       "      <td>37.618972</td>\n",
       "      <td>-122.374889</td>\n",
       "      <td>UK</td>\n",
       "      <td>Heathrow</td>\n",
       "      <td>LHR</td>\n",
       "      <td>51.477500</td>\n",
       "      <td>-0.461389</td>\n",
       "      <td>15/8/2000</td>\n",
       "      <td>estimated date</td>\n",
       "      <td>Family United States 1</td>\n",
       "      <td>NaN</td>\n",
       "    </tr>\n",
       "    <tr>\n",
       "      <th>2</th>\n",
       "      <td>3.0</td>\n",
       "      <td>UK</td>\n",
       "      <td>Heathrow</td>\n",
       "      <td>LHR</td>\n",
       "      <td>51.477500</td>\n",
       "      <td>-0.461389</td>\n",
       "      <td>United States</td>\n",
       "      <td>Boston</td>\n",
       "      <td>BOS</td>\n",
       "      <td>42.364347</td>\n",
       "      <td>-71.005181</td>\n",
       "      <td>1/8/2002</td>\n",
       "      <td>estimated date</td>\n",
       "      <td>Family United States 2</td>\n",
       "      <td>NaN</td>\n",
       "    </tr>\n",
       "    <tr>\n",
       "      <th>3</th>\n",
       "      <td>4.0</td>\n",
       "      <td>United States</td>\n",
       "      <td>Boston</td>\n",
       "      <td>BOS</td>\n",
       "      <td>42.364347</td>\n",
       "      <td>-71.005181</td>\n",
       "      <td>UK</td>\n",
       "      <td>Heathrow</td>\n",
       "      <td>LHR</td>\n",
       "      <td>51.477500</td>\n",
       "      <td>-0.461389</td>\n",
       "      <td>12/8/2002</td>\n",
       "      <td>estimated date</td>\n",
       "      <td>Family United States 2</td>\n",
       "      <td>NaN</td>\n",
       "    </tr>\n",
       "    <tr>\n",
       "      <th>4</th>\n",
       "      <td>5.0</td>\n",
       "      <td>UK</td>\n",
       "      <td>Heathrow</td>\n",
       "      <td>LHR</td>\n",
       "      <td>51.477500</td>\n",
       "      <td>-0.461389</td>\n",
       "      <td>United States</td>\n",
       "      <td>Los Angeles</td>\n",
       "      <td>LAX</td>\n",
       "      <td>33.942536</td>\n",
       "      <td>-118.408075</td>\n",
       "      <td>1/8/2004</td>\n",
       "      <td>estimated date</td>\n",
       "      <td>Family United States 3</td>\n",
       "      <td>NaN</td>\n",
       "    </tr>\n",
       "  </tbody>\n",
       "</table>\n",
       "</div>"
      ],
      "text/plain": [
       "   flight  from country    from airport from aiport name  from lattitude  \\\n",
       "0     1.0             UK       Heathrow              LHR       51.477500   \n",
       "1     2.0  United States  San Francisco              SFO       37.618972   \n",
       "2     3.0             UK       Heathrow              LHR       51.477500   \n",
       "3     4.0  United States         Boston              BOS       42.364347   \n",
       "4     5.0             UK       Heathrow              LHR       51.477500   \n",
       "\n",
       "   from logntitude    to country   to airport  to aiport name  to lattitude  \\\n",
       "0        -0.461389  United States  Los Angeles            LAX     33.942536   \n",
       "1      -122.374889             UK     Heathrow            LHR     51.477500   \n",
       "2        -0.461389  United States       Boston            BOS     42.364347   \n",
       "3       -71.005181             UK     Heathrow            LHR     51.477500   \n",
       "4        -0.461389  United States  Los Angeles            LAX     33.942536   \n",
       "\n",
       "   to logntitude       date           notes               trip name Airline  \n",
       "0    -118.408075   1/8/2000  estimated date  Family United States 1     NaN  \n",
       "1      -0.461389  15/8/2000  estimated date  Family United States 1     NaN  \n",
       "2     -71.005181   1/8/2002  estimated date  Family United States 2     NaN  \n",
       "3      -0.461389  12/8/2002  estimated date  Family United States 2     NaN  \n",
       "4    -118.408075   1/8/2004  estimated date  Family United States 3     NaN  "
      ]
     },
     "execution_count": 3,
     "metadata": {},
     "output_type": "execute_result"
    }
   ],
   "source": [
    "flights.head()"
   ]
  },
  {
   "cell_type": "code",
   "execution_count": 5,
   "id": "74892ca5",
   "metadata": {},
   "outputs": [
    {
     "data": {
      "application/vnd.plotly.v1+json": {
       "config": {
        "plotlyServerURL": "https://plot.ly"
       },
       "data": [
        {
         "type": "scattergeo"
        },
        {
         "lat": [
          51.4775,
          33.942536
         ],
         "line": {
          "color": "red",
          "width": 1
         },
         "lon": [
          -0.461389,
          -118.408075
         ],
         "mode": "lines",
         "name": "1/8/2000",
         "type": "scattergeo"
        },
        {
         "lat": [
          37.618972,
          51.4775
         ],
         "line": {
          "color": "red",
          "width": 1
         },
         "lon": [
          -122.374889,
          -0.461389
         ],
         "mode": "lines",
         "name": "15/8/2000",
         "type": "scattergeo"
        },
        {
         "lat": [
          51.4775,
          42.364347
         ],
         "line": {
          "color": "red",
          "width": 1
         },
         "lon": [
          -0.461389,
          -71.005181
         ],
         "mode": "lines",
         "name": "1/8/2002",
         "type": "scattergeo"
        },
        {
         "lat": [
          42.364347,
          51.4775
         ],
         "line": {
          "color": "red",
          "width": 1
         },
         "lon": [
          -71.005181,
          -0.461389
         ],
         "mode": "lines",
         "name": "12/8/2002",
         "type": "scattergeo"
        },
        {
         "lat": [
          51.4775,
          33.942536
         ],
         "line": {
          "color": "red",
          "width": 1
         },
         "lon": [
          -0.461389,
          -118.408075
         ],
         "mode": "lines",
         "name": "1/8/2004",
         "type": "scattergeo"
        },
        {
         "lat": [
          33.942536,
          51.4775
         ],
         "line": {
          "color": "red",
          "width": 1
         },
         "lon": [
          -118.408075,
          -0.461389
         ],
         "mode": "lines",
         "name": "15/8/2004",
         "type": "scattergeo"
        },
        {
         "lat": [
          51.4775,
          41.978603
         ],
         "line": {
          "color": "red",
          "width": 1
         },
         "lon": [
          -0.461389,
          -87.904842
         ],
         "mode": "lines",
         "name": "22/10/2004",
         "type": "scattergeo"
        },
        {
         "lat": [
          41.978603,
          51.4775
         ],
         "line": {
          "color": "red",
          "width": 1
         },
         "lon": [
          -87.904842,
          -0.461389
         ],
         "mode": "lines",
         "name": "29/10/2004",
         "type": "scattergeo"
        },
        {
         "lat": [
          51.874722,
          46.238064
         ],
         "line": {
          "color": "red",
          "width": 1
         },
         "lon": [
          -0.368333,
          6.10895
         ],
         "mode": "lines",
         "name": "1/4/2007",
         "type": "scattergeo"
        },
        {
         "lat": [
          46.238064,
          51.874722
         ],
         "line": {
          "color": "red",
          "width": 1
         },
         "lon": [
          6.10895,
          -0.368333
         ],
         "mode": "lines",
         "name": "8/4/2007",
         "type": "scattergeo"
        },
        {
         "lat": [
          51.874722,
          35.421408
         ],
         "line": {
          "color": "red",
          "width": 1
         },
         "lon": [
          -0.368333,
          27.146008
         ],
         "mode": "lines",
         "name": "1/8/2008",
         "type": "scattergeo"
        },
        {
         "lat": [
          35.421408,
          51.874722
         ],
         "line": {
          "color": "red",
          "width": 1
         },
         "lon": [
          27.146008,
          -0.368333
         ],
         "mode": "lines",
         "name": "15/8/2008",
         "type": "scattergeo"
        },
        {
         "lat": [
          51.4775,
          19.088686
         ],
         "line": {
          "color": "red",
          "width": 1
         },
         "lon": [
          -0.461389,
          72.867919
         ],
         "mode": "lines",
         "name": "16/8/2008",
         "type": "scattergeo"
        },
        {
         "lat": [
          19.088686,
          13.681108
         ],
         "line": {
          "color": "red",
          "width": 1
         },
         "lon": [
          72.867919,
          100.747283
         ],
         "mode": "lines",
         "name": "16/8/2008",
         "type": "scattergeo"
        },
        {
         "lat": [
          13.681108,
          8.1132
         ],
         "line": {
          "color": "red",
          "width": 1
         },
         "lon": [
          100.747283,
          98.316872
         ],
         "mode": "lines",
         "name": "23/8/2008",
         "type": "scattergeo"
        },
        {
         "lat": [
          8.1132,
          13.681108
         ],
         "line": {
          "color": "red",
          "width": 1
         },
         "lon": [
          98.316872,
          100.747283
         ],
         "mode": "lines",
         "name": "27/8/2008",
         "type": "scattergeo"
        },
        {
         "lat": [
          13.681108,
          51.4775
         ],
         "line": {
          "color": "red",
          "width": 1
         },
         "lon": [
          100.747283,
          -0.461389
         ],
         "mode": "lines",
         "name": "29/8/2008",
         "type": "scattergeo"
        },
        {
         "lat": [
          51.874722,
          37.750853
         ],
         "line": {
          "color": "red",
          "width": 1
         },
         "lon": [
          -0.368333,
          20.88425
         ],
         "mode": "lines",
         "name": "3/7/2010",
         "type": "scattergeo"
        },
        {
         "lat": [
          37.750853,
          51.874722
         ],
         "line": {
          "color": "red",
          "width": 1
         },
         "lon": [
          20.88425,
          -0.368333
         ],
         "mode": "lines",
         "name": "10/7/2010",
         "type": "scattergeo"
        },
        {
         "lat": [
          51.874722,
          38.781311
         ],
         "line": {
          "color": "red",
          "width": 1
         },
         "lon": [
          -0.368333,
          -9.135919
         ],
         "mode": "lines",
         "name": "9/4/2011",
         "type": "scattergeo"
        },
        {
         "lat": [
          38.781311,
          51.874722
         ],
         "line": {
          "color": "red",
          "width": 1
         },
         "lon": [
          -9.135919,
          -0.368333
         ],
         "mode": "lines",
         "name": "16/4/2011",
         "type": "scattergeo"
        },
        {
         "lat": [
          51.885,
          45.472017
         ],
         "line": {
          "color": "red",
          "width": 1
         },
         "lon": [
          0.235,
          10.927919
         ],
         "mode": "lines",
         "name": "17/4/2011",
         "type": "scattergeo"
        },
        {
         "lat": [
          45.472017,
          51.885
         ],
         "line": {
          "color": "red",
          "width": 1
         },
         "lon": [
          10.927919,
          0.235
         ],
         "mode": "lines",
         "name": "23/4/2011",
         "type": "scattergeo"
        },
        {
         "lat": [
          51.885,
          45.472017
         ],
         "line": {
          "color": "red",
          "width": 1
         },
         "lon": [
          0.235,
          10.927919
         ],
         "mode": "lines",
         "name": "1/4/2012",
         "type": "scattergeo"
        },
        {
         "lat": [
          45.472017,
          51.885
         ],
         "line": {
          "color": "red",
          "width": 1
         },
         "lon": [
          10.927919,
          0.235
         ],
         "mode": "lines",
         "name": "7/4/2012",
         "type": "scattergeo"
        },
        {
         "lat": [
          51.874722,
          38.781311
         ],
         "line": {
          "color": "red",
          "width": 1
         },
         "lon": [
          -0.368333,
          -9.135919
         ],
         "mode": "lines",
         "name": "2/7/2012",
         "type": "scattergeo"
        },
        {
         "lat": [
          38.781311,
          51.874722
         ],
         "line": {
          "color": "red",
          "width": 1
         },
         "lon": [
          -9.135919,
          -0.368333
         ],
         "mode": "lines",
         "name": "8/7/2012",
         "type": "scattergeo"
        },
        {
         "lat": [
          52.453856,
          47.153189
         ],
         "line": {
          "color": "red",
          "width": 1
         },
         "lon": [
          -1.748028,
          -1.610725
         ],
         "mode": "lines",
         "name": "10/7/2012",
         "type": "scattergeo"
        },
        {
         "lat": [
          47.153189,
          52.453856
         ],
         "line": {
          "color": "red",
          "width": 1
         },
         "lon": [
          -1.610725,
          -1.748028
         ],
         "mode": "lines",
         "name": "15/7/2012",
         "type": "scattergeo"
        },
        {
         "lat": [
          51.885,
          37.418
         ],
         "line": {
          "color": "red",
          "width": 1
         },
         "lon": [
          0.235,
          -5.893106
         ],
         "mode": "lines",
         "name": "23/9/2012",
         "type": "scattergeo"
        },
        {
         "lat": [
          37.418,
          51.885
         ],
         "line": {
          "color": "red",
          "width": 1
         },
         "lon": [
          -5.893106,
          0.235
         ],
         "mode": "lines",
         "name": "30/9/2012",
         "type": "scattergeo"
        },
        {
         "lat": [
          51.4775,
          40.493556
         ],
         "line": {
          "color": "red",
          "width": 1
         },
         "lon": [
          -0.461389,
          -3.566764
         ],
         "mode": "lines",
         "name": "1/7/2013",
         "type": "scattergeo"
        },
        {
         "lat": [
          40.493556,
          -22.93235
         ],
         "line": {
          "color": "red",
          "width": 1
         },
         "lon": [
          -3.566764,
          -43.719092
         ],
         "mode": "lines",
         "name": "1/7/2013",
         "type": "scattergeo"
        },
        {
         "lat": [
          -22.93235,
          -12.021889
         ],
         "line": {
          "color": "red",
          "width": 1
         },
         "lon": [
          -43.719092,
          -77.114319
         ],
         "mode": "lines",
         "name": "7/7/2013",
         "type": "scattergeo"
        },
        {
         "lat": [
          -16.513339,
          -12.021889
         ],
         "line": {
          "color": "red",
          "width": 1
         },
         "lon": [
          -68.192256,
          -77.114319
         ],
         "mode": "lines",
         "name": "4/8/2013",
         "type": "scattergeo"
        },
        {
         "lat": [
          -12.021889,
          40.493556
         ],
         "line": {
          "color": "red",
          "width": 1
         },
         "lon": [
          -77.114319,
          -3.566764
         ],
         "mode": "lines",
         "name": "4/8/2013",
         "type": "scattergeo"
        },
        {
         "lat": [
          40.493556,
          51.4775
         ],
         "line": {
          "color": "red",
          "width": 1
         },
         "lon": [
          -3.566764,
          -0.461389
         ],
         "mode": "lines",
         "name": "4/8/2013",
         "type": "scattergeo"
        },
        {
         "lat": [
          51.885,
          50.077731
         ],
         "line": {
          "color": "red",
          "width": 1
         },
         "lon": [
          0.235,
          19.784836
         ],
         "mode": "lines",
         "name": "15/8/2013",
         "type": "scattergeo"
        },
        {
         "lat": [
          47.436933,
          51.885
         ],
         "line": {
          "color": "red",
          "width": 1
         },
         "lon": [
          19.255592,
          0.235
         ],
         "mode": "lines",
         "name": "28/8/2013",
         "type": "scattergeo"
        },
        {
         "lat": [
          51.874722,
          36.405419
         ],
         "line": {
          "color": "red",
          "width": 1
         },
         "lon": [
          -0.368333,
          28.086192
         ],
         "mode": "lines",
         "name": "12/9/2013",
         "type": "scattergeo"
        },
        {
         "lat": [
          36.405419,
          51.874722
         ],
         "line": {
          "color": "red",
          "width": 1
         },
         "lon": [
          28.086192,
          -0.368333
         ],
         "mode": "lines",
         "name": "19/9/2013",
         "type": "scattergeo"
        },
        {
         "lat": [
          51.4775,
          40.639751
         ],
         "line": {
          "color": "red",
          "width": 1
         },
         "lon": [
          -0.461389,
          -73.778925
         ],
         "mode": "lines",
         "name": "31/7/2014",
         "type": "scattergeo"
        },
        {
         "lat": [
          38.852083,
          32.898647
         ],
         "line": {
          "color": "red",
          "width": 1
         },
         "lon": [
          -77.037722,
          -80.040528
         ],
         "mode": "lines",
         "name": "14/8/2014",
         "type": "scattergeo"
        },
        {
         "lat": [
          35.877639,
          33.636719
         ],
         "line": {
          "color": "red",
          "width": 1
         },
         "lon": [
          -78.787472,
          -84.428067
         ],
         "mode": "lines",
         "name": "26/8/2014",
         "type": "scattergeo"
        },
        {
         "lat": [
          33.636719,
          51.4775
         ],
         "line": {
          "color": "red",
          "width": 1
         },
         "lon": [
          -84.428067,
          -0.461389
         ],
         "mode": "lines",
         "name": "26/8/2014",
         "type": "scattergeo"
        },
        {
         "lat": [
          51.885,
          53.421333
         ],
         "line": {
          "color": "red",
          "width": 1
         },
         "lon": [
          0.235,
          -6.270075
         ],
         "mode": "lines",
         "name": "20/11/2014",
         "type": "scattergeo"
        },
        {
         "lat": [
          53.421333,
          51.885
         ],
         "line": {
          "color": "red",
          "width": 1
         },
         "lon": [
          -6.270075,
          0.235
         ],
         "mode": "lines",
         "name": "24/11/2014",
         "type": "scattergeo"
        },
        {
         "lat": [
          51.874722,
          52.380001
         ],
         "line": {
          "color": "red",
          "width": 1
         },
         "lon": [
          -0.368333,
          13.5225
         ],
         "mode": "lines",
         "name": "22/1/2015",
         "type": "scattergeo"
        },
        {
         "lat": [
          52.380001,
          51.885
         ],
         "line": {
          "color": "red",
          "width": 1
         },
         "lon": [
          13.5225,
          0.235
         ],
         "mode": "lines",
         "name": "25/1/2015",
         "type": "scattergeo"
        },
        {
         "lat": [
          51.148056,
          41.297078
         ],
         "line": {
          "color": "red",
          "width": 1
         },
         "lon": [
          -0.190278,
          2.078464
         ],
         "mode": "lines",
         "name": "9/5/2015",
         "type": "scattergeo"
        },
        {
         "lat": [
          43.629075,
          51.874722
         ],
         "line": {
          "color": "red",
          "width": 1
         },
         "lon": [
          1.363819,
          -0.368333
         ],
         "mode": "lines",
         "name": "16/5/2015",
         "type": "scattergeo"
        },
        {
         "lat": [
          51.874722,
          46.223686
         ],
         "line": {
          "color": "red",
          "width": 1
         },
         "lon": [
          -0.368333,
          14.457611
         ],
         "mode": "lines",
         "name": "12/9/2015",
         "type": "scattergeo"
        },
        {
         "lat": [
          45.742931,
          44.818444
         ],
         "line": {
          "color": "red",
          "width": 1
         },
         "lon": [
          16.068778,
          20.309139
         ],
         "mode": "lines",
         "name": "19/9/2015",
         "type": "scattergeo"
        },
        {
         "lat": [
          44.818444,
          51.4775
         ],
         "line": {
          "color": "red",
          "width": 1
         },
         "lon": [
          20.309139,
          -0.461389
         ],
         "mode": "lines",
         "name": "19/9/2015",
         "type": "scattergeo"
        },
        {
         "lat": [
          51.4775,
          40.976922
         ],
         "line": {
          "color": "red",
          "width": 1
         },
         "lon": [
          -0.461389,
          28.814606
         ],
         "mode": "lines",
         "name": "19/11/2015",
         "type": "scattergeo"
        },
        {
         "lat": [
          40.976922,
          51.148056
         ],
         "line": {
          "color": "red",
          "width": 1
         },
         "lon": [
          28.814606,
          -0.190278
         ],
         "mode": "lines",
         "name": "22/11/2015",
         "type": "scattergeo"
        },
        {
         "lat": [
          51.4775,
          12.949986
         ],
         "line": {
          "color": "red",
          "width": 1
         },
         "lon": [
          -0.461389,
          77.668206
         ],
         "mode": "lines",
         "name": "9/1/2016",
         "type": "scattergeo"
        },
        {
         "lat": [
          12.949986,
          28.5665
         ],
         "line": {
          "color": "red",
          "width": 1
         },
         "lon": [
          77.668206,
          77.103088
         ],
         "mode": "lines",
         "name": "30/1/2016",
         "type": "scattergeo"
        },
        {
         "lat": [
          28.5665,
          51.4775
         ],
         "line": {
          "color": "red",
          "width": 1
         },
         "lon": [
          77.103088,
          -0.461389
         ],
         "mode": "lines",
         "name": "30/1/2016",
         "type": "scattergeo"
        },
        {
         "lat": [
          52.380001,
          51.874722
         ],
         "line": {
          "color": "red",
          "width": 1
         },
         "lon": [
          13.5225,
          -0.368333
         ],
         "mode": "lines",
         "name": "4/3/2016",
         "type": "scattergeo"
        },
        {
         "lat": [
          51.874722,
          52.380001
         ],
         "line": {
          "color": "red",
          "width": 1
         },
         "lon": [
          -0.368333,
          13.5225
         ],
         "mode": "lines",
         "name": "6/3/2016",
         "type": "scattergeo"
        },
        {
         "lat": [
          51.148056,
          53.630389
         ],
         "line": {
          "color": "red",
          "width": 1
         },
         "lon": [
          -0.190278,
          9.988228
         ],
         "mode": "lines",
         "name": "17/4/2016",
         "type": "scattergeo"
        },
        {
         "lat": [
          53.630389,
          51.148056
         ],
         "line": {
          "color": "red",
          "width": 1
         },
         "lon": [
          9.988228,
          -0.190278
         ],
         "mode": "lines",
         "name": "20/4/2016",
         "type": "scattergeo"
        },
        {
         "lat": [
          51.885,
          37.936358
         ],
         "line": {
          "color": "red",
          "width": 1
         },
         "lon": [
          0.235,
          23.944467
         ],
         "mode": "lines",
         "name": "18/6/2016",
         "type": "scattergeo"
        },
        {
         "lat": [
          37.936358,
          51.885
         ],
         "line": {
          "color": "red",
          "width": 1
         },
         "lon": [
          23.944467,
          0.235
         ],
         "mode": "lines",
         "name": "25/6/2016",
         "type": "scattergeo"
        },
        {
         "lat": [
          51.874722,
          54.377569
         ],
         "line": {
          "color": "red",
          "width": 1
         },
         "lon": [
          -0.368333,
          18.466222
         ],
         "mode": "lines",
         "name": "28/6/2016",
         "type": "scattergeo"
        },
        {
         "lat": [
          54.377569,
          51.874722
         ],
         "line": {
          "color": "red",
          "width": 1
         },
         "lon": [
          18.466222,
          -0.368333
         ],
         "mode": "lines",
         "name": "3/7/2016",
         "type": "scattergeo"
        },
        {
         "lat": [
          51.4775,
          13.681108
         ],
         "line": {
          "color": "red",
          "width": 1
         },
         "lon": [
          -0.461389,
          100.747283
         ],
         "mode": "lines",
         "name": "21/8/2016",
         "type": "scattergeo"
        },
        {
         "lat": [
          13.681108,
          13.410666
         ],
         "line": {
          "color": "red",
          "width": 1
         },
         "lon": [
          100.747283,
          103.81284
         ],
         "mode": "lines",
         "name": "15/9/2016",
         "type": "scattergeo"
        },
        {
         "lat": [
          13.410666,
          13.681108
         ],
         "line": {
          "color": "red",
          "width": 1
         },
         "lon": [
          103.81284,
          100.747283
         ],
         "mode": "lines",
         "name": "18/9/2016",
         "type": "scattergeo"
        },
        {
         "lat": [
          13.912583,
          8.1132
         ],
         "line": {
          "color": "red",
          "width": 1
         },
         "lon": [
          100.60675,
          98.316872
         ],
         "mode": "lines",
         "name": "18/10/2016",
         "type": "scattergeo"
        },
        {
         "lat": [
          8.1132,
          13.912583
         ],
         "line": {
          "color": "red",
          "width": 1
         },
         "lon": [
          98.316872,
          100.60675
         ],
         "mode": "lines",
         "name": "22/10/2016",
         "type": "scattergeo"
        },
        {
         "lat": [
          13.681108,
          51.4775
         ],
         "line": {
          "color": "red",
          "width": 1
         },
         "lon": [
          100.747283,
          -0.461389
         ],
         "mode": "lines",
         "name": "2/12/2016",
         "type": "scattergeo"
        },
        {
         "lat": [
          51.4775,
          42.212444
         ],
         "line": {
          "color": "red",
          "width": 1
         },
         "lon": [
          -0.461389,
          -83.353389
         ],
         "mode": "lines",
         "name": "10/12/2016",
         "type": "scattergeo"
        },
        {
         "lat": [
          42.212444,
          39.861656
         ],
         "line": {
          "color": "red",
          "width": 1
         },
         "lon": [
          -83.353389,
          -104.673178
         ],
         "mode": "lines",
         "name": "10/12/2016",
         "type": "scattergeo"
        },
        {
         "lat": [
          39.861656,
          40.788389
         ],
         "line": {
          "color": "red",
          "width": 1
         },
         "lon": [
          -104.673178,
          -111.977772
         ],
         "mode": "lines",
         "name": "20/12/2016",
         "type": "scattergeo"
        },
        {
         "lat": [
          40.788389,
          51.4775
         ],
         "line": {
          "color": "red",
          "width": 1
         },
         "lon": [
          -111.977772,
          -0.461389
         ],
         "mode": "lines",
         "name": "20/12/2016",
         "type": "scattergeo"
        },
        {
         "lat": [
          51.4775,
          13.681108
         ],
         "line": {
          "color": "red",
          "width": 1
         },
         "lon": [
          -0.461389,
          100.747283
         ],
         "mode": "lines",
         "name": "19/2/2017",
         "type": "scattergeo"
        },
        {
         "lat": [
          13.912583,
          2.745578
         ],
         "line": {
          "color": "red",
          "width": 1
         },
         "lon": [
          100.60675,
          101.709917
         ],
         "mode": "lines",
         "name": "4/3/2017",
         "type": "scattergeo"
        },
        {
         "lat": [
          2.745578,
          13.912583
         ],
         "line": {
          "color": "red",
          "width": 1
         },
         "lon": [
          101.709917,
          100.60675
         ],
         "mode": "lines",
         "name": "5/3/2017",
         "type": "scattergeo"
        },
        {
         "lat": [
          13.681108,
          51.4775
         ],
         "line": {
          "color": "red",
          "width": 1
         },
         "lon": [
          100.747283,
          -0.461389
         ],
         "mode": "lines",
         "name": "22/3/2017",
         "type": "scattergeo"
        },
        {
         "lat": [
          51.885,
          41.799361
         ],
         "line": {
          "color": "red",
          "width": 1
         },
         "lon": [
          0.235,
          12.594936
         ],
         "mode": "lines",
         "name": "25/5/2017",
         "type": "scattergeo"
        },
        {
         "lat": [
          41.799361,
          51.885
         ],
         "line": {
          "color": "red",
          "width": 1
         },
         "lon": [
          12.594936,
          0.235
         ],
         "mode": "lines",
         "name": "29/5/2017",
         "type": "scattergeo"
        },
        {
         "lat": [
          51.148056,
          43.677223
         ],
         "line": {
          "color": "red",
          "width": 1
         },
         "lon": [
          -0.190278,
          -79.630556
         ],
         "mode": "lines",
         "name": "6/10/2017",
         "type": "scattergeo"
        },
        {
         "lat": [
          43.677223,
          51.148056
         ],
         "line": {
          "color": "red",
          "width": 1
         },
         "lon": [
          -79.630556,
          -0.190278
         ],
         "mode": "lines",
         "name": "15/10/2017",
         "type": "scattergeo"
        },
        {
         "lat": [
          51.148056,
          45.362944
         ],
         "line": {
          "color": "red",
          "width": 1
         },
         "lon": [
          -0.190278,
          5.329375
         ],
         "mode": "lines",
         "name": "17/2/2018",
         "type": "scattergeo"
        },
        {
         "lat": [
          45.362944,
          51.148056
         ],
         "line": {
          "color": "red",
          "width": 1
         },
         "lon": [
          5.329375,
          -0.190278
         ],
         "mode": "lines",
         "name": "24/2/2018",
         "type": "scattergeo"
        },
        {
         "lat": [
          51.885,
          50.100833
         ],
         "line": {
          "color": "red",
          "width": 1
         },
         "lon": [
          0.235,
          14.26
         ],
         "mode": "lines",
         "name": "7/6/2018",
         "type": "scattergeo"
        },
        {
         "lat": [
          50.100833,
          51.885
         ],
         "line": {
          "color": "red",
          "width": 1
         },
         "lon": [
          14.26,
          0.235
         ],
         "mode": "lines",
         "name": "10/6/2018",
         "type": "scattergeo"
        },
        {
         "lat": [
          51.148056,
          41.297078
         ],
         "line": {
          "color": "red",
          "width": 1
         },
         "lon": [
          -0.190278,
          2.078464
         ],
         "mode": "lines",
         "name": "24/8/2018",
         "type": "scattergeo"
        },
        {
         "lat": [
          41.297078,
          51.148056
         ],
         "line": {
          "color": "red",
          "width": 1
         },
         "lon": [
          2.078464,
          -0.190278
         ],
         "mode": "lines",
         "name": "28/8/2018",
         "type": "scattergeo"
        },
        {
         "lat": [
          51.4775,
          -26.139166
         ],
         "line": {
          "color": "red",
          "width": 1
         },
         "lon": [
          -0.461389,
          28.246
         ],
         "mode": "lines",
         "name": "2/9/2018",
         "type": "scattergeo"
        },
        {
         "lat": [
          -26.139166,
          -22.486667
         ],
         "line": {
          "color": "red",
          "width": 1
         },
         "lon": [
          28.246,
          17.4625
         ],
         "mode": "lines",
         "name": "3/9/2018",
         "type": "scattergeo"
        },
        {
         "lat": [
          -22.486667,
          -26.139166
         ],
         "line": {
          "color": "red",
          "width": 1
         },
         "lon": [
          17.4625,
          28.246
         ],
         "mode": "lines",
         "name": "15/9/2018",
         "type": "scattergeo"
        },
        {
         "lat": [
          -26.139166,
          51.4775
         ],
         "line": {
          "color": "red",
          "width": 1
         },
         "lon": [
          28.246,
          -0.461389
         ],
         "mode": "lines",
         "name": "15/9/2018",
         "type": "scattergeo"
        },
        {
         "lat": [
          51.148056,
          41.297078
         ],
         "line": {
          "color": "red",
          "width": 1
         },
         "lon": [
          -0.190278,
          2.078464
         ],
         "mode": "lines",
         "name": "30/11/2018",
         "type": "scattergeo"
        },
        {
         "lat": [
          41.297078,
          51.148056
         ],
         "line": {
          "color": "red",
          "width": 1
         },
         "lon": [
          2.078464,
          -0.190278
         ],
         "mode": "lines",
         "name": "2/12/2018",
         "type": "scattergeo"
        },
        {
         "lat": [
          51.148056,
          55.617917
         ],
         "line": {
          "color": "red",
          "width": 1
         },
         "lon": [
          -0.190278,
          12.655972
         ],
         "mode": "lines",
         "name": "14/12/2018",
         "type": "scattergeo"
        },
        {
         "lat": [
          55.617917,
          51.148056
         ],
         "line": {
          "color": "red",
          "width": 1
         },
         "lon": [
          12.655972,
          -0.190278
         ],
         "mode": "lines",
         "name": "16/12/2018",
         "type": "scattergeo"
        },
        {
         "lat": [
          51.148056,
          25.261125
         ],
         "line": {
          "color": "red",
          "width": 1
         },
         "lon": [
          -0.190278,
          51.565056
         ],
         "mode": "lines",
         "name": "28/12/2018",
         "type": "scattergeo"
        },
        {
         "lat": [
          25.261125,
          7.180756
         ],
         "line": {
          "color": "red",
          "width": 1
         },
         "lon": [
          51.565056,
          79.884117
         ],
         "mode": "lines",
         "name": "29/12/2018",
         "type": "scattergeo"
        },
        {
         "lat": [
          7.180756,
          25.261125
         ],
         "line": {
          "color": "red",
          "width": 1
         },
         "lon": [
          79.884117,
          51.565056
         ],
         "mode": "lines",
         "name": "05/01/2019",
         "type": "scattergeo"
        },
        {
         "lat": [
          25.261125,
          51.148056
         ],
         "line": {
          "color": "red",
          "width": 1
         },
         "lon": [
          51.565056,
          -0.190278
         ],
         "mode": "lines",
         "name": "06/01/2019",
         "type": "scattergeo"
        },
        {
         "lat": [
          51.885,
          46.238064
         ],
         "line": {
          "color": "red",
          "width": 1
         },
         "lon": [
          0.235,
          6.10895
         ],
         "mode": "lines",
         "name": "17/03/2019",
         "type": "scattergeo"
        },
        {
         "lat": [
          46.238064,
          51.148056
         ],
         "line": {
          "color": "red",
          "width": 1
         },
         "lon": [
          6.10895,
          -0.190278
         ],
         "mode": "lines",
         "name": "19/03/2019",
         "type": "scattergeo"
        },
        {
         "lat": [
          51.148056,
          59.413317
         ],
         "line": {
          "color": "red",
          "width": 1
         },
         "lon": [
          -0.190278,
          24.832844
         ],
         "mode": "lines",
         "name": "16/05/2019",
         "type": "scattergeo"
        },
        {
         "lat": [
          59.413317,
          51.148056
         ],
         "line": {
          "color": "red",
          "width": 1
         },
         "lon": [
          24.832844,
          -0.190278
         ],
         "mode": "lines",
         "name": "19/05/2019",
         "type": "scattergeo"
        },
        {
         "lat": [
          51.148056,
          43.77666512
         ],
         "line": {
          "color": "red",
          "width": 1
         },
         "lon": [
          -0.190278,
          11.24801752
         ],
         "mode": "lines",
         "name": "08/06/2019",
         "type": "scattergeo"
        },
        {
         "lat": [
          40.886033,
          51.885
         ],
         "line": {
          "color": "red",
          "width": 1
         },
         "lon": [
          14.290781,
          0.235
         ],
         "mode": "lines",
         "name": "18/06/2019",
         "type": "scattergeo"
        },
        {
         "lat": [
          51.148056,
          44.828335
         ],
         "line": {
          "color": "red",
          "width": 1
         },
         "lon": [
          -0.190278,
          -0.715556
         ],
         "mode": "lines",
         "name": "13/07/2019",
         "type": "scattergeo"
        },
        {
         "lat": [
          51.4775,
          48.353783
         ],
         "line": {
          "color": "red",
          "width": 1
         },
         "lon": [
          -0.461389,
          11.786086
         ],
         "mode": "lines",
         "name": "06/03/2020",
         "type": "scattergeo"
        },
        {
         "lat": [
          48.353783,
          51.4775
         ],
         "line": {
          "color": "red",
          "width": 1
         },
         "lon": [
          11.786086,
          -0.461389
         ],
         "mode": "lines",
         "name": "08/03/2020",
         "type": "scattergeo"
        },
        {
         "lat": [
          51.148056,
          40.639751
         ],
         "line": {
          "color": "red",
          "width": 1
         },
         "lon": [
          -0.190278,
          -73.778925
         ],
         "mode": "lines",
         "name": "23/03/2022",
         "type": "scattergeo"
        },
        {
         "lat": [
          40.639751,
          51.148056
         ],
         "line": {
          "color": "red",
          "width": 1
         },
         "lon": [
          -73.778925,
          -0.190278
         ],
         "mode": "lines",
         "name": "27/03/2020",
         "type": "scattergeo"
        },
        {
         "lat": [
          51.4775,
          51.220278
         ],
         "line": {
          "color": "red",
          "width": 1
         },
         "lon": [
          -0.461389,
          6.792778
         ],
         "mode": "lines",
         "name": "14/04/2022",
         "type": "scattergeo"
        },
        {
         "lat": [
          null,
          null
         ],
         "line": {
          "color": "red",
          "width": 1
         },
         "lon": [
          null,
          null
         ],
         "mode": "lines",
         "name": "nan",
         "type": "scattergeo"
        },
        {
         "lat": [
          null,
          null
         ],
         "line": {
          "color": "red",
          "width": 1
         },
         "lon": [
          null,
          null
         ],
         "mode": "lines",
         "name": "nan",
         "type": "scattergeo"
        },
        {
         "lat": [
          null,
          null
         ],
         "line": {
          "color": "red",
          "width": 1
         },
         "lon": [
          null,
          null
         ],
         "mode": "lines",
         "name": "nan",
         "type": "scattergeo"
        },
        {
         "lat": [
          null,
          null
         ],
         "line": {
          "color": "red",
          "width": 1
         },
         "lon": [
          null,
          null
         ],
         "mode": "lines",
         "name": "nan",
         "type": "scattergeo"
        },
        {
         "lat": [
          null,
          null
         ],
         "line": {
          "color": "red",
          "width": 1
         },
         "lon": [
          null,
          null
         ],
         "mode": "lines",
         "name": "nan",
         "type": "scattergeo"
        },
        {
         "lat": [
          null,
          null
         ],
         "line": {
          "color": "red",
          "width": 1
         },
         "lon": [
          null,
          null
         ],
         "mode": "lines",
         "name": "nan",
         "type": "scattergeo"
        },
        {
         "lat": [
          null,
          null
         ],
         "line": {
          "color": "red",
          "width": 1
         },
         "lon": [
          null,
          null
         ],
         "mode": "lines",
         "name": "nan",
         "type": "scattergeo"
        },
        {
         "lat": [
          null,
          null
         ],
         "line": {
          "color": "red",
          "width": 1
         },
         "lon": [
          null,
          null
         ],
         "mode": "lines",
         "name": "nan",
         "type": "scattergeo"
        },
        {
         "lat": [
          null,
          null
         ],
         "line": {
          "color": "red",
          "width": 1
         },
         "lon": [
          null,
          null
         ],
         "mode": "lines",
         "name": "nan",
         "type": "scattergeo"
        },
        {
         "lat": [
          null,
          null
         ],
         "line": {
          "color": "red",
          "width": 1
         },
         "lon": [
          null,
          null
         ],
         "mode": "lines",
         "name": "nan",
         "type": "scattergeo"
        },
        {
         "lat": [
          null,
          null
         ],
         "line": {
          "color": "red",
          "width": 1
         },
         "lon": [
          null,
          null
         ],
         "mode": "lines",
         "name": "nan",
         "type": "scattergeo"
        },
        {
         "lat": [
          null,
          null
         ],
         "line": {
          "color": "red",
          "width": 1
         },
         "lon": [
          null,
          null
         ],
         "mode": "lines",
         "name": "nan",
         "type": "scattergeo"
        },
        {
         "lat": [
          null,
          null
         ],
         "line": {
          "color": "red",
          "width": 1
         },
         "lon": [
          null,
          null
         ],
         "mode": "lines",
         "name": "nan",
         "type": "scattergeo"
        },
        {
         "lat": [
          null,
          null
         ],
         "line": {
          "color": "red",
          "width": 1
         },
         "lon": [
          null,
          null
         ],
         "mode": "lines",
         "name": "nan",
         "type": "scattergeo"
        },
        {
         "lat": [
          null,
          null
         ],
         "line": {
          "color": "red",
          "width": 1
         },
         "lon": [
          null,
          null
         ],
         "mode": "lines",
         "name": "nan",
         "type": "scattergeo"
        },
        {
         "lat": [
          null,
          null
         ],
         "line": {
          "color": "red",
          "width": 1
         },
         "lon": [
          null,
          null
         ],
         "mode": "lines",
         "name": "nan",
         "type": "scattergeo"
        },
        {
         "lat": [
          null,
          null
         ],
         "line": {
          "color": "red",
          "width": 1
         },
         "lon": [
          null,
          null
         ],
         "mode": "lines",
         "name": "nan",
         "type": "scattergeo"
        },
        {
         "lat": [
          null,
          null
         ],
         "line": {
          "color": "red",
          "width": 1
         },
         "lon": [
          null,
          null
         ],
         "mode": "lines",
         "name": "nan",
         "type": "scattergeo"
        },
        {
         "lat": [
          null,
          null
         ],
         "line": {
          "color": "red",
          "width": 1
         },
         "lon": [
          null,
          null
         ],
         "mode": "lines",
         "name": "nan",
         "type": "scattergeo"
        },
        {
         "lat": [
          null,
          null
         ],
         "line": {
          "color": "red",
          "width": 1
         },
         "lon": [
          null,
          null
         ],
         "mode": "lines",
         "name": "nan",
         "type": "scattergeo"
        },
        {
         "lat": [
          null,
          null
         ],
         "line": {
          "color": "red",
          "width": 1
         },
         "lon": [
          null,
          null
         ],
         "mode": "lines",
         "name": "nan",
         "type": "scattergeo"
        },
        {
         "lat": [
          null,
          null
         ],
         "line": {
          "color": "red",
          "width": 1
         },
         "lon": [
          null,
          null
         ],
         "mode": "lines",
         "name": "nan",
         "type": "scattergeo"
        },
        {
         "lat": [
          null,
          null
         ],
         "line": {
          "color": "red",
          "width": 1
         },
         "lon": [
          null,
          null
         ],
         "mode": "lines",
         "name": "nan",
         "type": "scattergeo"
        },
        {
         "lat": [
          null,
          null
         ],
         "line": {
          "color": "red",
          "width": 1
         },
         "lon": [
          null,
          null
         ],
         "mode": "lines",
         "name": "nan",
         "type": "scattergeo"
        },
        {
         "lat": [
          null,
          null
         ],
         "line": {
          "color": "red",
          "width": 1
         },
         "lon": [
          null,
          null
         ],
         "mode": "lines",
         "name": "nan",
         "type": "scattergeo"
        },
        {
         "lat": [
          null,
          null
         ],
         "line": {
          "color": "red",
          "width": 1
         },
         "lon": [
          null,
          null
         ],
         "mode": "lines",
         "name": "nan",
         "type": "scattergeo"
        },
        {
         "lat": [
          null,
          null
         ],
         "line": {
          "color": "red",
          "width": 1
         },
         "lon": [
          null,
          null
         ],
         "mode": "lines",
         "name": "nan",
         "type": "scattergeo"
        },
        {
         "lat": [
          null,
          null
         ],
         "line": {
          "color": "red",
          "width": 1
         },
         "lon": [
          null,
          null
         ],
         "mode": "lines",
         "name": "nan",
         "type": "scattergeo"
        },
        {
         "lat": [
          null,
          null
         ],
         "line": {
          "color": "red",
          "width": 1
         },
         "lon": [
          null,
          null
         ],
         "mode": "lines",
         "name": "nan",
         "type": "scattergeo"
        },
        {
         "lat": [
          null,
          null
         ],
         "line": {
          "color": "red",
          "width": 1
         },
         "lon": [
          null,
          null
         ],
         "mode": "lines",
         "name": "nan",
         "type": "scattergeo"
        },
        {
         "lat": [
          null,
          null
         ],
         "line": {
          "color": "red",
          "width": 1
         },
         "lon": [
          null,
          null
         ],
         "mode": "lines",
         "name": "nan",
         "type": "scattergeo"
        },
        {
         "lat": [
          null,
          null
         ],
         "line": {
          "color": "red",
          "width": 1
         },
         "lon": [
          null,
          null
         ],
         "mode": "lines",
         "name": "nan",
         "type": "scattergeo"
        },
        {
         "lat": [
          null,
          null
         ],
         "line": {
          "color": "red",
          "width": 1
         },
         "lon": [
          null,
          null
         ],
         "mode": "lines",
         "name": "nan",
         "type": "scattergeo"
        },
        {
         "lat": [
          null,
          null
         ],
         "line": {
          "color": "red",
          "width": 1
         },
         "lon": [
          null,
          null
         ],
         "mode": "lines",
         "name": "nan",
         "type": "scattergeo"
        },
        {
         "lat": [
          null,
          null
         ],
         "line": {
          "color": "red",
          "width": 1
         },
         "lon": [
          null,
          null
         ],
         "mode": "lines",
         "name": "nan",
         "type": "scattergeo"
        },
        {
         "lat": [
          null,
          null
         ],
         "line": {
          "color": "red",
          "width": 1
         },
         "lon": [
          null,
          null
         ],
         "mode": "lines",
         "name": "nan",
         "type": "scattergeo"
        },
        {
         "lat": [
          null,
          null
         ],
         "line": {
          "color": "red",
          "width": 1
         },
         "lon": [
          null,
          null
         ],
         "mode": "lines",
         "name": "nan",
         "type": "scattergeo"
        },
        {
         "lat": [
          null,
          null
         ],
         "line": {
          "color": "red",
          "width": 1
         },
         "lon": [
          null,
          null
         ],
         "mode": "lines",
         "name": "nan",
         "type": "scattergeo"
        },
        {
         "lat": [
          null,
          null
         ],
         "line": {
          "color": "red",
          "width": 1
         },
         "lon": [
          null,
          null
         ],
         "mode": "lines",
         "name": "nan",
         "type": "scattergeo"
        },
        {
         "lat": [
          null,
          null
         ],
         "line": {
          "color": "red",
          "width": 1
         },
         "lon": [
          null,
          null
         ],
         "mode": "lines",
         "name": "nan",
         "type": "scattergeo"
        },
        {
         "lat": [
          null,
          null
         ],
         "line": {
          "color": "red",
          "width": 1
         },
         "lon": [
          null,
          null
         ],
         "mode": "lines",
         "name": "nan",
         "type": "scattergeo"
        },
        {
         "lat": [
          null,
          null
         ],
         "line": {
          "color": "red",
          "width": 1
         },
         "lon": [
          null,
          null
         ],
         "mode": "lines",
         "name": "nan",
         "type": "scattergeo"
        },
        {
         "lat": [
          null,
          null
         ],
         "line": {
          "color": "red",
          "width": 1
         },
         "lon": [
          null,
          null
         ],
         "mode": "lines",
         "name": "nan",
         "type": "scattergeo"
        },
        {
         "lat": [
          null,
          null
         ],
         "line": {
          "color": "red",
          "width": 1
         },
         "lon": [
          null,
          null
         ],
         "mode": "lines",
         "name": "nan",
         "type": "scattergeo"
        },
        {
         "lat": [
          null,
          null
         ],
         "line": {
          "color": "red",
          "width": 1
         },
         "lon": [
          null,
          null
         ],
         "mode": "lines",
         "name": "nan",
         "type": "scattergeo"
        },
        {
         "lat": [
          null,
          null
         ],
         "line": {
          "color": "red",
          "width": 1
         },
         "lon": [
          null,
          null
         ],
         "mode": "lines",
         "name": "nan",
         "type": "scattergeo"
        },
        {
         "lat": [
          null,
          null
         ],
         "line": {
          "color": "red",
          "width": 1
         },
         "lon": [
          null,
          null
         ],
         "mode": "lines",
         "name": "nan",
         "type": "scattergeo"
        },
        {
         "lat": [
          null,
          null
         ],
         "line": {
          "color": "red",
          "width": 1
         },
         "lon": [
          null,
          null
         ],
         "mode": "lines",
         "name": "nan",
         "type": "scattergeo"
        },
        {
         "lat": [
          null,
          null
         ],
         "line": {
          "color": "red",
          "width": 1
         },
         "lon": [
          null,
          null
         ],
         "mode": "lines",
         "name": "nan",
         "type": "scattergeo"
        },
        {
         "lat": [
          null,
          null
         ],
         "line": {
          "color": "red",
          "width": 1
         },
         "lon": [
          null,
          null
         ],
         "mode": "lines",
         "name": "nan",
         "type": "scattergeo"
        },
        {
         "lat": [
          null,
          null
         ],
         "line": {
          "color": "red",
          "width": 1
         },
         "lon": [
          null,
          null
         ],
         "mode": "lines",
         "name": "nan",
         "type": "scattergeo"
        },
        {
         "lat": [
          null,
          null
         ],
         "line": {
          "color": "red",
          "width": 1
         },
         "lon": [
          null,
          null
         ],
         "mode": "lines",
         "name": "nan",
         "type": "scattergeo"
        },
        {
         "lat": [
          null,
          null
         ],
         "line": {
          "color": "red",
          "width": 1
         },
         "lon": [
          null,
          null
         ],
         "mode": "lines",
         "name": "nan",
         "type": "scattergeo"
        },
        {
         "lat": [
          null,
          null
         ],
         "line": {
          "color": "red",
          "width": 1
         },
         "lon": [
          null,
          null
         ],
         "mode": "lines",
         "name": "nan",
         "type": "scattergeo"
        },
        {
         "lat": [
          null,
          null
         ],
         "line": {
          "color": "red",
          "width": 1
         },
         "lon": [
          null,
          null
         ],
         "mode": "lines",
         "name": "nan",
         "type": "scattergeo"
        },
        {
         "lat": [
          null,
          null
         ],
         "line": {
          "color": "red",
          "width": 1
         },
         "lon": [
          null,
          null
         ],
         "mode": "lines",
         "name": "nan",
         "type": "scattergeo"
        },
        {
         "lat": [
          null,
          null
         ],
         "line": {
          "color": "red",
          "width": 1
         },
         "lon": [
          null,
          null
         ],
         "mode": "lines",
         "name": "nan",
         "type": "scattergeo"
        },
        {
         "lat": [
          null,
          null
         ],
         "line": {
          "color": "red",
          "width": 1
         },
         "lon": [
          null,
          null
         ],
         "mode": "lines",
         "name": "nan",
         "type": "scattergeo"
        },
        {
         "lat": [
          null,
          null
         ],
         "line": {
          "color": "red",
          "width": 1
         },
         "lon": [
          null,
          null
         ],
         "mode": "lines",
         "name": "nan",
         "type": "scattergeo"
        },
        {
         "lat": [
          null,
          null
         ],
         "line": {
          "color": "red",
          "width": 1
         },
         "lon": [
          null,
          null
         ],
         "mode": "lines",
         "name": "nan",
         "type": "scattergeo"
        },
        {
         "lat": [
          null,
          null
         ],
         "line": {
          "color": "red",
          "width": 1
         },
         "lon": [
          null,
          null
         ],
         "mode": "lines",
         "name": "nan",
         "type": "scattergeo"
        },
        {
         "lat": [
          null,
          null
         ],
         "line": {
          "color": "red",
          "width": 1
         },
         "lon": [
          null,
          null
         ],
         "mode": "lines",
         "name": "nan",
         "type": "scattergeo"
        },
        {
         "lat": [
          null,
          null
         ],
         "line": {
          "color": "red",
          "width": 1
         },
         "lon": [
          null,
          null
         ],
         "mode": "lines",
         "name": "nan",
         "type": "scattergeo"
        },
        {
         "lat": [
          null,
          null
         ],
         "line": {
          "color": "red",
          "width": 1
         },
         "lon": [
          null,
          null
         ],
         "mode": "lines",
         "name": "nan",
         "type": "scattergeo"
        },
        {
         "lat": [
          null,
          null
         ],
         "line": {
          "color": "red",
          "width": 1
         },
         "lon": [
          null,
          null
         ],
         "mode": "lines",
         "name": "nan",
         "type": "scattergeo"
        },
        {
         "lat": [
          null,
          null
         ],
         "line": {
          "color": "red",
          "width": 1
         },
         "lon": [
          null,
          null
         ],
         "mode": "lines",
         "name": "nan",
         "type": "scattergeo"
        },
        {
         "lat": [
          null,
          null
         ],
         "line": {
          "color": "red",
          "width": 1
         },
         "lon": [
          null,
          null
         ],
         "mode": "lines",
         "name": "nan",
         "type": "scattergeo"
        },
        {
         "lat": [
          null,
          null
         ],
         "line": {
          "color": "red",
          "width": 1
         },
         "lon": [
          null,
          null
         ],
         "mode": "lines",
         "name": "nan",
         "type": "scattergeo"
        },
        {
         "lat": [
          null,
          null
         ],
         "line": {
          "color": "red",
          "width": 1
         },
         "lon": [
          null,
          null
         ],
         "mode": "lines",
         "name": "nan",
         "type": "scattergeo"
        },
        {
         "lat": [
          null,
          null
         ],
         "line": {
          "color": "red",
          "width": 1
         },
         "lon": [
          null,
          null
         ],
         "mode": "lines",
         "name": "nan",
         "type": "scattergeo"
        },
        {
         "lat": [
          null,
          null
         ],
         "line": {
          "color": "red",
          "width": 1
         },
         "lon": [
          null,
          null
         ],
         "mode": "lines",
         "name": "nan",
         "type": "scattergeo"
        },
        {
         "lat": [
          null,
          null
         ],
         "line": {
          "color": "red",
          "width": 1
         },
         "lon": [
          null,
          null
         ],
         "mode": "lines",
         "name": "nan",
         "type": "scattergeo"
        },
        {
         "lat": [
          null,
          null
         ],
         "line": {
          "color": "red",
          "width": 1
         },
         "lon": [
          null,
          null
         ],
         "mode": "lines",
         "name": "nan",
         "type": "scattergeo"
        },
        {
         "lat": [
          null,
          null
         ],
         "line": {
          "color": "red",
          "width": 1
         },
         "lon": [
          null,
          null
         ],
         "mode": "lines",
         "name": "nan",
         "type": "scattergeo"
        },
        {
         "lat": [
          null,
          null
         ],
         "line": {
          "color": "red",
          "width": 1
         },
         "lon": [
          null,
          null
         ],
         "mode": "lines",
         "name": "nan",
         "type": "scattergeo"
        },
        {
         "lat": [
          null,
          null
         ],
         "line": {
          "color": "red",
          "width": 1
         },
         "lon": [
          null,
          null
         ],
         "mode": "lines",
         "name": "nan",
         "type": "scattergeo"
        },
        {
         "lat": [
          null,
          null
         ],
         "line": {
          "color": "red",
          "width": 1
         },
         "lon": [
          null,
          null
         ],
         "mode": "lines",
         "name": "nan",
         "type": "scattergeo"
        },
        {
         "lat": [
          null,
          null
         ],
         "line": {
          "color": "red",
          "width": 1
         },
         "lon": [
          null,
          null
         ],
         "mode": "lines",
         "name": "nan",
         "type": "scattergeo"
        },
        {
         "lat": [
          null,
          null
         ],
         "line": {
          "color": "red",
          "width": 1
         },
         "lon": [
          null,
          null
         ],
         "mode": "lines",
         "name": "nan",
         "type": "scattergeo"
        },
        {
         "lat": [
          null,
          null
         ],
         "line": {
          "color": "red",
          "width": 1
         },
         "lon": [
          null,
          null
         ],
         "mode": "lines",
         "name": "nan",
         "type": "scattergeo"
        },
        {
         "lat": [
          null,
          null
         ],
         "line": {
          "color": "red",
          "width": 1
         },
         "lon": [
          null,
          null
         ],
         "mode": "lines",
         "name": "nan",
         "type": "scattergeo"
        },
        {
         "lat": [
          null,
          null
         ],
         "line": {
          "color": "red",
          "width": 1
         },
         "lon": [
          null,
          null
         ],
         "mode": "lines",
         "name": "nan",
         "type": "scattergeo"
        },
        {
         "lat": [
          null,
          null
         ],
         "line": {
          "color": "red",
          "width": 1
         },
         "lon": [
          null,
          null
         ],
         "mode": "lines",
         "name": "nan",
         "type": "scattergeo"
        },
        {
         "lat": [
          null,
          null
         ],
         "line": {
          "color": "red",
          "width": 1
         },
         "lon": [
          null,
          null
         ],
         "mode": "lines",
         "name": "nan",
         "type": "scattergeo"
        },
        {
         "lat": [
          null,
          null
         ],
         "line": {
          "color": "red",
          "width": 1
         },
         "lon": [
          null,
          null
         ],
         "mode": "lines",
         "name": "nan",
         "type": "scattergeo"
        },
        {
         "lat": [
          null,
          null
         ],
         "line": {
          "color": "red",
          "width": 1
         },
         "lon": [
          null,
          null
         ],
         "mode": "lines",
         "name": "nan",
         "type": "scattergeo"
        },
        {
         "lat": [
          null,
          null
         ],
         "line": {
          "color": "red",
          "width": 1
         },
         "lon": [
          null,
          null
         ],
         "mode": "lines",
         "name": "nan",
         "type": "scattergeo"
        },
        {
         "lat": [
          null,
          null
         ],
         "line": {
          "color": "red",
          "width": 1
         },
         "lon": [
          null,
          null
         ],
         "mode": "lines",
         "name": "nan",
         "type": "scattergeo"
        },
        {
         "lat": [
          null,
          null
         ],
         "line": {
          "color": "red",
          "width": 1
         },
         "lon": [
          null,
          null
         ],
         "mode": "lines",
         "name": "nan",
         "type": "scattergeo"
        },
        {
         "lat": [
          null,
          null
         ],
         "line": {
          "color": "red",
          "width": 1
         },
         "lon": [
          null,
          null
         ],
         "mode": "lines",
         "name": "nan",
         "type": "scattergeo"
        },
        {
         "lat": [
          null,
          null
         ],
         "line": {
          "color": "red",
          "width": 1
         },
         "lon": [
          null,
          null
         ],
         "mode": "lines",
         "name": "nan",
         "type": "scattergeo"
        },
        {
         "lat": [
          null,
          null
         ],
         "line": {
          "color": "red",
          "width": 1
         },
         "lon": [
          null,
          null
         ],
         "mode": "lines",
         "name": "nan",
         "type": "scattergeo"
        },
        {
         "lat": [
          null,
          null
         ],
         "line": {
          "color": "red",
          "width": 1
         },
         "lon": [
          null,
          null
         ],
         "mode": "lines",
         "name": "nan",
         "type": "scattergeo"
        },
        {
         "lat": [
          null,
          null
         ],
         "line": {
          "color": "red",
          "width": 1
         },
         "lon": [
          null,
          null
         ],
         "mode": "lines",
         "name": "nan",
         "type": "scattergeo"
        },
        {
         "lat": [
          null,
          null
         ],
         "line": {
          "color": "red",
          "width": 1
         },
         "lon": [
          null,
          null
         ],
         "mode": "lines",
         "name": "nan",
         "type": "scattergeo"
        },
        {
         "lat": [
          null,
          null
         ],
         "line": {
          "color": "red",
          "width": 1
         },
         "lon": [
          null,
          null
         ],
         "mode": "lines",
         "name": "nan",
         "type": "scattergeo"
        },
        {
         "lat": [
          null,
          null
         ],
         "line": {
          "color": "red",
          "width": 1
         },
         "lon": [
          null,
          null
         ],
         "mode": "lines",
         "name": "nan",
         "type": "scattergeo"
        },
        {
         "lat": [
          null,
          null
         ],
         "line": {
          "color": "red",
          "width": 1
         },
         "lon": [
          null,
          null
         ],
         "mode": "lines",
         "name": "nan",
         "type": "scattergeo"
        },
        {
         "lat": [
          null,
          null
         ],
         "line": {
          "color": "red",
          "width": 1
         },
         "lon": [
          null,
          null
         ],
         "mode": "lines",
         "name": "nan",
         "type": "scattergeo"
        },
        {
         "lat": [
          null,
          null
         ],
         "line": {
          "color": "red",
          "width": 1
         },
         "lon": [
          null,
          null
         ],
         "mode": "lines",
         "name": "nan",
         "type": "scattergeo"
        },
        {
         "lat": [
          null,
          null
         ],
         "line": {
          "color": "red",
          "width": 1
         },
         "lon": [
          null,
          null
         ],
         "mode": "lines",
         "name": "nan",
         "type": "scattergeo"
        },
        {
         "lat": [
          null,
          null
         ],
         "line": {
          "color": "red",
          "width": 1
         },
         "lon": [
          null,
          null
         ],
         "mode": "lines",
         "name": "nan",
         "type": "scattergeo"
        },
        {
         "lat": [
          null,
          null
         ],
         "line": {
          "color": "red",
          "width": 1
         },
         "lon": [
          null,
          null
         ],
         "mode": "lines",
         "name": "nan",
         "type": "scattergeo"
        },
        {
         "lat": [
          null,
          null
         ],
         "line": {
          "color": "red",
          "width": 1
         },
         "lon": [
          null,
          null
         ],
         "mode": "lines",
         "name": "nan",
         "type": "scattergeo"
        },
        {
         "lat": [
          null,
          null
         ],
         "line": {
          "color": "red",
          "width": 1
         },
         "lon": [
          null,
          null
         ],
         "mode": "lines",
         "name": "nan",
         "type": "scattergeo"
        },
        {
         "lat": [
          null,
          null
         ],
         "line": {
          "color": "red",
          "width": 1
         },
         "lon": [
          null,
          null
         ],
         "mode": "lines",
         "name": "nan",
         "type": "scattergeo"
        },
        {
         "lat": [
          null,
          null
         ],
         "line": {
          "color": "red",
          "width": 1
         },
         "lon": [
          null,
          null
         ],
         "mode": "lines",
         "name": "nan",
         "type": "scattergeo"
        },
        {
         "lat": [
          null,
          null
         ],
         "line": {
          "color": "red",
          "width": 1
         },
         "lon": [
          null,
          null
         ],
         "mode": "lines",
         "name": "nan",
         "type": "scattergeo"
        },
        {
         "lat": [
          null,
          null
         ],
         "line": {
          "color": "red",
          "width": 1
         },
         "lon": [
          null,
          null
         ],
         "mode": "lines",
         "name": "nan",
         "type": "scattergeo"
        },
        {
         "lat": [
          null,
          null
         ],
         "line": {
          "color": "red",
          "width": 1
         },
         "lon": [
          null,
          null
         ],
         "mode": "lines",
         "name": "nan",
         "type": "scattergeo"
        },
        {
         "lat": [
          null,
          null
         ],
         "line": {
          "color": "red",
          "width": 1
         },
         "lon": [
          null,
          null
         ],
         "mode": "lines",
         "name": "nan",
         "type": "scattergeo"
        },
        {
         "lat": [
          null,
          null
         ],
         "line": {
          "color": "red",
          "width": 1
         },
         "lon": [
          null,
          null
         ],
         "mode": "lines",
         "name": "nan",
         "type": "scattergeo"
        },
        {
         "lat": [
          null,
          null
         ],
         "line": {
          "color": "red",
          "width": 1
         },
         "lon": [
          null,
          null
         ],
         "mode": "lines",
         "name": "nan",
         "type": "scattergeo"
        },
        {
         "lat": [
          null,
          null
         ],
         "line": {
          "color": "red",
          "width": 1
         },
         "lon": [
          null,
          null
         ],
         "mode": "lines",
         "name": "nan",
         "type": "scattergeo"
        },
        {
         "lat": [
          null,
          null
         ],
         "line": {
          "color": "red",
          "width": 1
         },
         "lon": [
          null,
          null
         ],
         "mode": "lines",
         "name": "nan",
         "type": "scattergeo"
        },
        {
         "lat": [
          null,
          null
         ],
         "line": {
          "color": "red",
          "width": 1
         },
         "lon": [
          null,
          null
         ],
         "mode": "lines",
         "name": "nan",
         "type": "scattergeo"
        },
        {
         "lat": [
          null,
          null
         ],
         "line": {
          "color": "red",
          "width": 1
         },
         "lon": [
          null,
          null
         ],
         "mode": "lines",
         "name": "nan",
         "type": "scattergeo"
        },
        {
         "lat": [
          null,
          null
         ],
         "line": {
          "color": "red",
          "width": 1
         },
         "lon": [
          null,
          null
         ],
         "mode": "lines",
         "name": "nan",
         "type": "scattergeo"
        },
        {
         "lat": [
          null,
          null
         ],
         "line": {
          "color": "red",
          "width": 1
         },
         "lon": [
          null,
          null
         ],
         "mode": "lines",
         "name": "nan",
         "type": "scattergeo"
        },
        {
         "lat": [
          null,
          null
         ],
         "line": {
          "color": "red",
          "width": 1
         },
         "lon": [
          null,
          null
         ],
         "mode": "lines",
         "name": "nan",
         "type": "scattergeo"
        },
        {
         "lat": [
          null,
          null
         ],
         "line": {
          "color": "red",
          "width": 1
         },
         "lon": [
          null,
          null
         ],
         "mode": "lines",
         "name": "nan",
         "type": "scattergeo"
        },
        {
         "lat": [
          null,
          null
         ],
         "line": {
          "color": "red",
          "width": 1
         },
         "lon": [
          null,
          null
         ],
         "mode": "lines",
         "name": "nan",
         "type": "scattergeo"
        },
        {
         "lat": [
          null,
          null
         ],
         "line": {
          "color": "red",
          "width": 1
         },
         "lon": [
          null,
          null
         ],
         "mode": "lines",
         "name": "nan",
         "type": "scattergeo"
        },
        {
         "lat": [
          null,
          null
         ],
         "line": {
          "color": "red",
          "width": 1
         },
         "lon": [
          null,
          null
         ],
         "mode": "lines",
         "name": "nan",
         "type": "scattergeo"
        },
        {
         "lat": [
          null,
          null
         ],
         "line": {
          "color": "red",
          "width": 1
         },
         "lon": [
          null,
          null
         ],
         "mode": "lines",
         "name": "nan",
         "type": "scattergeo"
        },
        {
         "lat": [
          null,
          null
         ],
         "line": {
          "color": "red",
          "width": 1
         },
         "lon": [
          null,
          null
         ],
         "mode": "lines",
         "name": "nan",
         "type": "scattergeo"
        },
        {
         "lat": [
          null,
          null
         ],
         "line": {
          "color": "red",
          "width": 1
         },
         "lon": [
          null,
          null
         ],
         "mode": "lines",
         "name": "nan",
         "type": "scattergeo"
        },
        {
         "lat": [
          null,
          null
         ],
         "line": {
          "color": "red",
          "width": 1
         },
         "lon": [
          null,
          null
         ],
         "mode": "lines",
         "name": "nan",
         "type": "scattergeo"
        },
        {
         "lat": [
          null,
          null
         ],
         "line": {
          "color": "red",
          "width": 1
         },
         "lon": [
          null,
          null
         ],
         "mode": "lines",
         "name": "nan",
         "type": "scattergeo"
        },
        {
         "lat": [
          null,
          null
         ],
         "line": {
          "color": "red",
          "width": 1
         },
         "lon": [
          null,
          null
         ],
         "mode": "lines",
         "name": "nan",
         "type": "scattergeo"
        },
        {
         "lat": [
          null,
          null
         ],
         "line": {
          "color": "red",
          "width": 1
         },
         "lon": [
          null,
          null
         ],
         "mode": "lines",
         "name": "nan",
         "type": "scattergeo"
        },
        {
         "lat": [
          null,
          null
         ],
         "line": {
          "color": "red",
          "width": 1
         },
         "lon": [
          null,
          null
         ],
         "mode": "lines",
         "name": "nan",
         "type": "scattergeo"
        },
        {
         "lat": [
          null,
          null
         ],
         "line": {
          "color": "red",
          "width": 1
         },
         "lon": [
          null,
          null
         ],
         "mode": "lines",
         "name": "nan",
         "type": "scattergeo"
        },
        {
         "lat": [
          null,
          null
         ],
         "line": {
          "color": "red",
          "width": 1
         },
         "lon": [
          null,
          null
         ],
         "mode": "lines",
         "name": "nan",
         "type": "scattergeo"
        },
        {
         "lat": [
          null,
          null
         ],
         "line": {
          "color": "red",
          "width": 1
         },
         "lon": [
          null,
          null
         ],
         "mode": "lines",
         "name": "nan",
         "type": "scattergeo"
        },
        {
         "lat": [
          null,
          null
         ],
         "line": {
          "color": "red",
          "width": 1
         },
         "lon": [
          null,
          null
         ],
         "mode": "lines",
         "name": "nan",
         "type": "scattergeo"
        },
        {
         "lat": [
          null,
          null
         ],
         "line": {
          "color": "red",
          "width": 1
         },
         "lon": [
          null,
          null
         ],
         "mode": "lines",
         "name": "nan",
         "type": "scattergeo"
        },
        {
         "lat": [
          null,
          null
         ],
         "line": {
          "color": "red",
          "width": 1
         },
         "lon": [
          null,
          null
         ],
         "mode": "lines",
         "name": "nan",
         "type": "scattergeo"
        },
        {
         "lat": [
          null,
          null
         ],
         "line": {
          "color": "red",
          "width": 1
         },
         "lon": [
          null,
          null
         ],
         "mode": "lines",
         "name": "nan",
         "type": "scattergeo"
        },
        {
         "lat": [
          null,
          null
         ],
         "line": {
          "color": "red",
          "width": 1
         },
         "lon": [
          null,
          null
         ],
         "mode": "lines",
         "name": "nan",
         "type": "scattergeo"
        },
        {
         "lat": [
          null,
          null
         ],
         "line": {
          "color": "red",
          "width": 1
         },
         "lon": [
          null,
          null
         ],
         "mode": "lines",
         "name": "nan",
         "type": "scattergeo"
        },
        {
         "lat": [
          null,
          null
         ],
         "line": {
          "color": "red",
          "width": 1
         },
         "lon": [
          null,
          null
         ],
         "mode": "lines",
         "name": "nan",
         "type": "scattergeo"
        },
        {
         "lat": [
          null,
          null
         ],
         "line": {
          "color": "red",
          "width": 1
         },
         "lon": [
          null,
          null
         ],
         "mode": "lines",
         "name": "nan",
         "type": "scattergeo"
        },
        {
         "lat": [
          null,
          null
         ],
         "line": {
          "color": "red",
          "width": 1
         },
         "lon": [
          null,
          null
         ],
         "mode": "lines",
         "name": "nan",
         "type": "scattergeo"
        },
        {
         "lat": [
          null,
          null
         ],
         "line": {
          "color": "red",
          "width": 1
         },
         "lon": [
          null,
          null
         ],
         "mode": "lines",
         "name": "nan",
         "type": "scattergeo"
        },
        {
         "lat": [
          null,
          null
         ],
         "line": {
          "color": "red",
          "width": 1
         },
         "lon": [
          null,
          null
         ],
         "mode": "lines",
         "name": "nan",
         "type": "scattergeo"
        },
        {
         "lat": [
          null,
          null
         ],
         "line": {
          "color": "red",
          "width": 1
         },
         "lon": [
          null,
          null
         ],
         "mode": "lines",
         "name": "nan",
         "type": "scattergeo"
        },
        {
         "lat": [
          null,
          null
         ],
         "line": {
          "color": "red",
          "width": 1
         },
         "lon": [
          null,
          null
         ],
         "mode": "lines",
         "name": "nan",
         "type": "scattergeo"
        },
        {
         "lat": [
          null,
          null
         ],
         "line": {
          "color": "red",
          "width": 1
         },
         "lon": [
          null,
          null
         ],
         "mode": "lines",
         "name": "nan",
         "type": "scattergeo"
        },
        {
         "lat": [
          null,
          null
         ],
         "line": {
          "color": "red",
          "width": 1
         },
         "lon": [
          null,
          null
         ],
         "mode": "lines",
         "name": "nan",
         "type": "scattergeo"
        },
        {
         "lat": [
          null,
          null
         ],
         "line": {
          "color": "red",
          "width": 1
         },
         "lon": [
          null,
          null
         ],
         "mode": "lines",
         "name": "nan",
         "type": "scattergeo"
        },
        {
         "lat": [
          null,
          null
         ],
         "line": {
          "color": "red",
          "width": 1
         },
         "lon": [
          null,
          null
         ],
         "mode": "lines",
         "name": "nan",
         "type": "scattergeo"
        },
        {
         "lat": [
          null,
          null
         ],
         "line": {
          "color": "red",
          "width": 1
         },
         "lon": [
          null,
          null
         ],
         "mode": "lines",
         "name": "nan",
         "type": "scattergeo"
        },
        {
         "lat": [
          null,
          null
         ],
         "line": {
          "color": "red",
          "width": 1
         },
         "lon": [
          null,
          null
         ],
         "mode": "lines",
         "name": "nan",
         "type": "scattergeo"
        },
        {
         "lat": [
          null,
          null
         ],
         "line": {
          "color": "red",
          "width": 1
         },
         "lon": [
          null,
          null
         ],
         "mode": "lines",
         "name": "nan",
         "type": "scattergeo"
        },
        {
         "lat": [
          null,
          null
         ],
         "line": {
          "color": "red",
          "width": 1
         },
         "lon": [
          null,
          null
         ],
         "mode": "lines",
         "name": "nan",
         "type": "scattergeo"
        },
        {
         "lat": [
          null,
          null
         ],
         "line": {
          "color": "red",
          "width": 1
         },
         "lon": [
          null,
          null
         ],
         "mode": "lines",
         "name": "nan",
         "type": "scattergeo"
        },
        {
         "lat": [
          null,
          null
         ],
         "line": {
          "color": "red",
          "width": 1
         },
         "lon": [
          null,
          null
         ],
         "mode": "lines",
         "name": "nan",
         "type": "scattergeo"
        },
        {
         "lat": [
          null,
          null
         ],
         "line": {
          "color": "red",
          "width": 1
         },
         "lon": [
          null,
          null
         ],
         "mode": "lines",
         "name": "nan",
         "type": "scattergeo"
        },
        {
         "lat": [
          null,
          null
         ],
         "line": {
          "color": "red",
          "width": 1
         },
         "lon": [
          null,
          null
         ],
         "mode": "lines",
         "name": "nan",
         "type": "scattergeo"
        },
        {
         "lat": [
          null,
          null
         ],
         "line": {
          "color": "red",
          "width": 1
         },
         "lon": [
          null,
          null
         ],
         "mode": "lines",
         "name": "nan",
         "type": "scattergeo"
        },
        {
         "lat": [
          null,
          null
         ],
         "line": {
          "color": "red",
          "width": 1
         },
         "lon": [
          null,
          null
         ],
         "mode": "lines",
         "name": "nan",
         "type": "scattergeo"
        },
        {
         "lat": [
          null,
          null
         ],
         "line": {
          "color": "red",
          "width": 1
         },
         "lon": [
          null,
          null
         ],
         "mode": "lines",
         "name": "nan",
         "type": "scattergeo"
        },
        {
         "lat": [
          null,
          null
         ],
         "line": {
          "color": "red",
          "width": 1
         },
         "lon": [
          null,
          null
         ],
         "mode": "lines",
         "name": "nan",
         "type": "scattergeo"
        },
        {
         "lat": [
          null,
          null
         ],
         "line": {
          "color": "red",
          "width": 1
         },
         "lon": [
          null,
          null
         ],
         "mode": "lines",
         "name": "nan",
         "type": "scattergeo"
        },
        {
         "lat": [
          null,
          null
         ],
         "line": {
          "color": "red",
          "width": 1
         },
         "lon": [
          null,
          null
         ],
         "mode": "lines",
         "name": "nan",
         "type": "scattergeo"
        },
        {
         "lat": [
          null,
          null
         ],
         "line": {
          "color": "red",
          "width": 1
         },
         "lon": [
          null,
          null
         ],
         "mode": "lines",
         "name": "nan",
         "type": "scattergeo"
        },
        {
         "lat": [
          null,
          null
         ],
         "line": {
          "color": "red",
          "width": 1
         },
         "lon": [
          null,
          null
         ],
         "mode": "lines",
         "name": "nan",
         "type": "scattergeo"
        },
        {
         "lat": [
          null,
          null
         ],
         "line": {
          "color": "red",
          "width": 1
         },
         "lon": [
          null,
          null
         ],
         "mode": "lines",
         "name": "nan",
         "type": "scattergeo"
        },
        {
         "lat": [
          null,
          null
         ],
         "line": {
          "color": "red",
          "width": 1
         },
         "lon": [
          null,
          null
         ],
         "mode": "lines",
         "name": "nan",
         "type": "scattergeo"
        },
        {
         "lat": [
          null,
          null
         ],
         "line": {
          "color": "red",
          "width": 1
         },
         "lon": [
          null,
          null
         ],
         "mode": "lines",
         "name": "nan",
         "type": "scattergeo"
        },
        {
         "lat": [
          null,
          null
         ],
         "line": {
          "color": "red",
          "width": 1
         },
         "lon": [
          null,
          null
         ],
         "mode": "lines",
         "name": "nan",
         "type": "scattergeo"
        },
        {
         "lat": [
          null,
          null
         ],
         "line": {
          "color": "red",
          "width": 1
         },
         "lon": [
          null,
          null
         ],
         "mode": "lines",
         "name": "nan",
         "type": "scattergeo"
        },
        {
         "lat": [
          null,
          null
         ],
         "line": {
          "color": "red",
          "width": 1
         },
         "lon": [
          null,
          null
         ],
         "mode": "lines",
         "name": "nan",
         "type": "scattergeo"
        },
        {
         "lat": [
          null,
          null
         ],
         "line": {
          "color": "red",
          "width": 1
         },
         "lon": [
          null,
          null
         ],
         "mode": "lines",
         "name": "nan",
         "type": "scattergeo"
        },
        {
         "lat": [
          null,
          null
         ],
         "line": {
          "color": "red",
          "width": 1
         },
         "lon": [
          null,
          null
         ],
         "mode": "lines",
         "name": "nan",
         "type": "scattergeo"
        },
        {
         "lat": [
          null,
          null
         ],
         "line": {
          "color": "red",
          "width": 1
         },
         "lon": [
          null,
          null
         ],
         "mode": "lines",
         "name": "nan",
         "type": "scattergeo"
        },
        {
         "lat": [
          null,
          null
         ],
         "line": {
          "color": "red",
          "width": 1
         },
         "lon": [
          null,
          null
         ],
         "mode": "lines",
         "name": "nan",
         "type": "scattergeo"
        },
        {
         "lat": [
          null,
          null
         ],
         "line": {
          "color": "red",
          "width": 1
         },
         "lon": [
          null,
          null
         ],
         "mode": "lines",
         "name": "nan",
         "type": "scattergeo"
        },
        {
         "lat": [
          null,
          null
         ],
         "line": {
          "color": "red",
          "width": 1
         },
         "lon": [
          null,
          null
         ],
         "mode": "lines",
         "name": "nan",
         "type": "scattergeo"
        },
        {
         "lat": [
          null,
          null
         ],
         "line": {
          "color": "red",
          "width": 1
         },
         "lon": [
          null,
          null
         ],
         "mode": "lines",
         "name": "nan",
         "type": "scattergeo"
        },
        {
         "lat": [
          null,
          null
         ],
         "line": {
          "color": "red",
          "width": 1
         },
         "lon": [
          null,
          null
         ],
         "mode": "lines",
         "name": "nan",
         "type": "scattergeo"
        },
        {
         "lat": [
          null,
          null
         ],
         "line": {
          "color": "red",
          "width": 1
         },
         "lon": [
          null,
          null
         ],
         "mode": "lines",
         "name": "nan",
         "type": "scattergeo"
        },
        {
         "lat": [
          null,
          null
         ],
         "line": {
          "color": "red",
          "width": 1
         },
         "lon": [
          null,
          null
         ],
         "mode": "lines",
         "name": "nan",
         "type": "scattergeo"
        },
        {
         "lat": [
          null,
          null
         ],
         "line": {
          "color": "red",
          "width": 1
         },
         "lon": [
          null,
          null
         ],
         "mode": "lines",
         "name": "nan",
         "type": "scattergeo"
        },
        {
         "lat": [
          null,
          null
         ],
         "line": {
          "color": "red",
          "width": 1
         },
         "lon": [
          null,
          null
         ],
         "mode": "lines",
         "name": "nan",
         "type": "scattergeo"
        },
        {
         "lat": [
          null,
          null
         ],
         "line": {
          "color": "red",
          "width": 1
         },
         "lon": [
          null,
          null
         ],
         "mode": "lines",
         "name": "nan",
         "type": "scattergeo"
        },
        {
         "lat": [
          null,
          null
         ],
         "line": {
          "color": "red",
          "width": 1
         },
         "lon": [
          null,
          null
         ],
         "mode": "lines",
         "name": "nan",
         "type": "scattergeo"
        },
        {
         "lat": [
          null,
          null
         ],
         "line": {
          "color": "red",
          "width": 1
         },
         "lon": [
          null,
          null
         ],
         "mode": "lines",
         "name": "nan",
         "type": "scattergeo"
        },
        {
         "lat": [
          null,
          null
         ],
         "line": {
          "color": "red",
          "width": 1
         },
         "lon": [
          null,
          null
         ],
         "mode": "lines",
         "name": "nan",
         "type": "scattergeo"
        },
        {
         "lat": [
          null,
          null
         ],
         "line": {
          "color": "red",
          "width": 1
         },
         "lon": [
          null,
          null
         ],
         "mode": "lines",
         "name": "nan",
         "type": "scattergeo"
        },
        {
         "lat": [
          null,
          null
         ],
         "line": {
          "color": "red",
          "width": 1
         },
         "lon": [
          null,
          null
         ],
         "mode": "lines",
         "name": "nan",
         "type": "scattergeo"
        },
        {
         "lat": [
          null,
          null
         ],
         "line": {
          "color": "red",
          "width": 1
         },
         "lon": [
          null,
          null
         ],
         "mode": "lines",
         "name": "nan",
         "type": "scattergeo"
        },
        {
         "lat": [
          null,
          null
         ],
         "line": {
          "color": "red",
          "width": 1
         },
         "lon": [
          null,
          null
         ],
         "mode": "lines",
         "name": "nan",
         "type": "scattergeo"
        },
        {
         "lat": [
          null,
          null
         ],
         "line": {
          "color": "red",
          "width": 1
         },
         "lon": [
          null,
          null
         ],
         "mode": "lines",
         "name": "nan",
         "type": "scattergeo"
        },
        {
         "lat": [
          null,
          null
         ],
         "line": {
          "color": "red",
          "width": 1
         },
         "lon": [
          null,
          null
         ],
         "mode": "lines",
         "name": "nan",
         "type": "scattergeo"
        },
        {
         "lat": [
          null,
          null
         ],
         "line": {
          "color": "red",
          "width": 1
         },
         "lon": [
          null,
          null
         ],
         "mode": "lines",
         "name": "nan",
         "type": "scattergeo"
        },
        {
         "lat": [
          null,
          null
         ],
         "line": {
          "color": "red",
          "width": 1
         },
         "lon": [
          null,
          null
         ],
         "mode": "lines",
         "name": "nan",
         "type": "scattergeo"
        },
        {
         "lat": [
          null,
          null
         ],
         "line": {
          "color": "red",
          "width": 1
         },
         "lon": [
          null,
          null
         ],
         "mode": "lines",
         "name": "nan",
         "type": "scattergeo"
        },
        {
         "lat": [
          null,
          null
         ],
         "line": {
          "color": "red",
          "width": 1
         },
         "lon": [
          null,
          null
         ],
         "mode": "lines",
         "name": "nan",
         "type": "scattergeo"
        },
        {
         "lat": [
          null,
          null
         ],
         "line": {
          "color": "red",
          "width": 1
         },
         "lon": [
          null,
          null
         ],
         "mode": "lines",
         "name": "nan",
         "type": "scattergeo"
        },
        {
         "lat": [
          null,
          null
         ],
         "line": {
          "color": "red",
          "width": 1
         },
         "lon": [
          null,
          null
         ],
         "mode": "lines",
         "name": "nan",
         "type": "scattergeo"
        },
        {
         "lat": [
          null,
          null
         ],
         "line": {
          "color": "red",
          "width": 1
         },
         "lon": [
          null,
          null
         ],
         "mode": "lines",
         "name": "nan",
         "type": "scattergeo"
        },
        {
         "lat": [
          null,
          null
         ],
         "line": {
          "color": "red",
          "width": 1
         },
         "lon": [
          null,
          null
         ],
         "mode": "lines",
         "name": "nan",
         "type": "scattergeo"
        },
        {
         "lat": [
          null,
          null
         ],
         "line": {
          "color": "red",
          "width": 1
         },
         "lon": [
          null,
          null
         ],
         "mode": "lines",
         "name": "nan",
         "type": "scattergeo"
        },
        {
         "lat": [
          null,
          null
         ],
         "line": {
          "color": "red",
          "width": 1
         },
         "lon": [
          null,
          null
         ],
         "mode": "lines",
         "name": "nan",
         "type": "scattergeo"
        },
        {
         "lat": [
          null,
          null
         ],
         "line": {
          "color": "red",
          "width": 1
         },
         "lon": [
          null,
          null
         ],
         "mode": "lines",
         "name": "nan",
         "type": "scattergeo"
        },
        {
         "lat": [
          null,
          null
         ],
         "line": {
          "color": "red",
          "width": 1
         },
         "lon": [
          null,
          null
         ],
         "mode": "lines",
         "name": "nan",
         "type": "scattergeo"
        },
        {
         "lat": [
          null,
          null
         ],
         "line": {
          "color": "red",
          "width": 1
         },
         "lon": [
          null,
          null
         ],
         "mode": "lines",
         "name": "nan",
         "type": "scattergeo"
        },
        {
         "lat": [
          null,
          null
         ],
         "line": {
          "color": "red",
          "width": 1
         },
         "lon": [
          null,
          null
         ],
         "mode": "lines",
         "name": "nan",
         "type": "scattergeo"
        },
        {
         "lat": [
          null,
          null
         ],
         "line": {
          "color": "red",
          "width": 1
         },
         "lon": [
          null,
          null
         ],
         "mode": "lines",
         "name": "nan",
         "type": "scattergeo"
        },
        {
         "lat": [
          null,
          null
         ],
         "line": {
          "color": "red",
          "width": 1
         },
         "lon": [
          null,
          null
         ],
         "mode": "lines",
         "name": "nan",
         "type": "scattergeo"
        },
        {
         "lat": [
          null,
          null
         ],
         "line": {
          "color": "red",
          "width": 1
         },
         "lon": [
          null,
          null
         ],
         "mode": "lines",
         "name": "nan",
         "type": "scattergeo"
        },
        {
         "lat": [
          null,
          null
         ],
         "line": {
          "color": "red",
          "width": 1
         },
         "lon": [
          null,
          null
         ],
         "mode": "lines",
         "name": "nan",
         "type": "scattergeo"
        },
        {
         "lat": [
          null,
          null
         ],
         "line": {
          "color": "red",
          "width": 1
         },
         "lon": [
          null,
          null
         ],
         "mode": "lines",
         "name": "nan",
         "type": "scattergeo"
        },
        {
         "lat": [
          null,
          null
         ],
         "line": {
          "color": "red",
          "width": 1
         },
         "lon": [
          null,
          null
         ],
         "mode": "lines",
         "name": "nan",
         "type": "scattergeo"
        },
        {
         "lat": [
          null,
          null
         ],
         "line": {
          "color": "red",
          "width": 1
         },
         "lon": [
          null,
          null
         ],
         "mode": "lines",
         "name": "nan",
         "type": "scattergeo"
        },
        {
         "lat": [
          null,
          null
         ],
         "line": {
          "color": "red",
          "width": 1
         },
         "lon": [
          null,
          null
         ],
         "mode": "lines",
         "name": "nan",
         "type": "scattergeo"
        },
        {
         "lat": [
          null,
          null
         ],
         "line": {
          "color": "red",
          "width": 1
         },
         "lon": [
          null,
          null
         ],
         "mode": "lines",
         "name": "nan",
         "type": "scattergeo"
        },
        {
         "lat": [
          null,
          null
         ],
         "line": {
          "color": "red",
          "width": 1
         },
         "lon": [
          null,
          null
         ],
         "mode": "lines",
         "name": "nan",
         "type": "scattergeo"
        },
        {
         "lat": [
          null,
          null
         ],
         "line": {
          "color": "red",
          "width": 1
         },
         "lon": [
          null,
          null
         ],
         "mode": "lines",
         "name": "nan",
         "type": "scattergeo"
        },
        {
         "lat": [
          null,
          null
         ],
         "line": {
          "color": "red",
          "width": 1
         },
         "lon": [
          null,
          null
         ],
         "mode": "lines",
         "name": "nan",
         "type": "scattergeo"
        },
        {
         "lat": [
          null,
          null
         ],
         "line": {
          "color": "red",
          "width": 1
         },
         "lon": [
          null,
          null
         ],
         "mode": "lines",
         "name": "nan",
         "type": "scattergeo"
        },
        {
         "lat": [
          null,
          null
         ],
         "line": {
          "color": "red",
          "width": 1
         },
         "lon": [
          null,
          null
         ],
         "mode": "lines",
         "name": "nan",
         "type": "scattergeo"
        },
        {
         "lat": [
          null,
          null
         ],
         "line": {
          "color": "red",
          "width": 1
         },
         "lon": [
          null,
          null
         ],
         "mode": "lines",
         "name": "nan",
         "type": "scattergeo"
        },
        {
         "lat": [
          null,
          null
         ],
         "line": {
          "color": "red",
          "width": 1
         },
         "lon": [
          null,
          null
         ],
         "mode": "lines",
         "name": "nan",
         "type": "scattergeo"
        },
        {
         "lat": [
          null,
          null
         ],
         "line": {
          "color": "red",
          "width": 1
         },
         "lon": [
          null,
          null
         ],
         "mode": "lines",
         "name": "nan",
         "type": "scattergeo"
        },
        {
         "lat": [
          null,
          null
         ],
         "line": {
          "color": "red",
          "width": 1
         },
         "lon": [
          null,
          null
         ],
         "mode": "lines",
         "name": "nan",
         "type": "scattergeo"
        },
        {
         "lat": [
          null,
          null
         ],
         "line": {
          "color": "red",
          "width": 1
         },
         "lon": [
          null,
          null
         ],
         "mode": "lines",
         "name": "nan",
         "type": "scattergeo"
        },
        {
         "lat": [
          null,
          null
         ],
         "line": {
          "color": "red",
          "width": 1
         },
         "lon": [
          null,
          null
         ],
         "mode": "lines",
         "name": "nan",
         "type": "scattergeo"
        },
        {
         "lat": [
          null,
          null
         ],
         "line": {
          "color": "red",
          "width": 1
         },
         "lon": [
          null,
          null
         ],
         "mode": "lines",
         "name": "nan",
         "type": "scattergeo"
        },
        {
         "lat": [
          null,
          null
         ],
         "line": {
          "color": "red",
          "width": 1
         },
         "lon": [
          null,
          null
         ],
         "mode": "lines",
         "name": "nan",
         "type": "scattergeo"
        },
        {
         "lat": [
          null,
          null
         ],
         "line": {
          "color": "red",
          "width": 1
         },
         "lon": [
          null,
          null
         ],
         "mode": "lines",
         "name": "nan",
         "type": "scattergeo"
        },
        {
         "lat": [
          null,
          null
         ],
         "line": {
          "color": "red",
          "width": 1
         },
         "lon": [
          null,
          null
         ],
         "mode": "lines",
         "name": "nan",
         "type": "scattergeo"
        },
        {
         "lat": [
          null,
          null
         ],
         "line": {
          "color": "red",
          "width": 1
         },
         "lon": [
          null,
          null
         ],
         "mode": "lines",
         "name": "nan",
         "type": "scattergeo"
        },
        {
         "lat": [
          null,
          null
         ],
         "line": {
          "color": "red",
          "width": 1
         },
         "lon": [
          null,
          null
         ],
         "mode": "lines",
         "name": "nan",
         "type": "scattergeo"
        },
        {
         "lat": [
          null,
          null
         ],
         "line": {
          "color": "red",
          "width": 1
         },
         "lon": [
          null,
          null
         ],
         "mode": "lines",
         "name": "nan",
         "type": "scattergeo"
        },
        {
         "lat": [
          null,
          null
         ],
         "line": {
          "color": "red",
          "width": 1
         },
         "lon": [
          null,
          null
         ],
         "mode": "lines",
         "name": "nan",
         "type": "scattergeo"
        },
        {
         "lat": [
          null,
          null
         ],
         "line": {
          "color": "red",
          "width": 1
         },
         "lon": [
          null,
          null
         ],
         "mode": "lines",
         "name": "nan",
         "type": "scattergeo"
        },
        {
         "lat": [
          null,
          null
         ],
         "line": {
          "color": "red",
          "width": 1
         },
         "lon": [
          null,
          null
         ],
         "mode": "lines",
         "name": "nan",
         "type": "scattergeo"
        },
        {
         "lat": [
          null,
          null
         ],
         "line": {
          "color": "red",
          "width": 1
         },
         "lon": [
          null,
          null
         ],
         "mode": "lines",
         "name": "nan",
         "type": "scattergeo"
        },
        {
         "lat": [
          null,
          null
         ],
         "line": {
          "color": "red",
          "width": 1
         },
         "lon": [
          null,
          null
         ],
         "mode": "lines",
         "name": "nan",
         "type": "scattergeo"
        },
        {
         "lat": [
          null,
          null
         ],
         "line": {
          "color": "red",
          "width": 1
         },
         "lon": [
          null,
          null
         ],
         "mode": "lines",
         "name": "nan",
         "type": "scattergeo"
        },
        {
         "lat": [
          null,
          null
         ],
         "line": {
          "color": "red",
          "width": 1
         },
         "lon": [
          null,
          null
         ],
         "mode": "lines",
         "name": "nan",
         "type": "scattergeo"
        },
        {
         "lat": [
          null,
          null
         ],
         "line": {
          "color": "red",
          "width": 1
         },
         "lon": [
          null,
          null
         ],
         "mode": "lines",
         "name": "nan",
         "type": "scattergeo"
        },
        {
         "lat": [
          null,
          null
         ],
         "line": {
          "color": "red",
          "width": 1
         },
         "lon": [
          null,
          null
         ],
         "mode": "lines",
         "name": "nan",
         "type": "scattergeo"
        },
        {
         "lat": [
          null,
          null
         ],
         "line": {
          "color": "red",
          "width": 1
         },
         "lon": [
          null,
          null
         ],
         "mode": "lines",
         "name": "nan",
         "type": "scattergeo"
        },
        {
         "lat": [
          null,
          null
         ],
         "line": {
          "color": "red",
          "width": 1
         },
         "lon": [
          null,
          null
         ],
         "mode": "lines",
         "name": "nan",
         "type": "scattergeo"
        },
        {
         "lat": [
          null,
          null
         ],
         "line": {
          "color": "red",
          "width": 1
         },
         "lon": [
          null,
          null
         ],
         "mode": "lines",
         "name": "nan",
         "type": "scattergeo"
        },
        {
         "lat": [
          null,
          null
         ],
         "line": {
          "color": "red",
          "width": 1
         },
         "lon": [
          null,
          null
         ],
         "mode": "lines",
         "name": "nan",
         "type": "scattergeo"
        },
        {
         "lat": [
          null,
          null
         ],
         "line": {
          "color": "red",
          "width": 1
         },
         "lon": [
          null,
          null
         ],
         "mode": "lines",
         "name": "nan",
         "type": "scattergeo"
        },
        {
         "lat": [
          null,
          null
         ],
         "line": {
          "color": "red",
          "width": 1
         },
         "lon": [
          null,
          null
         ],
         "mode": "lines",
         "name": "nan",
         "type": "scattergeo"
        },
        {
         "lat": [
          null,
          null
         ],
         "line": {
          "color": "red",
          "width": 1
         },
         "lon": [
          null,
          null
         ],
         "mode": "lines",
         "name": "nan",
         "type": "scattergeo"
        },
        {
         "lat": [
          null,
          null
         ],
         "line": {
          "color": "red",
          "width": 1
         },
         "lon": [
          null,
          null
         ],
         "mode": "lines",
         "name": "nan",
         "type": "scattergeo"
        },
        {
         "lat": [
          null,
          null
         ],
         "line": {
          "color": "red",
          "width": 1
         },
         "lon": [
          null,
          null
         ],
         "mode": "lines",
         "name": "nan",
         "type": "scattergeo"
        },
        {
         "lat": [
          null,
          null
         ],
         "line": {
          "color": "red",
          "width": 1
         },
         "lon": [
          null,
          null
         ],
         "mode": "lines",
         "name": "nan",
         "type": "scattergeo"
        },
        {
         "lat": [
          null,
          null
         ],
         "line": {
          "color": "red",
          "width": 1
         },
         "lon": [
          null,
          null
         ],
         "mode": "lines",
         "name": "nan",
         "type": "scattergeo"
        },
        {
         "lat": [
          null,
          null
         ],
         "line": {
          "color": "red",
          "width": 1
         },
         "lon": [
          null,
          null
         ],
         "mode": "lines",
         "name": "nan",
         "type": "scattergeo"
        },
        {
         "lat": [
          null,
          null
         ],
         "line": {
          "color": "red",
          "width": 1
         },
         "lon": [
          null,
          null
         ],
         "mode": "lines",
         "name": "nan",
         "type": "scattergeo"
        },
        {
         "lat": [
          null,
          null
         ],
         "line": {
          "color": "red",
          "width": 1
         },
         "lon": [
          null,
          null
         ],
         "mode": "lines",
         "name": "nan",
         "type": "scattergeo"
        },
        {
         "lat": [
          null,
          null
         ],
         "line": {
          "color": "red",
          "width": 1
         },
         "lon": [
          null,
          null
         ],
         "mode": "lines",
         "name": "nan",
         "type": "scattergeo"
        },
        {
         "lat": [
          null,
          null
         ],
         "line": {
          "color": "red",
          "width": 1
         },
         "lon": [
          null,
          null
         ],
         "mode": "lines",
         "name": "nan",
         "type": "scattergeo"
        },
        {
         "lat": [
          null,
          null
         ],
         "line": {
          "color": "red",
          "width": 1
         },
         "lon": [
          null,
          null
         ],
         "mode": "lines",
         "name": "nan",
         "type": "scattergeo"
        },
        {
         "lat": [
          null,
          null
         ],
         "line": {
          "color": "red",
          "width": 1
         },
         "lon": [
          null,
          null
         ],
         "mode": "lines",
         "name": "nan",
         "type": "scattergeo"
        },
        {
         "lat": [
          null,
          null
         ],
         "line": {
          "color": "red",
          "width": 1
         },
         "lon": [
          null,
          null
         ],
         "mode": "lines",
         "name": "nan",
         "type": "scattergeo"
        },
        {
         "lat": [
          null,
          null
         ],
         "line": {
          "color": "red",
          "width": 1
         },
         "lon": [
          null,
          null
         ],
         "mode": "lines",
         "name": "nan",
         "type": "scattergeo"
        },
        {
         "lat": [
          null,
          null
         ],
         "line": {
          "color": "red",
          "width": 1
         },
         "lon": [
          null,
          null
         ],
         "mode": "lines",
         "name": "nan",
         "type": "scattergeo"
        },
        {
         "lat": [
          null,
          null
         ],
         "line": {
          "color": "red",
          "width": 1
         },
         "lon": [
          null,
          null
         ],
         "mode": "lines",
         "name": "nan",
         "type": "scattergeo"
        },
        {
         "lat": [
          null,
          null
         ],
         "line": {
          "color": "red",
          "width": 1
         },
         "lon": [
          null,
          null
         ],
         "mode": "lines",
         "name": "nan",
         "type": "scattergeo"
        },
        {
         "lat": [
          null,
          null
         ],
         "line": {
          "color": "red",
          "width": 1
         },
         "lon": [
          null,
          null
         ],
         "mode": "lines",
         "name": "nan",
         "type": "scattergeo"
        },
        {
         "lat": [
          null,
          null
         ],
         "line": {
          "color": "red",
          "width": 1
         },
         "lon": [
          null,
          null
         ],
         "mode": "lines",
         "name": "nan",
         "type": "scattergeo"
        },
        {
         "lat": [
          null,
          null
         ],
         "line": {
          "color": "red",
          "width": 1
         },
         "lon": [
          null,
          null
         ],
         "mode": "lines",
         "name": "nan",
         "type": "scattergeo"
        },
        {
         "lat": [
          null,
          null
         ],
         "line": {
          "color": "red",
          "width": 1
         },
         "lon": [
          null,
          null
         ],
         "mode": "lines",
         "name": "nan",
         "type": "scattergeo"
        },
        {
         "lat": [
          null,
          null
         ],
         "line": {
          "color": "red",
          "width": 1
         },
         "lon": [
          null,
          null
         ],
         "mode": "lines",
         "name": "nan",
         "type": "scattergeo"
        },
        {
         "lat": [
          null,
          null
         ],
         "line": {
          "color": "red",
          "width": 1
         },
         "lon": [
          null,
          null
         ],
         "mode": "lines",
         "name": "nan",
         "type": "scattergeo"
        },
        {
         "lat": [
          null,
          null
         ],
         "line": {
          "color": "red",
          "width": 1
         },
         "lon": [
          null,
          null
         ],
         "mode": "lines",
         "name": "nan",
         "type": "scattergeo"
        },
        {
         "lat": [
          null,
          null
         ],
         "line": {
          "color": "red",
          "width": 1
         },
         "lon": [
          null,
          null
         ],
         "mode": "lines",
         "name": "nan",
         "type": "scattergeo"
        },
        {
         "lat": [
          null,
          null
         ],
         "line": {
          "color": "red",
          "width": 1
         },
         "lon": [
          null,
          null
         ],
         "mode": "lines",
         "name": "nan",
         "type": "scattergeo"
        },
        {
         "lat": [
          null,
          null
         ],
         "line": {
          "color": "red",
          "width": 1
         },
         "lon": [
          null,
          null
         ],
         "mode": "lines",
         "name": "nan",
         "type": "scattergeo"
        },
        {
         "lat": [
          null,
          null
         ],
         "line": {
          "color": "red",
          "width": 1
         },
         "lon": [
          null,
          null
         ],
         "mode": "lines",
         "name": "nan",
         "type": "scattergeo"
        },
        {
         "lat": [
          null,
          null
         ],
         "line": {
          "color": "red",
          "width": 1
         },
         "lon": [
          null,
          null
         ],
         "mode": "lines",
         "name": "nan",
         "type": "scattergeo"
        },
        {
         "lat": [
          null,
          null
         ],
         "line": {
          "color": "red",
          "width": 1
         },
         "lon": [
          null,
          null
         ],
         "mode": "lines",
         "name": "nan",
         "type": "scattergeo"
        },
        {
         "lat": [
          null,
          null
         ],
         "line": {
          "color": "red",
          "width": 1
         },
         "lon": [
          null,
          null
         ],
         "mode": "lines",
         "name": "nan",
         "type": "scattergeo"
        },
        {
         "lat": [
          null,
          null
         ],
         "line": {
          "color": "red",
          "width": 1
         },
         "lon": [
          null,
          null
         ],
         "mode": "lines",
         "name": "nan",
         "type": "scattergeo"
        },
        {
         "lat": [
          null,
          null
         ],
         "line": {
          "color": "red",
          "width": 1
         },
         "lon": [
          null,
          null
         ],
         "mode": "lines",
         "name": "nan",
         "type": "scattergeo"
        },
        {
         "lat": [
          null,
          null
         ],
         "line": {
          "color": "red",
          "width": 1
         },
         "lon": [
          null,
          null
         ],
         "mode": "lines",
         "name": "nan",
         "type": "scattergeo"
        },
        {
         "lat": [
          null,
          null
         ],
         "line": {
          "color": "red",
          "width": 1
         },
         "lon": [
          null,
          null
         ],
         "mode": "lines",
         "name": "nan",
         "type": "scattergeo"
        },
        {
         "lat": [
          null,
          null
         ],
         "line": {
          "color": "red",
          "width": 1
         },
         "lon": [
          null,
          null
         ],
         "mode": "lines",
         "name": "nan",
         "type": "scattergeo"
        },
        {
         "lat": [
          null,
          null
         ],
         "line": {
          "color": "red",
          "width": 1
         },
         "lon": [
          null,
          null
         ],
         "mode": "lines",
         "name": "nan",
         "type": "scattergeo"
        },
        {
         "lat": [
          null,
          null
         ],
         "line": {
          "color": "red",
          "width": 1
         },
         "lon": [
          null,
          null
         ],
         "mode": "lines",
         "name": "nan",
         "type": "scattergeo"
        },
        {
         "lat": [
          null,
          null
         ],
         "line": {
          "color": "red",
          "width": 1
         },
         "lon": [
          null,
          null
         ],
         "mode": "lines",
         "name": "nan",
         "type": "scattergeo"
        },
        {
         "lat": [
          null,
          null
         ],
         "line": {
          "color": "red",
          "width": 1
         },
         "lon": [
          null,
          null
         ],
         "mode": "lines",
         "name": "nan",
         "type": "scattergeo"
        },
        {
         "lat": [
          null,
          null
         ],
         "line": {
          "color": "red",
          "width": 1
         },
         "lon": [
          null,
          null
         ],
         "mode": "lines",
         "name": "nan",
         "type": "scattergeo"
        },
        {
         "lat": [
          null,
          null
         ],
         "line": {
          "color": "red",
          "width": 1
         },
         "lon": [
          null,
          null
         ],
         "mode": "lines",
         "name": "nan",
         "type": "scattergeo"
        },
        {
         "lat": [
          null,
          null
         ],
         "line": {
          "color": "red",
          "width": 1
         },
         "lon": [
          null,
          null
         ],
         "mode": "lines",
         "name": "nan",
         "type": "scattergeo"
        },
        {
         "lat": [
          null,
          null
         ],
         "line": {
          "color": "red",
          "width": 1
         },
         "lon": [
          null,
          null
         ],
         "mode": "lines",
         "name": "nan",
         "type": "scattergeo"
        },
        {
         "lat": [
          null,
          null
         ],
         "line": {
          "color": "red",
          "width": 1
         },
         "lon": [
          null,
          null
         ],
         "mode": "lines",
         "name": "nan",
         "type": "scattergeo"
        },
        {
         "lat": [
          null,
          null
         ],
         "line": {
          "color": "red",
          "width": 1
         },
         "lon": [
          null,
          null
         ],
         "mode": "lines",
         "name": "nan",
         "type": "scattergeo"
        },
        {
         "lat": [
          null,
          null
         ],
         "line": {
          "color": "red",
          "width": 1
         },
         "lon": [
          null,
          null
         ],
         "mode": "lines",
         "name": "nan",
         "type": "scattergeo"
        },
        {
         "lat": [
          null,
          null
         ],
         "line": {
          "color": "red",
          "width": 1
         },
         "lon": [
          null,
          null
         ],
         "mode": "lines",
         "name": "nan",
         "type": "scattergeo"
        },
        {
         "lat": [
          null,
          null
         ],
         "line": {
          "color": "red",
          "width": 1
         },
         "lon": [
          null,
          null
         ],
         "mode": "lines",
         "name": "nan",
         "type": "scattergeo"
        },
        {
         "lat": [
          null,
          null
         ],
         "line": {
          "color": "red",
          "width": 1
         },
         "lon": [
          null,
          null
         ],
         "mode": "lines",
         "name": "nan",
         "type": "scattergeo"
        },
        {
         "lat": [
          null,
          null
         ],
         "line": {
          "color": "red",
          "width": 1
         },
         "lon": [
          null,
          null
         ],
         "mode": "lines",
         "name": "nan",
         "type": "scattergeo"
        },
        {
         "lat": [
          null,
          null
         ],
         "line": {
          "color": "red",
          "width": 1
         },
         "lon": [
          null,
          null
         ],
         "mode": "lines",
         "name": "nan",
         "type": "scattergeo"
        },
        {
         "lat": [
          null,
          null
         ],
         "line": {
          "color": "red",
          "width": 1
         },
         "lon": [
          null,
          null
         ],
         "mode": "lines",
         "name": "nan",
         "type": "scattergeo"
        },
        {
         "lat": [
          null,
          null
         ],
         "line": {
          "color": "red",
          "width": 1
         },
         "lon": [
          null,
          null
         ],
         "mode": "lines",
         "name": "nan",
         "type": "scattergeo"
        },
        {
         "lat": [
          null,
          null
         ],
         "line": {
          "color": "red",
          "width": 1
         },
         "lon": [
          null,
          null
         ],
         "mode": "lines",
         "name": "nan",
         "type": "scattergeo"
        },
        {
         "lat": [
          null,
          null
         ],
         "line": {
          "color": "red",
          "width": 1
         },
         "lon": [
          null,
          null
         ],
         "mode": "lines",
         "name": "nan",
         "type": "scattergeo"
        },
        {
         "lat": [
          null,
          null
         ],
         "line": {
          "color": "red",
          "width": 1
         },
         "lon": [
          null,
          null
         ],
         "mode": "lines",
         "name": "nan",
         "type": "scattergeo"
        },
        {
         "lat": [
          null,
          null
         ],
         "line": {
          "color": "red",
          "width": 1
         },
         "lon": [
          null,
          null
         ],
         "mode": "lines",
         "name": "nan",
         "type": "scattergeo"
        },
        {
         "lat": [
          null,
          null
         ],
         "line": {
          "color": "red",
          "width": 1
         },
         "lon": [
          null,
          null
         ],
         "mode": "lines",
         "name": "nan",
         "type": "scattergeo"
        },
        {
         "lat": [
          null,
          null
         ],
         "line": {
          "color": "red",
          "width": 1
         },
         "lon": [
          null,
          null
         ],
         "mode": "lines",
         "name": "nan",
         "type": "scattergeo"
        },
        {
         "lat": [
          null,
          null
         ],
         "line": {
          "color": "red",
          "width": 1
         },
         "lon": [
          null,
          null
         ],
         "mode": "lines",
         "name": "nan",
         "type": "scattergeo"
        },
        {
         "lat": [
          null,
          null
         ],
         "line": {
          "color": "red",
          "width": 1
         },
         "lon": [
          null,
          null
         ],
         "mode": "lines",
         "name": "nan",
         "type": "scattergeo"
        },
        {
         "lat": [
          null,
          null
         ],
         "line": {
          "color": "red",
          "width": 1
         },
         "lon": [
          null,
          null
         ],
         "mode": "lines",
         "name": "nan",
         "type": "scattergeo"
        },
        {
         "lat": [
          null,
          null
         ],
         "line": {
          "color": "red",
          "width": 1
         },
         "lon": [
          null,
          null
         ],
         "mode": "lines",
         "name": "nan",
         "type": "scattergeo"
        },
        {
         "lat": [
          null,
          null
         ],
         "line": {
          "color": "red",
          "width": 1
         },
         "lon": [
          null,
          null
         ],
         "mode": "lines",
         "name": "nan",
         "type": "scattergeo"
        },
        {
         "lat": [
          null,
          null
         ],
         "line": {
          "color": "red",
          "width": 1
         },
         "lon": [
          null,
          null
         ],
         "mode": "lines",
         "name": "nan",
         "type": "scattergeo"
        },
        {
         "lat": [
          null,
          null
         ],
         "line": {
          "color": "red",
          "width": 1
         },
         "lon": [
          null,
          null
         ],
         "mode": "lines",
         "name": "nan",
         "type": "scattergeo"
        },
        {
         "lat": [
          null,
          null
         ],
         "line": {
          "color": "red",
          "width": 1
         },
         "lon": [
          null,
          null
         ],
         "mode": "lines",
         "name": "nan",
         "type": "scattergeo"
        },
        {
         "lat": [
          null,
          null
         ],
         "line": {
          "color": "red",
          "width": 1
         },
         "lon": [
          null,
          null
         ],
         "mode": "lines",
         "name": "nan",
         "type": "scattergeo"
        },
        {
         "lat": [
          null,
          null
         ],
         "line": {
          "color": "red",
          "width": 1
         },
         "lon": [
          null,
          null
         ],
         "mode": "lines",
         "name": "nan",
         "type": "scattergeo"
        },
        {
         "lat": [
          null,
          null
         ],
         "line": {
          "color": "red",
          "width": 1
         },
         "lon": [
          null,
          null
         ],
         "mode": "lines",
         "name": "nan",
         "type": "scattergeo"
        },
        {
         "lat": [
          null,
          null
         ],
         "line": {
          "color": "red",
          "width": 1
         },
         "lon": [
          null,
          null
         ],
         "mode": "lines",
         "name": "nan",
         "type": "scattergeo"
        },
        {
         "lat": [
          null,
          null
         ],
         "line": {
          "color": "red",
          "width": 1
         },
         "lon": [
          null,
          null
         ],
         "mode": "lines",
         "name": "nan",
         "type": "scattergeo"
        },
        {
         "lat": [
          null,
          null
         ],
         "line": {
          "color": "red",
          "width": 1
         },
         "lon": [
          null,
          null
         ],
         "mode": "lines",
         "name": "nan",
         "type": "scattergeo"
        },
        {
         "lat": [
          null,
          null
         ],
         "line": {
          "color": "red",
          "width": 1
         },
         "lon": [
          null,
          null
         ],
         "mode": "lines",
         "name": "nan",
         "type": "scattergeo"
        },
        {
         "lat": [
          null,
          null
         ],
         "line": {
          "color": "red",
          "width": 1
         },
         "lon": [
          null,
          null
         ],
         "mode": "lines",
         "name": "nan",
         "type": "scattergeo"
        },
        {
         "lat": [
          null,
          null
         ],
         "line": {
          "color": "red",
          "width": 1
         },
         "lon": [
          null,
          null
         ],
         "mode": "lines",
         "name": "nan",
         "type": "scattergeo"
        },
        {
         "lat": [
          null,
          null
         ],
         "line": {
          "color": "red",
          "width": 1
         },
         "lon": [
          null,
          null
         ],
         "mode": "lines",
         "name": "nan",
         "type": "scattergeo"
        },
        {
         "lat": [
          null,
          null
         ],
         "line": {
          "color": "red",
          "width": 1
         },
         "lon": [
          null,
          null
         ],
         "mode": "lines",
         "name": "nan",
         "type": "scattergeo"
        },
        {
         "lat": [
          null,
          null
         ],
         "line": {
          "color": "red",
          "width": 1
         },
         "lon": [
          null,
          null
         ],
         "mode": "lines",
         "name": "nan",
         "type": "scattergeo"
        },
        {
         "lat": [
          null,
          null
         ],
         "line": {
          "color": "red",
          "width": 1
         },
         "lon": [
          null,
          null
         ],
         "mode": "lines",
         "name": "nan",
         "type": "scattergeo"
        },
        {
         "lat": [
          null,
          null
         ],
         "line": {
          "color": "red",
          "width": 1
         },
         "lon": [
          null,
          null
         ],
         "mode": "lines",
         "name": "nan",
         "type": "scattergeo"
        },
        {
         "lat": [
          null,
          null
         ],
         "line": {
          "color": "red",
          "width": 1
         },
         "lon": [
          null,
          null
         ],
         "mode": "lines",
         "name": "nan",
         "type": "scattergeo"
        },
        {
         "lat": [
          null,
          null
         ],
         "line": {
          "color": "red",
          "width": 1
         },
         "lon": [
          null,
          null
         ],
         "mode": "lines",
         "name": "nan",
         "type": "scattergeo"
        },
        {
         "lat": [
          null,
          null
         ],
         "line": {
          "color": "red",
          "width": 1
         },
         "lon": [
          null,
          null
         ],
         "mode": "lines",
         "name": "nan",
         "type": "scattergeo"
        },
        {
         "lat": [
          null,
          null
         ],
         "line": {
          "color": "red",
          "width": 1
         },
         "lon": [
          null,
          null
         ],
         "mode": "lines",
         "name": "nan",
         "type": "scattergeo"
        },
        {
         "lat": [
          null,
          null
         ],
         "line": {
          "color": "red",
          "width": 1
         },
         "lon": [
          null,
          null
         ],
         "mode": "lines",
         "name": "nan",
         "type": "scattergeo"
        },
        {
         "lat": [
          null,
          null
         ],
         "line": {
          "color": "red",
          "width": 1
         },
         "lon": [
          null,
          null
         ],
         "mode": "lines",
         "name": "nan",
         "type": "scattergeo"
        },
        {
         "lat": [
          null,
          null
         ],
         "line": {
          "color": "red",
          "width": 1
         },
         "lon": [
          null,
          null
         ],
         "mode": "lines",
         "name": "nan",
         "type": "scattergeo"
        },
        {
         "lat": [
          null,
          null
         ],
         "line": {
          "color": "red",
          "width": 1
         },
         "lon": [
          null,
          null
         ],
         "mode": "lines",
         "name": "nan",
         "type": "scattergeo"
        },
        {
         "lat": [
          null,
          null
         ],
         "line": {
          "color": "red",
          "width": 1
         },
         "lon": [
          null,
          null
         ],
         "mode": "lines",
         "name": "nan",
         "type": "scattergeo"
        },
        {
         "lat": [
          null,
          null
         ],
         "line": {
          "color": "red",
          "width": 1
         },
         "lon": [
          null,
          null
         ],
         "mode": "lines",
         "name": "nan",
         "type": "scattergeo"
        },
        {
         "lat": [
          null,
          null
         ],
         "line": {
          "color": "red",
          "width": 1
         },
         "lon": [
          null,
          null
         ],
         "mode": "lines",
         "name": "nan",
         "type": "scattergeo"
        },
        {
         "lat": [
          null,
          null
         ],
         "line": {
          "color": "red",
          "width": 1
         },
         "lon": [
          null,
          null
         ],
         "mode": "lines",
         "name": "nan",
         "type": "scattergeo"
        },
        {
         "lat": [
          null,
          null
         ],
         "line": {
          "color": "red",
          "width": 1
         },
         "lon": [
          null,
          null
         ],
         "mode": "lines",
         "name": "nan",
         "type": "scattergeo"
        },
        {
         "lat": [
          null,
          null
         ],
         "line": {
          "color": "red",
          "width": 1
         },
         "lon": [
          null,
          null
         ],
         "mode": "lines",
         "name": "nan",
         "type": "scattergeo"
        },
        {
         "lat": [
          null,
          null
         ],
         "line": {
          "color": "red",
          "width": 1
         },
         "lon": [
          null,
          null
         ],
         "mode": "lines",
         "name": "nan",
         "type": "scattergeo"
        },
        {
         "lat": [
          null,
          null
         ],
         "line": {
          "color": "red",
          "width": 1
         },
         "lon": [
          null,
          null
         ],
         "mode": "lines",
         "name": "nan",
         "type": "scattergeo"
        },
        {
         "lat": [
          null,
          null
         ],
         "line": {
          "color": "red",
          "width": 1
         },
         "lon": [
          null,
          null
         ],
         "mode": "lines",
         "name": "nan",
         "type": "scattergeo"
        },
        {
         "lat": [
          null,
          null
         ],
         "line": {
          "color": "red",
          "width": 1
         },
         "lon": [
          null,
          null
         ],
         "mode": "lines",
         "name": "nan",
         "type": "scattergeo"
        },
        {
         "lat": [
          null,
          null
         ],
         "line": {
          "color": "red",
          "width": 1
         },
         "lon": [
          null,
          null
         ],
         "mode": "lines",
         "name": "nan",
         "type": "scattergeo"
        },
        {
         "lat": [
          null,
          null
         ],
         "line": {
          "color": "red",
          "width": 1
         },
         "lon": [
          null,
          null
         ],
         "mode": "lines",
         "name": "nan",
         "type": "scattergeo"
        },
        {
         "lat": [
          null,
          null
         ],
         "line": {
          "color": "red",
          "width": 1
         },
         "lon": [
          null,
          null
         ],
         "mode": "lines",
         "name": "nan",
         "type": "scattergeo"
        },
        {
         "lat": [
          null,
          null
         ],
         "line": {
          "color": "red",
          "width": 1
         },
         "lon": [
          null,
          null
         ],
         "mode": "lines",
         "name": "nan",
         "type": "scattergeo"
        },
        {
         "lat": [
          null,
          null
         ],
         "line": {
          "color": "red",
          "width": 1
         },
         "lon": [
          null,
          null
         ],
         "mode": "lines",
         "name": "nan",
         "type": "scattergeo"
        },
        {
         "lat": [
          null,
          null
         ],
         "line": {
          "color": "red",
          "width": 1
         },
         "lon": [
          null,
          null
         ],
         "mode": "lines",
         "name": "nan",
         "type": "scattergeo"
        },
        {
         "lat": [
          null,
          null
         ],
         "line": {
          "color": "red",
          "width": 1
         },
         "lon": [
          null,
          null
         ],
         "mode": "lines",
         "name": "nan",
         "type": "scattergeo"
        },
        {
         "lat": [
          null,
          null
         ],
         "line": {
          "color": "red",
          "width": 1
         },
         "lon": [
          null,
          null
         ],
         "mode": "lines",
         "name": "nan",
         "type": "scattergeo"
        },
        {
         "lat": [
          null,
          null
         ],
         "line": {
          "color": "red",
          "width": 1
         },
         "lon": [
          null,
          null
         ],
         "mode": "lines",
         "name": "nan",
         "type": "scattergeo"
        },
        {
         "lat": [
          null,
          null
         ],
         "line": {
          "color": "red",
          "width": 1
         },
         "lon": [
          null,
          null
         ],
         "mode": "lines",
         "name": "nan",
         "type": "scattergeo"
        },
        {
         "lat": [
          null,
          null
         ],
         "line": {
          "color": "red",
          "width": 1
         },
         "lon": [
          null,
          null
         ],
         "mode": "lines",
         "name": "nan",
         "type": "scattergeo"
        },
        {
         "lat": [
          null,
          null
         ],
         "line": {
          "color": "red",
          "width": 1
         },
         "lon": [
          null,
          null
         ],
         "mode": "lines",
         "name": "nan",
         "type": "scattergeo"
        },
        {
         "lat": [
          null,
          null
         ],
         "line": {
          "color": "red",
          "width": 1
         },
         "lon": [
          null,
          null
         ],
         "mode": "lines",
         "name": "nan",
         "type": "scattergeo"
        },
        {
         "lat": [
          null,
          null
         ],
         "line": {
          "color": "red",
          "width": 1
         },
         "lon": [
          null,
          null
         ],
         "mode": "lines",
         "name": "nan",
         "type": "scattergeo"
        },
        {
         "lat": [
          null,
          null
         ],
         "line": {
          "color": "red",
          "width": 1
         },
         "lon": [
          null,
          null
         ],
         "mode": "lines",
         "name": "nan",
         "type": "scattergeo"
        },
        {
         "lat": [
          null,
          null
         ],
         "line": {
          "color": "red",
          "width": 1
         },
         "lon": [
          null,
          null
         ],
         "mode": "lines",
         "name": "nan",
         "type": "scattergeo"
        },
        {
         "lat": [
          null,
          null
         ],
         "line": {
          "color": "red",
          "width": 1
         },
         "lon": [
          null,
          null
         ],
         "mode": "lines",
         "name": "nan",
         "type": "scattergeo"
        },
        {
         "lat": [
          null,
          null
         ],
         "line": {
          "color": "red",
          "width": 1
         },
         "lon": [
          null,
          null
         ],
         "mode": "lines",
         "name": "nan",
         "type": "scattergeo"
        },
        {
         "lat": [
          null,
          null
         ],
         "line": {
          "color": "red",
          "width": 1
         },
         "lon": [
          null,
          null
         ],
         "mode": "lines",
         "name": "nan",
         "type": "scattergeo"
        },
        {
         "lat": [
          null,
          null
         ],
         "line": {
          "color": "red",
          "width": 1
         },
         "lon": [
          null,
          null
         ],
         "mode": "lines",
         "name": "nan",
         "type": "scattergeo"
        },
        {
         "lat": [
          null,
          null
         ],
         "line": {
          "color": "red",
          "width": 1
         },
         "lon": [
          null,
          null
         ],
         "mode": "lines",
         "name": "nan",
         "type": "scattergeo"
        },
        {
         "lat": [
          null,
          null
         ],
         "line": {
          "color": "red",
          "width": 1
         },
         "lon": [
          null,
          null
         ],
         "mode": "lines",
         "name": "nan",
         "type": "scattergeo"
        },
        {
         "lat": [
          null,
          null
         ],
         "line": {
          "color": "red",
          "width": 1
         },
         "lon": [
          null,
          null
         ],
         "mode": "lines",
         "name": "nan",
         "type": "scattergeo"
        },
        {
         "lat": [
          null,
          null
         ],
         "line": {
          "color": "red",
          "width": 1
         },
         "lon": [
          null,
          null
         ],
         "mode": "lines",
         "name": "nan",
         "type": "scattergeo"
        },
        {
         "lat": [
          null,
          null
         ],
         "line": {
          "color": "red",
          "width": 1
         },
         "lon": [
          null,
          null
         ],
         "mode": "lines",
         "name": "nan",
         "type": "scattergeo"
        },
        {
         "lat": [
          null,
          null
         ],
         "line": {
          "color": "red",
          "width": 1
         },
         "lon": [
          null,
          null
         ],
         "mode": "lines",
         "name": "nan",
         "type": "scattergeo"
        },
        {
         "lat": [
          null,
          null
         ],
         "line": {
          "color": "red",
          "width": 1
         },
         "lon": [
          null,
          null
         ],
         "mode": "lines",
         "name": "nan",
         "type": "scattergeo"
        },
        {
         "lat": [
          null,
          null
         ],
         "line": {
          "color": "red",
          "width": 1
         },
         "lon": [
          null,
          null
         ],
         "mode": "lines",
         "name": "nan",
         "type": "scattergeo"
        },
        {
         "lat": [
          null,
          null
         ],
         "line": {
          "color": "red",
          "width": 1
         },
         "lon": [
          null,
          null
         ],
         "mode": "lines",
         "name": "nan",
         "type": "scattergeo"
        },
        {
         "lat": [
          null,
          null
         ],
         "line": {
          "color": "red",
          "width": 1
         },
         "lon": [
          null,
          null
         ],
         "mode": "lines",
         "name": "nan",
         "type": "scattergeo"
        },
        {
         "lat": [
          null,
          null
         ],
         "line": {
          "color": "red",
          "width": 1
         },
         "lon": [
          null,
          null
         ],
         "mode": "lines",
         "name": "nan",
         "type": "scattergeo"
        },
        {
         "lat": [
          null,
          null
         ],
         "line": {
          "color": "red",
          "width": 1
         },
         "lon": [
          null,
          null
         ],
         "mode": "lines",
         "name": "nan",
         "type": "scattergeo"
        },
        {
         "lat": [
          null,
          null
         ],
         "line": {
          "color": "red",
          "width": 1
         },
         "lon": [
          null,
          null
         ],
         "mode": "lines",
         "name": "nan",
         "type": "scattergeo"
        },
        {
         "lat": [
          null,
          null
         ],
         "line": {
          "color": "red",
          "width": 1
         },
         "lon": [
          null,
          null
         ],
         "mode": "lines",
         "name": "nan",
         "type": "scattergeo"
        },
        {
         "lat": [
          null,
          null
         ],
         "line": {
          "color": "red",
          "width": 1
         },
         "lon": [
          null,
          null
         ],
         "mode": "lines",
         "name": "nan",
         "type": "scattergeo"
        },
        {
         "lat": [
          null,
          null
         ],
         "line": {
          "color": "red",
          "width": 1
         },
         "lon": [
          null,
          null
         ],
         "mode": "lines",
         "name": "nan",
         "type": "scattergeo"
        },
        {
         "lat": [
          null,
          null
         ],
         "line": {
          "color": "red",
          "width": 1
         },
         "lon": [
          null,
          null
         ],
         "mode": "lines",
         "name": "nan",
         "type": "scattergeo"
        },
        {
         "lat": [
          null,
          null
         ],
         "line": {
          "color": "red",
          "width": 1
         },
         "lon": [
          null,
          null
         ],
         "mode": "lines",
         "name": "nan",
         "type": "scattergeo"
        },
        {
         "lat": [
          null,
          null
         ],
         "line": {
          "color": "red",
          "width": 1
         },
         "lon": [
          null,
          null
         ],
         "mode": "lines",
         "name": "nan",
         "type": "scattergeo"
        },
        {
         "lat": [
          null,
          null
         ],
         "line": {
          "color": "red",
          "width": 1
         },
         "lon": [
          null,
          null
         ],
         "mode": "lines",
         "name": "nan",
         "type": "scattergeo"
        },
        {
         "lat": [
          null,
          null
         ],
         "line": {
          "color": "red",
          "width": 1
         },
         "lon": [
          null,
          null
         ],
         "mode": "lines",
         "name": "nan",
         "type": "scattergeo"
        },
        {
         "lat": [
          null,
          null
         ],
         "line": {
          "color": "red",
          "width": 1
         },
         "lon": [
          null,
          null
         ],
         "mode": "lines",
         "name": "nan",
         "type": "scattergeo"
        },
        {
         "lat": [
          null,
          null
         ],
         "line": {
          "color": "red",
          "width": 1
         },
         "lon": [
          null,
          null
         ],
         "mode": "lines",
         "name": "nan",
         "type": "scattergeo"
        },
        {
         "lat": [
          null,
          null
         ],
         "line": {
          "color": "red",
          "width": 1
         },
         "lon": [
          null,
          null
         ],
         "mode": "lines",
         "name": "nan",
         "type": "scattergeo"
        },
        {
         "lat": [
          null,
          null
         ],
         "line": {
          "color": "red",
          "width": 1
         },
         "lon": [
          null,
          null
         ],
         "mode": "lines",
         "name": "nan",
         "type": "scattergeo"
        },
        {
         "lat": [
          null,
          null
         ],
         "line": {
          "color": "red",
          "width": 1
         },
         "lon": [
          null,
          null
         ],
         "mode": "lines",
         "name": "nan",
         "type": "scattergeo"
        },
        {
         "lat": [
          null,
          null
         ],
         "line": {
          "color": "red",
          "width": 1
         },
         "lon": [
          null,
          null
         ],
         "mode": "lines",
         "name": "nan",
         "type": "scattergeo"
        },
        {
         "lat": [
          null,
          null
         ],
         "line": {
          "color": "red",
          "width": 1
         },
         "lon": [
          null,
          null
         ],
         "mode": "lines",
         "name": "nan",
         "type": "scattergeo"
        },
        {
         "lat": [
          null,
          null
         ],
         "line": {
          "color": "red",
          "width": 1
         },
         "lon": [
          null,
          null
         ],
         "mode": "lines",
         "name": "nan",
         "type": "scattergeo"
        },
        {
         "lat": [
          null,
          null
         ],
         "line": {
          "color": "red",
          "width": 1
         },
         "lon": [
          null,
          null
         ],
         "mode": "lines",
         "name": "nan",
         "type": "scattergeo"
        },
        {
         "lat": [
          null,
          null
         ],
         "line": {
          "color": "red",
          "width": 1
         },
         "lon": [
          null,
          null
         ],
         "mode": "lines",
         "name": "nan",
         "type": "scattergeo"
        },
        {
         "lat": [
          null,
          null
         ],
         "line": {
          "color": "red",
          "width": 1
         },
         "lon": [
          null,
          null
         ],
         "mode": "lines",
         "name": "nan",
         "type": "scattergeo"
        },
        {
         "lat": [
          null,
          null
         ],
         "line": {
          "color": "red",
          "width": 1
         },
         "lon": [
          null,
          null
         ],
         "mode": "lines",
         "name": "nan",
         "type": "scattergeo"
        },
        {
         "lat": [
          null,
          null
         ],
         "line": {
          "color": "red",
          "width": 1
         },
         "lon": [
          null,
          null
         ],
         "mode": "lines",
         "name": "nan",
         "type": "scattergeo"
        },
        {
         "lat": [
          null,
          null
         ],
         "line": {
          "color": "red",
          "width": 1
         },
         "lon": [
          null,
          null
         ],
         "mode": "lines",
         "name": "nan",
         "type": "scattergeo"
        },
        {
         "lat": [
          null,
          null
         ],
         "line": {
          "color": "red",
          "width": 1
         },
         "lon": [
          null,
          null
         ],
         "mode": "lines",
         "name": "nan",
         "type": "scattergeo"
        },
        {
         "lat": [
          null,
          null
         ],
         "line": {
          "color": "red",
          "width": 1
         },
         "lon": [
          null,
          null
         ],
         "mode": "lines",
         "name": "nan",
         "type": "scattergeo"
        },
        {
         "lat": [
          null,
          null
         ],
         "line": {
          "color": "red",
          "width": 1
         },
         "lon": [
          null,
          null
         ],
         "mode": "lines",
         "name": "nan",
         "type": "scattergeo"
        },
        {
         "lat": [
          null,
          null
         ],
         "line": {
          "color": "red",
          "width": 1
         },
         "lon": [
          null,
          null
         ],
         "mode": "lines",
         "name": "nan",
         "type": "scattergeo"
        },
        {
         "lat": [
          null,
          null
         ],
         "line": {
          "color": "red",
          "width": 1
         },
         "lon": [
          null,
          null
         ],
         "mode": "lines",
         "name": "nan",
         "type": "scattergeo"
        },
        {
         "lat": [
          null,
          null
         ],
         "line": {
          "color": "red",
          "width": 1
         },
         "lon": [
          null,
          null
         ],
         "mode": "lines",
         "name": "nan",
         "type": "scattergeo"
        },
        {
         "lat": [
          null,
          null
         ],
         "line": {
          "color": "red",
          "width": 1
         },
         "lon": [
          null,
          null
         ],
         "mode": "lines",
         "name": "nan",
         "type": "scattergeo"
        },
        {
         "lat": [
          null,
          null
         ],
         "line": {
          "color": "red",
          "width": 1
         },
         "lon": [
          null,
          null
         ],
         "mode": "lines",
         "name": "nan",
         "type": "scattergeo"
        },
        {
         "lat": [
          null,
          null
         ],
         "line": {
          "color": "red",
          "width": 1
         },
         "lon": [
          null,
          null
         ],
         "mode": "lines",
         "name": "nan",
         "type": "scattergeo"
        },
        {
         "lat": [
          null,
          null
         ],
         "line": {
          "color": "red",
          "width": 1
         },
         "lon": [
          null,
          null
         ],
         "mode": "lines",
         "name": "nan",
         "type": "scattergeo"
        },
        {
         "lat": [
          null,
          null
         ],
         "line": {
          "color": "red",
          "width": 1
         },
         "lon": [
          null,
          null
         ],
         "mode": "lines",
         "name": "nan",
         "type": "scattergeo"
        },
        {
         "lat": [
          null,
          null
         ],
         "line": {
          "color": "red",
          "width": 1
         },
         "lon": [
          null,
          null
         ],
         "mode": "lines",
         "name": "nan",
         "type": "scattergeo"
        },
        {
         "lat": [
          null,
          null
         ],
         "line": {
          "color": "red",
          "width": 1
         },
         "lon": [
          null,
          null
         ],
         "mode": "lines",
         "name": "nan",
         "type": "scattergeo"
        },
        {
         "lat": [
          null,
          null
         ],
         "line": {
          "color": "red",
          "width": 1
         },
         "lon": [
          null,
          null
         ],
         "mode": "lines",
         "name": "nan",
         "type": "scattergeo"
        },
        {
         "lat": [
          null,
          null
         ],
         "line": {
          "color": "red",
          "width": 1
         },
         "lon": [
          null,
          null
         ],
         "mode": "lines",
         "name": "nan",
         "type": "scattergeo"
        },
        {
         "lat": [
          null,
          null
         ],
         "line": {
          "color": "red",
          "width": 1
         },
         "lon": [
          null,
          null
         ],
         "mode": "lines",
         "name": "nan",
         "type": "scattergeo"
        },
        {
         "lat": [
          null,
          null
         ],
         "line": {
          "color": "red",
          "width": 1
         },
         "lon": [
          null,
          null
         ],
         "mode": "lines",
         "name": "nan",
         "type": "scattergeo"
        },
        {
         "lat": [
          null,
          null
         ],
         "line": {
          "color": "red",
          "width": 1
         },
         "lon": [
          null,
          null
         ],
         "mode": "lines",
         "name": "nan",
         "type": "scattergeo"
        },
        {
         "lat": [
          null,
          null
         ],
         "line": {
          "color": "red",
          "width": 1
         },
         "lon": [
          null,
          null
         ],
         "mode": "lines",
         "name": "nan",
         "type": "scattergeo"
        },
        {
         "lat": [
          null,
          null
         ],
         "line": {
          "color": "red",
          "width": 1
         },
         "lon": [
          null,
          null
         ],
         "mode": "lines",
         "name": "nan",
         "type": "scattergeo"
        },
        {
         "lat": [
          null,
          null
         ],
         "line": {
          "color": "red",
          "width": 1
         },
         "lon": [
          null,
          null
         ],
         "mode": "lines",
         "name": "nan",
         "type": "scattergeo"
        },
        {
         "lat": [
          null,
          null
         ],
         "line": {
          "color": "red",
          "width": 1
         },
         "lon": [
          null,
          null
         ],
         "mode": "lines",
         "name": "nan",
         "type": "scattergeo"
        },
        {
         "lat": [
          null,
          null
         ],
         "line": {
          "color": "red",
          "width": 1
         },
         "lon": [
          null,
          null
         ],
         "mode": "lines",
         "name": "nan",
         "type": "scattergeo"
        },
        {
         "lat": [
          null,
          null
         ],
         "line": {
          "color": "red",
          "width": 1
         },
         "lon": [
          null,
          null
         ],
         "mode": "lines",
         "name": "nan",
         "type": "scattergeo"
        },
        {
         "lat": [
          null,
          null
         ],
         "line": {
          "color": "red",
          "width": 1
         },
         "lon": [
          null,
          null
         ],
         "mode": "lines",
         "name": "nan",
         "type": "scattergeo"
        },
        {
         "lat": [
          null,
          null
         ],
         "line": {
          "color": "red",
          "width": 1
         },
         "lon": [
          null,
          null
         ],
         "mode": "lines",
         "name": "nan",
         "type": "scattergeo"
        },
        {
         "lat": [
          null,
          null
         ],
         "line": {
          "color": "red",
          "width": 1
         },
         "lon": [
          null,
          null
         ],
         "mode": "lines",
         "name": "nan",
         "type": "scattergeo"
        },
        {
         "lat": [
          null,
          null
         ],
         "line": {
          "color": "red",
          "width": 1
         },
         "lon": [
          null,
          null
         ],
         "mode": "lines",
         "name": "nan",
         "type": "scattergeo"
        },
        {
         "lat": [
          null,
          null
         ],
         "line": {
          "color": "red",
          "width": 1
         },
         "lon": [
          null,
          null
         ],
         "mode": "lines",
         "name": "nan",
         "type": "scattergeo"
        },
        {
         "lat": [
          null,
          null
         ],
         "line": {
          "color": "red",
          "width": 1
         },
         "lon": [
          null,
          null
         ],
         "mode": "lines",
         "name": "nan",
         "type": "scattergeo"
        },
        {
         "lat": [
          null,
          null
         ],
         "line": {
          "color": "red",
          "width": 1
         },
         "lon": [
          null,
          null
         ],
         "mode": "lines",
         "name": "nan",
         "type": "scattergeo"
        },
        {
         "lat": [
          null,
          null
         ],
         "line": {
          "color": "red",
          "width": 1
         },
         "lon": [
          null,
          null
         ],
         "mode": "lines",
         "name": "nan",
         "type": "scattergeo"
        },
        {
         "lat": [
          null,
          null
         ],
         "line": {
          "color": "red",
          "width": 1
         },
         "lon": [
          null,
          null
         ],
         "mode": "lines",
         "name": "nan",
         "type": "scattergeo"
        },
        {
         "lat": [
          null,
          null
         ],
         "line": {
          "color": "red",
          "width": 1
         },
         "lon": [
          null,
          null
         ],
         "mode": "lines",
         "name": "nan",
         "type": "scattergeo"
        },
        {
         "lat": [
          null,
          null
         ],
         "line": {
          "color": "red",
          "width": 1
         },
         "lon": [
          null,
          null
         ],
         "mode": "lines",
         "name": "nan",
         "type": "scattergeo"
        },
        {
         "lat": [
          null,
          null
         ],
         "line": {
          "color": "red",
          "width": 1
         },
         "lon": [
          null,
          null
         ],
         "mode": "lines",
         "name": "nan",
         "type": "scattergeo"
        },
        {
         "lat": [
          null,
          null
         ],
         "line": {
          "color": "red",
          "width": 1
         },
         "lon": [
          null,
          null
         ],
         "mode": "lines",
         "name": "nan",
         "type": "scattergeo"
        },
        {
         "lat": [
          null,
          null
         ],
         "line": {
          "color": "red",
          "width": 1
         },
         "lon": [
          null,
          null
         ],
         "mode": "lines",
         "name": "nan",
         "type": "scattergeo"
        },
        {
         "lat": [
          null,
          null
         ],
         "line": {
          "color": "red",
          "width": 1
         },
         "lon": [
          null,
          null
         ],
         "mode": "lines",
         "name": "nan",
         "type": "scattergeo"
        },
        {
         "lat": [
          null,
          null
         ],
         "line": {
          "color": "red",
          "width": 1
         },
         "lon": [
          null,
          null
         ],
         "mode": "lines",
         "name": "nan",
         "type": "scattergeo"
        },
        {
         "lat": [
          null,
          null
         ],
         "line": {
          "color": "red",
          "width": 1
         },
         "lon": [
          null,
          null
         ],
         "mode": "lines",
         "name": "nan",
         "type": "scattergeo"
        },
        {
         "lat": [
          null,
          null
         ],
         "line": {
          "color": "red",
          "width": 1
         },
         "lon": [
          null,
          null
         ],
         "mode": "lines",
         "name": "nan",
         "type": "scattergeo"
        },
        {
         "lat": [
          null,
          null
         ],
         "line": {
          "color": "red",
          "width": 1
         },
         "lon": [
          null,
          null
         ],
         "mode": "lines",
         "name": "nan",
         "type": "scattergeo"
        },
        {
         "lat": [
          null,
          null
         ],
         "line": {
          "color": "red",
          "width": 1
         },
         "lon": [
          null,
          null
         ],
         "mode": "lines",
         "name": "nan",
         "type": "scattergeo"
        },
        {
         "lat": [
          null,
          null
         ],
         "line": {
          "color": "red",
          "width": 1
         },
         "lon": [
          null,
          null
         ],
         "mode": "lines",
         "name": "nan",
         "type": "scattergeo"
        },
        {
         "lat": [
          null,
          null
         ],
         "line": {
          "color": "red",
          "width": 1
         },
         "lon": [
          null,
          null
         ],
         "mode": "lines",
         "name": "nan",
         "type": "scattergeo"
        },
        {
         "lat": [
          null,
          null
         ],
         "line": {
          "color": "red",
          "width": 1
         },
         "lon": [
          null,
          null
         ],
         "mode": "lines",
         "name": "nan",
         "type": "scattergeo"
        },
        {
         "lat": [
          null,
          null
         ],
         "line": {
          "color": "red",
          "width": 1
         },
         "lon": [
          null,
          null
         ],
         "mode": "lines",
         "name": "nan",
         "type": "scattergeo"
        },
        {
         "lat": [
          null,
          null
         ],
         "line": {
          "color": "red",
          "width": 1
         },
         "lon": [
          null,
          null
         ],
         "mode": "lines",
         "name": "nan",
         "type": "scattergeo"
        },
        {
         "lat": [
          null,
          null
         ],
         "line": {
          "color": "red",
          "width": 1
         },
         "lon": [
          null,
          null
         ],
         "mode": "lines",
         "name": "nan",
         "type": "scattergeo"
        },
        {
         "lat": [
          null,
          null
         ],
         "line": {
          "color": "red",
          "width": 1
         },
         "lon": [
          null,
          null
         ],
         "mode": "lines",
         "name": "nan",
         "type": "scattergeo"
        },
        {
         "lat": [
          null,
          null
         ],
         "line": {
          "color": "red",
          "width": 1
         },
         "lon": [
          null,
          null
         ],
         "mode": "lines",
         "name": "nan",
         "type": "scattergeo"
        },
        {
         "lat": [
          null,
          null
         ],
         "line": {
          "color": "red",
          "width": 1
         },
         "lon": [
          null,
          null
         ],
         "mode": "lines",
         "name": "nan",
         "type": "scattergeo"
        },
        {
         "lat": [
          null,
          null
         ],
         "line": {
          "color": "red",
          "width": 1
         },
         "lon": [
          null,
          null
         ],
         "mode": "lines",
         "name": "nan",
         "type": "scattergeo"
        },
        {
         "lat": [
          null,
          null
         ],
         "line": {
          "color": "red",
          "width": 1
         },
         "lon": [
          null,
          null
         ],
         "mode": "lines",
         "name": "nan",
         "type": "scattergeo"
        },
        {
         "lat": [
          null,
          null
         ],
         "line": {
          "color": "red",
          "width": 1
         },
         "lon": [
          null,
          null
         ],
         "mode": "lines",
         "name": "nan",
         "type": "scattergeo"
        },
        {
         "lat": [
          null,
          null
         ],
         "line": {
          "color": "red",
          "width": 1
         },
         "lon": [
          null,
          null
         ],
         "mode": "lines",
         "name": "nan",
         "type": "scattergeo"
        },
        {
         "lat": [
          null,
          null
         ],
         "line": {
          "color": "red",
          "width": 1
         },
         "lon": [
          null,
          null
         ],
         "mode": "lines",
         "name": "nan",
         "type": "scattergeo"
        },
        {
         "lat": [
          null,
          null
         ],
         "line": {
          "color": "red",
          "width": 1
         },
         "lon": [
          null,
          null
         ],
         "mode": "lines",
         "name": "nan",
         "type": "scattergeo"
        },
        {
         "lat": [
          null,
          null
         ],
         "line": {
          "color": "red",
          "width": 1
         },
         "lon": [
          null,
          null
         ],
         "mode": "lines",
         "name": "nan",
         "type": "scattergeo"
        },
        {
         "lat": [
          null,
          null
         ],
         "line": {
          "color": "red",
          "width": 1
         },
         "lon": [
          null,
          null
         ],
         "mode": "lines",
         "name": "nan",
         "type": "scattergeo"
        },
        {
         "lat": [
          null,
          null
         ],
         "line": {
          "color": "red",
          "width": 1
         },
         "lon": [
          null,
          null
         ],
         "mode": "lines",
         "name": "nan",
         "type": "scattergeo"
        },
        {
         "lat": [
          null,
          null
         ],
         "line": {
          "color": "red",
          "width": 1
         },
         "lon": [
          null,
          null
         ],
         "mode": "lines",
         "name": "nan",
         "type": "scattergeo"
        },
        {
         "lat": [
          null,
          null
         ],
         "line": {
          "color": "red",
          "width": 1
         },
         "lon": [
          null,
          null
         ],
         "mode": "lines",
         "name": "nan",
         "type": "scattergeo"
        },
        {
         "lat": [
          null,
          null
         ],
         "line": {
          "color": "red",
          "width": 1
         },
         "lon": [
          null,
          null
         ],
         "mode": "lines",
         "name": "nan",
         "type": "scattergeo"
        },
        {
         "lat": [
          null,
          null
         ],
         "line": {
          "color": "red",
          "width": 1
         },
         "lon": [
          null,
          null
         ],
         "mode": "lines",
         "name": "nan",
         "type": "scattergeo"
        },
        {
         "lat": [
          null,
          null
         ],
         "line": {
          "color": "red",
          "width": 1
         },
         "lon": [
          null,
          null
         ],
         "mode": "lines",
         "name": "nan",
         "type": "scattergeo"
        },
        {
         "lat": [
          null,
          null
         ],
         "line": {
          "color": "red",
          "width": 1
         },
         "lon": [
          null,
          null
         ],
         "mode": "lines",
         "name": "nan",
         "type": "scattergeo"
        },
        {
         "lat": [
          null,
          null
         ],
         "line": {
          "color": "red",
          "width": 1
         },
         "lon": [
          null,
          null
         ],
         "mode": "lines",
         "name": "nan",
         "type": "scattergeo"
        },
        {
         "lat": [
          null,
          null
         ],
         "line": {
          "color": "red",
          "width": 1
         },
         "lon": [
          null,
          null
         ],
         "mode": "lines",
         "name": "nan",
         "type": "scattergeo"
        },
        {
         "lat": [
          null,
          null
         ],
         "line": {
          "color": "red",
          "width": 1
         },
         "lon": [
          null,
          null
         ],
         "mode": "lines",
         "name": "nan",
         "type": "scattergeo"
        },
        {
         "lat": [
          null,
          null
         ],
         "line": {
          "color": "red",
          "width": 1
         },
         "lon": [
          null,
          null
         ],
         "mode": "lines",
         "name": "nan",
         "type": "scattergeo"
        },
        {
         "lat": [
          null,
          null
         ],
         "line": {
          "color": "red",
          "width": 1
         },
         "lon": [
          null,
          null
         ],
         "mode": "lines",
         "name": "nan",
         "type": "scattergeo"
        },
        {
         "lat": [
          null,
          null
         ],
         "line": {
          "color": "red",
          "width": 1
         },
         "lon": [
          null,
          null
         ],
         "mode": "lines",
         "name": "nan",
         "type": "scattergeo"
        },
        {
         "lat": [
          null,
          null
         ],
         "line": {
          "color": "red",
          "width": 1
         },
         "lon": [
          null,
          null
         ],
         "mode": "lines",
         "name": "nan",
         "type": "scattergeo"
        },
        {
         "lat": [
          null,
          null
         ],
         "line": {
          "color": "red",
          "width": 1
         },
         "lon": [
          null,
          null
         ],
         "mode": "lines",
         "name": "nan",
         "type": "scattergeo"
        },
        {
         "lat": [
          null,
          null
         ],
         "line": {
          "color": "red",
          "width": 1
         },
         "lon": [
          null,
          null
         ],
         "mode": "lines",
         "name": "nan",
         "type": "scattergeo"
        },
        {
         "lat": [
          null,
          null
         ],
         "line": {
          "color": "red",
          "width": 1
         },
         "lon": [
          null,
          null
         ],
         "mode": "lines",
         "name": "nan",
         "type": "scattergeo"
        },
        {
         "lat": [
          null,
          null
         ],
         "line": {
          "color": "red",
          "width": 1
         },
         "lon": [
          null,
          null
         ],
         "mode": "lines",
         "name": "nan",
         "type": "scattergeo"
        },
        {
         "lat": [
          null,
          null
         ],
         "line": {
          "color": "red",
          "width": 1
         },
         "lon": [
          null,
          null
         ],
         "mode": "lines",
         "name": "nan",
         "type": "scattergeo"
        },
        {
         "lat": [
          null,
          null
         ],
         "line": {
          "color": "red",
          "width": 1
         },
         "lon": [
          null,
          null
         ],
         "mode": "lines",
         "name": "nan",
         "type": "scattergeo"
        },
        {
         "lat": [
          null,
          null
         ],
         "line": {
          "color": "red",
          "width": 1
         },
         "lon": [
          null,
          null
         ],
         "mode": "lines",
         "name": "nan",
         "type": "scattergeo"
        },
        {
         "lat": [
          null,
          null
         ],
         "line": {
          "color": "red",
          "width": 1
         },
         "lon": [
          null,
          null
         ],
         "mode": "lines",
         "name": "nan",
         "type": "scattergeo"
        },
        {
         "lat": [
          null,
          null
         ],
         "line": {
          "color": "red",
          "width": 1
         },
         "lon": [
          null,
          null
         ],
         "mode": "lines",
         "name": "nan",
         "type": "scattergeo"
        },
        {
         "lat": [
          null,
          null
         ],
         "line": {
          "color": "red",
          "width": 1
         },
         "lon": [
          null,
          null
         ],
         "mode": "lines",
         "name": "nan",
         "type": "scattergeo"
        },
        {
         "lat": [
          null,
          null
         ],
         "line": {
          "color": "red",
          "width": 1
         },
         "lon": [
          null,
          null
         ],
         "mode": "lines",
         "name": "nan",
         "type": "scattergeo"
        },
        {
         "lat": [
          null,
          null
         ],
         "line": {
          "color": "red",
          "width": 1
         },
         "lon": [
          null,
          null
         ],
         "mode": "lines",
         "name": "nan",
         "type": "scattergeo"
        },
        {
         "lat": [
          null,
          null
         ],
         "line": {
          "color": "red",
          "width": 1
         },
         "lon": [
          null,
          null
         ],
         "mode": "lines",
         "name": "nan",
         "type": "scattergeo"
        },
        {
         "lat": [
          null,
          null
         ],
         "line": {
          "color": "red",
          "width": 1
         },
         "lon": [
          null,
          null
         ],
         "mode": "lines",
         "name": "nan",
         "type": "scattergeo"
        },
        {
         "lat": [
          null,
          null
         ],
         "line": {
          "color": "red",
          "width": 1
         },
         "lon": [
          null,
          null
         ],
         "mode": "lines",
         "name": "nan",
         "type": "scattergeo"
        },
        {
         "lat": [
          null,
          null
         ],
         "line": {
          "color": "red",
          "width": 1
         },
         "lon": [
          null,
          null
         ],
         "mode": "lines",
         "name": "nan",
         "type": "scattergeo"
        },
        {
         "lat": [
          null,
          null
         ],
         "line": {
          "color": "red",
          "width": 1
         },
         "lon": [
          null,
          null
         ],
         "mode": "lines",
         "name": "nan",
         "type": "scattergeo"
        },
        {
         "lat": [
          null,
          null
         ],
         "line": {
          "color": "red",
          "width": 1
         },
         "lon": [
          null,
          null
         ],
         "mode": "lines",
         "name": "nan",
         "type": "scattergeo"
        },
        {
         "lat": [
          null,
          null
         ],
         "line": {
          "color": "red",
          "width": 1
         },
         "lon": [
          null,
          null
         ],
         "mode": "lines",
         "name": "nan",
         "type": "scattergeo"
        },
        {
         "lat": [
          null,
          null
         ],
         "line": {
          "color": "red",
          "width": 1
         },
         "lon": [
          null,
          null
         ],
         "mode": "lines",
         "name": "nan",
         "type": "scattergeo"
        },
        {
         "lat": [
          null,
          null
         ],
         "line": {
          "color": "red",
          "width": 1
         },
         "lon": [
          null,
          null
         ],
         "mode": "lines",
         "name": "nan",
         "type": "scattergeo"
        },
        {
         "lat": [
          null,
          null
         ],
         "line": {
          "color": "red",
          "width": 1
         },
         "lon": [
          null,
          null
         ],
         "mode": "lines",
         "name": "nan",
         "type": "scattergeo"
        },
        {
         "lat": [
          null,
          null
         ],
         "line": {
          "color": "red",
          "width": 1
         },
         "lon": [
          null,
          null
         ],
         "mode": "lines",
         "name": "nan",
         "type": "scattergeo"
        },
        {
         "lat": [
          null,
          null
         ],
         "line": {
          "color": "red",
          "width": 1
         },
         "lon": [
          null,
          null
         ],
         "mode": "lines",
         "name": "nan",
         "type": "scattergeo"
        },
        {
         "lat": [
          null,
          null
         ],
         "line": {
          "color": "red",
          "width": 1
         },
         "lon": [
          null,
          null
         ],
         "mode": "lines",
         "name": "nan",
         "type": "scattergeo"
        },
        {
         "lat": [
          null,
          null
         ],
         "line": {
          "color": "red",
          "width": 1
         },
         "lon": [
          null,
          null
         ],
         "mode": "lines",
         "name": "nan",
         "type": "scattergeo"
        },
        {
         "lat": [
          null,
          null
         ],
         "line": {
          "color": "red",
          "width": 1
         },
         "lon": [
          null,
          null
         ],
         "mode": "lines",
         "name": "nan",
         "type": "scattergeo"
        },
        {
         "lat": [
          null,
          null
         ],
         "line": {
          "color": "red",
          "width": 1
         },
         "lon": [
          null,
          null
         ],
         "mode": "lines",
         "name": "nan",
         "type": "scattergeo"
        },
        {
         "lat": [
          null,
          null
         ],
         "line": {
          "color": "red",
          "width": 1
         },
         "lon": [
          null,
          null
         ],
         "mode": "lines",
         "name": "nan",
         "type": "scattergeo"
        },
        {
         "lat": [
          null,
          null
         ],
         "line": {
          "color": "red",
          "width": 1
         },
         "lon": [
          null,
          null
         ],
         "mode": "lines",
         "name": "nan",
         "type": "scattergeo"
        },
        {
         "lat": [
          null,
          null
         ],
         "line": {
          "color": "red",
          "width": 1
         },
         "lon": [
          null,
          null
         ],
         "mode": "lines",
         "name": "nan",
         "type": "scattergeo"
        },
        {
         "lat": [
          null,
          null
         ],
         "line": {
          "color": "red",
          "width": 1
         },
         "lon": [
          null,
          null
         ],
         "mode": "lines",
         "name": "nan",
         "type": "scattergeo"
        },
        {
         "lat": [
          null,
          null
         ],
         "line": {
          "color": "red",
          "width": 1
         },
         "lon": [
          null,
          null
         ],
         "mode": "lines",
         "name": "nan",
         "type": "scattergeo"
        },
        {
         "lat": [
          null,
          null
         ],
         "line": {
          "color": "red",
          "width": 1
         },
         "lon": [
          null,
          null
         ],
         "mode": "lines",
         "name": "nan",
         "type": "scattergeo"
        },
        {
         "lat": [
          null,
          null
         ],
         "line": {
          "color": "red",
          "width": 1
         },
         "lon": [
          null,
          null
         ],
         "mode": "lines",
         "name": "nan",
         "type": "scattergeo"
        },
        {
         "lat": [
          null,
          null
         ],
         "line": {
          "color": "red",
          "width": 1
         },
         "lon": [
          null,
          null
         ],
         "mode": "lines",
         "name": "nan",
         "type": "scattergeo"
        },
        {
         "lat": [
          null,
          null
         ],
         "line": {
          "color": "red",
          "width": 1
         },
         "lon": [
          null,
          null
         ],
         "mode": "lines",
         "name": "nan",
         "type": "scattergeo"
        },
        {
         "lat": [
          null,
          null
         ],
         "line": {
          "color": "red",
          "width": 1
         },
         "lon": [
          null,
          null
         ],
         "mode": "lines",
         "name": "nan",
         "type": "scattergeo"
        },
        {
         "lat": [
          null,
          null
         ],
         "line": {
          "color": "red",
          "width": 1
         },
         "lon": [
          null,
          null
         ],
         "mode": "lines",
         "name": "nan",
         "type": "scattergeo"
        },
        {
         "lat": [
          null,
          null
         ],
         "line": {
          "color": "red",
          "width": 1
         },
         "lon": [
          null,
          null
         ],
         "mode": "lines",
         "name": "nan",
         "type": "scattergeo"
        },
        {
         "lat": [
          null,
          null
         ],
         "line": {
          "color": "red",
          "width": 1
         },
         "lon": [
          null,
          null
         ],
         "mode": "lines",
         "name": "nan",
         "type": "scattergeo"
        },
        {
         "lat": [
          null,
          null
         ],
         "line": {
          "color": "red",
          "width": 1
         },
         "lon": [
          null,
          null
         ],
         "mode": "lines",
         "name": "nan",
         "type": "scattergeo"
        },
        {
         "lat": [
          null,
          null
         ],
         "line": {
          "color": "red",
          "width": 1
         },
         "lon": [
          null,
          null
         ],
         "mode": "lines",
         "name": "nan",
         "type": "scattergeo"
        },
        {
         "lat": [
          null,
          null
         ],
         "line": {
          "color": "red",
          "width": 1
         },
         "lon": [
          null,
          null
         ],
         "mode": "lines",
         "name": "nan",
         "type": "scattergeo"
        },
        {
         "lat": [
          null,
          null
         ],
         "line": {
          "color": "red",
          "width": 1
         },
         "lon": [
          null,
          null
         ],
         "mode": "lines",
         "name": "nan",
         "type": "scattergeo"
        },
        {
         "lat": [
          null,
          null
         ],
         "line": {
          "color": "red",
          "width": 1
         },
         "lon": [
          null,
          null
         ],
         "mode": "lines",
         "name": "nan",
         "type": "scattergeo"
        },
        {
         "lat": [
          null,
          null
         ],
         "line": {
          "color": "red",
          "width": 1
         },
         "lon": [
          null,
          null
         ],
         "mode": "lines",
         "name": "nan",
         "type": "scattergeo"
        },
        {
         "lat": [
          null,
          null
         ],
         "line": {
          "color": "red",
          "width": 1
         },
         "lon": [
          null,
          null
         ],
         "mode": "lines",
         "name": "nan",
         "type": "scattergeo"
        },
        {
         "lat": [
          null,
          null
         ],
         "line": {
          "color": "red",
          "width": 1
         },
         "lon": [
          null,
          null
         ],
         "mode": "lines",
         "name": "nan",
         "type": "scattergeo"
        },
        {
         "lat": [
          null,
          null
         ],
         "line": {
          "color": "red",
          "width": 1
         },
         "lon": [
          null,
          null
         ],
         "mode": "lines",
         "name": "nan",
         "type": "scattergeo"
        },
        {
         "lat": [
          null,
          null
         ],
         "line": {
          "color": "red",
          "width": 1
         },
         "lon": [
          null,
          null
         ],
         "mode": "lines",
         "name": "nan",
         "type": "scattergeo"
        },
        {
         "lat": [
          null,
          null
         ],
         "line": {
          "color": "red",
          "width": 1
         },
         "lon": [
          null,
          null
         ],
         "mode": "lines",
         "name": "nan",
         "type": "scattergeo"
        },
        {
         "lat": [
          null,
          null
         ],
         "line": {
          "color": "red",
          "width": 1
         },
         "lon": [
          null,
          null
         ],
         "mode": "lines",
         "name": "nan",
         "type": "scattergeo"
        },
        {
         "lat": [
          null,
          null
         ],
         "line": {
          "color": "red",
          "width": 1
         },
         "lon": [
          null,
          null
         ],
         "mode": "lines",
         "name": "nan",
         "type": "scattergeo"
        },
        {
         "lat": [
          null,
          null
         ],
         "line": {
          "color": "red",
          "width": 1
         },
         "lon": [
          null,
          null
         ],
         "mode": "lines",
         "name": "nan",
         "type": "scattergeo"
        },
        {
         "lat": [
          null,
          null
         ],
         "line": {
          "color": "red",
          "width": 1
         },
         "lon": [
          null,
          null
         ],
         "mode": "lines",
         "name": "nan",
         "type": "scattergeo"
        },
        {
         "lat": [
          null,
          null
         ],
         "line": {
          "color": "red",
          "width": 1
         },
         "lon": [
          null,
          null
         ],
         "mode": "lines",
         "name": "nan",
         "type": "scattergeo"
        },
        {
         "lat": [
          null,
          null
         ],
         "line": {
          "color": "red",
          "width": 1
         },
         "lon": [
          null,
          null
         ],
         "mode": "lines",
         "name": "nan",
         "type": "scattergeo"
        },
        {
         "lat": [
          null,
          null
         ],
         "line": {
          "color": "red",
          "width": 1
         },
         "lon": [
          null,
          null
         ],
         "mode": "lines",
         "name": "nan",
         "type": "scattergeo"
        },
        {
         "lat": [
          null,
          null
         ],
         "line": {
          "color": "red",
          "width": 1
         },
         "lon": [
          null,
          null
         ],
         "mode": "lines",
         "name": "nan",
         "type": "scattergeo"
        },
        {
         "lat": [
          null,
          null
         ],
         "line": {
          "color": "red",
          "width": 1
         },
         "lon": [
          null,
          null
         ],
         "mode": "lines",
         "name": "nan",
         "type": "scattergeo"
        },
        {
         "lat": [
          null,
          null
         ],
         "line": {
          "color": "red",
          "width": 1
         },
         "lon": [
          null,
          null
         ],
         "mode": "lines",
         "name": "nan",
         "type": "scattergeo"
        },
        {
         "lat": [
          null,
          null
         ],
         "line": {
          "color": "red",
          "width": 1
         },
         "lon": [
          null,
          null
         ],
         "mode": "lines",
         "name": "nan",
         "type": "scattergeo"
        },
        {
         "lat": [
          null,
          null
         ],
         "line": {
          "color": "red",
          "width": 1
         },
         "lon": [
          null,
          null
         ],
         "mode": "lines",
         "name": "nan",
         "type": "scattergeo"
        },
        {
         "lat": [
          null,
          null
         ],
         "line": {
          "color": "red",
          "width": 1
         },
         "lon": [
          null,
          null
         ],
         "mode": "lines",
         "name": "nan",
         "type": "scattergeo"
        },
        {
         "lat": [
          null,
          null
         ],
         "line": {
          "color": "red",
          "width": 1
         },
         "lon": [
          null,
          null
         ],
         "mode": "lines",
         "name": "nan",
         "type": "scattergeo"
        },
        {
         "lat": [
          null,
          null
         ],
         "line": {
          "color": "red",
          "width": 1
         },
         "lon": [
          null,
          null
         ],
         "mode": "lines",
         "name": "nan",
         "type": "scattergeo"
        },
        {
         "lat": [
          null,
          null
         ],
         "line": {
          "color": "red",
          "width": 1
         },
         "lon": [
          null,
          null
         ],
         "mode": "lines",
         "name": "nan",
         "type": "scattergeo"
        },
        {
         "lat": [
          null,
          null
         ],
         "line": {
          "color": "red",
          "width": 1
         },
         "lon": [
          null,
          null
         ],
         "mode": "lines",
         "name": "nan",
         "type": "scattergeo"
        },
        {
         "lat": [
          null,
          null
         ],
         "line": {
          "color": "red",
          "width": 1
         },
         "lon": [
          null,
          null
         ],
         "mode": "lines",
         "name": "nan",
         "type": "scattergeo"
        },
        {
         "lat": [
          null,
          null
         ],
         "line": {
          "color": "red",
          "width": 1
         },
         "lon": [
          null,
          null
         ],
         "mode": "lines",
         "name": "nan",
         "type": "scattergeo"
        },
        {
         "lat": [
          null,
          null
         ],
         "line": {
          "color": "red",
          "width": 1
         },
         "lon": [
          null,
          null
         ],
         "mode": "lines",
         "name": "nan",
         "type": "scattergeo"
        },
        {
         "lat": [
          null,
          null
         ],
         "line": {
          "color": "red",
          "width": 1
         },
         "lon": [
          null,
          null
         ],
         "mode": "lines",
         "name": "nan",
         "type": "scattergeo"
        },
        {
         "lat": [
          null,
          null
         ],
         "line": {
          "color": "red",
          "width": 1
         },
         "lon": [
          null,
          null
         ],
         "mode": "lines",
         "name": "nan",
         "type": "scattergeo"
        },
        {
         "lat": [
          null,
          null
         ],
         "line": {
          "color": "red",
          "width": 1
         },
         "lon": [
          null,
          null
         ],
         "mode": "lines",
         "name": "nan",
         "type": "scattergeo"
        },
        {
         "lat": [
          null,
          null
         ],
         "line": {
          "color": "red",
          "width": 1
         },
         "lon": [
          null,
          null
         ],
         "mode": "lines",
         "name": "nan",
         "type": "scattergeo"
        },
        {
         "lat": [
          null,
          null
         ],
         "line": {
          "color": "red",
          "width": 1
         },
         "lon": [
          null,
          null
         ],
         "mode": "lines",
         "name": "nan",
         "type": "scattergeo"
        },
        {
         "lat": [
          null,
          null
         ],
         "line": {
          "color": "red",
          "width": 1
         },
         "lon": [
          null,
          null
         ],
         "mode": "lines",
         "name": "nan",
         "type": "scattergeo"
        },
        {
         "lat": [
          null,
          null
         ],
         "line": {
          "color": "red",
          "width": 1
         },
         "lon": [
          null,
          null
         ],
         "mode": "lines",
         "name": "nan",
         "type": "scattergeo"
        },
        {
         "lat": [
          null,
          null
         ],
         "line": {
          "color": "red",
          "width": 1
         },
         "lon": [
          null,
          null
         ],
         "mode": "lines",
         "name": "nan",
         "type": "scattergeo"
        },
        {
         "lat": [
          null,
          null
         ],
         "line": {
          "color": "red",
          "width": 1
         },
         "lon": [
          null,
          null
         ],
         "mode": "lines",
         "name": "nan",
         "type": "scattergeo"
        },
        {
         "lat": [
          null,
          null
         ],
         "line": {
          "color": "red",
          "width": 1
         },
         "lon": [
          null,
          null
         ],
         "mode": "lines",
         "name": "nan",
         "type": "scattergeo"
        },
        {
         "lat": [
          null,
          null
         ],
         "line": {
          "color": "red",
          "width": 1
         },
         "lon": [
          null,
          null
         ],
         "mode": "lines",
         "name": "nan",
         "type": "scattergeo"
        },
        {
         "lat": [
          null,
          null
         ],
         "line": {
          "color": "red",
          "width": 1
         },
         "lon": [
          null,
          null
         ],
         "mode": "lines",
         "name": "nan",
         "type": "scattergeo"
        },
        {
         "lat": [
          null,
          null
         ],
         "line": {
          "color": "red",
          "width": 1
         },
         "lon": [
          null,
          null
         ],
         "mode": "lines",
         "name": "nan",
         "type": "scattergeo"
        },
        {
         "lat": [
          null,
          null
         ],
         "line": {
          "color": "red",
          "width": 1
         },
         "lon": [
          null,
          null
         ],
         "mode": "lines",
         "name": "nan",
         "type": "scattergeo"
        },
        {
         "lat": [
          null,
          null
         ],
         "line": {
          "color": "red",
          "width": 1
         },
         "lon": [
          null,
          null
         ],
         "mode": "lines",
         "name": "nan",
         "type": "scattergeo"
        },
        {
         "lat": [
          null,
          null
         ],
         "line": {
          "color": "red",
          "width": 1
         },
         "lon": [
          null,
          null
         ],
         "mode": "lines",
         "name": "nan",
         "type": "scattergeo"
        },
        {
         "lat": [
          null,
          null
         ],
         "line": {
          "color": "red",
          "width": 1
         },
         "lon": [
          null,
          null
         ],
         "mode": "lines",
         "name": "nan",
         "type": "scattergeo"
        },
        {
         "lat": [
          null,
          null
         ],
         "line": {
          "color": "red",
          "width": 1
         },
         "lon": [
          null,
          null
         ],
         "mode": "lines",
         "name": "nan",
         "type": "scattergeo"
        },
        {
         "lat": [
          null,
          null
         ],
         "line": {
          "color": "red",
          "width": 1
         },
         "lon": [
          null,
          null
         ],
         "mode": "lines",
         "name": "nan",
         "type": "scattergeo"
        },
        {
         "lat": [
          null,
          null
         ],
         "line": {
          "color": "red",
          "width": 1
         },
         "lon": [
          null,
          null
         ],
         "mode": "lines",
         "name": "nan",
         "type": "scattergeo"
        },
        {
         "lat": [
          null,
          null
         ],
         "line": {
          "color": "red",
          "width": 1
         },
         "lon": [
          null,
          null
         ],
         "mode": "lines",
         "name": "nan",
         "type": "scattergeo"
        },
        {
         "lat": [
          null,
          null
         ],
         "line": {
          "color": "red",
          "width": 1
         },
         "lon": [
          null,
          null
         ],
         "mode": "lines",
         "name": "nan",
         "type": "scattergeo"
        },
        {
         "lat": [
          null,
          null
         ],
         "line": {
          "color": "red",
          "width": 1
         },
         "lon": [
          null,
          null
         ],
         "mode": "lines",
         "name": "nan",
         "type": "scattergeo"
        },
        {
         "lat": [
          null,
          null
         ],
         "line": {
          "color": "red",
          "width": 1
         },
         "lon": [
          null,
          null
         ],
         "mode": "lines",
         "name": "nan",
         "type": "scattergeo"
        },
        {
         "lat": [
          null,
          null
         ],
         "line": {
          "color": "red",
          "width": 1
         },
         "lon": [
          null,
          null
         ],
         "mode": "lines",
         "name": "nan",
         "type": "scattergeo"
        },
        {
         "lat": [
          null,
          null
         ],
         "line": {
          "color": "red",
          "width": 1
         },
         "lon": [
          null,
          null
         ],
         "mode": "lines",
         "name": "nan",
         "type": "scattergeo"
        },
        {
         "lat": [
          null,
          null
         ],
         "line": {
          "color": "red",
          "width": 1
         },
         "lon": [
          null,
          null
         ],
         "mode": "lines",
         "name": "nan",
         "type": "scattergeo"
        },
        {
         "lat": [
          null,
          null
         ],
         "line": {
          "color": "red",
          "width": 1
         },
         "lon": [
          null,
          null
         ],
         "mode": "lines",
         "name": "nan",
         "type": "scattergeo"
        },
        {
         "lat": [
          null,
          null
         ],
         "line": {
          "color": "red",
          "width": 1
         },
         "lon": [
          null,
          null
         ],
         "mode": "lines",
         "name": "nan",
         "type": "scattergeo"
        },
        {
         "lat": [
          null,
          null
         ],
         "line": {
          "color": "red",
          "width": 1
         },
         "lon": [
          null,
          null
         ],
         "mode": "lines",
         "name": "nan",
         "type": "scattergeo"
        },
        {
         "lat": [
          null,
          null
         ],
         "line": {
          "color": "red",
          "width": 1
         },
         "lon": [
          null,
          null
         ],
         "mode": "lines",
         "name": "nan",
         "type": "scattergeo"
        },
        {
         "lat": [
          null,
          null
         ],
         "line": {
          "color": "red",
          "width": 1
         },
         "lon": [
          null,
          null
         ],
         "mode": "lines",
         "name": "nan",
         "type": "scattergeo"
        },
        {
         "lat": [
          null,
          null
         ],
         "line": {
          "color": "red",
          "width": 1
         },
         "lon": [
          null,
          null
         ],
         "mode": "lines",
         "name": "nan",
         "type": "scattergeo"
        },
        {
         "lat": [
          null,
          null
         ],
         "line": {
          "color": "red",
          "width": 1
         },
         "lon": [
          null,
          null
         ],
         "mode": "lines",
         "name": "nan",
         "type": "scattergeo"
        },
        {
         "lat": [
          null,
          null
         ],
         "line": {
          "color": "red",
          "width": 1
         },
         "lon": [
          null,
          null
         ],
         "mode": "lines",
         "name": "nan",
         "type": "scattergeo"
        },
        {
         "lat": [
          null,
          null
         ],
         "line": {
          "color": "red",
          "width": 1
         },
         "lon": [
          null,
          null
         ],
         "mode": "lines",
         "name": "nan",
         "type": "scattergeo"
        },
        {
         "lat": [
          null,
          null
         ],
         "line": {
          "color": "red",
          "width": 1
         },
         "lon": [
          null,
          null
         ],
         "mode": "lines",
         "name": "nan",
         "type": "scattergeo"
        },
        {
         "lat": [
          null,
          null
         ],
         "line": {
          "color": "red",
          "width": 1
         },
         "lon": [
          null,
          null
         ],
         "mode": "lines",
         "name": "nan",
         "type": "scattergeo"
        },
        {
         "lat": [
          null,
          null
         ],
         "line": {
          "color": "red",
          "width": 1
         },
         "lon": [
          null,
          null
         ],
         "mode": "lines",
         "name": "nan",
         "type": "scattergeo"
        },
        {
         "lat": [
          null,
          null
         ],
         "line": {
          "color": "red",
          "width": 1
         },
         "lon": [
          null,
          null
         ],
         "mode": "lines",
         "name": "nan",
         "type": "scattergeo"
        },
        {
         "lat": [
          null,
          null
         ],
         "line": {
          "color": "red",
          "width": 1
         },
         "lon": [
          null,
          null
         ],
         "mode": "lines",
         "name": "nan",
         "type": "scattergeo"
        },
        {
         "lat": [
          null,
          null
         ],
         "line": {
          "color": "red",
          "width": 1
         },
         "lon": [
          null,
          null
         ],
         "mode": "lines",
         "name": "nan",
         "type": "scattergeo"
        },
        {
         "lat": [
          null,
          null
         ],
         "line": {
          "color": "red",
          "width": 1
         },
         "lon": [
          null,
          null
         ],
         "mode": "lines",
         "name": "nan",
         "type": "scattergeo"
        },
        {
         "lat": [
          null,
          null
         ],
         "line": {
          "color": "red",
          "width": 1
         },
         "lon": [
          null,
          null
         ],
         "mode": "lines",
         "name": "nan",
         "type": "scattergeo"
        },
        {
         "lat": [
          null,
          null
         ],
         "line": {
          "color": "red",
          "width": 1
         },
         "lon": [
          null,
          null
         ],
         "mode": "lines",
         "name": "nan",
         "type": "scattergeo"
        },
        {
         "lat": [
          null,
          null
         ],
         "line": {
          "color": "red",
          "width": 1
         },
         "lon": [
          null,
          null
         ],
         "mode": "lines",
         "name": "nan",
         "type": "scattergeo"
        },
        {
         "lat": [
          null,
          null
         ],
         "line": {
          "color": "red",
          "width": 1
         },
         "lon": [
          null,
          null
         ],
         "mode": "lines",
         "name": "nan",
         "type": "scattergeo"
        },
        {
         "lat": [
          null,
          null
         ],
         "line": {
          "color": "red",
          "width": 1
         },
         "lon": [
          null,
          null
         ],
         "mode": "lines",
         "name": "nan",
         "type": "scattergeo"
        },
        {
         "lat": [
          null,
          null
         ],
         "line": {
          "color": "red",
          "width": 1
         },
         "lon": [
          null,
          null
         ],
         "mode": "lines",
         "name": "nan",
         "type": "scattergeo"
        },
        {
         "lat": [
          null,
          null
         ],
         "line": {
          "color": "red",
          "width": 1
         },
         "lon": [
          null,
          null
         ],
         "mode": "lines",
         "name": "nan",
         "type": "scattergeo"
        },
        {
         "lat": [
          null,
          null
         ],
         "line": {
          "color": "red",
          "width": 1
         },
         "lon": [
          null,
          null
         ],
         "mode": "lines",
         "name": "nan",
         "type": "scattergeo"
        },
        {
         "lat": [
          null,
          null
         ],
         "line": {
          "color": "red",
          "width": 1
         },
         "lon": [
          null,
          null
         ],
         "mode": "lines",
         "name": "nan",
         "type": "scattergeo"
        },
        {
         "lat": [
          null,
          null
         ],
         "line": {
          "color": "red",
          "width": 1
         },
         "lon": [
          null,
          null
         ],
         "mode": "lines",
         "name": "nan",
         "type": "scattergeo"
        },
        {
         "lat": [
          null,
          null
         ],
         "line": {
          "color": "red",
          "width": 1
         },
         "lon": [
          null,
          null
         ],
         "mode": "lines",
         "name": "nan",
         "type": "scattergeo"
        },
        {
         "lat": [
          null,
          null
         ],
         "line": {
          "color": "red",
          "width": 1
         },
         "lon": [
          null,
          null
         ],
         "mode": "lines",
         "name": "nan",
         "type": "scattergeo"
        },
        {
         "lat": [
          null,
          null
         ],
         "line": {
          "color": "red",
          "width": 1
         },
         "lon": [
          null,
          null
         ],
         "mode": "lines",
         "name": "nan",
         "type": "scattergeo"
        },
        {
         "lat": [
          null,
          null
         ],
         "line": {
          "color": "red",
          "width": 1
         },
         "lon": [
          null,
          null
         ],
         "mode": "lines",
         "name": "nan",
         "type": "scattergeo"
        },
        {
         "lat": [
          null,
          null
         ],
         "line": {
          "color": "red",
          "width": 1
         },
         "lon": [
          null,
          null
         ],
         "mode": "lines",
         "name": "nan",
         "type": "scattergeo"
        },
        {
         "lat": [
          null,
          null
         ],
         "line": {
          "color": "red",
          "width": 1
         },
         "lon": [
          null,
          null
         ],
         "mode": "lines",
         "name": "nan",
         "type": "scattergeo"
        },
        {
         "lat": [
          null,
          null
         ],
         "line": {
          "color": "red",
          "width": 1
         },
         "lon": [
          null,
          null
         ],
         "mode": "lines",
         "name": "nan",
         "type": "scattergeo"
        },
        {
         "lat": [
          null,
          null
         ],
         "line": {
          "color": "red",
          "width": 1
         },
         "lon": [
          null,
          null
         ],
         "mode": "lines",
         "name": "nan",
         "type": "scattergeo"
        },
        {
         "lat": [
          null,
          null
         ],
         "line": {
          "color": "red",
          "width": 1
         },
         "lon": [
          null,
          null
         ],
         "mode": "lines",
         "name": "nan",
         "type": "scattergeo"
        },
        {
         "lat": [
          null,
          null
         ],
         "line": {
          "color": "red",
          "width": 1
         },
         "lon": [
          null,
          null
         ],
         "mode": "lines",
         "name": "nan",
         "type": "scattergeo"
        },
        {
         "lat": [
          null,
          null
         ],
         "line": {
          "color": "red",
          "width": 1
         },
         "lon": [
          null,
          null
         ],
         "mode": "lines",
         "name": "nan",
         "type": "scattergeo"
        },
        {
         "lat": [
          null,
          null
         ],
         "line": {
          "color": "red",
          "width": 1
         },
         "lon": [
          null,
          null
         ],
         "mode": "lines",
         "name": "nan",
         "type": "scattergeo"
        },
        {
         "lat": [
          null,
          null
         ],
         "line": {
          "color": "red",
          "width": 1
         },
         "lon": [
          null,
          null
         ],
         "mode": "lines",
         "name": "nan",
         "type": "scattergeo"
        },
        {
         "lat": [
          null,
          null
         ],
         "line": {
          "color": "red",
          "width": 1
         },
         "lon": [
          null,
          null
         ],
         "mode": "lines",
         "name": "nan",
         "type": "scattergeo"
        },
        {
         "lat": [
          null,
          null
         ],
         "line": {
          "color": "red",
          "width": 1
         },
         "lon": [
          null,
          null
         ],
         "mode": "lines",
         "name": "nan",
         "type": "scattergeo"
        },
        {
         "lat": [
          null,
          null
         ],
         "line": {
          "color": "red",
          "width": 1
         },
         "lon": [
          null,
          null
         ],
         "mode": "lines",
         "name": "nan",
         "type": "scattergeo"
        },
        {
         "lat": [
          null,
          null
         ],
         "line": {
          "color": "red",
          "width": 1
         },
         "lon": [
          null,
          null
         ],
         "mode": "lines",
         "name": "nan",
         "type": "scattergeo"
        },
        {
         "lat": [
          null,
          null
         ],
         "line": {
          "color": "red",
          "width": 1
         },
         "lon": [
          null,
          null
         ],
         "mode": "lines",
         "name": "nan",
         "type": "scattergeo"
        },
        {
         "lat": [
          null,
          null
         ],
         "line": {
          "color": "red",
          "width": 1
         },
         "lon": [
          null,
          null
         ],
         "mode": "lines",
         "name": "nan",
         "type": "scattergeo"
        },
        {
         "lat": [
          null,
          null
         ],
         "line": {
          "color": "red",
          "width": 1
         },
         "lon": [
          null,
          null
         ],
         "mode": "lines",
         "name": "nan",
         "type": "scattergeo"
        },
        {
         "lat": [
          null,
          null
         ],
         "line": {
          "color": "red",
          "width": 1
         },
         "lon": [
          null,
          null
         ],
         "mode": "lines",
         "name": "nan",
         "type": "scattergeo"
        },
        {
         "lat": [
          null,
          null
         ],
         "line": {
          "color": "red",
          "width": 1
         },
         "lon": [
          null,
          null
         ],
         "mode": "lines",
         "name": "nan",
         "type": "scattergeo"
        },
        {
         "lat": [
          null,
          null
         ],
         "line": {
          "color": "red",
          "width": 1
         },
         "lon": [
          null,
          null
         ],
         "mode": "lines",
         "name": "nan",
         "type": "scattergeo"
        },
        {
         "lat": [
          null,
          null
         ],
         "line": {
          "color": "red",
          "width": 1
         },
         "lon": [
          null,
          null
         ],
         "mode": "lines",
         "name": "nan",
         "type": "scattergeo"
        },
        {
         "lat": [
          null,
          null
         ],
         "line": {
          "color": "red",
          "width": 1
         },
         "lon": [
          null,
          null
         ],
         "mode": "lines",
         "name": "nan",
         "type": "scattergeo"
        },
        {
         "lat": [
          null,
          null
         ],
         "line": {
          "color": "red",
          "width": 1
         },
         "lon": [
          null,
          null
         ],
         "mode": "lines",
         "name": "nan",
         "type": "scattergeo"
        },
        {
         "lat": [
          null,
          null
         ],
         "line": {
          "color": "red",
          "width": 1
         },
         "lon": [
          null,
          null
         ],
         "mode": "lines",
         "name": "nan",
         "type": "scattergeo"
        },
        {
         "lat": [
          null,
          null
         ],
         "line": {
          "color": "red",
          "width": 1
         },
         "lon": [
          null,
          null
         ],
         "mode": "lines",
         "name": "nan",
         "type": "scattergeo"
        },
        {
         "lat": [
          null,
          null
         ],
         "line": {
          "color": "red",
          "width": 1
         },
         "lon": [
          null,
          null
         ],
         "mode": "lines",
         "name": "nan",
         "type": "scattergeo"
        },
        {
         "lat": [
          null,
          null
         ],
         "line": {
          "color": "red",
          "width": 1
         },
         "lon": [
          null,
          null
         ],
         "mode": "lines",
         "name": "nan",
         "type": "scattergeo"
        },
        {
         "lat": [
          null,
          null
         ],
         "line": {
          "color": "red",
          "width": 1
         },
         "lon": [
          null,
          null
         ],
         "mode": "lines",
         "name": "nan",
         "type": "scattergeo"
        },
        {
         "lat": [
          null,
          null
         ],
         "line": {
          "color": "red",
          "width": 1
         },
         "lon": [
          null,
          null
         ],
         "mode": "lines",
         "name": "nan",
         "type": "scattergeo"
        },
        {
         "lat": [
          null,
          null
         ],
         "line": {
          "color": "red",
          "width": 1
         },
         "lon": [
          null,
          null
         ],
         "mode": "lines",
         "name": "nan",
         "type": "scattergeo"
        },
        {
         "lat": [
          null,
          null
         ],
         "line": {
          "color": "red",
          "width": 1
         },
         "lon": [
          null,
          null
         ],
         "mode": "lines",
         "name": "nan",
         "type": "scattergeo"
        },
        {
         "lat": [
          null,
          null
         ],
         "line": {
          "color": "red",
          "width": 1
         },
         "lon": [
          null,
          null
         ],
         "mode": "lines",
         "name": "nan",
         "type": "scattergeo"
        },
        {
         "lat": [
          null,
          null
         ],
         "line": {
          "color": "red",
          "width": 1
         },
         "lon": [
          null,
          null
         ],
         "mode": "lines",
         "name": "nan",
         "type": "scattergeo"
        },
        {
         "lat": [
          null,
          null
         ],
         "line": {
          "color": "red",
          "width": 1
         },
         "lon": [
          null,
          null
         ],
         "mode": "lines",
         "name": "nan",
         "type": "scattergeo"
        },
        {
         "lat": [
          null,
          null
         ],
         "line": {
          "color": "red",
          "width": 1
         },
         "lon": [
          null,
          null
         ],
         "mode": "lines",
         "name": "nan",
         "type": "scattergeo"
        },
        {
         "lat": [
          null,
          null
         ],
         "line": {
          "color": "red",
          "width": 1
         },
         "lon": [
          null,
          null
         ],
         "mode": "lines",
         "name": "nan",
         "type": "scattergeo"
        },
        {
         "lat": [
          null,
          null
         ],
         "line": {
          "color": "red",
          "width": 1
         },
         "lon": [
          null,
          null
         ],
         "mode": "lines",
         "name": "nan",
         "type": "scattergeo"
        },
        {
         "lat": [
          null,
          null
         ],
         "line": {
          "color": "red",
          "width": 1
         },
         "lon": [
          null,
          null
         ],
         "mode": "lines",
         "name": "nan",
         "type": "scattergeo"
        },
        {
         "lat": [
          null,
          null
         ],
         "line": {
          "color": "red",
          "width": 1
         },
         "lon": [
          null,
          null
         ],
         "mode": "lines",
         "name": "nan",
         "type": "scattergeo"
        },
        {
         "lat": [
          null,
          null
         ],
         "line": {
          "color": "red",
          "width": 1
         },
         "lon": [
          null,
          null
         ],
         "mode": "lines",
         "name": "nan",
         "type": "scattergeo"
        },
        {
         "lat": [
          null,
          null
         ],
         "line": {
          "color": "red",
          "width": 1
         },
         "lon": [
          null,
          null
         ],
         "mode": "lines",
         "name": "nan",
         "type": "scattergeo"
        },
        {
         "lat": [
          null,
          null
         ],
         "line": {
          "color": "red",
          "width": 1
         },
         "lon": [
          null,
          null
         ],
         "mode": "lines",
         "name": "nan",
         "type": "scattergeo"
        },
        {
         "lat": [
          null,
          null
         ],
         "line": {
          "color": "red",
          "width": 1
         },
         "lon": [
          null,
          null
         ],
         "mode": "lines",
         "name": "nan",
         "type": "scattergeo"
        },
        {
         "lat": [
          null,
          null
         ],
         "line": {
          "color": "red",
          "width": 1
         },
         "lon": [
          null,
          null
         ],
         "mode": "lines",
         "name": "nan",
         "type": "scattergeo"
        },
        {
         "lat": [
          null,
          null
         ],
         "line": {
          "color": "red",
          "width": 1
         },
         "lon": [
          null,
          null
         ],
         "mode": "lines",
         "name": "nan",
         "type": "scattergeo"
        },
        {
         "lat": [
          null,
          null
         ],
         "line": {
          "color": "red",
          "width": 1
         },
         "lon": [
          null,
          null
         ],
         "mode": "lines",
         "name": "nan",
         "type": "scattergeo"
        },
        {
         "lat": [
          null,
          null
         ],
         "line": {
          "color": "red",
          "width": 1
         },
         "lon": [
          null,
          null
         ],
         "mode": "lines",
         "name": "nan",
         "type": "scattergeo"
        },
        {
         "lat": [
          null,
          null
         ],
         "line": {
          "color": "red",
          "width": 1
         },
         "lon": [
          null,
          null
         ],
         "mode": "lines",
         "name": "nan",
         "type": "scattergeo"
        },
        {
         "lat": [
          null,
          null
         ],
         "line": {
          "color": "red",
          "width": 1
         },
         "lon": [
          null,
          null
         ],
         "mode": "lines",
         "name": "nan",
         "type": "scattergeo"
        },
        {
         "lat": [
          null,
          null
         ],
         "line": {
          "color": "red",
          "width": 1
         },
         "lon": [
          null,
          null
         ],
         "mode": "lines",
         "name": "nan",
         "type": "scattergeo"
        },
        {
         "lat": [
          null,
          null
         ],
         "line": {
          "color": "red",
          "width": 1
         },
         "lon": [
          null,
          null
         ],
         "mode": "lines",
         "name": "nan",
         "type": "scattergeo"
        },
        {
         "lat": [
          null,
          null
         ],
         "line": {
          "color": "red",
          "width": 1
         },
         "lon": [
          null,
          null
         ],
         "mode": "lines",
         "name": "nan",
         "type": "scattergeo"
        },
        {
         "lat": [
          null,
          null
         ],
         "line": {
          "color": "red",
          "width": 1
         },
         "lon": [
          null,
          null
         ],
         "mode": "lines",
         "name": "nan",
         "type": "scattergeo"
        },
        {
         "lat": [
          null,
          null
         ],
         "line": {
          "color": "red",
          "width": 1
         },
         "lon": [
          null,
          null
         ],
         "mode": "lines",
         "name": "nan",
         "type": "scattergeo"
        },
        {
         "lat": [
          null,
          null
         ],
         "line": {
          "color": "red",
          "width": 1
         },
         "lon": [
          null,
          null
         ],
         "mode": "lines",
         "name": "nan",
         "type": "scattergeo"
        },
        {
         "lat": [
          null,
          null
         ],
         "line": {
          "color": "red",
          "width": 1
         },
         "lon": [
          null,
          null
         ],
         "mode": "lines",
         "name": "nan",
         "type": "scattergeo"
        },
        {
         "lat": [
          null,
          null
         ],
         "line": {
          "color": "red",
          "width": 1
         },
         "lon": [
          null,
          null
         ],
         "mode": "lines",
         "name": "nan",
         "type": "scattergeo"
        },
        {
         "lat": [
          null,
          null
         ],
         "line": {
          "color": "red",
          "width": 1
         },
         "lon": [
          null,
          null
         ],
         "mode": "lines",
         "name": "nan",
         "type": "scattergeo"
        },
        {
         "lat": [
          null,
          null
         ],
         "line": {
          "color": "red",
          "width": 1
         },
         "lon": [
          null,
          null
         ],
         "mode": "lines",
         "name": "nan",
         "type": "scattergeo"
        },
        {
         "lat": [
          null,
          null
         ],
         "line": {
          "color": "red",
          "width": 1
         },
         "lon": [
          null,
          null
         ],
         "mode": "lines",
         "name": "nan",
         "type": "scattergeo"
        },
        {
         "lat": [
          null,
          null
         ],
         "line": {
          "color": "red",
          "width": 1
         },
         "lon": [
          null,
          null
         ],
         "mode": "lines",
         "name": "nan",
         "type": "scattergeo"
        },
        {
         "lat": [
          null,
          null
         ],
         "line": {
          "color": "red",
          "width": 1
         },
         "lon": [
          null,
          null
         ],
         "mode": "lines",
         "name": "nan",
         "type": "scattergeo"
        },
        {
         "lat": [
          null,
          null
         ],
         "line": {
          "color": "red",
          "width": 1
         },
         "lon": [
          null,
          null
         ],
         "mode": "lines",
         "name": "nan",
         "type": "scattergeo"
        },
        {
         "lat": [
          null,
          null
         ],
         "line": {
          "color": "red",
          "width": 1
         },
         "lon": [
          null,
          null
         ],
         "mode": "lines",
         "name": "nan",
         "type": "scattergeo"
        },
        {
         "lat": [
          null,
          null
         ],
         "line": {
          "color": "red",
          "width": 1
         },
         "lon": [
          null,
          null
         ],
         "mode": "lines",
         "name": "nan",
         "type": "scattergeo"
        },
        {
         "lat": [
          null,
          null
         ],
         "line": {
          "color": "red",
          "width": 1
         },
         "lon": [
          null,
          null
         ],
         "mode": "lines",
         "name": "nan",
         "type": "scattergeo"
        },
        {
         "lat": [
          null,
          null
         ],
         "line": {
          "color": "red",
          "width": 1
         },
         "lon": [
          null,
          null
         ],
         "mode": "lines",
         "name": "nan",
         "type": "scattergeo"
        },
        {
         "lat": [
          null,
          null
         ],
         "line": {
          "color": "red",
          "width": 1
         },
         "lon": [
          null,
          null
         ],
         "mode": "lines",
         "name": "nan",
         "type": "scattergeo"
        },
        {
         "lat": [
          null,
          null
         ],
         "line": {
          "color": "red",
          "width": 1
         },
         "lon": [
          null,
          null
         ],
         "mode": "lines",
         "name": "nan",
         "type": "scattergeo"
        },
        {
         "lat": [
          null,
          null
         ],
         "line": {
          "color": "red",
          "width": 1
         },
         "lon": [
          null,
          null
         ],
         "mode": "lines",
         "name": "nan",
         "type": "scattergeo"
        },
        {
         "lat": [
          null,
          null
         ],
         "line": {
          "color": "red",
          "width": 1
         },
         "lon": [
          null,
          null
         ],
         "mode": "lines",
         "name": "nan",
         "type": "scattergeo"
        },
        {
         "lat": [
          null,
          null
         ],
         "line": {
          "color": "red",
          "width": 1
         },
         "lon": [
          null,
          null
         ],
         "mode": "lines",
         "name": "nan",
         "type": "scattergeo"
        },
        {
         "lat": [
          null,
          null
         ],
         "line": {
          "color": "red",
          "width": 1
         },
         "lon": [
          null,
          null
         ],
         "mode": "lines",
         "name": "nan",
         "type": "scattergeo"
        },
        {
         "lat": [
          null,
          null
         ],
         "line": {
          "color": "red",
          "width": 1
         },
         "lon": [
          null,
          null
         ],
         "mode": "lines",
         "name": "nan",
         "type": "scattergeo"
        },
        {
         "lat": [
          null,
          null
         ],
         "line": {
          "color": "red",
          "width": 1
         },
         "lon": [
          null,
          null
         ],
         "mode": "lines",
         "name": "nan",
         "type": "scattergeo"
        },
        {
         "lat": [
          null,
          null
         ],
         "line": {
          "color": "red",
          "width": 1
         },
         "lon": [
          null,
          null
         ],
         "mode": "lines",
         "name": "nan",
         "type": "scattergeo"
        },
        {
         "lat": [
          null,
          null
         ],
         "line": {
          "color": "red",
          "width": 1
         },
         "lon": [
          null,
          null
         ],
         "mode": "lines",
         "name": "nan",
         "type": "scattergeo"
        },
        {
         "lat": [
          null,
          null
         ],
         "line": {
          "color": "red",
          "width": 1
         },
         "lon": [
          null,
          null
         ],
         "mode": "lines",
         "name": "nan",
         "type": "scattergeo"
        },
        {
         "lat": [
          null,
          null
         ],
         "line": {
          "color": "red",
          "width": 1
         },
         "lon": [
          null,
          null
         ],
         "mode": "lines",
         "name": "nan",
         "type": "scattergeo"
        },
        {
         "lat": [
          null,
          null
         ],
         "line": {
          "color": "red",
          "width": 1
         },
         "lon": [
          null,
          null
         ],
         "mode": "lines",
         "name": "nan",
         "type": "scattergeo"
        },
        {
         "lat": [
          null,
          null
         ],
         "line": {
          "color": "red",
          "width": 1
         },
         "lon": [
          null,
          null
         ],
         "mode": "lines",
         "name": "nan",
         "type": "scattergeo"
        },
        {
         "lat": [
          null,
          null
         ],
         "line": {
          "color": "red",
          "width": 1
         },
         "lon": [
          null,
          null
         ],
         "mode": "lines",
         "name": "nan",
         "type": "scattergeo"
        },
        {
         "lat": [
          null,
          null
         ],
         "line": {
          "color": "red",
          "width": 1
         },
         "lon": [
          null,
          null
         ],
         "mode": "lines",
         "name": "nan",
         "type": "scattergeo"
        },
        {
         "lat": [
          null,
          null
         ],
         "line": {
          "color": "red",
          "width": 1
         },
         "lon": [
          null,
          null
         ],
         "mode": "lines",
         "name": "nan",
         "type": "scattergeo"
        },
        {
         "lat": [
          null,
          null
         ],
         "line": {
          "color": "red",
          "width": 1
         },
         "lon": [
          null,
          null
         ],
         "mode": "lines",
         "name": "nan",
         "type": "scattergeo"
        },
        {
         "lat": [
          null,
          null
         ],
         "line": {
          "color": "red",
          "width": 1
         },
         "lon": [
          null,
          null
         ],
         "mode": "lines",
         "name": "nan",
         "type": "scattergeo"
        },
        {
         "lat": [
          null,
          null
         ],
         "line": {
          "color": "red",
          "width": 1
         },
         "lon": [
          null,
          null
         ],
         "mode": "lines",
         "name": "nan",
         "type": "scattergeo"
        },
        {
         "lat": [
          null,
          null
         ],
         "line": {
          "color": "red",
          "width": 1
         },
         "lon": [
          null,
          null
         ],
         "mode": "lines",
         "name": "nan",
         "type": "scattergeo"
        },
        {
         "lat": [
          null,
          null
         ],
         "line": {
          "color": "red",
          "width": 1
         },
         "lon": [
          null,
          null
         ],
         "mode": "lines",
         "name": "nan",
         "type": "scattergeo"
        },
        {
         "lat": [
          null,
          null
         ],
         "line": {
          "color": "red",
          "width": 1
         },
         "lon": [
          null,
          null
         ],
         "mode": "lines",
         "name": "nan",
         "type": "scattergeo"
        },
        {
         "lat": [
          null,
          null
         ],
         "line": {
          "color": "red",
          "width": 1
         },
         "lon": [
          null,
          null
         ],
         "mode": "lines",
         "name": "nan",
         "type": "scattergeo"
        },
        {
         "lat": [
          null,
          null
         ],
         "line": {
          "color": "red",
          "width": 1
         },
         "lon": [
          null,
          null
         ],
         "mode": "lines",
         "name": "nan",
         "type": "scattergeo"
        },
        {
         "lat": [
          null,
          null
         ],
         "line": {
          "color": "red",
          "width": 1
         },
         "lon": [
          null,
          null
         ],
         "mode": "lines",
         "name": "nan",
         "type": "scattergeo"
        },
        {
         "lat": [
          null,
          null
         ],
         "line": {
          "color": "red",
          "width": 1
         },
         "lon": [
          null,
          null
         ],
         "mode": "lines",
         "name": "nan",
         "type": "scattergeo"
        },
        {
         "lat": [
          null,
          null
         ],
         "line": {
          "color": "red",
          "width": 1
         },
         "lon": [
          null,
          null
         ],
         "mode": "lines",
         "name": "nan",
         "type": "scattergeo"
        },
        {
         "lat": [
          null,
          null
         ],
         "line": {
          "color": "red",
          "width": 1
         },
         "lon": [
          null,
          null
         ],
         "mode": "lines",
         "name": "nan",
         "type": "scattergeo"
        },
        {
         "lat": [
          null,
          null
         ],
         "line": {
          "color": "red",
          "width": 1
         },
         "lon": [
          null,
          null
         ],
         "mode": "lines",
         "name": "nan",
         "type": "scattergeo"
        },
        {
         "lat": [
          null,
          null
         ],
         "line": {
          "color": "red",
          "width": 1
         },
         "lon": [
          null,
          null
         ],
         "mode": "lines",
         "name": "nan",
         "type": "scattergeo"
        },
        {
         "lat": [
          null,
          null
         ],
         "line": {
          "color": "red",
          "width": 1
         },
         "lon": [
          null,
          null
         ],
         "mode": "lines",
         "name": "nan",
         "type": "scattergeo"
        },
        {
         "lat": [
          null,
          null
         ],
         "line": {
          "color": "red",
          "width": 1
         },
         "lon": [
          null,
          null
         ],
         "mode": "lines",
         "name": "nan",
         "type": "scattergeo"
        },
        {
         "lat": [
          null,
          null
         ],
         "line": {
          "color": "red",
          "width": 1
         },
         "lon": [
          null,
          null
         ],
         "mode": "lines",
         "name": "nan",
         "type": "scattergeo"
        },
        {
         "lat": [
          null,
          null
         ],
         "line": {
          "color": "red",
          "width": 1
         },
         "lon": [
          null,
          null
         ],
         "mode": "lines",
         "name": "nan",
         "type": "scattergeo"
        },
        {
         "lat": [
          null,
          null
         ],
         "line": {
          "color": "red",
          "width": 1
         },
         "lon": [
          null,
          null
         ],
         "mode": "lines",
         "name": "nan",
         "type": "scattergeo"
        },
        {
         "lat": [
          null,
          null
         ],
         "line": {
          "color": "red",
          "width": 1
         },
         "lon": [
          null,
          null
         ],
         "mode": "lines",
         "name": "nan",
         "type": "scattergeo"
        },
        {
         "lat": [
          null,
          null
         ],
         "line": {
          "color": "red",
          "width": 1
         },
         "lon": [
          null,
          null
         ],
         "mode": "lines",
         "name": "nan",
         "type": "scattergeo"
        },
        {
         "lat": [
          null,
          null
         ],
         "line": {
          "color": "red",
          "width": 1
         },
         "lon": [
          null,
          null
         ],
         "mode": "lines",
         "name": "nan",
         "type": "scattergeo"
        },
        {
         "lat": [
          null,
          null
         ],
         "line": {
          "color": "red",
          "width": 1
         },
         "lon": [
          null,
          null
         ],
         "mode": "lines",
         "name": "nan",
         "type": "scattergeo"
        },
        {
         "lat": [
          null,
          null
         ],
         "line": {
          "color": "red",
          "width": 1
         },
         "lon": [
          null,
          null
         ],
         "mode": "lines",
         "name": "nan",
         "type": "scattergeo"
        },
        {
         "lat": [
          null,
          null
         ],
         "line": {
          "color": "red",
          "width": 1
         },
         "lon": [
          null,
          null
         ],
         "mode": "lines",
         "name": "nan",
         "type": "scattergeo"
        },
        {
         "lat": [
          null,
          null
         ],
         "line": {
          "color": "red",
          "width": 1
         },
         "lon": [
          null,
          null
         ],
         "mode": "lines",
         "name": "nan",
         "type": "scattergeo"
        },
        {
         "lat": [
          null,
          null
         ],
         "line": {
          "color": "red",
          "width": 1
         },
         "lon": [
          null,
          null
         ],
         "mode": "lines",
         "name": "nan",
         "type": "scattergeo"
        },
        {
         "lat": [
          null,
          null
         ],
         "line": {
          "color": "red",
          "width": 1
         },
         "lon": [
          null,
          null
         ],
         "mode": "lines",
         "name": "nan",
         "type": "scattergeo"
        },
        {
         "lat": [
          null,
          null
         ],
         "line": {
          "color": "red",
          "width": 1
         },
         "lon": [
          null,
          null
         ],
         "mode": "lines",
         "name": "nan",
         "type": "scattergeo"
        },
        {
         "lat": [
          null,
          null
         ],
         "line": {
          "color": "red",
          "width": 1
         },
         "lon": [
          null,
          null
         ],
         "mode": "lines",
         "name": "nan",
         "type": "scattergeo"
        },
        {
         "lat": [
          null,
          null
         ],
         "line": {
          "color": "red",
          "width": 1
         },
         "lon": [
          null,
          null
         ],
         "mode": "lines",
         "name": "nan",
         "type": "scattergeo"
        },
        {
         "lat": [
          null,
          null
         ],
         "line": {
          "color": "red",
          "width": 1
         },
         "lon": [
          null,
          null
         ],
         "mode": "lines",
         "name": "nan",
         "type": "scattergeo"
        },
        {
         "lat": [
          null,
          null
         ],
         "line": {
          "color": "red",
          "width": 1
         },
         "lon": [
          null,
          null
         ],
         "mode": "lines",
         "name": "nan",
         "type": "scattergeo"
        },
        {
         "lat": [
          null,
          null
         ],
         "line": {
          "color": "red",
          "width": 1
         },
         "lon": [
          null,
          null
         ],
         "mode": "lines",
         "name": "nan",
         "type": "scattergeo"
        },
        {
         "lat": [
          null,
          null
         ],
         "line": {
          "color": "red",
          "width": 1
         },
         "lon": [
          null,
          null
         ],
         "mode": "lines",
         "name": "nan",
         "type": "scattergeo"
        },
        {
         "lat": [
          null,
          null
         ],
         "line": {
          "color": "red",
          "width": 1
         },
         "lon": [
          null,
          null
         ],
         "mode": "lines",
         "name": "nan",
         "type": "scattergeo"
        },
        {
         "lat": [
          null,
          null
         ],
         "line": {
          "color": "red",
          "width": 1
         },
         "lon": [
          null,
          null
         ],
         "mode": "lines",
         "name": "nan",
         "type": "scattergeo"
        },
        {
         "lat": [
          null,
          null
         ],
         "line": {
          "color": "red",
          "width": 1
         },
         "lon": [
          null,
          null
         ],
         "mode": "lines",
         "name": "nan",
         "type": "scattergeo"
        },
        {
         "lat": [
          null,
          null
         ],
         "line": {
          "color": "red",
          "width": 1
         },
         "lon": [
          null,
          null
         ],
         "mode": "lines",
         "name": "nan",
         "type": "scattergeo"
        },
        {
         "lat": [
          null,
          null
         ],
         "line": {
          "color": "red",
          "width": 1
         },
         "lon": [
          null,
          null
         ],
         "mode": "lines",
         "name": "nan",
         "type": "scattergeo"
        },
        {
         "lat": [
          null,
          null
         ],
         "line": {
          "color": "red",
          "width": 1
         },
         "lon": [
          null,
          null
         ],
         "mode": "lines",
         "name": "nan",
         "type": "scattergeo"
        },
        {
         "lat": [
          null,
          null
         ],
         "line": {
          "color": "red",
          "width": 1
         },
         "lon": [
          null,
          null
         ],
         "mode": "lines",
         "name": "nan",
         "type": "scattergeo"
        },
        {
         "lat": [
          null,
          null
         ],
         "line": {
          "color": "red",
          "width": 1
         },
         "lon": [
          null,
          null
         ],
         "mode": "lines",
         "name": "nan",
         "type": "scattergeo"
        },
        {
         "lat": [
          null,
          null
         ],
         "line": {
          "color": "red",
          "width": 1
         },
         "lon": [
          null,
          null
         ],
         "mode": "lines",
         "name": "nan",
         "type": "scattergeo"
        },
        {
         "lat": [
          null,
          null
         ],
         "line": {
          "color": "red",
          "width": 1
         },
         "lon": [
          null,
          null
         ],
         "mode": "lines",
         "name": "nan",
         "type": "scattergeo"
        },
        {
         "lat": [
          null,
          null
         ],
         "line": {
          "color": "red",
          "width": 1
         },
         "lon": [
          null,
          null
         ],
         "mode": "lines",
         "name": "nan",
         "type": "scattergeo"
        },
        {
         "lat": [
          null,
          null
         ],
         "line": {
          "color": "red",
          "width": 1
         },
         "lon": [
          null,
          null
         ],
         "mode": "lines",
         "name": "nan",
         "type": "scattergeo"
        },
        {
         "lat": [
          null,
          null
         ],
         "line": {
          "color": "red",
          "width": 1
         },
         "lon": [
          null,
          null
         ],
         "mode": "lines",
         "name": "nan",
         "type": "scattergeo"
        },
        {
         "lat": [
          null,
          null
         ],
         "line": {
          "color": "red",
          "width": 1
         },
         "lon": [
          null,
          null
         ],
         "mode": "lines",
         "name": "nan",
         "type": "scattergeo"
        },
        {
         "lat": [
          null,
          null
         ],
         "line": {
          "color": "red",
          "width": 1
         },
         "lon": [
          null,
          null
         ],
         "mode": "lines",
         "name": "nan",
         "type": "scattergeo"
        },
        {
         "lat": [
          null,
          null
         ],
         "line": {
          "color": "red",
          "width": 1
         },
         "lon": [
          null,
          null
         ],
         "mode": "lines",
         "name": "nan",
         "type": "scattergeo"
        },
        {
         "lat": [
          null,
          null
         ],
         "line": {
          "color": "red",
          "width": 1
         },
         "lon": [
          null,
          null
         ],
         "mode": "lines",
         "name": "nan",
         "type": "scattergeo"
        },
        {
         "lat": [
          null,
          null
         ],
         "line": {
          "color": "red",
          "width": 1
         },
         "lon": [
          null,
          null
         ],
         "mode": "lines",
         "name": "nan",
         "type": "scattergeo"
        },
        {
         "lat": [
          null,
          null
         ],
         "line": {
          "color": "red",
          "width": 1
         },
         "lon": [
          null,
          null
         ],
         "mode": "lines",
         "name": "nan",
         "type": "scattergeo"
        },
        {
         "lat": [
          null,
          null
         ],
         "line": {
          "color": "red",
          "width": 1
         },
         "lon": [
          null,
          null
         ],
         "mode": "lines",
         "name": "nan",
         "type": "scattergeo"
        },
        {
         "lat": [
          null,
          null
         ],
         "line": {
          "color": "red",
          "width": 1
         },
         "lon": [
          null,
          null
         ],
         "mode": "lines",
         "name": "nan",
         "type": "scattergeo"
        },
        {
         "lat": [
          null,
          null
         ],
         "line": {
          "color": "red",
          "width": 1
         },
         "lon": [
          null,
          null
         ],
         "mode": "lines",
         "name": "nan",
         "type": "scattergeo"
        },
        {
         "lat": [
          null,
          null
         ],
         "line": {
          "color": "red",
          "width": 1
         },
         "lon": [
          null,
          null
         ],
         "mode": "lines",
         "name": "nan",
         "type": "scattergeo"
        },
        {
         "lat": [
          null,
          null
         ],
         "line": {
          "color": "red",
          "width": 1
         },
         "lon": [
          null,
          null
         ],
         "mode": "lines",
         "name": "nan",
         "type": "scattergeo"
        },
        {
         "lat": [
          null,
          null
         ],
         "line": {
          "color": "red",
          "width": 1
         },
         "lon": [
          null,
          null
         ],
         "mode": "lines",
         "name": "nan",
         "type": "scattergeo"
        },
        {
         "lat": [
          null,
          null
         ],
         "line": {
          "color": "red",
          "width": 1
         },
         "lon": [
          null,
          null
         ],
         "mode": "lines",
         "name": "nan",
         "type": "scattergeo"
        },
        {
         "lat": [
          null,
          null
         ],
         "line": {
          "color": "red",
          "width": 1
         },
         "lon": [
          null,
          null
         ],
         "mode": "lines",
         "name": "nan",
         "type": "scattergeo"
        },
        {
         "lat": [
          null,
          null
         ],
         "line": {
          "color": "red",
          "width": 1
         },
         "lon": [
          null,
          null
         ],
         "mode": "lines",
         "name": "nan",
         "type": "scattergeo"
        },
        {
         "lat": [
          null,
          null
         ],
         "line": {
          "color": "red",
          "width": 1
         },
         "lon": [
          null,
          null
         ],
         "mode": "lines",
         "name": "nan",
         "type": "scattergeo"
        },
        {
         "lat": [
          null,
          null
         ],
         "line": {
          "color": "red",
          "width": 1
         },
         "lon": [
          null,
          null
         ],
         "mode": "lines",
         "name": "nan",
         "type": "scattergeo"
        },
        {
         "lat": [
          null,
          null
         ],
         "line": {
          "color": "red",
          "width": 1
         },
         "lon": [
          null,
          null
         ],
         "mode": "lines",
         "name": "nan",
         "type": "scattergeo"
        },
        {
         "lat": [
          null,
          null
         ],
         "line": {
          "color": "red",
          "width": 1
         },
         "lon": [
          null,
          null
         ],
         "mode": "lines",
         "name": "nan",
         "type": "scattergeo"
        },
        {
         "lat": [
          null,
          null
         ],
         "line": {
          "color": "red",
          "width": 1
         },
         "lon": [
          null,
          null
         ],
         "mode": "lines",
         "name": "nan",
         "type": "scattergeo"
        },
        {
         "lat": [
          null,
          null
         ],
         "line": {
          "color": "red",
          "width": 1
         },
         "lon": [
          null,
          null
         ],
         "mode": "lines",
         "name": "nan",
         "type": "scattergeo"
        },
        {
         "lat": [
          null,
          null
         ],
         "line": {
          "color": "red",
          "width": 1
         },
         "lon": [
          null,
          null
         ],
         "mode": "lines",
         "name": "nan",
         "type": "scattergeo"
        },
        {
         "lat": [
          null,
          null
         ],
         "line": {
          "color": "red",
          "width": 1
         },
         "lon": [
          null,
          null
         ],
         "mode": "lines",
         "name": "nan",
         "type": "scattergeo"
        },
        {
         "lat": [
          null,
          null
         ],
         "line": {
          "color": "red",
          "width": 1
         },
         "lon": [
          null,
          null
         ],
         "mode": "lines",
         "name": "nan",
         "type": "scattergeo"
        },
        {
         "lat": [
          null,
          null
         ],
         "line": {
          "color": "red",
          "width": 1
         },
         "lon": [
          null,
          null
         ],
         "mode": "lines",
         "name": "nan",
         "type": "scattergeo"
        },
        {
         "lat": [
          null,
          null
         ],
         "line": {
          "color": "red",
          "width": 1
         },
         "lon": [
          null,
          null
         ],
         "mode": "lines",
         "name": "nan",
         "type": "scattergeo"
        },
        {
         "lat": [
          null,
          null
         ],
         "line": {
          "color": "red",
          "width": 1
         },
         "lon": [
          null,
          null
         ],
         "mode": "lines",
         "name": "nan",
         "type": "scattergeo"
        },
        {
         "lat": [
          null,
          null
         ],
         "line": {
          "color": "red",
          "width": 1
         },
         "lon": [
          null,
          null
         ],
         "mode": "lines",
         "name": "nan",
         "type": "scattergeo"
        },
        {
         "lat": [
          null,
          null
         ],
         "line": {
          "color": "red",
          "width": 1
         },
         "lon": [
          null,
          null
         ],
         "mode": "lines",
         "name": "nan",
         "type": "scattergeo"
        },
        {
         "lat": [
          null,
          null
         ],
         "line": {
          "color": "red",
          "width": 1
         },
         "lon": [
          null,
          null
         ],
         "mode": "lines",
         "name": "nan",
         "type": "scattergeo"
        },
        {
         "lat": [
          null,
          null
         ],
         "line": {
          "color": "red",
          "width": 1
         },
         "lon": [
          null,
          null
         ],
         "mode": "lines",
         "name": "nan",
         "type": "scattergeo"
        },
        {
         "lat": [
          null,
          null
         ],
         "line": {
          "color": "red",
          "width": 1
         },
         "lon": [
          null,
          null
         ],
         "mode": "lines",
         "name": "nan",
         "type": "scattergeo"
        },
        {
         "lat": [
          null,
          null
         ],
         "line": {
          "color": "red",
          "width": 1
         },
         "lon": [
          null,
          null
         ],
         "mode": "lines",
         "name": "nan",
         "type": "scattergeo"
        },
        {
         "lat": [
          null,
          null
         ],
         "line": {
          "color": "red",
          "width": 1
         },
         "lon": [
          null,
          null
         ],
         "mode": "lines",
         "name": "nan",
         "type": "scattergeo"
        },
        {
         "lat": [
          null,
          null
         ],
         "line": {
          "color": "red",
          "width": 1
         },
         "lon": [
          null,
          null
         ],
         "mode": "lines",
         "name": "nan",
         "type": "scattergeo"
        },
        {
         "lat": [
          null,
          null
         ],
         "line": {
          "color": "red",
          "width": 1
         },
         "lon": [
          null,
          null
         ],
         "mode": "lines",
         "name": "nan",
         "type": "scattergeo"
        },
        {
         "lat": [
          null,
          null
         ],
         "line": {
          "color": "red",
          "width": 1
         },
         "lon": [
          null,
          null
         ],
         "mode": "lines",
         "name": "nan",
         "type": "scattergeo"
        },
        {
         "lat": [
          null,
          null
         ],
         "line": {
          "color": "red",
          "width": 1
         },
         "lon": [
          null,
          null
         ],
         "mode": "lines",
         "name": "nan",
         "type": "scattergeo"
        },
        {
         "lat": [
          null,
          null
         ],
         "line": {
          "color": "red",
          "width": 1
         },
         "lon": [
          null,
          null
         ],
         "mode": "lines",
         "name": "nan",
         "type": "scattergeo"
        },
        {
         "lat": [
          null,
          null
         ],
         "line": {
          "color": "red",
          "width": 1
         },
         "lon": [
          null,
          null
         ],
         "mode": "lines",
         "name": "nan",
         "type": "scattergeo"
        },
        {
         "lat": [
          null,
          null
         ],
         "line": {
          "color": "red",
          "width": 1
         },
         "lon": [
          null,
          null
         ],
         "mode": "lines",
         "name": "nan",
         "type": "scattergeo"
        },
        {
         "lat": [
          null,
          null
         ],
         "line": {
          "color": "red",
          "width": 1
         },
         "lon": [
          null,
          null
         ],
         "mode": "lines",
         "name": "nan",
         "type": "scattergeo"
        },
        {
         "lat": [
          null,
          null
         ],
         "line": {
          "color": "red",
          "width": 1
         },
         "lon": [
          null,
          null
         ],
         "mode": "lines",
         "name": "nan",
         "type": "scattergeo"
        },
        {
         "lat": [
          null,
          null
         ],
         "line": {
          "color": "red",
          "width": 1
         },
         "lon": [
          null,
          null
         ],
         "mode": "lines",
         "name": "nan",
         "type": "scattergeo"
        },
        {
         "lat": [
          null,
          null
         ],
         "line": {
          "color": "red",
          "width": 1
         },
         "lon": [
          null,
          null
         ],
         "mode": "lines",
         "name": "nan",
         "type": "scattergeo"
        },
        {
         "lat": [
          null,
          null
         ],
         "line": {
          "color": "red",
          "width": 1
         },
         "lon": [
          null,
          null
         ],
         "mode": "lines",
         "name": "nan",
         "type": "scattergeo"
        },
        {
         "lat": [
          null,
          null
         ],
         "line": {
          "color": "red",
          "width": 1
         },
         "lon": [
          null,
          null
         ],
         "mode": "lines",
         "name": "nan",
         "type": "scattergeo"
        },
        {
         "lat": [
          null,
          null
         ],
         "line": {
          "color": "red",
          "width": 1
         },
         "lon": [
          null,
          null
         ],
         "mode": "lines",
         "name": "nan",
         "type": "scattergeo"
        },
        {
         "lat": [
          null,
          null
         ],
         "line": {
          "color": "red",
          "width": 1
         },
         "lon": [
          null,
          null
         ],
         "mode": "lines",
         "name": "nan",
         "type": "scattergeo"
        },
        {
         "lat": [
          null,
          null
         ],
         "line": {
          "color": "red",
          "width": 1
         },
         "lon": [
          null,
          null
         ],
         "mode": "lines",
         "name": "nan",
         "type": "scattergeo"
        },
        {
         "lat": [
          null,
          null
         ],
         "line": {
          "color": "red",
          "width": 1
         },
         "lon": [
          null,
          null
         ],
         "mode": "lines",
         "name": "nan",
         "type": "scattergeo"
        },
        {
         "lat": [
          null,
          null
         ],
         "line": {
          "color": "red",
          "width": 1
         },
         "lon": [
          null,
          null
         ],
         "mode": "lines",
         "name": "nan",
         "type": "scattergeo"
        },
        {
         "lat": [
          null,
          null
         ],
         "line": {
          "color": "red",
          "width": 1
         },
         "lon": [
          null,
          null
         ],
         "mode": "lines",
         "name": "nan",
         "type": "scattergeo"
        },
        {
         "lat": [
          null,
          null
         ],
         "line": {
          "color": "red",
          "width": 1
         },
         "lon": [
          null,
          null
         ],
         "mode": "lines",
         "name": "nan",
         "type": "scattergeo"
        },
        {
         "lat": [
          null,
          null
         ],
         "line": {
          "color": "red",
          "width": 1
         },
         "lon": [
          null,
          null
         ],
         "mode": "lines",
         "name": "nan",
         "type": "scattergeo"
        },
        {
         "lat": [
          null,
          null
         ],
         "line": {
          "color": "red",
          "width": 1
         },
         "lon": [
          null,
          null
         ],
         "mode": "lines",
         "name": "nan",
         "type": "scattergeo"
        },
        {
         "lat": [
          null,
          null
         ],
         "line": {
          "color": "red",
          "width": 1
         },
         "lon": [
          null,
          null
         ],
         "mode": "lines",
         "name": "nan",
         "type": "scattergeo"
        },
        {
         "lat": [
          null,
          null
         ],
         "line": {
          "color": "red",
          "width": 1
         },
         "lon": [
          null,
          null
         ],
         "mode": "lines",
         "name": "nan",
         "type": "scattergeo"
        },
        {
         "lat": [
          null,
          null
         ],
         "line": {
          "color": "red",
          "width": 1
         },
         "lon": [
          null,
          null
         ],
         "mode": "lines",
         "name": "nan",
         "type": "scattergeo"
        },
        {
         "lat": [
          null,
          null
         ],
         "line": {
          "color": "red",
          "width": 1
         },
         "lon": [
          null,
          null
         ],
         "mode": "lines",
         "name": "nan",
         "type": "scattergeo"
        },
        {
         "lat": [
          null,
          null
         ],
         "line": {
          "color": "red",
          "width": 1
         },
         "lon": [
          null,
          null
         ],
         "mode": "lines",
         "name": "nan",
         "type": "scattergeo"
        },
        {
         "lat": [
          null,
          null
         ],
         "line": {
          "color": "red",
          "width": 1
         },
         "lon": [
          null,
          null
         ],
         "mode": "lines",
         "name": "nan",
         "type": "scattergeo"
        },
        {
         "lat": [
          null,
          null
         ],
         "line": {
          "color": "red",
          "width": 1
         },
         "lon": [
          null,
          null
         ],
         "mode": "lines",
         "name": "nan",
         "type": "scattergeo"
        },
        {
         "lat": [
          null,
          null
         ],
         "line": {
          "color": "red",
          "width": 1
         },
         "lon": [
          null,
          null
         ],
         "mode": "lines",
         "name": "nan",
         "type": "scattergeo"
        },
        {
         "lat": [
          null,
          null
         ],
         "line": {
          "color": "red",
          "width": 1
         },
         "lon": [
          null,
          null
         ],
         "mode": "lines",
         "name": "nan",
         "type": "scattergeo"
        },
        {
         "lat": [
          null,
          null
         ],
         "line": {
          "color": "red",
          "width": 1
         },
         "lon": [
          null,
          null
         ],
         "mode": "lines",
         "name": "nan",
         "type": "scattergeo"
        },
        {
         "lat": [
          null,
          null
         ],
         "line": {
          "color": "red",
          "width": 1
         },
         "lon": [
          null,
          null
         ],
         "mode": "lines",
         "name": "nan",
         "type": "scattergeo"
        },
        {
         "lat": [
          null,
          null
         ],
         "line": {
          "color": "red",
          "width": 1
         },
         "lon": [
          null,
          null
         ],
         "mode": "lines",
         "name": "nan",
         "type": "scattergeo"
        },
        {
         "lat": [
          null,
          null
         ],
         "line": {
          "color": "red",
          "width": 1
         },
         "lon": [
          null,
          null
         ],
         "mode": "lines",
         "name": "nan",
         "type": "scattergeo"
        },
        {
         "lat": [
          null,
          null
         ],
         "line": {
          "color": "red",
          "width": 1
         },
         "lon": [
          null,
          null
         ],
         "mode": "lines",
         "name": "nan",
         "type": "scattergeo"
        },
        {
         "lat": [
          null,
          null
         ],
         "line": {
          "color": "red",
          "width": 1
         },
         "lon": [
          null,
          null
         ],
         "mode": "lines",
         "name": "nan",
         "type": "scattergeo"
        },
        {
         "lat": [
          null,
          null
         ],
         "line": {
          "color": "red",
          "width": 1
         },
         "lon": [
          null,
          null
         ],
         "mode": "lines",
         "name": "nan",
         "type": "scattergeo"
        },
        {
         "lat": [
          null,
          null
         ],
         "line": {
          "color": "red",
          "width": 1
         },
         "lon": [
          null,
          null
         ],
         "mode": "lines",
         "name": "nan",
         "type": "scattergeo"
        },
        {
         "lat": [
          null,
          null
         ],
         "line": {
          "color": "red",
          "width": 1
         },
         "lon": [
          null,
          null
         ],
         "mode": "lines",
         "name": "nan",
         "type": "scattergeo"
        },
        {
         "lat": [
          null,
          null
         ],
         "line": {
          "color": "red",
          "width": 1
         },
         "lon": [
          null,
          null
         ],
         "mode": "lines",
         "name": "nan",
         "type": "scattergeo"
        },
        {
         "lat": [
          null,
          null
         ],
         "line": {
          "color": "red",
          "width": 1
         },
         "lon": [
          null,
          null
         ],
         "mode": "lines",
         "name": "nan",
         "type": "scattergeo"
        },
        {
         "lat": [
          null,
          null
         ],
         "line": {
          "color": "red",
          "width": 1
         },
         "lon": [
          null,
          null
         ],
         "mode": "lines",
         "name": "nan",
         "type": "scattergeo"
        },
        {
         "lat": [
          null,
          null
         ],
         "line": {
          "color": "red",
          "width": 1
         },
         "lon": [
          null,
          null
         ],
         "mode": "lines",
         "name": "nan",
         "type": "scattergeo"
        },
        {
         "lat": [
          null,
          null
         ],
         "line": {
          "color": "red",
          "width": 1
         },
         "lon": [
          null,
          null
         ],
         "mode": "lines",
         "name": "nan",
         "type": "scattergeo"
        },
        {
         "lat": [
          null,
          null
         ],
         "line": {
          "color": "red",
          "width": 1
         },
         "lon": [
          null,
          null
         ],
         "mode": "lines",
         "name": "nan",
         "type": "scattergeo"
        },
        {
         "lat": [
          null,
          null
         ],
         "line": {
          "color": "red",
          "width": 1
         },
         "lon": [
          null,
          null
         ],
         "mode": "lines",
         "name": "nan",
         "type": "scattergeo"
        },
        {
         "lat": [
          null,
          null
         ],
         "line": {
          "color": "red",
          "width": 1
         },
         "lon": [
          null,
          null
         ],
         "mode": "lines",
         "name": "nan",
         "type": "scattergeo"
        },
        {
         "lat": [
          null,
          null
         ],
         "line": {
          "color": "red",
          "width": 1
         },
         "lon": [
          null,
          null
         ],
         "mode": "lines",
         "name": "nan",
         "type": "scattergeo"
        },
        {
         "lat": [
          null,
          null
         ],
         "line": {
          "color": "red",
          "width": 1
         },
         "lon": [
          null,
          null
         ],
         "mode": "lines",
         "name": "nan",
         "type": "scattergeo"
        },
        {
         "lat": [
          null,
          null
         ],
         "line": {
          "color": "red",
          "width": 1
         },
         "lon": [
          null,
          null
         ],
         "mode": "lines",
         "name": "nan",
         "type": "scattergeo"
        },
        {
         "lat": [
          null,
          null
         ],
         "line": {
          "color": "red",
          "width": 1
         },
         "lon": [
          null,
          null
         ],
         "mode": "lines",
         "name": "nan",
         "type": "scattergeo"
        },
        {
         "lat": [
          null,
          null
         ],
         "line": {
          "color": "red",
          "width": 1
         },
         "lon": [
          null,
          null
         ],
         "mode": "lines",
         "name": "nan",
         "type": "scattergeo"
        },
        {
         "lat": [
          null,
          null
         ],
         "line": {
          "color": "red",
          "width": 1
         },
         "lon": [
          null,
          null
         ],
         "mode": "lines",
         "name": "nan",
         "type": "scattergeo"
        },
        {
         "lat": [
          null,
          null
         ],
         "line": {
          "color": "red",
          "width": 1
         },
         "lon": [
          null,
          null
         ],
         "mode": "lines",
         "name": "nan",
         "type": "scattergeo"
        },
        {
         "lat": [
          null,
          null
         ],
         "line": {
          "color": "red",
          "width": 1
         },
         "lon": [
          null,
          null
         ],
         "mode": "lines",
         "name": "nan",
         "type": "scattergeo"
        },
        {
         "lat": [
          null,
          null
         ],
         "line": {
          "color": "red",
          "width": 1
         },
         "lon": [
          null,
          null
         ],
         "mode": "lines",
         "name": "nan",
         "type": "scattergeo"
        },
        {
         "lat": [
          null,
          null
         ],
         "line": {
          "color": "red",
          "width": 1
         },
         "lon": [
          null,
          null
         ],
         "mode": "lines",
         "name": "nan",
         "type": "scattergeo"
        },
        {
         "lat": [
          null,
          null
         ],
         "line": {
          "color": "red",
          "width": 1
         },
         "lon": [
          null,
          null
         ],
         "mode": "lines",
         "name": "nan",
         "type": "scattergeo"
        },
        {
         "lat": [
          null,
          null
         ],
         "line": {
          "color": "red",
          "width": 1
         },
         "lon": [
          null,
          null
         ],
         "mode": "lines",
         "name": "nan",
         "type": "scattergeo"
        },
        {
         "lat": [
          null,
          null
         ],
         "line": {
          "color": "red",
          "width": 1
         },
         "lon": [
          null,
          null
         ],
         "mode": "lines",
         "name": "nan",
         "type": "scattergeo"
        },
        {
         "lat": [
          null,
          null
         ],
         "line": {
          "color": "red",
          "width": 1
         },
         "lon": [
          null,
          null
         ],
         "mode": "lines",
         "name": "nan",
         "type": "scattergeo"
        },
        {
         "lat": [
          null,
          null
         ],
         "line": {
          "color": "red",
          "width": 1
         },
         "lon": [
          null,
          null
         ],
         "mode": "lines",
         "name": "nan",
         "type": "scattergeo"
        },
        {
         "lat": [
          null,
          null
         ],
         "line": {
          "color": "red",
          "width": 1
         },
         "lon": [
          null,
          null
         ],
         "mode": "lines",
         "name": "nan",
         "type": "scattergeo"
        },
        {
         "lat": [
          null,
          null
         ],
         "line": {
          "color": "red",
          "width": 1
         },
         "lon": [
          null,
          null
         ],
         "mode": "lines",
         "name": "nan",
         "type": "scattergeo"
        },
        {
         "lat": [
          null,
          null
         ],
         "line": {
          "color": "red",
          "width": 1
         },
         "lon": [
          null,
          null
         ],
         "mode": "lines",
         "name": "nan",
         "type": "scattergeo"
        },
        {
         "lat": [
          null,
          null
         ],
         "line": {
          "color": "red",
          "width": 1
         },
         "lon": [
          null,
          null
         ],
         "mode": "lines",
         "name": "nan",
         "type": "scattergeo"
        },
        {
         "lat": [
          null,
          null
         ],
         "line": {
          "color": "red",
          "width": 1
         },
         "lon": [
          null,
          null
         ],
         "mode": "lines",
         "name": "nan",
         "type": "scattergeo"
        },
        {
         "lat": [
          null,
          null
         ],
         "line": {
          "color": "red",
          "width": 1
         },
         "lon": [
          null,
          null
         ],
         "mode": "lines",
         "name": "nan",
         "type": "scattergeo"
        },
        {
         "lat": [
          null,
          null
         ],
         "line": {
          "color": "red",
          "width": 1
         },
         "lon": [
          null,
          null
         ],
         "mode": "lines",
         "name": "nan",
         "type": "scattergeo"
        },
        {
         "lat": [
          null,
          null
         ],
         "line": {
          "color": "red",
          "width": 1
         },
         "lon": [
          null,
          null
         ],
         "mode": "lines",
         "name": "nan",
         "type": "scattergeo"
        },
        {
         "lat": [
          null,
          null
         ],
         "line": {
          "color": "red",
          "width": 1
         },
         "lon": [
          null,
          null
         ],
         "mode": "lines",
         "name": "nan",
         "type": "scattergeo"
        },
        {
         "lat": [
          null,
          null
         ],
         "line": {
          "color": "red",
          "width": 1
         },
         "lon": [
          null,
          null
         ],
         "mode": "lines",
         "name": "nan",
         "type": "scattergeo"
        },
        {
         "lat": [
          null,
          null
         ],
         "line": {
          "color": "red",
          "width": 1
         },
         "lon": [
          null,
          null
         ],
         "mode": "lines",
         "name": "nan",
         "type": "scattergeo"
        },
        {
         "lat": [
          null,
          null
         ],
         "line": {
          "color": "red",
          "width": 1
         },
         "lon": [
          null,
          null
         ],
         "mode": "lines",
         "name": "nan",
         "type": "scattergeo"
        },
        {
         "lat": [
          null,
          null
         ],
         "line": {
          "color": "red",
          "width": 1
         },
         "lon": [
          null,
          null
         ],
         "mode": "lines",
         "name": "nan",
         "type": "scattergeo"
        },
        {
         "lat": [
          null,
          null
         ],
         "line": {
          "color": "red",
          "width": 1
         },
         "lon": [
          null,
          null
         ],
         "mode": "lines",
         "name": "nan",
         "type": "scattergeo"
        },
        {
         "lat": [
          null,
          null
         ],
         "line": {
          "color": "red",
          "width": 1
         },
         "lon": [
          null,
          null
         ],
         "mode": "lines",
         "name": "nan",
         "type": "scattergeo"
        },
        {
         "lat": [
          null,
          null
         ],
         "line": {
          "color": "red",
          "width": 1
         },
         "lon": [
          null,
          null
         ],
         "mode": "lines",
         "name": "nan",
         "type": "scattergeo"
        },
        {
         "lat": [
          null,
          null
         ],
         "line": {
          "color": "red",
          "width": 1
         },
         "lon": [
          null,
          null
         ],
         "mode": "lines",
         "name": "nan",
         "type": "scattergeo"
        },
        {
         "lat": [
          null,
          null
         ],
         "line": {
          "color": "red",
          "width": 1
         },
         "lon": [
          null,
          null
         ],
         "mode": "lines",
         "name": "nan",
         "type": "scattergeo"
        },
        {
         "lat": [
          null,
          null
         ],
         "line": {
          "color": "red",
          "width": 1
         },
         "lon": [
          null,
          null
         ],
         "mode": "lines",
         "name": "nan",
         "type": "scattergeo"
        },
        {
         "lat": [
          null,
          null
         ],
         "line": {
          "color": "red",
          "width": 1
         },
         "lon": [
          null,
          null
         ],
         "mode": "lines",
         "name": "nan",
         "type": "scattergeo"
        },
        {
         "lat": [
          null,
          null
         ],
         "line": {
          "color": "red",
          "width": 1
         },
         "lon": [
          null,
          null
         ],
         "mode": "lines",
         "name": "nan",
         "type": "scattergeo"
        },
        {
         "lat": [
          null,
          null
         ],
         "line": {
          "color": "red",
          "width": 1
         },
         "lon": [
          null,
          null
         ],
         "mode": "lines",
         "name": "nan",
         "type": "scattergeo"
        },
        {
         "lat": [
          null,
          null
         ],
         "line": {
          "color": "red",
          "width": 1
         },
         "lon": [
          null,
          null
         ],
         "mode": "lines",
         "name": "nan",
         "type": "scattergeo"
        },
        {
         "lat": [
          null,
          null
         ],
         "line": {
          "color": "red",
          "width": 1
         },
         "lon": [
          null,
          null
         ],
         "mode": "lines",
         "name": "nan",
         "type": "scattergeo"
        },
        {
         "lat": [
          null,
          null
         ],
         "line": {
          "color": "red",
          "width": 1
         },
         "lon": [
          null,
          null
         ],
         "mode": "lines",
         "name": "nan",
         "type": "scattergeo"
        },
        {
         "lat": [
          null,
          null
         ],
         "line": {
          "color": "red",
          "width": 1
         },
         "lon": [
          null,
          null
         ],
         "mode": "lines",
         "name": "nan",
         "type": "scattergeo"
        },
        {
         "lat": [
          null,
          null
         ],
         "line": {
          "color": "red",
          "width": 1
         },
         "lon": [
          null,
          null
         ],
         "mode": "lines",
         "name": "nan",
         "type": "scattergeo"
        },
        {
         "lat": [
          null,
          null
         ],
         "line": {
          "color": "red",
          "width": 1
         },
         "lon": [
          null,
          null
         ],
         "mode": "lines",
         "name": "nan",
         "type": "scattergeo"
        },
        {
         "lat": [
          null,
          null
         ],
         "line": {
          "color": "red",
          "width": 1
         },
         "lon": [
          null,
          null
         ],
         "mode": "lines",
         "name": "nan",
         "type": "scattergeo"
        },
        {
         "lat": [
          null,
          null
         ],
         "line": {
          "color": "red",
          "width": 1
         },
         "lon": [
          null,
          null
         ],
         "mode": "lines",
         "name": "nan",
         "type": "scattergeo"
        },
        {
         "lat": [
          null,
          null
         ],
         "line": {
          "color": "red",
          "width": 1
         },
         "lon": [
          null,
          null
         ],
         "mode": "lines",
         "name": "nan",
         "type": "scattergeo"
        },
        {
         "lat": [
          null,
          null
         ],
         "line": {
          "color": "red",
          "width": 1
         },
         "lon": [
          null,
          null
         ],
         "mode": "lines",
         "name": "nan",
         "type": "scattergeo"
        },
        {
         "lat": [
          null,
          null
         ],
         "line": {
          "color": "red",
          "width": 1
         },
         "lon": [
          null,
          null
         ],
         "mode": "lines",
         "name": "nan",
         "type": "scattergeo"
        },
        {
         "lat": [
          null,
          null
         ],
         "line": {
          "color": "red",
          "width": 1
         },
         "lon": [
          null,
          null
         ],
         "mode": "lines",
         "name": "nan",
         "type": "scattergeo"
        },
        {
         "lat": [
          null,
          null
         ],
         "line": {
          "color": "red",
          "width": 1
         },
         "lon": [
          null,
          null
         ],
         "mode": "lines",
         "name": "nan",
         "type": "scattergeo"
        },
        {
         "lat": [
          null,
          null
         ],
         "line": {
          "color": "red",
          "width": 1
         },
         "lon": [
          null,
          null
         ],
         "mode": "lines",
         "name": "nan",
         "type": "scattergeo"
        },
        {
         "lat": [
          null,
          null
         ],
         "line": {
          "color": "red",
          "width": 1
         },
         "lon": [
          null,
          null
         ],
         "mode": "lines",
         "name": "nan",
         "type": "scattergeo"
        },
        {
         "lat": [
          null,
          null
         ],
         "line": {
          "color": "red",
          "width": 1
         },
         "lon": [
          null,
          null
         ],
         "mode": "lines",
         "name": "nan",
         "type": "scattergeo"
        },
        {
         "lat": [
          null,
          null
         ],
         "line": {
          "color": "red",
          "width": 1
         },
         "lon": [
          null,
          null
         ],
         "mode": "lines",
         "name": "nan",
         "type": "scattergeo"
        },
        {
         "lat": [
          null,
          null
         ],
         "line": {
          "color": "red",
          "width": 1
         },
         "lon": [
          null,
          null
         ],
         "mode": "lines",
         "name": "nan",
         "type": "scattergeo"
        },
        {
         "lat": [
          null,
          null
         ],
         "line": {
          "color": "red",
          "width": 1
         },
         "lon": [
          null,
          null
         ],
         "mode": "lines",
         "name": "nan",
         "type": "scattergeo"
        },
        {
         "lat": [
          null,
          null
         ],
         "line": {
          "color": "red",
          "width": 1
         },
         "lon": [
          null,
          null
         ],
         "mode": "lines",
         "name": "nan",
         "type": "scattergeo"
        },
        {
         "lat": [
          null,
          null
         ],
         "line": {
          "color": "red",
          "width": 1
         },
         "lon": [
          null,
          null
         ],
         "mode": "lines",
         "name": "nan",
         "type": "scattergeo"
        },
        {
         "lat": [
          null,
          null
         ],
         "line": {
          "color": "red",
          "width": 1
         },
         "lon": [
          null,
          null
         ],
         "mode": "lines",
         "name": "nan",
         "type": "scattergeo"
        },
        {
         "lat": [
          null,
          null
         ],
         "line": {
          "color": "red",
          "width": 1
         },
         "lon": [
          null,
          null
         ],
         "mode": "lines",
         "name": "nan",
         "type": "scattergeo"
        }
       ],
       "layout": {
        "geo": {
         "projection": {
          "type": "orthographic"
         }
        },
        "template": {
         "data": {
          "bar": [
           {
            "error_x": {
             "color": "#2a3f5f"
            },
            "error_y": {
             "color": "#2a3f5f"
            },
            "marker": {
             "line": {
              "color": "#E5ECF6",
              "width": 0.5
             },
             "pattern": {
              "fillmode": "overlay",
              "size": 10,
              "solidity": 0.2
             }
            },
            "type": "bar"
           }
          ],
          "barpolar": [
           {
            "marker": {
             "line": {
              "color": "#E5ECF6",
              "width": 0.5
             },
             "pattern": {
              "fillmode": "overlay",
              "size": 10,
              "solidity": 0.2
             }
            },
            "type": "barpolar"
           }
          ],
          "carpet": [
           {
            "aaxis": {
             "endlinecolor": "#2a3f5f",
             "gridcolor": "white",
             "linecolor": "white",
             "minorgridcolor": "white",
             "startlinecolor": "#2a3f5f"
            },
            "baxis": {
             "endlinecolor": "#2a3f5f",
             "gridcolor": "white",
             "linecolor": "white",
             "minorgridcolor": "white",
             "startlinecolor": "#2a3f5f"
            },
            "type": "carpet"
           }
          ],
          "choropleth": [
           {
            "colorbar": {
             "outlinewidth": 0,
             "ticks": ""
            },
            "type": "choropleth"
           }
          ],
          "contour": [
           {
            "colorbar": {
             "outlinewidth": 0,
             "ticks": ""
            },
            "colorscale": [
             [
              0,
              "#0d0887"
             ],
             [
              0.1111111111111111,
              "#46039f"
             ],
             [
              0.2222222222222222,
              "#7201a8"
             ],
             [
              0.3333333333333333,
              "#9c179e"
             ],
             [
              0.4444444444444444,
              "#bd3786"
             ],
             [
              0.5555555555555556,
              "#d8576b"
             ],
             [
              0.6666666666666666,
              "#ed7953"
             ],
             [
              0.7777777777777778,
              "#fb9f3a"
             ],
             [
              0.8888888888888888,
              "#fdca26"
             ],
             [
              1,
              "#f0f921"
             ]
            ],
            "type": "contour"
           }
          ],
          "contourcarpet": [
           {
            "colorbar": {
             "outlinewidth": 0,
             "ticks": ""
            },
            "type": "contourcarpet"
           }
          ],
          "heatmap": [
           {
            "colorbar": {
             "outlinewidth": 0,
             "ticks": ""
            },
            "colorscale": [
             [
              0,
              "#0d0887"
             ],
             [
              0.1111111111111111,
              "#46039f"
             ],
             [
              0.2222222222222222,
              "#7201a8"
             ],
             [
              0.3333333333333333,
              "#9c179e"
             ],
             [
              0.4444444444444444,
              "#bd3786"
             ],
             [
              0.5555555555555556,
              "#d8576b"
             ],
             [
              0.6666666666666666,
              "#ed7953"
             ],
             [
              0.7777777777777778,
              "#fb9f3a"
             ],
             [
              0.8888888888888888,
              "#fdca26"
             ],
             [
              1,
              "#f0f921"
             ]
            ],
            "type": "heatmap"
           }
          ],
          "heatmapgl": [
           {
            "colorbar": {
             "outlinewidth": 0,
             "ticks": ""
            },
            "colorscale": [
             [
              0,
              "#0d0887"
             ],
             [
              0.1111111111111111,
              "#46039f"
             ],
             [
              0.2222222222222222,
              "#7201a8"
             ],
             [
              0.3333333333333333,
              "#9c179e"
             ],
             [
              0.4444444444444444,
              "#bd3786"
             ],
             [
              0.5555555555555556,
              "#d8576b"
             ],
             [
              0.6666666666666666,
              "#ed7953"
             ],
             [
              0.7777777777777778,
              "#fb9f3a"
             ],
             [
              0.8888888888888888,
              "#fdca26"
             ],
             [
              1,
              "#f0f921"
             ]
            ],
            "type": "heatmapgl"
           }
          ],
          "histogram": [
           {
            "marker": {
             "pattern": {
              "fillmode": "overlay",
              "size": 10,
              "solidity": 0.2
             }
            },
            "type": "histogram"
           }
          ],
          "histogram2d": [
           {
            "colorbar": {
             "outlinewidth": 0,
             "ticks": ""
            },
            "colorscale": [
             [
              0,
              "#0d0887"
             ],
             [
              0.1111111111111111,
              "#46039f"
             ],
             [
              0.2222222222222222,
              "#7201a8"
             ],
             [
              0.3333333333333333,
              "#9c179e"
             ],
             [
              0.4444444444444444,
              "#bd3786"
             ],
             [
              0.5555555555555556,
              "#d8576b"
             ],
             [
              0.6666666666666666,
              "#ed7953"
             ],
             [
              0.7777777777777778,
              "#fb9f3a"
             ],
             [
              0.8888888888888888,
              "#fdca26"
             ],
             [
              1,
              "#f0f921"
             ]
            ],
            "type": "histogram2d"
           }
          ],
          "histogram2dcontour": [
           {
            "colorbar": {
             "outlinewidth": 0,
             "ticks": ""
            },
            "colorscale": [
             [
              0,
              "#0d0887"
             ],
             [
              0.1111111111111111,
              "#46039f"
             ],
             [
              0.2222222222222222,
              "#7201a8"
             ],
             [
              0.3333333333333333,
              "#9c179e"
             ],
             [
              0.4444444444444444,
              "#bd3786"
             ],
             [
              0.5555555555555556,
              "#d8576b"
             ],
             [
              0.6666666666666666,
              "#ed7953"
             ],
             [
              0.7777777777777778,
              "#fb9f3a"
             ],
             [
              0.8888888888888888,
              "#fdca26"
             ],
             [
              1,
              "#f0f921"
             ]
            ],
            "type": "histogram2dcontour"
           }
          ],
          "mesh3d": [
           {
            "colorbar": {
             "outlinewidth": 0,
             "ticks": ""
            },
            "type": "mesh3d"
           }
          ],
          "parcoords": [
           {
            "line": {
             "colorbar": {
              "outlinewidth": 0,
              "ticks": ""
             }
            },
            "type": "parcoords"
           }
          ],
          "pie": [
           {
            "automargin": true,
            "type": "pie"
           }
          ],
          "scatter": [
           {
            "fillpattern": {
             "fillmode": "overlay",
             "size": 10,
             "solidity": 0.2
            },
            "type": "scatter"
           }
          ],
          "scatter3d": [
           {
            "line": {
             "colorbar": {
              "outlinewidth": 0,
              "ticks": ""
             }
            },
            "marker": {
             "colorbar": {
              "outlinewidth": 0,
              "ticks": ""
             }
            },
            "type": "scatter3d"
           }
          ],
          "scattercarpet": [
           {
            "marker": {
             "colorbar": {
              "outlinewidth": 0,
              "ticks": ""
             }
            },
            "type": "scattercarpet"
           }
          ],
          "scattergeo": [
           {
            "marker": {
             "colorbar": {
              "outlinewidth": 0,
              "ticks": ""
             }
            },
            "type": "scattergeo"
           }
          ],
          "scattergl": [
           {
            "marker": {
             "colorbar": {
              "outlinewidth": 0,
              "ticks": ""
             }
            },
            "type": "scattergl"
           }
          ],
          "scattermapbox": [
           {
            "marker": {
             "colorbar": {
              "outlinewidth": 0,
              "ticks": ""
             }
            },
            "type": "scattermapbox"
           }
          ],
          "scatterpolar": [
           {
            "marker": {
             "colorbar": {
              "outlinewidth": 0,
              "ticks": ""
             }
            },
            "type": "scatterpolar"
           }
          ],
          "scatterpolargl": [
           {
            "marker": {
             "colorbar": {
              "outlinewidth": 0,
              "ticks": ""
             }
            },
            "type": "scatterpolargl"
           }
          ],
          "scatterternary": [
           {
            "marker": {
             "colorbar": {
              "outlinewidth": 0,
              "ticks": ""
             }
            },
            "type": "scatterternary"
           }
          ],
          "surface": [
           {
            "colorbar": {
             "outlinewidth": 0,
             "ticks": ""
            },
            "colorscale": [
             [
              0,
              "#0d0887"
             ],
             [
              0.1111111111111111,
              "#46039f"
             ],
             [
              0.2222222222222222,
              "#7201a8"
             ],
             [
              0.3333333333333333,
              "#9c179e"
             ],
             [
              0.4444444444444444,
              "#bd3786"
             ],
             [
              0.5555555555555556,
              "#d8576b"
             ],
             [
              0.6666666666666666,
              "#ed7953"
             ],
             [
              0.7777777777777778,
              "#fb9f3a"
             ],
             [
              0.8888888888888888,
              "#fdca26"
             ],
             [
              1,
              "#f0f921"
             ]
            ],
            "type": "surface"
           }
          ],
          "table": [
           {
            "cells": {
             "fill": {
              "color": "#EBF0F8"
             },
             "line": {
              "color": "white"
             }
            },
            "header": {
             "fill": {
              "color": "#C8D4E3"
             },
             "line": {
              "color": "white"
             }
            },
            "type": "table"
           }
          ]
         },
         "layout": {
          "annotationdefaults": {
           "arrowcolor": "#2a3f5f",
           "arrowhead": 0,
           "arrowwidth": 1
          },
          "autotypenumbers": "strict",
          "coloraxis": {
           "colorbar": {
            "outlinewidth": 0,
            "ticks": ""
           }
          },
          "colorscale": {
           "diverging": [
            [
             0,
             "#8e0152"
            ],
            [
             0.1,
             "#c51b7d"
            ],
            [
             0.2,
             "#de77ae"
            ],
            [
             0.3,
             "#f1b6da"
            ],
            [
             0.4,
             "#fde0ef"
            ],
            [
             0.5,
             "#f7f7f7"
            ],
            [
             0.6,
             "#e6f5d0"
            ],
            [
             0.7,
             "#b8e186"
            ],
            [
             0.8,
             "#7fbc41"
            ],
            [
             0.9,
             "#4d9221"
            ],
            [
             1,
             "#276419"
            ]
           ],
           "sequential": [
            [
             0,
             "#0d0887"
            ],
            [
             0.1111111111111111,
             "#46039f"
            ],
            [
             0.2222222222222222,
             "#7201a8"
            ],
            [
             0.3333333333333333,
             "#9c179e"
            ],
            [
             0.4444444444444444,
             "#bd3786"
            ],
            [
             0.5555555555555556,
             "#d8576b"
            ],
            [
             0.6666666666666666,
             "#ed7953"
            ],
            [
             0.7777777777777778,
             "#fb9f3a"
            ],
            [
             0.8888888888888888,
             "#fdca26"
            ],
            [
             1,
             "#f0f921"
            ]
           ],
           "sequentialminus": [
            [
             0,
             "#0d0887"
            ],
            [
             0.1111111111111111,
             "#46039f"
            ],
            [
             0.2222222222222222,
             "#7201a8"
            ],
            [
             0.3333333333333333,
             "#9c179e"
            ],
            [
             0.4444444444444444,
             "#bd3786"
            ],
            [
             0.5555555555555556,
             "#d8576b"
            ],
            [
             0.6666666666666666,
             "#ed7953"
            ],
            [
             0.7777777777777778,
             "#fb9f3a"
            ],
            [
             0.8888888888888888,
             "#fdca26"
            ],
            [
             1,
             "#f0f921"
            ]
           ]
          },
          "colorway": [
           "#636efa",
           "#EF553B",
           "#00cc96",
           "#ab63fa",
           "#FFA15A",
           "#19d3f3",
           "#FF6692",
           "#B6E880",
           "#FF97FF",
           "#FECB52"
          ],
          "font": {
           "color": "#2a3f5f"
          },
          "geo": {
           "bgcolor": "white",
           "lakecolor": "white",
           "landcolor": "#E5ECF6",
           "showlakes": true,
           "showland": true,
           "subunitcolor": "white"
          },
          "hoverlabel": {
           "align": "left"
          },
          "hovermode": "closest",
          "mapbox": {
           "style": "light"
          },
          "paper_bgcolor": "white",
          "plot_bgcolor": "#E5ECF6",
          "polar": {
           "angularaxis": {
            "gridcolor": "white",
            "linecolor": "white",
            "ticks": ""
           },
           "bgcolor": "#E5ECF6",
           "radialaxis": {
            "gridcolor": "white",
            "linecolor": "white",
            "ticks": ""
           }
          },
          "scene": {
           "xaxis": {
            "backgroundcolor": "#E5ECF6",
            "gridcolor": "white",
            "gridwidth": 2,
            "linecolor": "white",
            "showbackground": true,
            "ticks": "",
            "zerolinecolor": "white"
           },
           "yaxis": {
            "backgroundcolor": "#E5ECF6",
            "gridcolor": "white",
            "gridwidth": 2,
            "linecolor": "white",
            "showbackground": true,
            "ticks": "",
            "zerolinecolor": "white"
           },
           "zaxis": {
            "backgroundcolor": "#E5ECF6",
            "gridcolor": "white",
            "gridwidth": 2,
            "linecolor": "white",
            "showbackground": true,
            "ticks": "",
            "zerolinecolor": "white"
           }
          },
          "shapedefaults": {
           "line": {
            "color": "#2a3f5f"
           }
          },
          "ternary": {
           "aaxis": {
            "gridcolor": "white",
            "linecolor": "white",
            "ticks": ""
           },
           "baxis": {
            "gridcolor": "white",
            "linecolor": "white",
            "ticks": ""
           },
           "bgcolor": "#E5ECF6",
           "caxis": {
            "gridcolor": "white",
            "linecolor": "white",
            "ticks": ""
           }
          },
          "title": {
           "x": 0.05
          },
          "xaxis": {
           "automargin": true,
           "gridcolor": "white",
           "linecolor": "white",
           "ticks": "",
           "title": {
            "standoff": 15
           },
           "zerolinecolor": "white",
           "zerolinewidth": 2
          },
          "yaxis": {
           "automargin": true,
           "gridcolor": "white",
           "linecolor": "white",
           "ticks": "",
           "title": {
            "standoff": 15
           },
           "zerolinecolor": "white",
           "zerolinewidth": 2
          }
         }
        }
       }
      },
      "text/html": [
       "<div>                            <div id=\"66c16387-3152-40c6-b28c-60345593af34\" class=\"plotly-graph-div\" style=\"height:525px; width:100%;\"></div>            <script type=\"text/javascript\">                require([\"plotly\"], function(Plotly) {                    window.PLOTLYENV=window.PLOTLYENV || {};                                    if (document.getElementById(\"66c16387-3152-40c6-b28c-60345593af34\")) {                    Plotly.newPlot(                        \"66c16387-3152-40c6-b28c-60345593af34\",                        [{\"type\":\"scattergeo\"},{\"lat\":[51.4775,33.942536],\"line\":{\"color\":\"red\",\"width\":1},\"lon\":[-0.461389,-118.408075],\"mode\":\"lines\",\"name\":\"1/8/2000\",\"type\":\"scattergeo\"},{\"lat\":[37.618972,51.4775],\"line\":{\"color\":\"red\",\"width\":1},\"lon\":[-122.374889,-0.461389],\"mode\":\"lines\",\"name\":\"15/8/2000\",\"type\":\"scattergeo\"},{\"lat\":[51.4775,42.364347],\"line\":{\"color\":\"red\",\"width\":1},\"lon\":[-0.461389,-71.005181],\"mode\":\"lines\",\"name\":\"1/8/2002\",\"type\":\"scattergeo\"},{\"lat\":[42.364347,51.4775],\"line\":{\"color\":\"red\",\"width\":1},\"lon\":[-71.005181,-0.461389],\"mode\":\"lines\",\"name\":\"12/8/2002\",\"type\":\"scattergeo\"},{\"lat\":[51.4775,33.942536],\"line\":{\"color\":\"red\",\"width\":1},\"lon\":[-0.461389,-118.408075],\"mode\":\"lines\",\"name\":\"1/8/2004\",\"type\":\"scattergeo\"},{\"lat\":[33.942536,51.4775],\"line\":{\"color\":\"red\",\"width\":1},\"lon\":[-118.408075,-0.461389],\"mode\":\"lines\",\"name\":\"15/8/2004\",\"type\":\"scattergeo\"},{\"lat\":[51.4775,41.978603],\"line\":{\"color\":\"red\",\"width\":1},\"lon\":[-0.461389,-87.904842],\"mode\":\"lines\",\"name\":\"22/10/2004\",\"type\":\"scattergeo\"},{\"lat\":[41.978603,51.4775],\"line\":{\"color\":\"red\",\"width\":1},\"lon\":[-87.904842,-0.461389],\"mode\":\"lines\",\"name\":\"29/10/2004\",\"type\":\"scattergeo\"},{\"lat\":[51.874722,46.238064],\"line\":{\"color\":\"red\",\"width\":1},\"lon\":[-0.368333,6.10895],\"mode\":\"lines\",\"name\":\"1/4/2007\",\"type\":\"scattergeo\"},{\"lat\":[46.238064,51.874722],\"line\":{\"color\":\"red\",\"width\":1},\"lon\":[6.10895,-0.368333],\"mode\":\"lines\",\"name\":\"8/4/2007\",\"type\":\"scattergeo\"},{\"lat\":[51.874722,35.421408],\"line\":{\"color\":\"red\",\"width\":1},\"lon\":[-0.368333,27.146008],\"mode\":\"lines\",\"name\":\"1/8/2008\",\"type\":\"scattergeo\"},{\"lat\":[35.421408,51.874722],\"line\":{\"color\":\"red\",\"width\":1},\"lon\":[27.146008,-0.368333],\"mode\":\"lines\",\"name\":\"15/8/2008\",\"type\":\"scattergeo\"},{\"lat\":[51.4775,19.088686],\"line\":{\"color\":\"red\",\"width\":1},\"lon\":[-0.461389,72.867919],\"mode\":\"lines\",\"name\":\"16/8/2008\",\"type\":\"scattergeo\"},{\"lat\":[19.088686,13.681108],\"line\":{\"color\":\"red\",\"width\":1},\"lon\":[72.867919,100.747283],\"mode\":\"lines\",\"name\":\"16/8/2008\",\"type\":\"scattergeo\"},{\"lat\":[13.681108,8.1132],\"line\":{\"color\":\"red\",\"width\":1},\"lon\":[100.747283,98.316872],\"mode\":\"lines\",\"name\":\"23/8/2008\",\"type\":\"scattergeo\"},{\"lat\":[8.1132,13.681108],\"line\":{\"color\":\"red\",\"width\":1},\"lon\":[98.316872,100.747283],\"mode\":\"lines\",\"name\":\"27/8/2008\",\"type\":\"scattergeo\"},{\"lat\":[13.681108,51.4775],\"line\":{\"color\":\"red\",\"width\":1},\"lon\":[100.747283,-0.461389],\"mode\":\"lines\",\"name\":\"29/8/2008\",\"type\":\"scattergeo\"},{\"lat\":[51.874722,37.750853],\"line\":{\"color\":\"red\",\"width\":1},\"lon\":[-0.368333,20.88425],\"mode\":\"lines\",\"name\":\"3/7/2010\",\"type\":\"scattergeo\"},{\"lat\":[37.750853,51.874722],\"line\":{\"color\":\"red\",\"width\":1},\"lon\":[20.88425,-0.368333],\"mode\":\"lines\",\"name\":\"10/7/2010\",\"type\":\"scattergeo\"},{\"lat\":[51.874722,38.781311],\"line\":{\"color\":\"red\",\"width\":1},\"lon\":[-0.368333,-9.135919],\"mode\":\"lines\",\"name\":\"9/4/2011\",\"type\":\"scattergeo\"},{\"lat\":[38.781311,51.874722],\"line\":{\"color\":\"red\",\"width\":1},\"lon\":[-9.135919,-0.368333],\"mode\":\"lines\",\"name\":\"16/4/2011\",\"type\":\"scattergeo\"},{\"lat\":[51.885,45.472017],\"line\":{\"color\":\"red\",\"width\":1},\"lon\":[0.235,10.927919],\"mode\":\"lines\",\"name\":\"17/4/2011\",\"type\":\"scattergeo\"},{\"lat\":[45.472017,51.885],\"line\":{\"color\":\"red\",\"width\":1},\"lon\":[10.927919,0.235],\"mode\":\"lines\",\"name\":\"23/4/2011\",\"type\":\"scattergeo\"},{\"lat\":[51.885,45.472017],\"line\":{\"color\":\"red\",\"width\":1},\"lon\":[0.235,10.927919],\"mode\":\"lines\",\"name\":\"1/4/2012\",\"type\":\"scattergeo\"},{\"lat\":[45.472017,51.885],\"line\":{\"color\":\"red\",\"width\":1},\"lon\":[10.927919,0.235],\"mode\":\"lines\",\"name\":\"7/4/2012\",\"type\":\"scattergeo\"},{\"lat\":[51.874722,38.781311],\"line\":{\"color\":\"red\",\"width\":1},\"lon\":[-0.368333,-9.135919],\"mode\":\"lines\",\"name\":\"2/7/2012\",\"type\":\"scattergeo\"},{\"lat\":[38.781311,51.874722],\"line\":{\"color\":\"red\",\"width\":1},\"lon\":[-9.135919,-0.368333],\"mode\":\"lines\",\"name\":\"8/7/2012\",\"type\":\"scattergeo\"},{\"lat\":[52.453856,47.153189],\"line\":{\"color\":\"red\",\"width\":1},\"lon\":[-1.748028,-1.610725],\"mode\":\"lines\",\"name\":\"10/7/2012\",\"type\":\"scattergeo\"},{\"lat\":[47.153189,52.453856],\"line\":{\"color\":\"red\",\"width\":1},\"lon\":[-1.610725,-1.748028],\"mode\":\"lines\",\"name\":\"15/7/2012\",\"type\":\"scattergeo\"},{\"lat\":[51.885,37.418],\"line\":{\"color\":\"red\",\"width\":1},\"lon\":[0.235,-5.893106],\"mode\":\"lines\",\"name\":\"23/9/2012\",\"type\":\"scattergeo\"},{\"lat\":[37.418,51.885],\"line\":{\"color\":\"red\",\"width\":1},\"lon\":[-5.893106,0.235],\"mode\":\"lines\",\"name\":\"30/9/2012\",\"type\":\"scattergeo\"},{\"lat\":[51.4775,40.493556],\"line\":{\"color\":\"red\",\"width\":1},\"lon\":[-0.461389,-3.566764],\"mode\":\"lines\",\"name\":\"1/7/2013\",\"type\":\"scattergeo\"},{\"lat\":[40.493556,-22.93235],\"line\":{\"color\":\"red\",\"width\":1},\"lon\":[-3.566764,-43.719092],\"mode\":\"lines\",\"name\":\"1/7/2013\",\"type\":\"scattergeo\"},{\"lat\":[-22.93235,-12.021889],\"line\":{\"color\":\"red\",\"width\":1},\"lon\":[-43.719092,-77.114319],\"mode\":\"lines\",\"name\":\"7/7/2013\",\"type\":\"scattergeo\"},{\"lat\":[-16.513339,-12.021889],\"line\":{\"color\":\"red\",\"width\":1},\"lon\":[-68.192256,-77.114319],\"mode\":\"lines\",\"name\":\"4/8/2013\",\"type\":\"scattergeo\"},{\"lat\":[-12.021889,40.493556],\"line\":{\"color\":\"red\",\"width\":1},\"lon\":[-77.114319,-3.566764],\"mode\":\"lines\",\"name\":\"4/8/2013\",\"type\":\"scattergeo\"},{\"lat\":[40.493556,51.4775],\"line\":{\"color\":\"red\",\"width\":1},\"lon\":[-3.566764,-0.461389],\"mode\":\"lines\",\"name\":\"4/8/2013\",\"type\":\"scattergeo\"},{\"lat\":[51.885,50.077731],\"line\":{\"color\":\"red\",\"width\":1},\"lon\":[0.235,19.784836],\"mode\":\"lines\",\"name\":\"15/8/2013\",\"type\":\"scattergeo\"},{\"lat\":[47.436933,51.885],\"line\":{\"color\":\"red\",\"width\":1},\"lon\":[19.255592,0.235],\"mode\":\"lines\",\"name\":\"28/8/2013\",\"type\":\"scattergeo\"},{\"lat\":[51.874722,36.405419],\"line\":{\"color\":\"red\",\"width\":1},\"lon\":[-0.368333,28.086192],\"mode\":\"lines\",\"name\":\"12/9/2013\",\"type\":\"scattergeo\"},{\"lat\":[36.405419,51.874722],\"line\":{\"color\":\"red\",\"width\":1},\"lon\":[28.086192,-0.368333],\"mode\":\"lines\",\"name\":\"19/9/2013\",\"type\":\"scattergeo\"},{\"lat\":[51.4775,40.639751],\"line\":{\"color\":\"red\",\"width\":1},\"lon\":[-0.461389,-73.778925],\"mode\":\"lines\",\"name\":\"31/7/2014\",\"type\":\"scattergeo\"},{\"lat\":[38.852083,32.898647],\"line\":{\"color\":\"red\",\"width\":1},\"lon\":[-77.037722,-80.040528],\"mode\":\"lines\",\"name\":\"14/8/2014\",\"type\":\"scattergeo\"},{\"lat\":[35.877639,33.636719],\"line\":{\"color\":\"red\",\"width\":1},\"lon\":[-78.787472,-84.428067],\"mode\":\"lines\",\"name\":\"26/8/2014\",\"type\":\"scattergeo\"},{\"lat\":[33.636719,51.4775],\"line\":{\"color\":\"red\",\"width\":1},\"lon\":[-84.428067,-0.461389],\"mode\":\"lines\",\"name\":\"26/8/2014\",\"type\":\"scattergeo\"},{\"lat\":[51.885,53.421333],\"line\":{\"color\":\"red\",\"width\":1},\"lon\":[0.235,-6.270075],\"mode\":\"lines\",\"name\":\"20/11/2014\",\"type\":\"scattergeo\"},{\"lat\":[53.421333,51.885],\"line\":{\"color\":\"red\",\"width\":1},\"lon\":[-6.270075,0.235],\"mode\":\"lines\",\"name\":\"24/11/2014\",\"type\":\"scattergeo\"},{\"lat\":[51.874722,52.380001],\"line\":{\"color\":\"red\",\"width\":1},\"lon\":[-0.368333,13.5225],\"mode\":\"lines\",\"name\":\"22/1/2015\",\"type\":\"scattergeo\"},{\"lat\":[52.380001,51.885],\"line\":{\"color\":\"red\",\"width\":1},\"lon\":[13.5225,0.235],\"mode\":\"lines\",\"name\":\"25/1/2015\",\"type\":\"scattergeo\"},{\"lat\":[51.148056,41.297078],\"line\":{\"color\":\"red\",\"width\":1},\"lon\":[-0.190278,2.078464],\"mode\":\"lines\",\"name\":\"9/5/2015\",\"type\":\"scattergeo\"},{\"lat\":[43.629075,51.874722],\"line\":{\"color\":\"red\",\"width\":1},\"lon\":[1.363819,-0.368333],\"mode\":\"lines\",\"name\":\"16/5/2015\",\"type\":\"scattergeo\"},{\"lat\":[51.874722,46.223686],\"line\":{\"color\":\"red\",\"width\":1},\"lon\":[-0.368333,14.457611],\"mode\":\"lines\",\"name\":\"12/9/2015\",\"type\":\"scattergeo\"},{\"lat\":[45.742931,44.818444],\"line\":{\"color\":\"red\",\"width\":1},\"lon\":[16.068778,20.309139],\"mode\":\"lines\",\"name\":\"19/9/2015\",\"type\":\"scattergeo\"},{\"lat\":[44.818444,51.4775],\"line\":{\"color\":\"red\",\"width\":1},\"lon\":[20.309139,-0.461389],\"mode\":\"lines\",\"name\":\"19/9/2015\",\"type\":\"scattergeo\"},{\"lat\":[51.4775,40.976922],\"line\":{\"color\":\"red\",\"width\":1},\"lon\":[-0.461389,28.814606],\"mode\":\"lines\",\"name\":\"19/11/2015\",\"type\":\"scattergeo\"},{\"lat\":[40.976922,51.148056],\"line\":{\"color\":\"red\",\"width\":1},\"lon\":[28.814606,-0.190278],\"mode\":\"lines\",\"name\":\"22/11/2015\",\"type\":\"scattergeo\"},{\"lat\":[51.4775,12.949986],\"line\":{\"color\":\"red\",\"width\":1},\"lon\":[-0.461389,77.668206],\"mode\":\"lines\",\"name\":\"9/1/2016\",\"type\":\"scattergeo\"},{\"lat\":[12.949986,28.5665],\"line\":{\"color\":\"red\",\"width\":1},\"lon\":[77.668206,77.103088],\"mode\":\"lines\",\"name\":\"30/1/2016\",\"type\":\"scattergeo\"},{\"lat\":[28.5665,51.4775],\"line\":{\"color\":\"red\",\"width\":1},\"lon\":[77.103088,-0.461389],\"mode\":\"lines\",\"name\":\"30/1/2016\",\"type\":\"scattergeo\"},{\"lat\":[52.380001,51.874722],\"line\":{\"color\":\"red\",\"width\":1},\"lon\":[13.5225,-0.368333],\"mode\":\"lines\",\"name\":\"4/3/2016\",\"type\":\"scattergeo\"},{\"lat\":[51.874722,52.380001],\"line\":{\"color\":\"red\",\"width\":1},\"lon\":[-0.368333,13.5225],\"mode\":\"lines\",\"name\":\"6/3/2016\",\"type\":\"scattergeo\"},{\"lat\":[51.148056,53.630389],\"line\":{\"color\":\"red\",\"width\":1},\"lon\":[-0.190278,9.988228],\"mode\":\"lines\",\"name\":\"17/4/2016\",\"type\":\"scattergeo\"},{\"lat\":[53.630389,51.148056],\"line\":{\"color\":\"red\",\"width\":1},\"lon\":[9.988228,-0.190278],\"mode\":\"lines\",\"name\":\"20/4/2016\",\"type\":\"scattergeo\"},{\"lat\":[51.885,37.936358],\"line\":{\"color\":\"red\",\"width\":1},\"lon\":[0.235,23.944467],\"mode\":\"lines\",\"name\":\"18/6/2016\",\"type\":\"scattergeo\"},{\"lat\":[37.936358,51.885],\"line\":{\"color\":\"red\",\"width\":1},\"lon\":[23.944467,0.235],\"mode\":\"lines\",\"name\":\"25/6/2016\",\"type\":\"scattergeo\"},{\"lat\":[51.874722,54.377569],\"line\":{\"color\":\"red\",\"width\":1},\"lon\":[-0.368333,18.466222],\"mode\":\"lines\",\"name\":\"28/6/2016\",\"type\":\"scattergeo\"},{\"lat\":[54.377569,51.874722],\"line\":{\"color\":\"red\",\"width\":1},\"lon\":[18.466222,-0.368333],\"mode\":\"lines\",\"name\":\"3/7/2016\",\"type\":\"scattergeo\"},{\"lat\":[51.4775,13.681108],\"line\":{\"color\":\"red\",\"width\":1},\"lon\":[-0.461389,100.747283],\"mode\":\"lines\",\"name\":\"21/8/2016\",\"type\":\"scattergeo\"},{\"lat\":[13.681108,13.410666],\"line\":{\"color\":\"red\",\"width\":1},\"lon\":[100.747283,103.81284],\"mode\":\"lines\",\"name\":\"15/9/2016\",\"type\":\"scattergeo\"},{\"lat\":[13.410666,13.681108],\"line\":{\"color\":\"red\",\"width\":1},\"lon\":[103.81284,100.747283],\"mode\":\"lines\",\"name\":\"18/9/2016\",\"type\":\"scattergeo\"},{\"lat\":[13.912583,8.1132],\"line\":{\"color\":\"red\",\"width\":1},\"lon\":[100.60675,98.316872],\"mode\":\"lines\",\"name\":\"18/10/2016\",\"type\":\"scattergeo\"},{\"lat\":[8.1132,13.912583],\"line\":{\"color\":\"red\",\"width\":1},\"lon\":[98.316872,100.60675],\"mode\":\"lines\",\"name\":\"22/10/2016\",\"type\":\"scattergeo\"},{\"lat\":[13.681108,51.4775],\"line\":{\"color\":\"red\",\"width\":1},\"lon\":[100.747283,-0.461389],\"mode\":\"lines\",\"name\":\"2/12/2016\",\"type\":\"scattergeo\"},{\"lat\":[51.4775,42.212444],\"line\":{\"color\":\"red\",\"width\":1},\"lon\":[-0.461389,-83.353389],\"mode\":\"lines\",\"name\":\"10/12/2016\",\"type\":\"scattergeo\"},{\"lat\":[42.212444,39.861656],\"line\":{\"color\":\"red\",\"width\":1},\"lon\":[-83.353389,-104.673178],\"mode\":\"lines\",\"name\":\"10/12/2016\",\"type\":\"scattergeo\"},{\"lat\":[39.861656,40.788389],\"line\":{\"color\":\"red\",\"width\":1},\"lon\":[-104.673178,-111.977772],\"mode\":\"lines\",\"name\":\"20/12/2016\",\"type\":\"scattergeo\"},{\"lat\":[40.788389,51.4775],\"line\":{\"color\":\"red\",\"width\":1},\"lon\":[-111.977772,-0.461389],\"mode\":\"lines\",\"name\":\"20/12/2016\",\"type\":\"scattergeo\"},{\"lat\":[51.4775,13.681108],\"line\":{\"color\":\"red\",\"width\":1},\"lon\":[-0.461389,100.747283],\"mode\":\"lines\",\"name\":\"19/2/2017\",\"type\":\"scattergeo\"},{\"lat\":[13.912583,2.745578],\"line\":{\"color\":\"red\",\"width\":1},\"lon\":[100.60675,101.709917],\"mode\":\"lines\",\"name\":\"4/3/2017\",\"type\":\"scattergeo\"},{\"lat\":[2.745578,13.912583],\"line\":{\"color\":\"red\",\"width\":1},\"lon\":[101.709917,100.60675],\"mode\":\"lines\",\"name\":\"5/3/2017\",\"type\":\"scattergeo\"},{\"lat\":[13.681108,51.4775],\"line\":{\"color\":\"red\",\"width\":1},\"lon\":[100.747283,-0.461389],\"mode\":\"lines\",\"name\":\"22/3/2017\",\"type\":\"scattergeo\"},{\"lat\":[51.885,41.799361],\"line\":{\"color\":\"red\",\"width\":1},\"lon\":[0.235,12.594936],\"mode\":\"lines\",\"name\":\"25/5/2017\",\"type\":\"scattergeo\"},{\"lat\":[41.799361,51.885],\"line\":{\"color\":\"red\",\"width\":1},\"lon\":[12.594936,0.235],\"mode\":\"lines\",\"name\":\"29/5/2017\",\"type\":\"scattergeo\"},{\"lat\":[51.148056,43.677223],\"line\":{\"color\":\"red\",\"width\":1},\"lon\":[-0.190278,-79.630556],\"mode\":\"lines\",\"name\":\"6/10/2017\",\"type\":\"scattergeo\"},{\"lat\":[43.677223,51.148056],\"line\":{\"color\":\"red\",\"width\":1},\"lon\":[-79.630556,-0.190278],\"mode\":\"lines\",\"name\":\"15/10/2017\",\"type\":\"scattergeo\"},{\"lat\":[51.148056,45.362944],\"line\":{\"color\":\"red\",\"width\":1},\"lon\":[-0.190278,5.329375],\"mode\":\"lines\",\"name\":\"17/2/2018\",\"type\":\"scattergeo\"},{\"lat\":[45.362944,51.148056],\"line\":{\"color\":\"red\",\"width\":1},\"lon\":[5.329375,-0.190278],\"mode\":\"lines\",\"name\":\"24/2/2018\",\"type\":\"scattergeo\"},{\"lat\":[51.885,50.100833],\"line\":{\"color\":\"red\",\"width\":1},\"lon\":[0.235,14.26],\"mode\":\"lines\",\"name\":\"7/6/2018\",\"type\":\"scattergeo\"},{\"lat\":[50.100833,51.885],\"line\":{\"color\":\"red\",\"width\":1},\"lon\":[14.26,0.235],\"mode\":\"lines\",\"name\":\"10/6/2018\",\"type\":\"scattergeo\"},{\"lat\":[51.148056,41.297078],\"line\":{\"color\":\"red\",\"width\":1},\"lon\":[-0.190278,2.078464],\"mode\":\"lines\",\"name\":\"24/8/2018\",\"type\":\"scattergeo\"},{\"lat\":[41.297078,51.148056],\"line\":{\"color\":\"red\",\"width\":1},\"lon\":[2.078464,-0.190278],\"mode\":\"lines\",\"name\":\"28/8/2018\",\"type\":\"scattergeo\"},{\"lat\":[51.4775,-26.139166],\"line\":{\"color\":\"red\",\"width\":1},\"lon\":[-0.461389,28.246],\"mode\":\"lines\",\"name\":\"2/9/2018\",\"type\":\"scattergeo\"},{\"lat\":[-26.139166,-22.486667],\"line\":{\"color\":\"red\",\"width\":1},\"lon\":[28.246,17.4625],\"mode\":\"lines\",\"name\":\"3/9/2018\",\"type\":\"scattergeo\"},{\"lat\":[-22.486667,-26.139166],\"line\":{\"color\":\"red\",\"width\":1},\"lon\":[17.4625,28.246],\"mode\":\"lines\",\"name\":\"15/9/2018\",\"type\":\"scattergeo\"},{\"lat\":[-26.139166,51.4775],\"line\":{\"color\":\"red\",\"width\":1},\"lon\":[28.246,-0.461389],\"mode\":\"lines\",\"name\":\"15/9/2018\",\"type\":\"scattergeo\"},{\"lat\":[51.148056,41.297078],\"line\":{\"color\":\"red\",\"width\":1},\"lon\":[-0.190278,2.078464],\"mode\":\"lines\",\"name\":\"30/11/2018\",\"type\":\"scattergeo\"},{\"lat\":[41.297078,51.148056],\"line\":{\"color\":\"red\",\"width\":1},\"lon\":[2.078464,-0.190278],\"mode\":\"lines\",\"name\":\"2/12/2018\",\"type\":\"scattergeo\"},{\"lat\":[51.148056,55.617917],\"line\":{\"color\":\"red\",\"width\":1},\"lon\":[-0.190278,12.655972],\"mode\":\"lines\",\"name\":\"14/12/2018\",\"type\":\"scattergeo\"},{\"lat\":[55.617917,51.148056],\"line\":{\"color\":\"red\",\"width\":1},\"lon\":[12.655972,-0.190278],\"mode\":\"lines\",\"name\":\"16/12/2018\",\"type\":\"scattergeo\"},{\"lat\":[51.148056,25.261125],\"line\":{\"color\":\"red\",\"width\":1},\"lon\":[-0.190278,51.565056],\"mode\":\"lines\",\"name\":\"28/12/2018\",\"type\":\"scattergeo\"},{\"lat\":[25.261125,7.180756],\"line\":{\"color\":\"red\",\"width\":1},\"lon\":[51.565056,79.884117],\"mode\":\"lines\",\"name\":\"29/12/2018\",\"type\":\"scattergeo\"},{\"lat\":[7.180756,25.261125],\"line\":{\"color\":\"red\",\"width\":1},\"lon\":[79.884117,51.565056],\"mode\":\"lines\",\"name\":\"05/01/2019\",\"type\":\"scattergeo\"},{\"lat\":[25.261125,51.148056],\"line\":{\"color\":\"red\",\"width\":1},\"lon\":[51.565056,-0.190278],\"mode\":\"lines\",\"name\":\"06/01/2019\",\"type\":\"scattergeo\"},{\"lat\":[51.885,46.238064],\"line\":{\"color\":\"red\",\"width\":1},\"lon\":[0.235,6.10895],\"mode\":\"lines\",\"name\":\"17/03/2019\",\"type\":\"scattergeo\"},{\"lat\":[46.238064,51.148056],\"line\":{\"color\":\"red\",\"width\":1},\"lon\":[6.10895,-0.190278],\"mode\":\"lines\",\"name\":\"19/03/2019\",\"type\":\"scattergeo\"},{\"lat\":[51.148056,59.413317],\"line\":{\"color\":\"red\",\"width\":1},\"lon\":[-0.190278,24.832844],\"mode\":\"lines\",\"name\":\"16/05/2019\",\"type\":\"scattergeo\"},{\"lat\":[59.413317,51.148056],\"line\":{\"color\":\"red\",\"width\":1},\"lon\":[24.832844,-0.190278],\"mode\":\"lines\",\"name\":\"19/05/2019\",\"type\":\"scattergeo\"},{\"lat\":[51.148056,43.77666512],\"line\":{\"color\":\"red\",\"width\":1},\"lon\":[-0.190278,11.24801752],\"mode\":\"lines\",\"name\":\"08/06/2019\",\"type\":\"scattergeo\"},{\"lat\":[40.886033,51.885],\"line\":{\"color\":\"red\",\"width\":1},\"lon\":[14.290781,0.235],\"mode\":\"lines\",\"name\":\"18/06/2019\",\"type\":\"scattergeo\"},{\"lat\":[51.148056,44.828335],\"line\":{\"color\":\"red\",\"width\":1},\"lon\":[-0.190278,-0.715556],\"mode\":\"lines\",\"name\":\"13/07/2019\",\"type\":\"scattergeo\"},{\"lat\":[51.4775,48.353783],\"line\":{\"color\":\"red\",\"width\":1},\"lon\":[-0.461389,11.786086],\"mode\":\"lines\",\"name\":\"06/03/2020\",\"type\":\"scattergeo\"},{\"lat\":[48.353783,51.4775],\"line\":{\"color\":\"red\",\"width\":1},\"lon\":[11.786086,-0.461389],\"mode\":\"lines\",\"name\":\"08/03/2020\",\"type\":\"scattergeo\"},{\"lat\":[51.148056,40.639751],\"line\":{\"color\":\"red\",\"width\":1},\"lon\":[-0.190278,-73.778925],\"mode\":\"lines\",\"name\":\"23/03/2022\",\"type\":\"scattergeo\"},{\"lat\":[40.639751,51.148056],\"line\":{\"color\":\"red\",\"width\":1},\"lon\":[-73.778925,-0.190278],\"mode\":\"lines\",\"name\":\"27/03/2020\",\"type\":\"scattergeo\"},{\"lat\":[51.4775,51.220278],\"line\":{\"color\":\"red\",\"width\":1},\"lon\":[-0.461389,6.792778],\"mode\":\"lines\",\"name\":\"14/04/2022\",\"type\":\"scattergeo\"},{\"lat\":[null,null],\"line\":{\"color\":\"red\",\"width\":1},\"lon\":[null,null],\"mode\":\"lines\",\"name\":\"nan\",\"type\":\"scattergeo\"},{\"lat\":[null,null],\"line\":{\"color\":\"red\",\"width\":1},\"lon\":[null,null],\"mode\":\"lines\",\"name\":\"nan\",\"type\":\"scattergeo\"},{\"lat\":[null,null],\"line\":{\"color\":\"red\",\"width\":1},\"lon\":[null,null],\"mode\":\"lines\",\"name\":\"nan\",\"type\":\"scattergeo\"},{\"lat\":[null,null],\"line\":{\"color\":\"red\",\"width\":1},\"lon\":[null,null],\"mode\":\"lines\",\"name\":\"nan\",\"type\":\"scattergeo\"},{\"lat\":[null,null],\"line\":{\"color\":\"red\",\"width\":1},\"lon\":[null,null],\"mode\":\"lines\",\"name\":\"nan\",\"type\":\"scattergeo\"},{\"lat\":[null,null],\"line\":{\"color\":\"red\",\"width\":1},\"lon\":[null,null],\"mode\":\"lines\",\"name\":\"nan\",\"type\":\"scattergeo\"},{\"lat\":[null,null],\"line\":{\"color\":\"red\",\"width\":1},\"lon\":[null,null],\"mode\":\"lines\",\"name\":\"nan\",\"type\":\"scattergeo\"},{\"lat\":[null,null],\"line\":{\"color\":\"red\",\"width\":1},\"lon\":[null,null],\"mode\":\"lines\",\"name\":\"nan\",\"type\":\"scattergeo\"},{\"lat\":[null,null],\"line\":{\"color\":\"red\",\"width\":1},\"lon\":[null,null],\"mode\":\"lines\",\"name\":\"nan\",\"type\":\"scattergeo\"},{\"lat\":[null,null],\"line\":{\"color\":\"red\",\"width\":1},\"lon\":[null,null],\"mode\":\"lines\",\"name\":\"nan\",\"type\":\"scattergeo\"},{\"lat\":[null,null],\"line\":{\"color\":\"red\",\"width\":1},\"lon\":[null,null],\"mode\":\"lines\",\"name\":\"nan\",\"type\":\"scattergeo\"},{\"lat\":[null,null],\"line\":{\"color\":\"red\",\"width\":1},\"lon\":[null,null],\"mode\":\"lines\",\"name\":\"nan\",\"type\":\"scattergeo\"},{\"lat\":[null,null],\"line\":{\"color\":\"red\",\"width\":1},\"lon\":[null,null],\"mode\":\"lines\",\"name\":\"nan\",\"type\":\"scattergeo\"},{\"lat\":[null,null],\"line\":{\"color\":\"red\",\"width\":1},\"lon\":[null,null],\"mode\":\"lines\",\"name\":\"nan\",\"type\":\"scattergeo\"},{\"lat\":[null,null],\"line\":{\"color\":\"red\",\"width\":1},\"lon\":[null,null],\"mode\":\"lines\",\"name\":\"nan\",\"type\":\"scattergeo\"},{\"lat\":[null,null],\"line\":{\"color\":\"red\",\"width\":1},\"lon\":[null,null],\"mode\":\"lines\",\"name\":\"nan\",\"type\":\"scattergeo\"},{\"lat\":[null,null],\"line\":{\"color\":\"red\",\"width\":1},\"lon\":[null,null],\"mode\":\"lines\",\"name\":\"nan\",\"type\":\"scattergeo\"},{\"lat\":[null,null],\"line\":{\"color\":\"red\",\"width\":1},\"lon\":[null,null],\"mode\":\"lines\",\"name\":\"nan\",\"type\":\"scattergeo\"},{\"lat\":[null,null],\"line\":{\"color\":\"red\",\"width\":1},\"lon\":[null,null],\"mode\":\"lines\",\"name\":\"nan\",\"type\":\"scattergeo\"},{\"lat\":[null,null],\"line\":{\"color\":\"red\",\"width\":1},\"lon\":[null,null],\"mode\":\"lines\",\"name\":\"nan\",\"type\":\"scattergeo\"},{\"lat\":[null,null],\"line\":{\"color\":\"red\",\"width\":1},\"lon\":[null,null],\"mode\":\"lines\",\"name\":\"nan\",\"type\":\"scattergeo\"},{\"lat\":[null,null],\"line\":{\"color\":\"red\",\"width\":1},\"lon\":[null,null],\"mode\":\"lines\",\"name\":\"nan\",\"type\":\"scattergeo\"},{\"lat\":[null,null],\"line\":{\"color\":\"red\",\"width\":1},\"lon\":[null,null],\"mode\":\"lines\",\"name\":\"nan\",\"type\":\"scattergeo\"},{\"lat\":[null,null],\"line\":{\"color\":\"red\",\"width\":1},\"lon\":[null,null],\"mode\":\"lines\",\"name\":\"nan\",\"type\":\"scattergeo\"},{\"lat\":[null,null],\"line\":{\"color\":\"red\",\"width\":1},\"lon\":[null,null],\"mode\":\"lines\",\"name\":\"nan\",\"type\":\"scattergeo\"},{\"lat\":[null,null],\"line\":{\"color\":\"red\",\"width\":1},\"lon\":[null,null],\"mode\":\"lines\",\"name\":\"nan\",\"type\":\"scattergeo\"},{\"lat\":[null,null],\"line\":{\"color\":\"red\",\"width\":1},\"lon\":[null,null],\"mode\":\"lines\",\"name\":\"nan\",\"type\":\"scattergeo\"},{\"lat\":[null,null],\"line\":{\"color\":\"red\",\"width\":1},\"lon\":[null,null],\"mode\":\"lines\",\"name\":\"nan\",\"type\":\"scattergeo\"},{\"lat\":[null,null],\"line\":{\"color\":\"red\",\"width\":1},\"lon\":[null,null],\"mode\":\"lines\",\"name\":\"nan\",\"type\":\"scattergeo\"},{\"lat\":[null,null],\"line\":{\"color\":\"red\",\"width\":1},\"lon\":[null,null],\"mode\":\"lines\",\"name\":\"nan\",\"type\":\"scattergeo\"},{\"lat\":[null,null],\"line\":{\"color\":\"red\",\"width\":1},\"lon\":[null,null],\"mode\":\"lines\",\"name\":\"nan\",\"type\":\"scattergeo\"},{\"lat\":[null,null],\"line\":{\"color\":\"red\",\"width\":1},\"lon\":[null,null],\"mode\":\"lines\",\"name\":\"nan\",\"type\":\"scattergeo\"},{\"lat\":[null,null],\"line\":{\"color\":\"red\",\"width\":1},\"lon\":[null,null],\"mode\":\"lines\",\"name\":\"nan\",\"type\":\"scattergeo\"},{\"lat\":[null,null],\"line\":{\"color\":\"red\",\"width\":1},\"lon\":[null,null],\"mode\":\"lines\",\"name\":\"nan\",\"type\":\"scattergeo\"},{\"lat\":[null,null],\"line\":{\"color\":\"red\",\"width\":1},\"lon\":[null,null],\"mode\":\"lines\",\"name\":\"nan\",\"type\":\"scattergeo\"},{\"lat\":[null,null],\"line\":{\"color\":\"red\",\"width\":1},\"lon\":[null,null],\"mode\":\"lines\",\"name\":\"nan\",\"type\":\"scattergeo\"},{\"lat\":[null,null],\"line\":{\"color\":\"red\",\"width\":1},\"lon\":[null,null],\"mode\":\"lines\",\"name\":\"nan\",\"type\":\"scattergeo\"},{\"lat\":[null,null],\"line\":{\"color\":\"red\",\"width\":1},\"lon\":[null,null],\"mode\":\"lines\",\"name\":\"nan\",\"type\":\"scattergeo\"},{\"lat\":[null,null],\"line\":{\"color\":\"red\",\"width\":1},\"lon\":[null,null],\"mode\":\"lines\",\"name\":\"nan\",\"type\":\"scattergeo\"},{\"lat\":[null,null],\"line\":{\"color\":\"red\",\"width\":1},\"lon\":[null,null],\"mode\":\"lines\",\"name\":\"nan\",\"type\":\"scattergeo\"},{\"lat\":[null,null],\"line\":{\"color\":\"red\",\"width\":1},\"lon\":[null,null],\"mode\":\"lines\",\"name\":\"nan\",\"type\":\"scattergeo\"},{\"lat\":[null,null],\"line\":{\"color\":\"red\",\"width\":1},\"lon\":[null,null],\"mode\":\"lines\",\"name\":\"nan\",\"type\":\"scattergeo\"},{\"lat\":[null,null],\"line\":{\"color\":\"red\",\"width\":1},\"lon\":[null,null],\"mode\":\"lines\",\"name\":\"nan\",\"type\":\"scattergeo\"},{\"lat\":[null,null],\"line\":{\"color\":\"red\",\"width\":1},\"lon\":[null,null],\"mode\":\"lines\",\"name\":\"nan\",\"type\":\"scattergeo\"},{\"lat\":[null,null],\"line\":{\"color\":\"red\",\"width\":1},\"lon\":[null,null],\"mode\":\"lines\",\"name\":\"nan\",\"type\":\"scattergeo\"},{\"lat\":[null,null],\"line\":{\"color\":\"red\",\"width\":1},\"lon\":[null,null],\"mode\":\"lines\",\"name\":\"nan\",\"type\":\"scattergeo\"},{\"lat\":[null,null],\"line\":{\"color\":\"red\",\"width\":1},\"lon\":[null,null],\"mode\":\"lines\",\"name\":\"nan\",\"type\":\"scattergeo\"},{\"lat\":[null,null],\"line\":{\"color\":\"red\",\"width\":1},\"lon\":[null,null],\"mode\":\"lines\",\"name\":\"nan\",\"type\":\"scattergeo\"},{\"lat\":[null,null],\"line\":{\"color\":\"red\",\"width\":1},\"lon\":[null,null],\"mode\":\"lines\",\"name\":\"nan\",\"type\":\"scattergeo\"},{\"lat\":[null,null],\"line\":{\"color\":\"red\",\"width\":1},\"lon\":[null,null],\"mode\":\"lines\",\"name\":\"nan\",\"type\":\"scattergeo\"},{\"lat\":[null,null],\"line\":{\"color\":\"red\",\"width\":1},\"lon\":[null,null],\"mode\":\"lines\",\"name\":\"nan\",\"type\":\"scattergeo\"},{\"lat\":[null,null],\"line\":{\"color\":\"red\",\"width\":1},\"lon\":[null,null],\"mode\":\"lines\",\"name\":\"nan\",\"type\":\"scattergeo\"},{\"lat\":[null,null],\"line\":{\"color\":\"red\",\"width\":1},\"lon\":[null,null],\"mode\":\"lines\",\"name\":\"nan\",\"type\":\"scattergeo\"},{\"lat\":[null,null],\"line\":{\"color\":\"red\",\"width\":1},\"lon\":[null,null],\"mode\":\"lines\",\"name\":\"nan\",\"type\":\"scattergeo\"},{\"lat\":[null,null],\"line\":{\"color\":\"red\",\"width\":1},\"lon\":[null,null],\"mode\":\"lines\",\"name\":\"nan\",\"type\":\"scattergeo\"},{\"lat\":[null,null],\"line\":{\"color\":\"red\",\"width\":1},\"lon\":[null,null],\"mode\":\"lines\",\"name\":\"nan\",\"type\":\"scattergeo\"},{\"lat\":[null,null],\"line\":{\"color\":\"red\",\"width\":1},\"lon\":[null,null],\"mode\":\"lines\",\"name\":\"nan\",\"type\":\"scattergeo\"},{\"lat\":[null,null],\"line\":{\"color\":\"red\",\"width\":1},\"lon\":[null,null],\"mode\":\"lines\",\"name\":\"nan\",\"type\":\"scattergeo\"},{\"lat\":[null,null],\"line\":{\"color\":\"red\",\"width\":1},\"lon\":[null,null],\"mode\":\"lines\",\"name\":\"nan\",\"type\":\"scattergeo\"},{\"lat\":[null,null],\"line\":{\"color\":\"red\",\"width\":1},\"lon\":[null,null],\"mode\":\"lines\",\"name\":\"nan\",\"type\":\"scattergeo\"},{\"lat\":[null,null],\"line\":{\"color\":\"red\",\"width\":1},\"lon\":[null,null],\"mode\":\"lines\",\"name\":\"nan\",\"type\":\"scattergeo\"},{\"lat\":[null,null],\"line\":{\"color\":\"red\",\"width\":1},\"lon\":[null,null],\"mode\":\"lines\",\"name\":\"nan\",\"type\":\"scattergeo\"},{\"lat\":[null,null],\"line\":{\"color\":\"red\",\"width\":1},\"lon\":[null,null],\"mode\":\"lines\",\"name\":\"nan\",\"type\":\"scattergeo\"},{\"lat\":[null,null],\"line\":{\"color\":\"red\",\"width\":1},\"lon\":[null,null],\"mode\":\"lines\",\"name\":\"nan\",\"type\":\"scattergeo\"},{\"lat\":[null,null],\"line\":{\"color\":\"red\",\"width\":1},\"lon\":[null,null],\"mode\":\"lines\",\"name\":\"nan\",\"type\":\"scattergeo\"},{\"lat\":[null,null],\"line\":{\"color\":\"red\",\"width\":1},\"lon\":[null,null],\"mode\":\"lines\",\"name\":\"nan\",\"type\":\"scattergeo\"},{\"lat\":[null,null],\"line\":{\"color\":\"red\",\"width\":1},\"lon\":[null,null],\"mode\":\"lines\",\"name\":\"nan\",\"type\":\"scattergeo\"},{\"lat\":[null,null],\"line\":{\"color\":\"red\",\"width\":1},\"lon\":[null,null],\"mode\":\"lines\",\"name\":\"nan\",\"type\":\"scattergeo\"},{\"lat\":[null,null],\"line\":{\"color\":\"red\",\"width\":1},\"lon\":[null,null],\"mode\":\"lines\",\"name\":\"nan\",\"type\":\"scattergeo\"},{\"lat\":[null,null],\"line\":{\"color\":\"red\",\"width\":1},\"lon\":[null,null],\"mode\":\"lines\",\"name\":\"nan\",\"type\":\"scattergeo\"},{\"lat\":[null,null],\"line\":{\"color\":\"red\",\"width\":1},\"lon\":[null,null],\"mode\":\"lines\",\"name\":\"nan\",\"type\":\"scattergeo\"},{\"lat\":[null,null],\"line\":{\"color\":\"red\",\"width\":1},\"lon\":[null,null],\"mode\":\"lines\",\"name\":\"nan\",\"type\":\"scattergeo\"},{\"lat\":[null,null],\"line\":{\"color\":\"red\",\"width\":1},\"lon\":[null,null],\"mode\":\"lines\",\"name\":\"nan\",\"type\":\"scattergeo\"},{\"lat\":[null,null],\"line\":{\"color\":\"red\",\"width\":1},\"lon\":[null,null],\"mode\":\"lines\",\"name\":\"nan\",\"type\":\"scattergeo\"},{\"lat\":[null,null],\"line\":{\"color\":\"red\",\"width\":1},\"lon\":[null,null],\"mode\":\"lines\",\"name\":\"nan\",\"type\":\"scattergeo\"},{\"lat\":[null,null],\"line\":{\"color\":\"red\",\"width\":1},\"lon\":[null,null],\"mode\":\"lines\",\"name\":\"nan\",\"type\":\"scattergeo\"},{\"lat\":[null,null],\"line\":{\"color\":\"red\",\"width\":1},\"lon\":[null,null],\"mode\":\"lines\",\"name\":\"nan\",\"type\":\"scattergeo\"},{\"lat\":[null,null],\"line\":{\"color\":\"red\",\"width\":1},\"lon\":[null,null],\"mode\":\"lines\",\"name\":\"nan\",\"type\":\"scattergeo\"},{\"lat\":[null,null],\"line\":{\"color\":\"red\",\"width\":1},\"lon\":[null,null],\"mode\":\"lines\",\"name\":\"nan\",\"type\":\"scattergeo\"},{\"lat\":[null,null],\"line\":{\"color\":\"red\",\"width\":1},\"lon\":[null,null],\"mode\":\"lines\",\"name\":\"nan\",\"type\":\"scattergeo\"},{\"lat\":[null,null],\"line\":{\"color\":\"red\",\"width\":1},\"lon\":[null,null],\"mode\":\"lines\",\"name\":\"nan\",\"type\":\"scattergeo\"},{\"lat\":[null,null],\"line\":{\"color\":\"red\",\"width\":1},\"lon\":[null,null],\"mode\":\"lines\",\"name\":\"nan\",\"type\":\"scattergeo\"},{\"lat\":[null,null],\"line\":{\"color\":\"red\",\"width\":1},\"lon\":[null,null],\"mode\":\"lines\",\"name\":\"nan\",\"type\":\"scattergeo\"},{\"lat\":[null,null],\"line\":{\"color\":\"red\",\"width\":1},\"lon\":[null,null],\"mode\":\"lines\",\"name\":\"nan\",\"type\":\"scattergeo\"},{\"lat\":[null,null],\"line\":{\"color\":\"red\",\"width\":1},\"lon\":[null,null],\"mode\":\"lines\",\"name\":\"nan\",\"type\":\"scattergeo\"},{\"lat\":[null,null],\"line\":{\"color\":\"red\",\"width\":1},\"lon\":[null,null],\"mode\":\"lines\",\"name\":\"nan\",\"type\":\"scattergeo\"},{\"lat\":[null,null],\"line\":{\"color\":\"red\",\"width\":1},\"lon\":[null,null],\"mode\":\"lines\",\"name\":\"nan\",\"type\":\"scattergeo\"},{\"lat\":[null,null],\"line\":{\"color\":\"red\",\"width\":1},\"lon\":[null,null],\"mode\":\"lines\",\"name\":\"nan\",\"type\":\"scattergeo\"},{\"lat\":[null,null],\"line\":{\"color\":\"red\",\"width\":1},\"lon\":[null,null],\"mode\":\"lines\",\"name\":\"nan\",\"type\":\"scattergeo\"},{\"lat\":[null,null],\"line\":{\"color\":\"red\",\"width\":1},\"lon\":[null,null],\"mode\":\"lines\",\"name\":\"nan\",\"type\":\"scattergeo\"},{\"lat\":[null,null],\"line\":{\"color\":\"red\",\"width\":1},\"lon\":[null,null],\"mode\":\"lines\",\"name\":\"nan\",\"type\":\"scattergeo\"},{\"lat\":[null,null],\"line\":{\"color\":\"red\",\"width\":1},\"lon\":[null,null],\"mode\":\"lines\",\"name\":\"nan\",\"type\":\"scattergeo\"},{\"lat\":[null,null],\"line\":{\"color\":\"red\",\"width\":1},\"lon\":[null,null],\"mode\":\"lines\",\"name\":\"nan\",\"type\":\"scattergeo\"},{\"lat\":[null,null],\"line\":{\"color\":\"red\",\"width\":1},\"lon\":[null,null],\"mode\":\"lines\",\"name\":\"nan\",\"type\":\"scattergeo\"},{\"lat\":[null,null],\"line\":{\"color\":\"red\",\"width\":1},\"lon\":[null,null],\"mode\":\"lines\",\"name\":\"nan\",\"type\":\"scattergeo\"},{\"lat\":[null,null],\"line\":{\"color\":\"red\",\"width\":1},\"lon\":[null,null],\"mode\":\"lines\",\"name\":\"nan\",\"type\":\"scattergeo\"},{\"lat\":[null,null],\"line\":{\"color\":\"red\",\"width\":1},\"lon\":[null,null],\"mode\":\"lines\",\"name\":\"nan\",\"type\":\"scattergeo\"},{\"lat\":[null,null],\"line\":{\"color\":\"red\",\"width\":1},\"lon\":[null,null],\"mode\":\"lines\",\"name\":\"nan\",\"type\":\"scattergeo\"},{\"lat\":[null,null],\"line\":{\"color\":\"red\",\"width\":1},\"lon\":[null,null],\"mode\":\"lines\",\"name\":\"nan\",\"type\":\"scattergeo\"},{\"lat\":[null,null],\"line\":{\"color\":\"red\",\"width\":1},\"lon\":[null,null],\"mode\":\"lines\",\"name\":\"nan\",\"type\":\"scattergeo\"},{\"lat\":[null,null],\"line\":{\"color\":\"red\",\"width\":1},\"lon\":[null,null],\"mode\":\"lines\",\"name\":\"nan\",\"type\":\"scattergeo\"},{\"lat\":[null,null],\"line\":{\"color\":\"red\",\"width\":1},\"lon\":[null,null],\"mode\":\"lines\",\"name\":\"nan\",\"type\":\"scattergeo\"},{\"lat\":[null,null],\"line\":{\"color\":\"red\",\"width\":1},\"lon\":[null,null],\"mode\":\"lines\",\"name\":\"nan\",\"type\":\"scattergeo\"},{\"lat\":[null,null],\"line\":{\"color\":\"red\",\"width\":1},\"lon\":[null,null],\"mode\":\"lines\",\"name\":\"nan\",\"type\":\"scattergeo\"},{\"lat\":[null,null],\"line\":{\"color\":\"red\",\"width\":1},\"lon\":[null,null],\"mode\":\"lines\",\"name\":\"nan\",\"type\":\"scattergeo\"},{\"lat\":[null,null],\"line\":{\"color\":\"red\",\"width\":1},\"lon\":[null,null],\"mode\":\"lines\",\"name\":\"nan\",\"type\":\"scattergeo\"},{\"lat\":[null,null],\"line\":{\"color\":\"red\",\"width\":1},\"lon\":[null,null],\"mode\":\"lines\",\"name\":\"nan\",\"type\":\"scattergeo\"},{\"lat\":[null,null],\"line\":{\"color\":\"red\",\"width\":1},\"lon\":[null,null],\"mode\":\"lines\",\"name\":\"nan\",\"type\":\"scattergeo\"},{\"lat\":[null,null],\"line\":{\"color\":\"red\",\"width\":1},\"lon\":[null,null],\"mode\":\"lines\",\"name\":\"nan\",\"type\":\"scattergeo\"},{\"lat\":[null,null],\"line\":{\"color\":\"red\",\"width\":1},\"lon\":[null,null],\"mode\":\"lines\",\"name\":\"nan\",\"type\":\"scattergeo\"},{\"lat\":[null,null],\"line\":{\"color\":\"red\",\"width\":1},\"lon\":[null,null],\"mode\":\"lines\",\"name\":\"nan\",\"type\":\"scattergeo\"},{\"lat\":[null,null],\"line\":{\"color\":\"red\",\"width\":1},\"lon\":[null,null],\"mode\":\"lines\",\"name\":\"nan\",\"type\":\"scattergeo\"},{\"lat\":[null,null],\"line\":{\"color\":\"red\",\"width\":1},\"lon\":[null,null],\"mode\":\"lines\",\"name\":\"nan\",\"type\":\"scattergeo\"},{\"lat\":[null,null],\"line\":{\"color\":\"red\",\"width\":1},\"lon\":[null,null],\"mode\":\"lines\",\"name\":\"nan\",\"type\":\"scattergeo\"},{\"lat\":[null,null],\"line\":{\"color\":\"red\",\"width\":1},\"lon\":[null,null],\"mode\":\"lines\",\"name\":\"nan\",\"type\":\"scattergeo\"},{\"lat\":[null,null],\"line\":{\"color\":\"red\",\"width\":1},\"lon\":[null,null],\"mode\":\"lines\",\"name\":\"nan\",\"type\":\"scattergeo\"},{\"lat\":[null,null],\"line\":{\"color\":\"red\",\"width\":1},\"lon\":[null,null],\"mode\":\"lines\",\"name\":\"nan\",\"type\":\"scattergeo\"},{\"lat\":[null,null],\"line\":{\"color\":\"red\",\"width\":1},\"lon\":[null,null],\"mode\":\"lines\",\"name\":\"nan\",\"type\":\"scattergeo\"},{\"lat\":[null,null],\"line\":{\"color\":\"red\",\"width\":1},\"lon\":[null,null],\"mode\":\"lines\",\"name\":\"nan\",\"type\":\"scattergeo\"},{\"lat\":[null,null],\"line\":{\"color\":\"red\",\"width\":1},\"lon\":[null,null],\"mode\":\"lines\",\"name\":\"nan\",\"type\":\"scattergeo\"},{\"lat\":[null,null],\"line\":{\"color\":\"red\",\"width\":1},\"lon\":[null,null],\"mode\":\"lines\",\"name\":\"nan\",\"type\":\"scattergeo\"},{\"lat\":[null,null],\"line\":{\"color\":\"red\",\"width\":1},\"lon\":[null,null],\"mode\":\"lines\",\"name\":\"nan\",\"type\":\"scattergeo\"},{\"lat\":[null,null],\"line\":{\"color\":\"red\",\"width\":1},\"lon\":[null,null],\"mode\":\"lines\",\"name\":\"nan\",\"type\":\"scattergeo\"},{\"lat\":[null,null],\"line\":{\"color\":\"red\",\"width\":1},\"lon\":[null,null],\"mode\":\"lines\",\"name\":\"nan\",\"type\":\"scattergeo\"},{\"lat\":[null,null],\"line\":{\"color\":\"red\",\"width\":1},\"lon\":[null,null],\"mode\":\"lines\",\"name\":\"nan\",\"type\":\"scattergeo\"},{\"lat\":[null,null],\"line\":{\"color\":\"red\",\"width\":1},\"lon\":[null,null],\"mode\":\"lines\",\"name\":\"nan\",\"type\":\"scattergeo\"},{\"lat\":[null,null],\"line\":{\"color\":\"red\",\"width\":1},\"lon\":[null,null],\"mode\":\"lines\",\"name\":\"nan\",\"type\":\"scattergeo\"},{\"lat\":[null,null],\"line\":{\"color\":\"red\",\"width\":1},\"lon\":[null,null],\"mode\":\"lines\",\"name\":\"nan\",\"type\":\"scattergeo\"},{\"lat\":[null,null],\"line\":{\"color\":\"red\",\"width\":1},\"lon\":[null,null],\"mode\":\"lines\",\"name\":\"nan\",\"type\":\"scattergeo\"},{\"lat\":[null,null],\"line\":{\"color\":\"red\",\"width\":1},\"lon\":[null,null],\"mode\":\"lines\",\"name\":\"nan\",\"type\":\"scattergeo\"},{\"lat\":[null,null],\"line\":{\"color\":\"red\",\"width\":1},\"lon\":[null,null],\"mode\":\"lines\",\"name\":\"nan\",\"type\":\"scattergeo\"},{\"lat\":[null,null],\"line\":{\"color\":\"red\",\"width\":1},\"lon\":[null,null],\"mode\":\"lines\",\"name\":\"nan\",\"type\":\"scattergeo\"},{\"lat\":[null,null],\"line\":{\"color\":\"red\",\"width\":1},\"lon\":[null,null],\"mode\":\"lines\",\"name\":\"nan\",\"type\":\"scattergeo\"},{\"lat\":[null,null],\"line\":{\"color\":\"red\",\"width\":1},\"lon\":[null,null],\"mode\":\"lines\",\"name\":\"nan\",\"type\":\"scattergeo\"},{\"lat\":[null,null],\"line\":{\"color\":\"red\",\"width\":1},\"lon\":[null,null],\"mode\":\"lines\",\"name\":\"nan\",\"type\":\"scattergeo\"},{\"lat\":[null,null],\"line\":{\"color\":\"red\",\"width\":1},\"lon\":[null,null],\"mode\":\"lines\",\"name\":\"nan\",\"type\":\"scattergeo\"},{\"lat\":[null,null],\"line\":{\"color\":\"red\",\"width\":1},\"lon\":[null,null],\"mode\":\"lines\",\"name\":\"nan\",\"type\":\"scattergeo\"},{\"lat\":[null,null],\"line\":{\"color\":\"red\",\"width\":1},\"lon\":[null,null],\"mode\":\"lines\",\"name\":\"nan\",\"type\":\"scattergeo\"},{\"lat\":[null,null],\"line\":{\"color\":\"red\",\"width\":1},\"lon\":[null,null],\"mode\":\"lines\",\"name\":\"nan\",\"type\":\"scattergeo\"},{\"lat\":[null,null],\"line\":{\"color\":\"red\",\"width\":1},\"lon\":[null,null],\"mode\":\"lines\",\"name\":\"nan\",\"type\":\"scattergeo\"},{\"lat\":[null,null],\"line\":{\"color\":\"red\",\"width\":1},\"lon\":[null,null],\"mode\":\"lines\",\"name\":\"nan\",\"type\":\"scattergeo\"},{\"lat\":[null,null],\"line\":{\"color\":\"red\",\"width\":1},\"lon\":[null,null],\"mode\":\"lines\",\"name\":\"nan\",\"type\":\"scattergeo\"},{\"lat\":[null,null],\"line\":{\"color\":\"red\",\"width\":1},\"lon\":[null,null],\"mode\":\"lines\",\"name\":\"nan\",\"type\":\"scattergeo\"},{\"lat\":[null,null],\"line\":{\"color\":\"red\",\"width\":1},\"lon\":[null,null],\"mode\":\"lines\",\"name\":\"nan\",\"type\":\"scattergeo\"},{\"lat\":[null,null],\"line\":{\"color\":\"red\",\"width\":1},\"lon\":[null,null],\"mode\":\"lines\",\"name\":\"nan\",\"type\":\"scattergeo\"},{\"lat\":[null,null],\"line\":{\"color\":\"red\",\"width\":1},\"lon\":[null,null],\"mode\":\"lines\",\"name\":\"nan\",\"type\":\"scattergeo\"},{\"lat\":[null,null],\"line\":{\"color\":\"red\",\"width\":1},\"lon\":[null,null],\"mode\":\"lines\",\"name\":\"nan\",\"type\":\"scattergeo\"},{\"lat\":[null,null],\"line\":{\"color\":\"red\",\"width\":1},\"lon\":[null,null],\"mode\":\"lines\",\"name\":\"nan\",\"type\":\"scattergeo\"},{\"lat\":[null,null],\"line\":{\"color\":\"red\",\"width\":1},\"lon\":[null,null],\"mode\":\"lines\",\"name\":\"nan\",\"type\":\"scattergeo\"},{\"lat\":[null,null],\"line\":{\"color\":\"red\",\"width\":1},\"lon\":[null,null],\"mode\":\"lines\",\"name\":\"nan\",\"type\":\"scattergeo\"},{\"lat\":[null,null],\"line\":{\"color\":\"red\",\"width\":1},\"lon\":[null,null],\"mode\":\"lines\",\"name\":\"nan\",\"type\":\"scattergeo\"},{\"lat\":[null,null],\"line\":{\"color\":\"red\",\"width\":1},\"lon\":[null,null],\"mode\":\"lines\",\"name\":\"nan\",\"type\":\"scattergeo\"},{\"lat\":[null,null],\"line\":{\"color\":\"red\",\"width\":1},\"lon\":[null,null],\"mode\":\"lines\",\"name\":\"nan\",\"type\":\"scattergeo\"},{\"lat\":[null,null],\"line\":{\"color\":\"red\",\"width\":1},\"lon\":[null,null],\"mode\":\"lines\",\"name\":\"nan\",\"type\":\"scattergeo\"},{\"lat\":[null,null],\"line\":{\"color\":\"red\",\"width\":1},\"lon\":[null,null],\"mode\":\"lines\",\"name\":\"nan\",\"type\":\"scattergeo\"},{\"lat\":[null,null],\"line\":{\"color\":\"red\",\"width\":1},\"lon\":[null,null],\"mode\":\"lines\",\"name\":\"nan\",\"type\":\"scattergeo\"},{\"lat\":[null,null],\"line\":{\"color\":\"red\",\"width\":1},\"lon\":[null,null],\"mode\":\"lines\",\"name\":\"nan\",\"type\":\"scattergeo\"},{\"lat\":[null,null],\"line\":{\"color\":\"red\",\"width\":1},\"lon\":[null,null],\"mode\":\"lines\",\"name\":\"nan\",\"type\":\"scattergeo\"},{\"lat\":[null,null],\"line\":{\"color\":\"red\",\"width\":1},\"lon\":[null,null],\"mode\":\"lines\",\"name\":\"nan\",\"type\":\"scattergeo\"},{\"lat\":[null,null],\"line\":{\"color\":\"red\",\"width\":1},\"lon\":[null,null],\"mode\":\"lines\",\"name\":\"nan\",\"type\":\"scattergeo\"},{\"lat\":[null,null],\"line\":{\"color\":\"red\",\"width\":1},\"lon\":[null,null],\"mode\":\"lines\",\"name\":\"nan\",\"type\":\"scattergeo\"},{\"lat\":[null,null],\"line\":{\"color\":\"red\",\"width\":1},\"lon\":[null,null],\"mode\":\"lines\",\"name\":\"nan\",\"type\":\"scattergeo\"},{\"lat\":[null,null],\"line\":{\"color\":\"red\",\"width\":1},\"lon\":[null,null],\"mode\":\"lines\",\"name\":\"nan\",\"type\":\"scattergeo\"},{\"lat\":[null,null],\"line\":{\"color\":\"red\",\"width\":1},\"lon\":[null,null],\"mode\":\"lines\",\"name\":\"nan\",\"type\":\"scattergeo\"},{\"lat\":[null,null],\"line\":{\"color\":\"red\",\"width\":1},\"lon\":[null,null],\"mode\":\"lines\",\"name\":\"nan\",\"type\":\"scattergeo\"},{\"lat\":[null,null],\"line\":{\"color\":\"red\",\"width\":1},\"lon\":[null,null],\"mode\":\"lines\",\"name\":\"nan\",\"type\":\"scattergeo\"},{\"lat\":[null,null],\"line\":{\"color\":\"red\",\"width\":1},\"lon\":[null,null],\"mode\":\"lines\",\"name\":\"nan\",\"type\":\"scattergeo\"},{\"lat\":[null,null],\"line\":{\"color\":\"red\",\"width\":1},\"lon\":[null,null],\"mode\":\"lines\",\"name\":\"nan\",\"type\":\"scattergeo\"},{\"lat\":[null,null],\"line\":{\"color\":\"red\",\"width\":1},\"lon\":[null,null],\"mode\":\"lines\",\"name\":\"nan\",\"type\":\"scattergeo\"},{\"lat\":[null,null],\"line\":{\"color\":\"red\",\"width\":1},\"lon\":[null,null],\"mode\":\"lines\",\"name\":\"nan\",\"type\":\"scattergeo\"},{\"lat\":[null,null],\"line\":{\"color\":\"red\",\"width\":1},\"lon\":[null,null],\"mode\":\"lines\",\"name\":\"nan\",\"type\":\"scattergeo\"},{\"lat\":[null,null],\"line\":{\"color\":\"red\",\"width\":1},\"lon\":[null,null],\"mode\":\"lines\",\"name\":\"nan\",\"type\":\"scattergeo\"},{\"lat\":[null,null],\"line\":{\"color\":\"red\",\"width\":1},\"lon\":[null,null],\"mode\":\"lines\",\"name\":\"nan\",\"type\":\"scattergeo\"},{\"lat\":[null,null],\"line\":{\"color\":\"red\",\"width\":1},\"lon\":[null,null],\"mode\":\"lines\",\"name\":\"nan\",\"type\":\"scattergeo\"},{\"lat\":[null,null],\"line\":{\"color\":\"red\",\"width\":1},\"lon\":[null,null],\"mode\":\"lines\",\"name\":\"nan\",\"type\":\"scattergeo\"},{\"lat\":[null,null],\"line\":{\"color\":\"red\",\"width\":1},\"lon\":[null,null],\"mode\":\"lines\",\"name\":\"nan\",\"type\":\"scattergeo\"},{\"lat\":[null,null],\"line\":{\"color\":\"red\",\"width\":1},\"lon\":[null,null],\"mode\":\"lines\",\"name\":\"nan\",\"type\":\"scattergeo\"},{\"lat\":[null,null],\"line\":{\"color\":\"red\",\"width\":1},\"lon\":[null,null],\"mode\":\"lines\",\"name\":\"nan\",\"type\":\"scattergeo\"},{\"lat\":[null,null],\"line\":{\"color\":\"red\",\"width\":1},\"lon\":[null,null],\"mode\":\"lines\",\"name\":\"nan\",\"type\":\"scattergeo\"},{\"lat\":[null,null],\"line\":{\"color\":\"red\",\"width\":1},\"lon\":[null,null],\"mode\":\"lines\",\"name\":\"nan\",\"type\":\"scattergeo\"},{\"lat\":[null,null],\"line\":{\"color\":\"red\",\"width\":1},\"lon\":[null,null],\"mode\":\"lines\",\"name\":\"nan\",\"type\":\"scattergeo\"},{\"lat\":[null,null],\"line\":{\"color\":\"red\",\"width\":1},\"lon\":[null,null],\"mode\":\"lines\",\"name\":\"nan\",\"type\":\"scattergeo\"},{\"lat\":[null,null],\"line\":{\"color\":\"red\",\"width\":1},\"lon\":[null,null],\"mode\":\"lines\",\"name\":\"nan\",\"type\":\"scattergeo\"},{\"lat\":[null,null],\"line\":{\"color\":\"red\",\"width\":1},\"lon\":[null,null],\"mode\":\"lines\",\"name\":\"nan\",\"type\":\"scattergeo\"},{\"lat\":[null,null],\"line\":{\"color\":\"red\",\"width\":1},\"lon\":[null,null],\"mode\":\"lines\",\"name\":\"nan\",\"type\":\"scattergeo\"},{\"lat\":[null,null],\"line\":{\"color\":\"red\",\"width\":1},\"lon\":[null,null],\"mode\":\"lines\",\"name\":\"nan\",\"type\":\"scattergeo\"},{\"lat\":[null,null],\"line\":{\"color\":\"red\",\"width\":1},\"lon\":[null,null],\"mode\":\"lines\",\"name\":\"nan\",\"type\":\"scattergeo\"},{\"lat\":[null,null],\"line\":{\"color\":\"red\",\"width\":1},\"lon\":[null,null],\"mode\":\"lines\",\"name\":\"nan\",\"type\":\"scattergeo\"},{\"lat\":[null,null],\"line\":{\"color\":\"red\",\"width\":1},\"lon\":[null,null],\"mode\":\"lines\",\"name\":\"nan\",\"type\":\"scattergeo\"},{\"lat\":[null,null],\"line\":{\"color\":\"red\",\"width\":1},\"lon\":[null,null],\"mode\":\"lines\",\"name\":\"nan\",\"type\":\"scattergeo\"},{\"lat\":[null,null],\"line\":{\"color\":\"red\",\"width\":1},\"lon\":[null,null],\"mode\":\"lines\",\"name\":\"nan\",\"type\":\"scattergeo\"},{\"lat\":[null,null],\"line\":{\"color\":\"red\",\"width\":1},\"lon\":[null,null],\"mode\":\"lines\",\"name\":\"nan\",\"type\":\"scattergeo\"},{\"lat\":[null,null],\"line\":{\"color\":\"red\",\"width\":1},\"lon\":[null,null],\"mode\":\"lines\",\"name\":\"nan\",\"type\":\"scattergeo\"},{\"lat\":[null,null],\"line\":{\"color\":\"red\",\"width\":1},\"lon\":[null,null],\"mode\":\"lines\",\"name\":\"nan\",\"type\":\"scattergeo\"},{\"lat\":[null,null],\"line\":{\"color\":\"red\",\"width\":1},\"lon\":[null,null],\"mode\":\"lines\",\"name\":\"nan\",\"type\":\"scattergeo\"},{\"lat\":[null,null],\"line\":{\"color\":\"red\",\"width\":1},\"lon\":[null,null],\"mode\":\"lines\",\"name\":\"nan\",\"type\":\"scattergeo\"},{\"lat\":[null,null],\"line\":{\"color\":\"red\",\"width\":1},\"lon\":[null,null],\"mode\":\"lines\",\"name\":\"nan\",\"type\":\"scattergeo\"},{\"lat\":[null,null],\"line\":{\"color\":\"red\",\"width\":1},\"lon\":[null,null],\"mode\":\"lines\",\"name\":\"nan\",\"type\":\"scattergeo\"},{\"lat\":[null,null],\"line\":{\"color\":\"red\",\"width\":1},\"lon\":[null,null],\"mode\":\"lines\",\"name\":\"nan\",\"type\":\"scattergeo\"},{\"lat\":[null,null],\"line\":{\"color\":\"red\",\"width\":1},\"lon\":[null,null],\"mode\":\"lines\",\"name\":\"nan\",\"type\":\"scattergeo\"},{\"lat\":[null,null],\"line\":{\"color\":\"red\",\"width\":1},\"lon\":[null,null],\"mode\":\"lines\",\"name\":\"nan\",\"type\":\"scattergeo\"},{\"lat\":[null,null],\"line\":{\"color\":\"red\",\"width\":1},\"lon\":[null,null],\"mode\":\"lines\",\"name\":\"nan\",\"type\":\"scattergeo\"},{\"lat\":[null,null],\"line\":{\"color\":\"red\",\"width\":1},\"lon\":[null,null],\"mode\":\"lines\",\"name\":\"nan\",\"type\":\"scattergeo\"},{\"lat\":[null,null],\"line\":{\"color\":\"red\",\"width\":1},\"lon\":[null,null],\"mode\":\"lines\",\"name\":\"nan\",\"type\":\"scattergeo\"},{\"lat\":[null,null],\"line\":{\"color\":\"red\",\"width\":1},\"lon\":[null,null],\"mode\":\"lines\",\"name\":\"nan\",\"type\":\"scattergeo\"},{\"lat\":[null,null],\"line\":{\"color\":\"red\",\"width\":1},\"lon\":[null,null],\"mode\":\"lines\",\"name\":\"nan\",\"type\":\"scattergeo\"},{\"lat\":[null,null],\"line\":{\"color\":\"red\",\"width\":1},\"lon\":[null,null],\"mode\":\"lines\",\"name\":\"nan\",\"type\":\"scattergeo\"},{\"lat\":[null,null],\"line\":{\"color\":\"red\",\"width\":1},\"lon\":[null,null],\"mode\":\"lines\",\"name\":\"nan\",\"type\":\"scattergeo\"},{\"lat\":[null,null],\"line\":{\"color\":\"red\",\"width\":1},\"lon\":[null,null],\"mode\":\"lines\",\"name\":\"nan\",\"type\":\"scattergeo\"},{\"lat\":[null,null],\"line\":{\"color\":\"red\",\"width\":1},\"lon\":[null,null],\"mode\":\"lines\",\"name\":\"nan\",\"type\":\"scattergeo\"},{\"lat\":[null,null],\"line\":{\"color\":\"red\",\"width\":1},\"lon\":[null,null],\"mode\":\"lines\",\"name\":\"nan\",\"type\":\"scattergeo\"},{\"lat\":[null,null],\"line\":{\"color\":\"red\",\"width\":1},\"lon\":[null,null],\"mode\":\"lines\",\"name\":\"nan\",\"type\":\"scattergeo\"},{\"lat\":[null,null],\"line\":{\"color\":\"red\",\"width\":1},\"lon\":[null,null],\"mode\":\"lines\",\"name\":\"nan\",\"type\":\"scattergeo\"},{\"lat\":[null,null],\"line\":{\"color\":\"red\",\"width\":1},\"lon\":[null,null],\"mode\":\"lines\",\"name\":\"nan\",\"type\":\"scattergeo\"},{\"lat\":[null,null],\"line\":{\"color\":\"red\",\"width\":1},\"lon\":[null,null],\"mode\":\"lines\",\"name\":\"nan\",\"type\":\"scattergeo\"},{\"lat\":[null,null],\"line\":{\"color\":\"red\",\"width\":1},\"lon\":[null,null],\"mode\":\"lines\",\"name\":\"nan\",\"type\":\"scattergeo\"},{\"lat\":[null,null],\"line\":{\"color\":\"red\",\"width\":1},\"lon\":[null,null],\"mode\":\"lines\",\"name\":\"nan\",\"type\":\"scattergeo\"},{\"lat\":[null,null],\"line\":{\"color\":\"red\",\"width\":1},\"lon\":[null,null],\"mode\":\"lines\",\"name\":\"nan\",\"type\":\"scattergeo\"},{\"lat\":[null,null],\"line\":{\"color\":\"red\",\"width\":1},\"lon\":[null,null],\"mode\":\"lines\",\"name\":\"nan\",\"type\":\"scattergeo\"},{\"lat\":[null,null],\"line\":{\"color\":\"red\",\"width\":1},\"lon\":[null,null],\"mode\":\"lines\",\"name\":\"nan\",\"type\":\"scattergeo\"},{\"lat\":[null,null],\"line\":{\"color\":\"red\",\"width\":1},\"lon\":[null,null],\"mode\":\"lines\",\"name\":\"nan\",\"type\":\"scattergeo\"},{\"lat\":[null,null],\"line\":{\"color\":\"red\",\"width\":1},\"lon\":[null,null],\"mode\":\"lines\",\"name\":\"nan\",\"type\":\"scattergeo\"},{\"lat\":[null,null],\"line\":{\"color\":\"red\",\"width\":1},\"lon\":[null,null],\"mode\":\"lines\",\"name\":\"nan\",\"type\":\"scattergeo\"},{\"lat\":[null,null],\"line\":{\"color\":\"red\",\"width\":1},\"lon\":[null,null],\"mode\":\"lines\",\"name\":\"nan\",\"type\":\"scattergeo\"},{\"lat\":[null,null],\"line\":{\"color\":\"red\",\"width\":1},\"lon\":[null,null],\"mode\":\"lines\",\"name\":\"nan\",\"type\":\"scattergeo\"},{\"lat\":[null,null],\"line\":{\"color\":\"red\",\"width\":1},\"lon\":[null,null],\"mode\":\"lines\",\"name\":\"nan\",\"type\":\"scattergeo\"},{\"lat\":[null,null],\"line\":{\"color\":\"red\",\"width\":1},\"lon\":[null,null],\"mode\":\"lines\",\"name\":\"nan\",\"type\":\"scattergeo\"},{\"lat\":[null,null],\"line\":{\"color\":\"red\",\"width\":1},\"lon\":[null,null],\"mode\":\"lines\",\"name\":\"nan\",\"type\":\"scattergeo\"},{\"lat\":[null,null],\"line\":{\"color\":\"red\",\"width\":1},\"lon\":[null,null],\"mode\":\"lines\",\"name\":\"nan\",\"type\":\"scattergeo\"},{\"lat\":[null,null],\"line\":{\"color\":\"red\",\"width\":1},\"lon\":[null,null],\"mode\":\"lines\",\"name\":\"nan\",\"type\":\"scattergeo\"},{\"lat\":[null,null],\"line\":{\"color\":\"red\",\"width\":1},\"lon\":[null,null],\"mode\":\"lines\",\"name\":\"nan\",\"type\":\"scattergeo\"},{\"lat\":[null,null],\"line\":{\"color\":\"red\",\"width\":1},\"lon\":[null,null],\"mode\":\"lines\",\"name\":\"nan\",\"type\":\"scattergeo\"},{\"lat\":[null,null],\"line\":{\"color\":\"red\",\"width\":1},\"lon\":[null,null],\"mode\":\"lines\",\"name\":\"nan\",\"type\":\"scattergeo\"},{\"lat\":[null,null],\"line\":{\"color\":\"red\",\"width\":1},\"lon\":[null,null],\"mode\":\"lines\",\"name\":\"nan\",\"type\":\"scattergeo\"},{\"lat\":[null,null],\"line\":{\"color\":\"red\",\"width\":1},\"lon\":[null,null],\"mode\":\"lines\",\"name\":\"nan\",\"type\":\"scattergeo\"},{\"lat\":[null,null],\"line\":{\"color\":\"red\",\"width\":1},\"lon\":[null,null],\"mode\":\"lines\",\"name\":\"nan\",\"type\":\"scattergeo\"},{\"lat\":[null,null],\"line\":{\"color\":\"red\",\"width\":1},\"lon\":[null,null],\"mode\":\"lines\",\"name\":\"nan\",\"type\":\"scattergeo\"},{\"lat\":[null,null],\"line\":{\"color\":\"red\",\"width\":1},\"lon\":[null,null],\"mode\":\"lines\",\"name\":\"nan\",\"type\":\"scattergeo\"},{\"lat\":[null,null],\"line\":{\"color\":\"red\",\"width\":1},\"lon\":[null,null],\"mode\":\"lines\",\"name\":\"nan\",\"type\":\"scattergeo\"},{\"lat\":[null,null],\"line\":{\"color\":\"red\",\"width\":1},\"lon\":[null,null],\"mode\":\"lines\",\"name\":\"nan\",\"type\":\"scattergeo\"},{\"lat\":[null,null],\"line\":{\"color\":\"red\",\"width\":1},\"lon\":[null,null],\"mode\":\"lines\",\"name\":\"nan\",\"type\":\"scattergeo\"},{\"lat\":[null,null],\"line\":{\"color\":\"red\",\"width\":1},\"lon\":[null,null],\"mode\":\"lines\",\"name\":\"nan\",\"type\":\"scattergeo\"},{\"lat\":[null,null],\"line\":{\"color\":\"red\",\"width\":1},\"lon\":[null,null],\"mode\":\"lines\",\"name\":\"nan\",\"type\":\"scattergeo\"},{\"lat\":[null,null],\"line\":{\"color\":\"red\",\"width\":1},\"lon\":[null,null],\"mode\":\"lines\",\"name\":\"nan\",\"type\":\"scattergeo\"},{\"lat\":[null,null],\"line\":{\"color\":\"red\",\"width\":1},\"lon\":[null,null],\"mode\":\"lines\",\"name\":\"nan\",\"type\":\"scattergeo\"},{\"lat\":[null,null],\"line\":{\"color\":\"red\",\"width\":1},\"lon\":[null,null],\"mode\":\"lines\",\"name\":\"nan\",\"type\":\"scattergeo\"},{\"lat\":[null,null],\"line\":{\"color\":\"red\",\"width\":1},\"lon\":[null,null],\"mode\":\"lines\",\"name\":\"nan\",\"type\":\"scattergeo\"},{\"lat\":[null,null],\"line\":{\"color\":\"red\",\"width\":1},\"lon\":[null,null],\"mode\":\"lines\",\"name\":\"nan\",\"type\":\"scattergeo\"},{\"lat\":[null,null],\"line\":{\"color\":\"red\",\"width\":1},\"lon\":[null,null],\"mode\":\"lines\",\"name\":\"nan\",\"type\":\"scattergeo\"},{\"lat\":[null,null],\"line\":{\"color\":\"red\",\"width\":1},\"lon\":[null,null],\"mode\":\"lines\",\"name\":\"nan\",\"type\":\"scattergeo\"},{\"lat\":[null,null],\"line\":{\"color\":\"red\",\"width\":1},\"lon\":[null,null],\"mode\":\"lines\",\"name\":\"nan\",\"type\":\"scattergeo\"},{\"lat\":[null,null],\"line\":{\"color\":\"red\",\"width\":1},\"lon\":[null,null],\"mode\":\"lines\",\"name\":\"nan\",\"type\":\"scattergeo\"},{\"lat\":[null,null],\"line\":{\"color\":\"red\",\"width\":1},\"lon\":[null,null],\"mode\":\"lines\",\"name\":\"nan\",\"type\":\"scattergeo\"},{\"lat\":[null,null],\"line\":{\"color\":\"red\",\"width\":1},\"lon\":[null,null],\"mode\":\"lines\",\"name\":\"nan\",\"type\":\"scattergeo\"},{\"lat\":[null,null],\"line\":{\"color\":\"red\",\"width\":1},\"lon\":[null,null],\"mode\":\"lines\",\"name\":\"nan\",\"type\":\"scattergeo\"},{\"lat\":[null,null],\"line\":{\"color\":\"red\",\"width\":1},\"lon\":[null,null],\"mode\":\"lines\",\"name\":\"nan\",\"type\":\"scattergeo\"},{\"lat\":[null,null],\"line\":{\"color\":\"red\",\"width\":1},\"lon\":[null,null],\"mode\":\"lines\",\"name\":\"nan\",\"type\":\"scattergeo\"},{\"lat\":[null,null],\"line\":{\"color\":\"red\",\"width\":1},\"lon\":[null,null],\"mode\":\"lines\",\"name\":\"nan\",\"type\":\"scattergeo\"},{\"lat\":[null,null],\"line\":{\"color\":\"red\",\"width\":1},\"lon\":[null,null],\"mode\":\"lines\",\"name\":\"nan\",\"type\":\"scattergeo\"},{\"lat\":[null,null],\"line\":{\"color\":\"red\",\"width\":1},\"lon\":[null,null],\"mode\":\"lines\",\"name\":\"nan\",\"type\":\"scattergeo\"},{\"lat\":[null,null],\"line\":{\"color\":\"red\",\"width\":1},\"lon\":[null,null],\"mode\":\"lines\",\"name\":\"nan\",\"type\":\"scattergeo\"},{\"lat\":[null,null],\"line\":{\"color\":\"red\",\"width\":1},\"lon\":[null,null],\"mode\":\"lines\",\"name\":\"nan\",\"type\":\"scattergeo\"},{\"lat\":[null,null],\"line\":{\"color\":\"red\",\"width\":1},\"lon\":[null,null],\"mode\":\"lines\",\"name\":\"nan\",\"type\":\"scattergeo\"},{\"lat\":[null,null],\"line\":{\"color\":\"red\",\"width\":1},\"lon\":[null,null],\"mode\":\"lines\",\"name\":\"nan\",\"type\":\"scattergeo\"},{\"lat\":[null,null],\"line\":{\"color\":\"red\",\"width\":1},\"lon\":[null,null],\"mode\":\"lines\",\"name\":\"nan\",\"type\":\"scattergeo\"},{\"lat\":[null,null],\"line\":{\"color\":\"red\",\"width\":1},\"lon\":[null,null],\"mode\":\"lines\",\"name\":\"nan\",\"type\":\"scattergeo\"},{\"lat\":[null,null],\"line\":{\"color\":\"red\",\"width\":1},\"lon\":[null,null],\"mode\":\"lines\",\"name\":\"nan\",\"type\":\"scattergeo\"},{\"lat\":[null,null],\"line\":{\"color\":\"red\",\"width\":1},\"lon\":[null,null],\"mode\":\"lines\",\"name\":\"nan\",\"type\":\"scattergeo\"},{\"lat\":[null,null],\"line\":{\"color\":\"red\",\"width\":1},\"lon\":[null,null],\"mode\":\"lines\",\"name\":\"nan\",\"type\":\"scattergeo\"},{\"lat\":[null,null],\"line\":{\"color\":\"red\",\"width\":1},\"lon\":[null,null],\"mode\":\"lines\",\"name\":\"nan\",\"type\":\"scattergeo\"},{\"lat\":[null,null],\"line\":{\"color\":\"red\",\"width\":1},\"lon\":[null,null],\"mode\":\"lines\",\"name\":\"nan\",\"type\":\"scattergeo\"},{\"lat\":[null,null],\"line\":{\"color\":\"red\",\"width\":1},\"lon\":[null,null],\"mode\":\"lines\",\"name\":\"nan\",\"type\":\"scattergeo\"},{\"lat\":[null,null],\"line\":{\"color\":\"red\",\"width\":1},\"lon\":[null,null],\"mode\":\"lines\",\"name\":\"nan\",\"type\":\"scattergeo\"},{\"lat\":[null,null],\"line\":{\"color\":\"red\",\"width\":1},\"lon\":[null,null],\"mode\":\"lines\",\"name\":\"nan\",\"type\":\"scattergeo\"},{\"lat\":[null,null],\"line\":{\"color\":\"red\",\"width\":1},\"lon\":[null,null],\"mode\":\"lines\",\"name\":\"nan\",\"type\":\"scattergeo\"},{\"lat\":[null,null],\"line\":{\"color\":\"red\",\"width\":1},\"lon\":[null,null],\"mode\":\"lines\",\"name\":\"nan\",\"type\":\"scattergeo\"},{\"lat\":[null,null],\"line\":{\"color\":\"red\",\"width\":1},\"lon\":[null,null],\"mode\":\"lines\",\"name\":\"nan\",\"type\":\"scattergeo\"},{\"lat\":[null,null],\"line\":{\"color\":\"red\",\"width\":1},\"lon\":[null,null],\"mode\":\"lines\",\"name\":\"nan\",\"type\":\"scattergeo\"},{\"lat\":[null,null],\"line\":{\"color\":\"red\",\"width\":1},\"lon\":[null,null],\"mode\":\"lines\",\"name\":\"nan\",\"type\":\"scattergeo\"},{\"lat\":[null,null],\"line\":{\"color\":\"red\",\"width\":1},\"lon\":[null,null],\"mode\":\"lines\",\"name\":\"nan\",\"type\":\"scattergeo\"},{\"lat\":[null,null],\"line\":{\"color\":\"red\",\"width\":1},\"lon\":[null,null],\"mode\":\"lines\",\"name\":\"nan\",\"type\":\"scattergeo\"},{\"lat\":[null,null],\"line\":{\"color\":\"red\",\"width\":1},\"lon\":[null,null],\"mode\":\"lines\",\"name\":\"nan\",\"type\":\"scattergeo\"},{\"lat\":[null,null],\"line\":{\"color\":\"red\",\"width\":1},\"lon\":[null,null],\"mode\":\"lines\",\"name\":\"nan\",\"type\":\"scattergeo\"},{\"lat\":[null,null],\"line\":{\"color\":\"red\",\"width\":1},\"lon\":[null,null],\"mode\":\"lines\",\"name\":\"nan\",\"type\":\"scattergeo\"},{\"lat\":[null,null],\"line\":{\"color\":\"red\",\"width\":1},\"lon\":[null,null],\"mode\":\"lines\",\"name\":\"nan\",\"type\":\"scattergeo\"},{\"lat\":[null,null],\"line\":{\"color\":\"red\",\"width\":1},\"lon\":[null,null],\"mode\":\"lines\",\"name\":\"nan\",\"type\":\"scattergeo\"},{\"lat\":[null,null],\"line\":{\"color\":\"red\",\"width\":1},\"lon\":[null,null],\"mode\":\"lines\",\"name\":\"nan\",\"type\":\"scattergeo\"},{\"lat\":[null,null],\"line\":{\"color\":\"red\",\"width\":1},\"lon\":[null,null],\"mode\":\"lines\",\"name\":\"nan\",\"type\":\"scattergeo\"},{\"lat\":[null,null],\"line\":{\"color\":\"red\",\"width\":1},\"lon\":[null,null],\"mode\":\"lines\",\"name\":\"nan\",\"type\":\"scattergeo\"},{\"lat\":[null,null],\"line\":{\"color\":\"red\",\"width\":1},\"lon\":[null,null],\"mode\":\"lines\",\"name\":\"nan\",\"type\":\"scattergeo\"},{\"lat\":[null,null],\"line\":{\"color\":\"red\",\"width\":1},\"lon\":[null,null],\"mode\":\"lines\",\"name\":\"nan\",\"type\":\"scattergeo\"},{\"lat\":[null,null],\"line\":{\"color\":\"red\",\"width\":1},\"lon\":[null,null],\"mode\":\"lines\",\"name\":\"nan\",\"type\":\"scattergeo\"},{\"lat\":[null,null],\"line\":{\"color\":\"red\",\"width\":1},\"lon\":[null,null],\"mode\":\"lines\",\"name\":\"nan\",\"type\":\"scattergeo\"},{\"lat\":[null,null],\"line\":{\"color\":\"red\",\"width\":1},\"lon\":[null,null],\"mode\":\"lines\",\"name\":\"nan\",\"type\":\"scattergeo\"},{\"lat\":[null,null],\"line\":{\"color\":\"red\",\"width\":1},\"lon\":[null,null],\"mode\":\"lines\",\"name\":\"nan\",\"type\":\"scattergeo\"},{\"lat\":[null,null],\"line\":{\"color\":\"red\",\"width\":1},\"lon\":[null,null],\"mode\":\"lines\",\"name\":\"nan\",\"type\":\"scattergeo\"},{\"lat\":[null,null],\"line\":{\"color\":\"red\",\"width\":1},\"lon\":[null,null],\"mode\":\"lines\",\"name\":\"nan\",\"type\":\"scattergeo\"},{\"lat\":[null,null],\"line\":{\"color\":\"red\",\"width\":1},\"lon\":[null,null],\"mode\":\"lines\",\"name\":\"nan\",\"type\":\"scattergeo\"},{\"lat\":[null,null],\"line\":{\"color\":\"red\",\"width\":1},\"lon\":[null,null],\"mode\":\"lines\",\"name\":\"nan\",\"type\":\"scattergeo\"},{\"lat\":[null,null],\"line\":{\"color\":\"red\",\"width\":1},\"lon\":[null,null],\"mode\":\"lines\",\"name\":\"nan\",\"type\":\"scattergeo\"},{\"lat\":[null,null],\"line\":{\"color\":\"red\",\"width\":1},\"lon\":[null,null],\"mode\":\"lines\",\"name\":\"nan\",\"type\":\"scattergeo\"},{\"lat\":[null,null],\"line\":{\"color\":\"red\",\"width\":1},\"lon\":[null,null],\"mode\":\"lines\",\"name\":\"nan\",\"type\":\"scattergeo\"},{\"lat\":[null,null],\"line\":{\"color\":\"red\",\"width\":1},\"lon\":[null,null],\"mode\":\"lines\",\"name\":\"nan\",\"type\":\"scattergeo\"},{\"lat\":[null,null],\"line\":{\"color\":\"red\",\"width\":1},\"lon\":[null,null],\"mode\":\"lines\",\"name\":\"nan\",\"type\":\"scattergeo\"},{\"lat\":[null,null],\"line\":{\"color\":\"red\",\"width\":1},\"lon\":[null,null],\"mode\":\"lines\",\"name\":\"nan\",\"type\":\"scattergeo\"},{\"lat\":[null,null],\"line\":{\"color\":\"red\",\"width\":1},\"lon\":[null,null],\"mode\":\"lines\",\"name\":\"nan\",\"type\":\"scattergeo\"},{\"lat\":[null,null],\"line\":{\"color\":\"red\",\"width\":1},\"lon\":[null,null],\"mode\":\"lines\",\"name\":\"nan\",\"type\":\"scattergeo\"},{\"lat\":[null,null],\"line\":{\"color\":\"red\",\"width\":1},\"lon\":[null,null],\"mode\":\"lines\",\"name\":\"nan\",\"type\":\"scattergeo\"},{\"lat\":[null,null],\"line\":{\"color\":\"red\",\"width\":1},\"lon\":[null,null],\"mode\":\"lines\",\"name\":\"nan\",\"type\":\"scattergeo\"},{\"lat\":[null,null],\"line\":{\"color\":\"red\",\"width\":1},\"lon\":[null,null],\"mode\":\"lines\",\"name\":\"nan\",\"type\":\"scattergeo\"},{\"lat\":[null,null],\"line\":{\"color\":\"red\",\"width\":1},\"lon\":[null,null],\"mode\":\"lines\",\"name\":\"nan\",\"type\":\"scattergeo\"},{\"lat\":[null,null],\"line\":{\"color\":\"red\",\"width\":1},\"lon\":[null,null],\"mode\":\"lines\",\"name\":\"nan\",\"type\":\"scattergeo\"},{\"lat\":[null,null],\"line\":{\"color\":\"red\",\"width\":1},\"lon\":[null,null],\"mode\":\"lines\",\"name\":\"nan\",\"type\":\"scattergeo\"},{\"lat\":[null,null],\"line\":{\"color\":\"red\",\"width\":1},\"lon\":[null,null],\"mode\":\"lines\",\"name\":\"nan\",\"type\":\"scattergeo\"},{\"lat\":[null,null],\"line\":{\"color\":\"red\",\"width\":1},\"lon\":[null,null],\"mode\":\"lines\",\"name\":\"nan\",\"type\":\"scattergeo\"},{\"lat\":[null,null],\"line\":{\"color\":\"red\",\"width\":1},\"lon\":[null,null],\"mode\":\"lines\",\"name\":\"nan\",\"type\":\"scattergeo\"},{\"lat\":[null,null],\"line\":{\"color\":\"red\",\"width\":1},\"lon\":[null,null],\"mode\":\"lines\",\"name\":\"nan\",\"type\":\"scattergeo\"},{\"lat\":[null,null],\"line\":{\"color\":\"red\",\"width\":1},\"lon\":[null,null],\"mode\":\"lines\",\"name\":\"nan\",\"type\":\"scattergeo\"},{\"lat\":[null,null],\"line\":{\"color\":\"red\",\"width\":1},\"lon\":[null,null],\"mode\":\"lines\",\"name\":\"nan\",\"type\":\"scattergeo\"},{\"lat\":[null,null],\"line\":{\"color\":\"red\",\"width\":1},\"lon\":[null,null],\"mode\":\"lines\",\"name\":\"nan\",\"type\":\"scattergeo\"},{\"lat\":[null,null],\"line\":{\"color\":\"red\",\"width\":1},\"lon\":[null,null],\"mode\":\"lines\",\"name\":\"nan\",\"type\":\"scattergeo\"},{\"lat\":[null,null],\"line\":{\"color\":\"red\",\"width\":1},\"lon\":[null,null],\"mode\":\"lines\",\"name\":\"nan\",\"type\":\"scattergeo\"},{\"lat\":[null,null],\"line\":{\"color\":\"red\",\"width\":1},\"lon\":[null,null],\"mode\":\"lines\",\"name\":\"nan\",\"type\":\"scattergeo\"},{\"lat\":[null,null],\"line\":{\"color\":\"red\",\"width\":1},\"lon\":[null,null],\"mode\":\"lines\",\"name\":\"nan\",\"type\":\"scattergeo\"},{\"lat\":[null,null],\"line\":{\"color\":\"red\",\"width\":1},\"lon\":[null,null],\"mode\":\"lines\",\"name\":\"nan\",\"type\":\"scattergeo\"},{\"lat\":[null,null],\"line\":{\"color\":\"red\",\"width\":1},\"lon\":[null,null],\"mode\":\"lines\",\"name\":\"nan\",\"type\":\"scattergeo\"},{\"lat\":[null,null],\"line\":{\"color\":\"red\",\"width\":1},\"lon\":[null,null],\"mode\":\"lines\",\"name\":\"nan\",\"type\":\"scattergeo\"},{\"lat\":[null,null],\"line\":{\"color\":\"red\",\"width\":1},\"lon\":[null,null],\"mode\":\"lines\",\"name\":\"nan\",\"type\":\"scattergeo\"},{\"lat\":[null,null],\"line\":{\"color\":\"red\",\"width\":1},\"lon\":[null,null],\"mode\":\"lines\",\"name\":\"nan\",\"type\":\"scattergeo\"},{\"lat\":[null,null],\"line\":{\"color\":\"red\",\"width\":1},\"lon\":[null,null],\"mode\":\"lines\",\"name\":\"nan\",\"type\":\"scattergeo\"},{\"lat\":[null,null],\"line\":{\"color\":\"red\",\"width\":1},\"lon\":[null,null],\"mode\":\"lines\",\"name\":\"nan\",\"type\":\"scattergeo\"},{\"lat\":[null,null],\"line\":{\"color\":\"red\",\"width\":1},\"lon\":[null,null],\"mode\":\"lines\",\"name\":\"nan\",\"type\":\"scattergeo\"},{\"lat\":[null,null],\"line\":{\"color\":\"red\",\"width\":1},\"lon\":[null,null],\"mode\":\"lines\",\"name\":\"nan\",\"type\":\"scattergeo\"},{\"lat\":[null,null],\"line\":{\"color\":\"red\",\"width\":1},\"lon\":[null,null],\"mode\":\"lines\",\"name\":\"nan\",\"type\":\"scattergeo\"},{\"lat\":[null,null],\"line\":{\"color\":\"red\",\"width\":1},\"lon\":[null,null],\"mode\":\"lines\",\"name\":\"nan\",\"type\":\"scattergeo\"},{\"lat\":[null,null],\"line\":{\"color\":\"red\",\"width\":1},\"lon\":[null,null],\"mode\":\"lines\",\"name\":\"nan\",\"type\":\"scattergeo\"},{\"lat\":[null,null],\"line\":{\"color\":\"red\",\"width\":1},\"lon\":[null,null],\"mode\":\"lines\",\"name\":\"nan\",\"type\":\"scattergeo\"},{\"lat\":[null,null],\"line\":{\"color\":\"red\",\"width\":1},\"lon\":[null,null],\"mode\":\"lines\",\"name\":\"nan\",\"type\":\"scattergeo\"},{\"lat\":[null,null],\"line\":{\"color\":\"red\",\"width\":1},\"lon\":[null,null],\"mode\":\"lines\",\"name\":\"nan\",\"type\":\"scattergeo\"},{\"lat\":[null,null],\"line\":{\"color\":\"red\",\"width\":1},\"lon\":[null,null],\"mode\":\"lines\",\"name\":\"nan\",\"type\":\"scattergeo\"},{\"lat\":[null,null],\"line\":{\"color\":\"red\",\"width\":1},\"lon\":[null,null],\"mode\":\"lines\",\"name\":\"nan\",\"type\":\"scattergeo\"},{\"lat\":[null,null],\"line\":{\"color\":\"red\",\"width\":1},\"lon\":[null,null],\"mode\":\"lines\",\"name\":\"nan\",\"type\":\"scattergeo\"},{\"lat\":[null,null],\"line\":{\"color\":\"red\",\"width\":1},\"lon\":[null,null],\"mode\":\"lines\",\"name\":\"nan\",\"type\":\"scattergeo\"},{\"lat\":[null,null],\"line\":{\"color\":\"red\",\"width\":1},\"lon\":[null,null],\"mode\":\"lines\",\"name\":\"nan\",\"type\":\"scattergeo\"},{\"lat\":[null,null],\"line\":{\"color\":\"red\",\"width\":1},\"lon\":[null,null],\"mode\":\"lines\",\"name\":\"nan\",\"type\":\"scattergeo\"},{\"lat\":[null,null],\"line\":{\"color\":\"red\",\"width\":1},\"lon\":[null,null],\"mode\":\"lines\",\"name\":\"nan\",\"type\":\"scattergeo\"},{\"lat\":[null,null],\"line\":{\"color\":\"red\",\"width\":1},\"lon\":[null,null],\"mode\":\"lines\",\"name\":\"nan\",\"type\":\"scattergeo\"},{\"lat\":[null,null],\"line\":{\"color\":\"red\",\"width\":1},\"lon\":[null,null],\"mode\":\"lines\",\"name\":\"nan\",\"type\":\"scattergeo\"},{\"lat\":[null,null],\"line\":{\"color\":\"red\",\"width\":1},\"lon\":[null,null],\"mode\":\"lines\",\"name\":\"nan\",\"type\":\"scattergeo\"},{\"lat\":[null,null],\"line\":{\"color\":\"red\",\"width\":1},\"lon\":[null,null],\"mode\":\"lines\",\"name\":\"nan\",\"type\":\"scattergeo\"},{\"lat\":[null,null],\"line\":{\"color\":\"red\",\"width\":1},\"lon\":[null,null],\"mode\":\"lines\",\"name\":\"nan\",\"type\":\"scattergeo\"},{\"lat\":[null,null],\"line\":{\"color\":\"red\",\"width\":1},\"lon\":[null,null],\"mode\":\"lines\",\"name\":\"nan\",\"type\":\"scattergeo\"},{\"lat\":[null,null],\"line\":{\"color\":\"red\",\"width\":1},\"lon\":[null,null],\"mode\":\"lines\",\"name\":\"nan\",\"type\":\"scattergeo\"},{\"lat\":[null,null],\"line\":{\"color\":\"red\",\"width\":1},\"lon\":[null,null],\"mode\":\"lines\",\"name\":\"nan\",\"type\":\"scattergeo\"},{\"lat\":[null,null],\"line\":{\"color\":\"red\",\"width\":1},\"lon\":[null,null],\"mode\":\"lines\",\"name\":\"nan\",\"type\":\"scattergeo\"},{\"lat\":[null,null],\"line\":{\"color\":\"red\",\"width\":1},\"lon\":[null,null],\"mode\":\"lines\",\"name\":\"nan\",\"type\":\"scattergeo\"},{\"lat\":[null,null],\"line\":{\"color\":\"red\",\"width\":1},\"lon\":[null,null],\"mode\":\"lines\",\"name\":\"nan\",\"type\":\"scattergeo\"},{\"lat\":[null,null],\"line\":{\"color\":\"red\",\"width\":1},\"lon\":[null,null],\"mode\":\"lines\",\"name\":\"nan\",\"type\":\"scattergeo\"},{\"lat\":[null,null],\"line\":{\"color\":\"red\",\"width\":1},\"lon\":[null,null],\"mode\":\"lines\",\"name\":\"nan\",\"type\":\"scattergeo\"},{\"lat\":[null,null],\"line\":{\"color\":\"red\",\"width\":1},\"lon\":[null,null],\"mode\":\"lines\",\"name\":\"nan\",\"type\":\"scattergeo\"},{\"lat\":[null,null],\"line\":{\"color\":\"red\",\"width\":1},\"lon\":[null,null],\"mode\":\"lines\",\"name\":\"nan\",\"type\":\"scattergeo\"},{\"lat\":[null,null],\"line\":{\"color\":\"red\",\"width\":1},\"lon\":[null,null],\"mode\":\"lines\",\"name\":\"nan\",\"type\":\"scattergeo\"},{\"lat\":[null,null],\"line\":{\"color\":\"red\",\"width\":1},\"lon\":[null,null],\"mode\":\"lines\",\"name\":\"nan\",\"type\":\"scattergeo\"},{\"lat\":[null,null],\"line\":{\"color\":\"red\",\"width\":1},\"lon\":[null,null],\"mode\":\"lines\",\"name\":\"nan\",\"type\":\"scattergeo\"},{\"lat\":[null,null],\"line\":{\"color\":\"red\",\"width\":1},\"lon\":[null,null],\"mode\":\"lines\",\"name\":\"nan\",\"type\":\"scattergeo\"},{\"lat\":[null,null],\"line\":{\"color\":\"red\",\"width\":1},\"lon\":[null,null],\"mode\":\"lines\",\"name\":\"nan\",\"type\":\"scattergeo\"},{\"lat\":[null,null],\"line\":{\"color\":\"red\",\"width\":1},\"lon\":[null,null],\"mode\":\"lines\",\"name\":\"nan\",\"type\":\"scattergeo\"},{\"lat\":[null,null],\"line\":{\"color\":\"red\",\"width\":1},\"lon\":[null,null],\"mode\":\"lines\",\"name\":\"nan\",\"type\":\"scattergeo\"},{\"lat\":[null,null],\"line\":{\"color\":\"red\",\"width\":1},\"lon\":[null,null],\"mode\":\"lines\",\"name\":\"nan\",\"type\":\"scattergeo\"},{\"lat\":[null,null],\"line\":{\"color\":\"red\",\"width\":1},\"lon\":[null,null],\"mode\":\"lines\",\"name\":\"nan\",\"type\":\"scattergeo\"},{\"lat\":[null,null],\"line\":{\"color\":\"red\",\"width\":1},\"lon\":[null,null],\"mode\":\"lines\",\"name\":\"nan\",\"type\":\"scattergeo\"},{\"lat\":[null,null],\"line\":{\"color\":\"red\",\"width\":1},\"lon\":[null,null],\"mode\":\"lines\",\"name\":\"nan\",\"type\":\"scattergeo\"},{\"lat\":[null,null],\"line\":{\"color\":\"red\",\"width\":1},\"lon\":[null,null],\"mode\":\"lines\",\"name\":\"nan\",\"type\":\"scattergeo\"},{\"lat\":[null,null],\"line\":{\"color\":\"red\",\"width\":1},\"lon\":[null,null],\"mode\":\"lines\",\"name\":\"nan\",\"type\":\"scattergeo\"},{\"lat\":[null,null],\"line\":{\"color\":\"red\",\"width\":1},\"lon\":[null,null],\"mode\":\"lines\",\"name\":\"nan\",\"type\":\"scattergeo\"},{\"lat\":[null,null],\"line\":{\"color\":\"red\",\"width\":1},\"lon\":[null,null],\"mode\":\"lines\",\"name\":\"nan\",\"type\":\"scattergeo\"},{\"lat\":[null,null],\"line\":{\"color\":\"red\",\"width\":1},\"lon\":[null,null],\"mode\":\"lines\",\"name\":\"nan\",\"type\":\"scattergeo\"},{\"lat\":[null,null],\"line\":{\"color\":\"red\",\"width\":1},\"lon\":[null,null],\"mode\":\"lines\",\"name\":\"nan\",\"type\":\"scattergeo\"},{\"lat\":[null,null],\"line\":{\"color\":\"red\",\"width\":1},\"lon\":[null,null],\"mode\":\"lines\",\"name\":\"nan\",\"type\":\"scattergeo\"},{\"lat\":[null,null],\"line\":{\"color\":\"red\",\"width\":1},\"lon\":[null,null],\"mode\":\"lines\",\"name\":\"nan\",\"type\":\"scattergeo\"},{\"lat\":[null,null],\"line\":{\"color\":\"red\",\"width\":1},\"lon\":[null,null],\"mode\":\"lines\",\"name\":\"nan\",\"type\":\"scattergeo\"},{\"lat\":[null,null],\"line\":{\"color\":\"red\",\"width\":1},\"lon\":[null,null],\"mode\":\"lines\",\"name\":\"nan\",\"type\":\"scattergeo\"},{\"lat\":[null,null],\"line\":{\"color\":\"red\",\"width\":1},\"lon\":[null,null],\"mode\":\"lines\",\"name\":\"nan\",\"type\":\"scattergeo\"},{\"lat\":[null,null],\"line\":{\"color\":\"red\",\"width\":1},\"lon\":[null,null],\"mode\":\"lines\",\"name\":\"nan\",\"type\":\"scattergeo\"},{\"lat\":[null,null],\"line\":{\"color\":\"red\",\"width\":1},\"lon\":[null,null],\"mode\":\"lines\",\"name\":\"nan\",\"type\":\"scattergeo\"},{\"lat\":[null,null],\"line\":{\"color\":\"red\",\"width\":1},\"lon\":[null,null],\"mode\":\"lines\",\"name\":\"nan\",\"type\":\"scattergeo\"},{\"lat\":[null,null],\"line\":{\"color\":\"red\",\"width\":1},\"lon\":[null,null],\"mode\":\"lines\",\"name\":\"nan\",\"type\":\"scattergeo\"},{\"lat\":[null,null],\"line\":{\"color\":\"red\",\"width\":1},\"lon\":[null,null],\"mode\":\"lines\",\"name\":\"nan\",\"type\":\"scattergeo\"},{\"lat\":[null,null],\"line\":{\"color\":\"red\",\"width\":1},\"lon\":[null,null],\"mode\":\"lines\",\"name\":\"nan\",\"type\":\"scattergeo\"},{\"lat\":[null,null],\"line\":{\"color\":\"red\",\"width\":1},\"lon\":[null,null],\"mode\":\"lines\",\"name\":\"nan\",\"type\":\"scattergeo\"},{\"lat\":[null,null],\"line\":{\"color\":\"red\",\"width\":1},\"lon\":[null,null],\"mode\":\"lines\",\"name\":\"nan\",\"type\":\"scattergeo\"},{\"lat\":[null,null],\"line\":{\"color\":\"red\",\"width\":1},\"lon\":[null,null],\"mode\":\"lines\",\"name\":\"nan\",\"type\":\"scattergeo\"},{\"lat\":[null,null],\"line\":{\"color\":\"red\",\"width\":1},\"lon\":[null,null],\"mode\":\"lines\",\"name\":\"nan\",\"type\":\"scattergeo\"},{\"lat\":[null,null],\"line\":{\"color\":\"red\",\"width\":1},\"lon\":[null,null],\"mode\":\"lines\",\"name\":\"nan\",\"type\":\"scattergeo\"},{\"lat\":[null,null],\"line\":{\"color\":\"red\",\"width\":1},\"lon\":[null,null],\"mode\":\"lines\",\"name\":\"nan\",\"type\":\"scattergeo\"},{\"lat\":[null,null],\"line\":{\"color\":\"red\",\"width\":1},\"lon\":[null,null],\"mode\":\"lines\",\"name\":\"nan\",\"type\":\"scattergeo\"},{\"lat\":[null,null],\"line\":{\"color\":\"red\",\"width\":1},\"lon\":[null,null],\"mode\":\"lines\",\"name\":\"nan\",\"type\":\"scattergeo\"},{\"lat\":[null,null],\"line\":{\"color\":\"red\",\"width\":1},\"lon\":[null,null],\"mode\":\"lines\",\"name\":\"nan\",\"type\":\"scattergeo\"},{\"lat\":[null,null],\"line\":{\"color\":\"red\",\"width\":1},\"lon\":[null,null],\"mode\":\"lines\",\"name\":\"nan\",\"type\":\"scattergeo\"},{\"lat\":[null,null],\"line\":{\"color\":\"red\",\"width\":1},\"lon\":[null,null],\"mode\":\"lines\",\"name\":\"nan\",\"type\":\"scattergeo\"},{\"lat\":[null,null],\"line\":{\"color\":\"red\",\"width\":1},\"lon\":[null,null],\"mode\":\"lines\",\"name\":\"nan\",\"type\":\"scattergeo\"},{\"lat\":[null,null],\"line\":{\"color\":\"red\",\"width\":1},\"lon\":[null,null],\"mode\":\"lines\",\"name\":\"nan\",\"type\":\"scattergeo\"},{\"lat\":[null,null],\"line\":{\"color\":\"red\",\"width\":1},\"lon\":[null,null],\"mode\":\"lines\",\"name\":\"nan\",\"type\":\"scattergeo\"},{\"lat\":[null,null],\"line\":{\"color\":\"red\",\"width\":1},\"lon\":[null,null],\"mode\":\"lines\",\"name\":\"nan\",\"type\":\"scattergeo\"},{\"lat\":[null,null],\"line\":{\"color\":\"red\",\"width\":1},\"lon\":[null,null],\"mode\":\"lines\",\"name\":\"nan\",\"type\":\"scattergeo\"},{\"lat\":[null,null],\"line\":{\"color\":\"red\",\"width\":1},\"lon\":[null,null],\"mode\":\"lines\",\"name\":\"nan\",\"type\":\"scattergeo\"},{\"lat\":[null,null],\"line\":{\"color\":\"red\",\"width\":1},\"lon\":[null,null],\"mode\":\"lines\",\"name\":\"nan\",\"type\":\"scattergeo\"},{\"lat\":[null,null],\"line\":{\"color\":\"red\",\"width\":1},\"lon\":[null,null],\"mode\":\"lines\",\"name\":\"nan\",\"type\":\"scattergeo\"},{\"lat\":[null,null],\"line\":{\"color\":\"red\",\"width\":1},\"lon\":[null,null],\"mode\":\"lines\",\"name\":\"nan\",\"type\":\"scattergeo\"},{\"lat\":[null,null],\"line\":{\"color\":\"red\",\"width\":1},\"lon\":[null,null],\"mode\":\"lines\",\"name\":\"nan\",\"type\":\"scattergeo\"},{\"lat\":[null,null],\"line\":{\"color\":\"red\",\"width\":1},\"lon\":[null,null],\"mode\":\"lines\",\"name\":\"nan\",\"type\":\"scattergeo\"},{\"lat\":[null,null],\"line\":{\"color\":\"red\",\"width\":1},\"lon\":[null,null],\"mode\":\"lines\",\"name\":\"nan\",\"type\":\"scattergeo\"},{\"lat\":[null,null],\"line\":{\"color\":\"red\",\"width\":1},\"lon\":[null,null],\"mode\":\"lines\",\"name\":\"nan\",\"type\":\"scattergeo\"},{\"lat\":[null,null],\"line\":{\"color\":\"red\",\"width\":1},\"lon\":[null,null],\"mode\":\"lines\",\"name\":\"nan\",\"type\":\"scattergeo\"},{\"lat\":[null,null],\"line\":{\"color\":\"red\",\"width\":1},\"lon\":[null,null],\"mode\":\"lines\",\"name\":\"nan\",\"type\":\"scattergeo\"},{\"lat\":[null,null],\"line\":{\"color\":\"red\",\"width\":1},\"lon\":[null,null],\"mode\":\"lines\",\"name\":\"nan\",\"type\":\"scattergeo\"},{\"lat\":[null,null],\"line\":{\"color\":\"red\",\"width\":1},\"lon\":[null,null],\"mode\":\"lines\",\"name\":\"nan\",\"type\":\"scattergeo\"},{\"lat\":[null,null],\"line\":{\"color\":\"red\",\"width\":1},\"lon\":[null,null],\"mode\":\"lines\",\"name\":\"nan\",\"type\":\"scattergeo\"},{\"lat\":[null,null],\"line\":{\"color\":\"red\",\"width\":1},\"lon\":[null,null],\"mode\":\"lines\",\"name\":\"nan\",\"type\":\"scattergeo\"},{\"lat\":[null,null],\"line\":{\"color\":\"red\",\"width\":1},\"lon\":[null,null],\"mode\":\"lines\",\"name\":\"nan\",\"type\":\"scattergeo\"},{\"lat\":[null,null],\"line\":{\"color\":\"red\",\"width\":1},\"lon\":[null,null],\"mode\":\"lines\",\"name\":\"nan\",\"type\":\"scattergeo\"},{\"lat\":[null,null],\"line\":{\"color\":\"red\",\"width\":1},\"lon\":[null,null],\"mode\":\"lines\",\"name\":\"nan\",\"type\":\"scattergeo\"},{\"lat\":[null,null],\"line\":{\"color\":\"red\",\"width\":1},\"lon\":[null,null],\"mode\":\"lines\",\"name\":\"nan\",\"type\":\"scattergeo\"},{\"lat\":[null,null],\"line\":{\"color\":\"red\",\"width\":1},\"lon\":[null,null],\"mode\":\"lines\",\"name\":\"nan\",\"type\":\"scattergeo\"},{\"lat\":[null,null],\"line\":{\"color\":\"red\",\"width\":1},\"lon\":[null,null],\"mode\":\"lines\",\"name\":\"nan\",\"type\":\"scattergeo\"},{\"lat\":[null,null],\"line\":{\"color\":\"red\",\"width\":1},\"lon\":[null,null],\"mode\":\"lines\",\"name\":\"nan\",\"type\":\"scattergeo\"},{\"lat\":[null,null],\"line\":{\"color\":\"red\",\"width\":1},\"lon\":[null,null],\"mode\":\"lines\",\"name\":\"nan\",\"type\":\"scattergeo\"},{\"lat\":[null,null],\"line\":{\"color\":\"red\",\"width\":1},\"lon\":[null,null],\"mode\":\"lines\",\"name\":\"nan\",\"type\":\"scattergeo\"},{\"lat\":[null,null],\"line\":{\"color\":\"red\",\"width\":1},\"lon\":[null,null],\"mode\":\"lines\",\"name\":\"nan\",\"type\":\"scattergeo\"},{\"lat\":[null,null],\"line\":{\"color\":\"red\",\"width\":1},\"lon\":[null,null],\"mode\":\"lines\",\"name\":\"nan\",\"type\":\"scattergeo\"},{\"lat\":[null,null],\"line\":{\"color\":\"red\",\"width\":1},\"lon\":[null,null],\"mode\":\"lines\",\"name\":\"nan\",\"type\":\"scattergeo\"},{\"lat\":[null,null],\"line\":{\"color\":\"red\",\"width\":1},\"lon\":[null,null],\"mode\":\"lines\",\"name\":\"nan\",\"type\":\"scattergeo\"},{\"lat\":[null,null],\"line\":{\"color\":\"red\",\"width\":1},\"lon\":[null,null],\"mode\":\"lines\",\"name\":\"nan\",\"type\":\"scattergeo\"},{\"lat\":[null,null],\"line\":{\"color\":\"red\",\"width\":1},\"lon\":[null,null],\"mode\":\"lines\",\"name\":\"nan\",\"type\":\"scattergeo\"},{\"lat\":[null,null],\"line\":{\"color\":\"red\",\"width\":1},\"lon\":[null,null],\"mode\":\"lines\",\"name\":\"nan\",\"type\":\"scattergeo\"},{\"lat\":[null,null],\"line\":{\"color\":\"red\",\"width\":1},\"lon\":[null,null],\"mode\":\"lines\",\"name\":\"nan\",\"type\":\"scattergeo\"},{\"lat\":[null,null],\"line\":{\"color\":\"red\",\"width\":1},\"lon\":[null,null],\"mode\":\"lines\",\"name\":\"nan\",\"type\":\"scattergeo\"},{\"lat\":[null,null],\"line\":{\"color\":\"red\",\"width\":1},\"lon\":[null,null],\"mode\":\"lines\",\"name\":\"nan\",\"type\":\"scattergeo\"},{\"lat\":[null,null],\"line\":{\"color\":\"red\",\"width\":1},\"lon\":[null,null],\"mode\":\"lines\",\"name\":\"nan\",\"type\":\"scattergeo\"},{\"lat\":[null,null],\"line\":{\"color\":\"red\",\"width\":1},\"lon\":[null,null],\"mode\":\"lines\",\"name\":\"nan\",\"type\":\"scattergeo\"},{\"lat\":[null,null],\"line\":{\"color\":\"red\",\"width\":1},\"lon\":[null,null],\"mode\":\"lines\",\"name\":\"nan\",\"type\":\"scattergeo\"},{\"lat\":[null,null],\"line\":{\"color\":\"red\",\"width\":1},\"lon\":[null,null],\"mode\":\"lines\",\"name\":\"nan\",\"type\":\"scattergeo\"},{\"lat\":[null,null],\"line\":{\"color\":\"red\",\"width\":1},\"lon\":[null,null],\"mode\":\"lines\",\"name\":\"nan\",\"type\":\"scattergeo\"},{\"lat\":[null,null],\"line\":{\"color\":\"red\",\"width\":1},\"lon\":[null,null],\"mode\":\"lines\",\"name\":\"nan\",\"type\":\"scattergeo\"},{\"lat\":[null,null],\"line\":{\"color\":\"red\",\"width\":1},\"lon\":[null,null],\"mode\":\"lines\",\"name\":\"nan\",\"type\":\"scattergeo\"},{\"lat\":[null,null],\"line\":{\"color\":\"red\",\"width\":1},\"lon\":[null,null],\"mode\":\"lines\",\"name\":\"nan\",\"type\":\"scattergeo\"},{\"lat\":[null,null],\"line\":{\"color\":\"red\",\"width\":1},\"lon\":[null,null],\"mode\":\"lines\",\"name\":\"nan\",\"type\":\"scattergeo\"},{\"lat\":[null,null],\"line\":{\"color\":\"red\",\"width\":1},\"lon\":[null,null],\"mode\":\"lines\",\"name\":\"nan\",\"type\":\"scattergeo\"},{\"lat\":[null,null],\"line\":{\"color\":\"red\",\"width\":1},\"lon\":[null,null],\"mode\":\"lines\",\"name\":\"nan\",\"type\":\"scattergeo\"},{\"lat\":[null,null],\"line\":{\"color\":\"red\",\"width\":1},\"lon\":[null,null],\"mode\":\"lines\",\"name\":\"nan\",\"type\":\"scattergeo\"},{\"lat\":[null,null],\"line\":{\"color\":\"red\",\"width\":1},\"lon\":[null,null],\"mode\":\"lines\",\"name\":\"nan\",\"type\":\"scattergeo\"},{\"lat\":[null,null],\"line\":{\"color\":\"red\",\"width\":1},\"lon\":[null,null],\"mode\":\"lines\",\"name\":\"nan\",\"type\":\"scattergeo\"},{\"lat\":[null,null],\"line\":{\"color\":\"red\",\"width\":1},\"lon\":[null,null],\"mode\":\"lines\",\"name\":\"nan\",\"type\":\"scattergeo\"},{\"lat\":[null,null],\"line\":{\"color\":\"red\",\"width\":1},\"lon\":[null,null],\"mode\":\"lines\",\"name\":\"nan\",\"type\":\"scattergeo\"},{\"lat\":[null,null],\"line\":{\"color\":\"red\",\"width\":1},\"lon\":[null,null],\"mode\":\"lines\",\"name\":\"nan\",\"type\":\"scattergeo\"},{\"lat\":[null,null],\"line\":{\"color\":\"red\",\"width\":1},\"lon\":[null,null],\"mode\":\"lines\",\"name\":\"nan\",\"type\":\"scattergeo\"},{\"lat\":[null,null],\"line\":{\"color\":\"red\",\"width\":1},\"lon\":[null,null],\"mode\":\"lines\",\"name\":\"nan\",\"type\":\"scattergeo\"},{\"lat\":[null,null],\"line\":{\"color\":\"red\",\"width\":1},\"lon\":[null,null],\"mode\":\"lines\",\"name\":\"nan\",\"type\":\"scattergeo\"},{\"lat\":[null,null],\"line\":{\"color\":\"red\",\"width\":1},\"lon\":[null,null],\"mode\":\"lines\",\"name\":\"nan\",\"type\":\"scattergeo\"},{\"lat\":[null,null],\"line\":{\"color\":\"red\",\"width\":1},\"lon\":[null,null],\"mode\":\"lines\",\"name\":\"nan\",\"type\":\"scattergeo\"},{\"lat\":[null,null],\"line\":{\"color\":\"red\",\"width\":1},\"lon\":[null,null],\"mode\":\"lines\",\"name\":\"nan\",\"type\":\"scattergeo\"},{\"lat\":[null,null],\"line\":{\"color\":\"red\",\"width\":1},\"lon\":[null,null],\"mode\":\"lines\",\"name\":\"nan\",\"type\":\"scattergeo\"},{\"lat\":[null,null],\"line\":{\"color\":\"red\",\"width\":1},\"lon\":[null,null],\"mode\":\"lines\",\"name\":\"nan\",\"type\":\"scattergeo\"},{\"lat\":[null,null],\"line\":{\"color\":\"red\",\"width\":1},\"lon\":[null,null],\"mode\":\"lines\",\"name\":\"nan\",\"type\":\"scattergeo\"},{\"lat\":[null,null],\"line\":{\"color\":\"red\",\"width\":1},\"lon\":[null,null],\"mode\":\"lines\",\"name\":\"nan\",\"type\":\"scattergeo\"},{\"lat\":[null,null],\"line\":{\"color\":\"red\",\"width\":1},\"lon\":[null,null],\"mode\":\"lines\",\"name\":\"nan\",\"type\":\"scattergeo\"},{\"lat\":[null,null],\"line\":{\"color\":\"red\",\"width\":1},\"lon\":[null,null],\"mode\":\"lines\",\"name\":\"nan\",\"type\":\"scattergeo\"},{\"lat\":[null,null],\"line\":{\"color\":\"red\",\"width\":1},\"lon\":[null,null],\"mode\":\"lines\",\"name\":\"nan\",\"type\":\"scattergeo\"},{\"lat\":[null,null],\"line\":{\"color\":\"red\",\"width\":1},\"lon\":[null,null],\"mode\":\"lines\",\"name\":\"nan\",\"type\":\"scattergeo\"},{\"lat\":[null,null],\"line\":{\"color\":\"red\",\"width\":1},\"lon\":[null,null],\"mode\":\"lines\",\"name\":\"nan\",\"type\":\"scattergeo\"},{\"lat\":[null,null],\"line\":{\"color\":\"red\",\"width\":1},\"lon\":[null,null],\"mode\":\"lines\",\"name\":\"nan\",\"type\":\"scattergeo\"},{\"lat\":[null,null],\"line\":{\"color\":\"red\",\"width\":1},\"lon\":[null,null],\"mode\":\"lines\",\"name\":\"nan\",\"type\":\"scattergeo\"},{\"lat\":[null,null],\"line\":{\"color\":\"red\",\"width\":1},\"lon\":[null,null],\"mode\":\"lines\",\"name\":\"nan\",\"type\":\"scattergeo\"},{\"lat\":[null,null],\"line\":{\"color\":\"red\",\"width\":1},\"lon\":[null,null],\"mode\":\"lines\",\"name\":\"nan\",\"type\":\"scattergeo\"},{\"lat\":[null,null],\"line\":{\"color\":\"red\",\"width\":1},\"lon\":[null,null],\"mode\":\"lines\",\"name\":\"nan\",\"type\":\"scattergeo\"},{\"lat\":[null,null],\"line\":{\"color\":\"red\",\"width\":1},\"lon\":[null,null],\"mode\":\"lines\",\"name\":\"nan\",\"type\":\"scattergeo\"},{\"lat\":[null,null],\"line\":{\"color\":\"red\",\"width\":1},\"lon\":[null,null],\"mode\":\"lines\",\"name\":\"nan\",\"type\":\"scattergeo\"},{\"lat\":[null,null],\"line\":{\"color\":\"red\",\"width\":1},\"lon\":[null,null],\"mode\":\"lines\",\"name\":\"nan\",\"type\":\"scattergeo\"},{\"lat\":[null,null],\"line\":{\"color\":\"red\",\"width\":1},\"lon\":[null,null],\"mode\":\"lines\",\"name\":\"nan\",\"type\":\"scattergeo\"},{\"lat\":[null,null],\"line\":{\"color\":\"red\",\"width\":1},\"lon\":[null,null],\"mode\":\"lines\",\"name\":\"nan\",\"type\":\"scattergeo\"},{\"lat\":[null,null],\"line\":{\"color\":\"red\",\"width\":1},\"lon\":[null,null],\"mode\":\"lines\",\"name\":\"nan\",\"type\":\"scattergeo\"},{\"lat\":[null,null],\"line\":{\"color\":\"red\",\"width\":1},\"lon\":[null,null],\"mode\":\"lines\",\"name\":\"nan\",\"type\":\"scattergeo\"},{\"lat\":[null,null],\"line\":{\"color\":\"red\",\"width\":1},\"lon\":[null,null],\"mode\":\"lines\",\"name\":\"nan\",\"type\":\"scattergeo\"},{\"lat\":[null,null],\"line\":{\"color\":\"red\",\"width\":1},\"lon\":[null,null],\"mode\":\"lines\",\"name\":\"nan\",\"type\":\"scattergeo\"},{\"lat\":[null,null],\"line\":{\"color\":\"red\",\"width\":1},\"lon\":[null,null],\"mode\":\"lines\",\"name\":\"nan\",\"type\":\"scattergeo\"},{\"lat\":[null,null],\"line\":{\"color\":\"red\",\"width\":1},\"lon\":[null,null],\"mode\":\"lines\",\"name\":\"nan\",\"type\":\"scattergeo\"},{\"lat\":[null,null],\"line\":{\"color\":\"red\",\"width\":1},\"lon\":[null,null],\"mode\":\"lines\",\"name\":\"nan\",\"type\":\"scattergeo\"},{\"lat\":[null,null],\"line\":{\"color\":\"red\",\"width\":1},\"lon\":[null,null],\"mode\":\"lines\",\"name\":\"nan\",\"type\":\"scattergeo\"},{\"lat\":[null,null],\"line\":{\"color\":\"red\",\"width\":1},\"lon\":[null,null],\"mode\":\"lines\",\"name\":\"nan\",\"type\":\"scattergeo\"},{\"lat\":[null,null],\"line\":{\"color\":\"red\",\"width\":1},\"lon\":[null,null],\"mode\":\"lines\",\"name\":\"nan\",\"type\":\"scattergeo\"},{\"lat\":[null,null],\"line\":{\"color\":\"red\",\"width\":1},\"lon\":[null,null],\"mode\":\"lines\",\"name\":\"nan\",\"type\":\"scattergeo\"},{\"lat\":[null,null],\"line\":{\"color\":\"red\",\"width\":1},\"lon\":[null,null],\"mode\":\"lines\",\"name\":\"nan\",\"type\":\"scattergeo\"},{\"lat\":[null,null],\"line\":{\"color\":\"red\",\"width\":1},\"lon\":[null,null],\"mode\":\"lines\",\"name\":\"nan\",\"type\":\"scattergeo\"},{\"lat\":[null,null],\"line\":{\"color\":\"red\",\"width\":1},\"lon\":[null,null],\"mode\":\"lines\",\"name\":\"nan\",\"type\":\"scattergeo\"},{\"lat\":[null,null],\"line\":{\"color\":\"red\",\"width\":1},\"lon\":[null,null],\"mode\":\"lines\",\"name\":\"nan\",\"type\":\"scattergeo\"},{\"lat\":[null,null],\"line\":{\"color\":\"red\",\"width\":1},\"lon\":[null,null],\"mode\":\"lines\",\"name\":\"nan\",\"type\":\"scattergeo\"},{\"lat\":[null,null],\"line\":{\"color\":\"red\",\"width\":1},\"lon\":[null,null],\"mode\":\"lines\",\"name\":\"nan\",\"type\":\"scattergeo\"},{\"lat\":[null,null],\"line\":{\"color\":\"red\",\"width\":1},\"lon\":[null,null],\"mode\":\"lines\",\"name\":\"nan\",\"type\":\"scattergeo\"},{\"lat\":[null,null],\"line\":{\"color\":\"red\",\"width\":1},\"lon\":[null,null],\"mode\":\"lines\",\"name\":\"nan\",\"type\":\"scattergeo\"},{\"lat\":[null,null],\"line\":{\"color\":\"red\",\"width\":1},\"lon\":[null,null],\"mode\":\"lines\",\"name\":\"nan\",\"type\":\"scattergeo\"},{\"lat\":[null,null],\"line\":{\"color\":\"red\",\"width\":1},\"lon\":[null,null],\"mode\":\"lines\",\"name\":\"nan\",\"type\":\"scattergeo\"},{\"lat\":[null,null],\"line\":{\"color\":\"red\",\"width\":1},\"lon\":[null,null],\"mode\":\"lines\",\"name\":\"nan\",\"type\":\"scattergeo\"},{\"lat\":[null,null],\"line\":{\"color\":\"red\",\"width\":1},\"lon\":[null,null],\"mode\":\"lines\",\"name\":\"nan\",\"type\":\"scattergeo\"},{\"lat\":[null,null],\"line\":{\"color\":\"red\",\"width\":1},\"lon\":[null,null],\"mode\":\"lines\",\"name\":\"nan\",\"type\":\"scattergeo\"},{\"lat\":[null,null],\"line\":{\"color\":\"red\",\"width\":1},\"lon\":[null,null],\"mode\":\"lines\",\"name\":\"nan\",\"type\":\"scattergeo\"},{\"lat\":[null,null],\"line\":{\"color\":\"red\",\"width\":1},\"lon\":[null,null],\"mode\":\"lines\",\"name\":\"nan\",\"type\":\"scattergeo\"},{\"lat\":[null,null],\"line\":{\"color\":\"red\",\"width\":1},\"lon\":[null,null],\"mode\":\"lines\",\"name\":\"nan\",\"type\":\"scattergeo\"},{\"lat\":[null,null],\"line\":{\"color\":\"red\",\"width\":1},\"lon\":[null,null],\"mode\":\"lines\",\"name\":\"nan\",\"type\":\"scattergeo\"},{\"lat\":[null,null],\"line\":{\"color\":\"red\",\"width\":1},\"lon\":[null,null],\"mode\":\"lines\",\"name\":\"nan\",\"type\":\"scattergeo\"},{\"lat\":[null,null],\"line\":{\"color\":\"red\",\"width\":1},\"lon\":[null,null],\"mode\":\"lines\",\"name\":\"nan\",\"type\":\"scattergeo\"},{\"lat\":[null,null],\"line\":{\"color\":\"red\",\"width\":1},\"lon\":[null,null],\"mode\":\"lines\",\"name\":\"nan\",\"type\":\"scattergeo\"},{\"lat\":[null,null],\"line\":{\"color\":\"red\",\"width\":1},\"lon\":[null,null],\"mode\":\"lines\",\"name\":\"nan\",\"type\":\"scattergeo\"},{\"lat\":[null,null],\"line\":{\"color\":\"red\",\"width\":1},\"lon\":[null,null],\"mode\":\"lines\",\"name\":\"nan\",\"type\":\"scattergeo\"},{\"lat\":[null,null],\"line\":{\"color\":\"red\",\"width\":1},\"lon\":[null,null],\"mode\":\"lines\",\"name\":\"nan\",\"type\":\"scattergeo\"},{\"lat\":[null,null],\"line\":{\"color\":\"red\",\"width\":1},\"lon\":[null,null],\"mode\":\"lines\",\"name\":\"nan\",\"type\":\"scattergeo\"},{\"lat\":[null,null],\"line\":{\"color\":\"red\",\"width\":1},\"lon\":[null,null],\"mode\":\"lines\",\"name\":\"nan\",\"type\":\"scattergeo\"},{\"lat\":[null,null],\"line\":{\"color\":\"red\",\"width\":1},\"lon\":[null,null],\"mode\":\"lines\",\"name\":\"nan\",\"type\":\"scattergeo\"},{\"lat\":[null,null],\"line\":{\"color\":\"red\",\"width\":1},\"lon\":[null,null],\"mode\":\"lines\",\"name\":\"nan\",\"type\":\"scattergeo\"},{\"lat\":[null,null],\"line\":{\"color\":\"red\",\"width\":1},\"lon\":[null,null],\"mode\":\"lines\",\"name\":\"nan\",\"type\":\"scattergeo\"},{\"lat\":[null,null],\"line\":{\"color\":\"red\",\"width\":1},\"lon\":[null,null],\"mode\":\"lines\",\"name\":\"nan\",\"type\":\"scattergeo\"},{\"lat\":[null,null],\"line\":{\"color\":\"red\",\"width\":1},\"lon\":[null,null],\"mode\":\"lines\",\"name\":\"nan\",\"type\":\"scattergeo\"},{\"lat\":[null,null],\"line\":{\"color\":\"red\",\"width\":1},\"lon\":[null,null],\"mode\":\"lines\",\"name\":\"nan\",\"type\":\"scattergeo\"},{\"lat\":[null,null],\"line\":{\"color\":\"red\",\"width\":1},\"lon\":[null,null],\"mode\":\"lines\",\"name\":\"nan\",\"type\":\"scattergeo\"},{\"lat\":[null,null],\"line\":{\"color\":\"red\",\"width\":1},\"lon\":[null,null],\"mode\":\"lines\",\"name\":\"nan\",\"type\":\"scattergeo\"},{\"lat\":[null,null],\"line\":{\"color\":\"red\",\"width\":1},\"lon\":[null,null],\"mode\":\"lines\",\"name\":\"nan\",\"type\":\"scattergeo\"},{\"lat\":[null,null],\"line\":{\"color\":\"red\",\"width\":1},\"lon\":[null,null],\"mode\":\"lines\",\"name\":\"nan\",\"type\":\"scattergeo\"},{\"lat\":[null,null],\"line\":{\"color\":\"red\",\"width\":1},\"lon\":[null,null],\"mode\":\"lines\",\"name\":\"nan\",\"type\":\"scattergeo\"},{\"lat\":[null,null],\"line\":{\"color\":\"red\",\"width\":1},\"lon\":[null,null],\"mode\":\"lines\",\"name\":\"nan\",\"type\":\"scattergeo\"},{\"lat\":[null,null],\"line\":{\"color\":\"red\",\"width\":1},\"lon\":[null,null],\"mode\":\"lines\",\"name\":\"nan\",\"type\":\"scattergeo\"},{\"lat\":[null,null],\"line\":{\"color\":\"red\",\"width\":1},\"lon\":[null,null],\"mode\":\"lines\",\"name\":\"nan\",\"type\":\"scattergeo\"},{\"lat\":[null,null],\"line\":{\"color\":\"red\",\"width\":1},\"lon\":[null,null],\"mode\":\"lines\",\"name\":\"nan\",\"type\":\"scattergeo\"},{\"lat\":[null,null],\"line\":{\"color\":\"red\",\"width\":1},\"lon\":[null,null],\"mode\":\"lines\",\"name\":\"nan\",\"type\":\"scattergeo\"},{\"lat\":[null,null],\"line\":{\"color\":\"red\",\"width\":1},\"lon\":[null,null],\"mode\":\"lines\",\"name\":\"nan\",\"type\":\"scattergeo\"},{\"lat\":[null,null],\"line\":{\"color\":\"red\",\"width\":1},\"lon\":[null,null],\"mode\":\"lines\",\"name\":\"nan\",\"type\":\"scattergeo\"},{\"lat\":[null,null],\"line\":{\"color\":\"red\",\"width\":1},\"lon\":[null,null],\"mode\":\"lines\",\"name\":\"nan\",\"type\":\"scattergeo\"},{\"lat\":[null,null],\"line\":{\"color\":\"red\",\"width\":1},\"lon\":[null,null],\"mode\":\"lines\",\"name\":\"nan\",\"type\":\"scattergeo\"},{\"lat\":[null,null],\"line\":{\"color\":\"red\",\"width\":1},\"lon\":[null,null],\"mode\":\"lines\",\"name\":\"nan\",\"type\":\"scattergeo\"},{\"lat\":[null,null],\"line\":{\"color\":\"red\",\"width\":1},\"lon\":[null,null],\"mode\":\"lines\",\"name\":\"nan\",\"type\":\"scattergeo\"},{\"lat\":[null,null],\"line\":{\"color\":\"red\",\"width\":1},\"lon\":[null,null],\"mode\":\"lines\",\"name\":\"nan\",\"type\":\"scattergeo\"},{\"lat\":[null,null],\"line\":{\"color\":\"red\",\"width\":1},\"lon\":[null,null],\"mode\":\"lines\",\"name\":\"nan\",\"type\":\"scattergeo\"},{\"lat\":[null,null],\"line\":{\"color\":\"red\",\"width\":1},\"lon\":[null,null],\"mode\":\"lines\",\"name\":\"nan\",\"type\":\"scattergeo\"},{\"lat\":[null,null],\"line\":{\"color\":\"red\",\"width\":1},\"lon\":[null,null],\"mode\":\"lines\",\"name\":\"nan\",\"type\":\"scattergeo\"},{\"lat\":[null,null],\"line\":{\"color\":\"red\",\"width\":1},\"lon\":[null,null],\"mode\":\"lines\",\"name\":\"nan\",\"type\":\"scattergeo\"},{\"lat\":[null,null],\"line\":{\"color\":\"red\",\"width\":1},\"lon\":[null,null],\"mode\":\"lines\",\"name\":\"nan\",\"type\":\"scattergeo\"},{\"lat\":[null,null],\"line\":{\"color\":\"red\",\"width\":1},\"lon\":[null,null],\"mode\":\"lines\",\"name\":\"nan\",\"type\":\"scattergeo\"},{\"lat\":[null,null],\"line\":{\"color\":\"red\",\"width\":1},\"lon\":[null,null],\"mode\":\"lines\",\"name\":\"nan\",\"type\":\"scattergeo\"},{\"lat\":[null,null],\"line\":{\"color\":\"red\",\"width\":1},\"lon\":[null,null],\"mode\":\"lines\",\"name\":\"nan\",\"type\":\"scattergeo\"},{\"lat\":[null,null],\"line\":{\"color\":\"red\",\"width\":1},\"lon\":[null,null],\"mode\":\"lines\",\"name\":\"nan\",\"type\":\"scattergeo\"},{\"lat\":[null,null],\"line\":{\"color\":\"red\",\"width\":1},\"lon\":[null,null],\"mode\":\"lines\",\"name\":\"nan\",\"type\":\"scattergeo\"},{\"lat\":[null,null],\"line\":{\"color\":\"red\",\"width\":1},\"lon\":[null,null],\"mode\":\"lines\",\"name\":\"nan\",\"type\":\"scattergeo\"},{\"lat\":[null,null],\"line\":{\"color\":\"red\",\"width\":1},\"lon\":[null,null],\"mode\":\"lines\",\"name\":\"nan\",\"type\":\"scattergeo\"},{\"lat\":[null,null],\"line\":{\"color\":\"red\",\"width\":1},\"lon\":[null,null],\"mode\":\"lines\",\"name\":\"nan\",\"type\":\"scattergeo\"},{\"lat\":[null,null],\"line\":{\"color\":\"red\",\"width\":1},\"lon\":[null,null],\"mode\":\"lines\",\"name\":\"nan\",\"type\":\"scattergeo\"},{\"lat\":[null,null],\"line\":{\"color\":\"red\",\"width\":1},\"lon\":[null,null],\"mode\":\"lines\",\"name\":\"nan\",\"type\":\"scattergeo\"},{\"lat\":[null,null],\"line\":{\"color\":\"red\",\"width\":1},\"lon\":[null,null],\"mode\":\"lines\",\"name\":\"nan\",\"type\":\"scattergeo\"},{\"lat\":[null,null],\"line\":{\"color\":\"red\",\"width\":1},\"lon\":[null,null],\"mode\":\"lines\",\"name\":\"nan\",\"type\":\"scattergeo\"},{\"lat\":[null,null],\"line\":{\"color\":\"red\",\"width\":1},\"lon\":[null,null],\"mode\":\"lines\",\"name\":\"nan\",\"type\":\"scattergeo\"},{\"lat\":[null,null],\"line\":{\"color\":\"red\",\"width\":1},\"lon\":[null,null],\"mode\":\"lines\",\"name\":\"nan\",\"type\":\"scattergeo\"},{\"lat\":[null,null],\"line\":{\"color\":\"red\",\"width\":1},\"lon\":[null,null],\"mode\":\"lines\",\"name\":\"nan\",\"type\":\"scattergeo\"},{\"lat\":[null,null],\"line\":{\"color\":\"red\",\"width\":1},\"lon\":[null,null],\"mode\":\"lines\",\"name\":\"nan\",\"type\":\"scattergeo\"},{\"lat\":[null,null],\"line\":{\"color\":\"red\",\"width\":1},\"lon\":[null,null],\"mode\":\"lines\",\"name\":\"nan\",\"type\":\"scattergeo\"},{\"lat\":[null,null],\"line\":{\"color\":\"red\",\"width\":1},\"lon\":[null,null],\"mode\":\"lines\",\"name\":\"nan\",\"type\":\"scattergeo\"},{\"lat\":[null,null],\"line\":{\"color\":\"red\",\"width\":1},\"lon\":[null,null],\"mode\":\"lines\",\"name\":\"nan\",\"type\":\"scattergeo\"},{\"lat\":[null,null],\"line\":{\"color\":\"red\",\"width\":1},\"lon\":[null,null],\"mode\":\"lines\",\"name\":\"nan\",\"type\":\"scattergeo\"},{\"lat\":[null,null],\"line\":{\"color\":\"red\",\"width\":1},\"lon\":[null,null],\"mode\":\"lines\",\"name\":\"nan\",\"type\":\"scattergeo\"},{\"lat\":[null,null],\"line\":{\"color\":\"red\",\"width\":1},\"lon\":[null,null],\"mode\":\"lines\",\"name\":\"nan\",\"type\":\"scattergeo\"},{\"lat\":[null,null],\"line\":{\"color\":\"red\",\"width\":1},\"lon\":[null,null],\"mode\":\"lines\",\"name\":\"nan\",\"type\":\"scattergeo\"},{\"lat\":[null,null],\"line\":{\"color\":\"red\",\"width\":1},\"lon\":[null,null],\"mode\":\"lines\",\"name\":\"nan\",\"type\":\"scattergeo\"},{\"lat\":[null,null],\"line\":{\"color\":\"red\",\"width\":1},\"lon\":[null,null],\"mode\":\"lines\",\"name\":\"nan\",\"type\":\"scattergeo\"},{\"lat\":[null,null],\"line\":{\"color\":\"red\",\"width\":1},\"lon\":[null,null],\"mode\":\"lines\",\"name\":\"nan\",\"type\":\"scattergeo\"},{\"lat\":[null,null],\"line\":{\"color\":\"red\",\"width\":1},\"lon\":[null,null],\"mode\":\"lines\",\"name\":\"nan\",\"type\":\"scattergeo\"},{\"lat\":[null,null],\"line\":{\"color\":\"red\",\"width\":1},\"lon\":[null,null],\"mode\":\"lines\",\"name\":\"nan\",\"type\":\"scattergeo\"},{\"lat\":[null,null],\"line\":{\"color\":\"red\",\"width\":1},\"lon\":[null,null],\"mode\":\"lines\",\"name\":\"nan\",\"type\":\"scattergeo\"},{\"lat\":[null,null],\"line\":{\"color\":\"red\",\"width\":1},\"lon\":[null,null],\"mode\":\"lines\",\"name\":\"nan\",\"type\":\"scattergeo\"},{\"lat\":[null,null],\"line\":{\"color\":\"red\",\"width\":1},\"lon\":[null,null],\"mode\":\"lines\",\"name\":\"nan\",\"type\":\"scattergeo\"},{\"lat\":[null,null],\"line\":{\"color\":\"red\",\"width\":1},\"lon\":[null,null],\"mode\":\"lines\",\"name\":\"nan\",\"type\":\"scattergeo\"},{\"lat\":[null,null],\"line\":{\"color\":\"red\",\"width\":1},\"lon\":[null,null],\"mode\":\"lines\",\"name\":\"nan\",\"type\":\"scattergeo\"},{\"lat\":[null,null],\"line\":{\"color\":\"red\",\"width\":1},\"lon\":[null,null],\"mode\":\"lines\",\"name\":\"nan\",\"type\":\"scattergeo\"},{\"lat\":[null,null],\"line\":{\"color\":\"red\",\"width\":1},\"lon\":[null,null],\"mode\":\"lines\",\"name\":\"nan\",\"type\":\"scattergeo\"},{\"lat\":[null,null],\"line\":{\"color\":\"red\",\"width\":1},\"lon\":[null,null],\"mode\":\"lines\",\"name\":\"nan\",\"type\":\"scattergeo\"},{\"lat\":[null,null],\"line\":{\"color\":\"red\",\"width\":1},\"lon\":[null,null],\"mode\":\"lines\",\"name\":\"nan\",\"type\":\"scattergeo\"},{\"lat\":[null,null],\"line\":{\"color\":\"red\",\"width\":1},\"lon\":[null,null],\"mode\":\"lines\",\"name\":\"nan\",\"type\":\"scattergeo\"},{\"lat\":[null,null],\"line\":{\"color\":\"red\",\"width\":1},\"lon\":[null,null],\"mode\":\"lines\",\"name\":\"nan\",\"type\":\"scattergeo\"},{\"lat\":[null,null],\"line\":{\"color\":\"red\",\"width\":1},\"lon\":[null,null],\"mode\":\"lines\",\"name\":\"nan\",\"type\":\"scattergeo\"},{\"lat\":[null,null],\"line\":{\"color\":\"red\",\"width\":1},\"lon\":[null,null],\"mode\":\"lines\",\"name\":\"nan\",\"type\":\"scattergeo\"},{\"lat\":[null,null],\"line\":{\"color\":\"red\",\"width\":1},\"lon\":[null,null],\"mode\":\"lines\",\"name\":\"nan\",\"type\":\"scattergeo\"},{\"lat\":[null,null],\"line\":{\"color\":\"red\",\"width\":1},\"lon\":[null,null],\"mode\":\"lines\",\"name\":\"nan\",\"type\":\"scattergeo\"},{\"lat\":[null,null],\"line\":{\"color\":\"red\",\"width\":1},\"lon\":[null,null],\"mode\":\"lines\",\"name\":\"nan\",\"type\":\"scattergeo\"},{\"lat\":[null,null],\"line\":{\"color\":\"red\",\"width\":1},\"lon\":[null,null],\"mode\":\"lines\",\"name\":\"nan\",\"type\":\"scattergeo\"},{\"lat\":[null,null],\"line\":{\"color\":\"red\",\"width\":1},\"lon\":[null,null],\"mode\":\"lines\",\"name\":\"nan\",\"type\":\"scattergeo\"},{\"lat\":[null,null],\"line\":{\"color\":\"red\",\"width\":1},\"lon\":[null,null],\"mode\":\"lines\",\"name\":\"nan\",\"type\":\"scattergeo\"},{\"lat\":[null,null],\"line\":{\"color\":\"red\",\"width\":1},\"lon\":[null,null],\"mode\":\"lines\",\"name\":\"nan\",\"type\":\"scattergeo\"},{\"lat\":[null,null],\"line\":{\"color\":\"red\",\"width\":1},\"lon\":[null,null],\"mode\":\"lines\",\"name\":\"nan\",\"type\":\"scattergeo\"},{\"lat\":[null,null],\"line\":{\"color\":\"red\",\"width\":1},\"lon\":[null,null],\"mode\":\"lines\",\"name\":\"nan\",\"type\":\"scattergeo\"},{\"lat\":[null,null],\"line\":{\"color\":\"red\",\"width\":1},\"lon\":[null,null],\"mode\":\"lines\",\"name\":\"nan\",\"type\":\"scattergeo\"},{\"lat\":[null,null],\"line\":{\"color\":\"red\",\"width\":1},\"lon\":[null,null],\"mode\":\"lines\",\"name\":\"nan\",\"type\":\"scattergeo\"},{\"lat\":[null,null],\"line\":{\"color\":\"red\",\"width\":1},\"lon\":[null,null],\"mode\":\"lines\",\"name\":\"nan\",\"type\":\"scattergeo\"},{\"lat\":[null,null],\"line\":{\"color\":\"red\",\"width\":1},\"lon\":[null,null],\"mode\":\"lines\",\"name\":\"nan\",\"type\":\"scattergeo\"},{\"lat\":[null,null],\"line\":{\"color\":\"red\",\"width\":1},\"lon\":[null,null],\"mode\":\"lines\",\"name\":\"nan\",\"type\":\"scattergeo\"},{\"lat\":[null,null],\"line\":{\"color\":\"red\",\"width\":1},\"lon\":[null,null],\"mode\":\"lines\",\"name\":\"nan\",\"type\":\"scattergeo\"},{\"lat\":[null,null],\"line\":{\"color\":\"red\",\"width\":1},\"lon\":[null,null],\"mode\":\"lines\",\"name\":\"nan\",\"type\":\"scattergeo\"},{\"lat\":[null,null],\"line\":{\"color\":\"red\",\"width\":1},\"lon\":[null,null],\"mode\":\"lines\",\"name\":\"nan\",\"type\":\"scattergeo\"},{\"lat\":[null,null],\"line\":{\"color\":\"red\",\"width\":1},\"lon\":[null,null],\"mode\":\"lines\",\"name\":\"nan\",\"type\":\"scattergeo\"},{\"lat\":[null,null],\"line\":{\"color\":\"red\",\"width\":1},\"lon\":[null,null],\"mode\":\"lines\",\"name\":\"nan\",\"type\":\"scattergeo\"},{\"lat\":[null,null],\"line\":{\"color\":\"red\",\"width\":1},\"lon\":[null,null],\"mode\":\"lines\",\"name\":\"nan\",\"type\":\"scattergeo\"},{\"lat\":[null,null],\"line\":{\"color\":\"red\",\"width\":1},\"lon\":[null,null],\"mode\":\"lines\",\"name\":\"nan\",\"type\":\"scattergeo\"},{\"lat\":[null,null],\"line\":{\"color\":\"red\",\"width\":1},\"lon\":[null,null],\"mode\":\"lines\",\"name\":\"nan\",\"type\":\"scattergeo\"},{\"lat\":[null,null],\"line\":{\"color\":\"red\",\"width\":1},\"lon\":[null,null],\"mode\":\"lines\",\"name\":\"nan\",\"type\":\"scattergeo\"},{\"lat\":[null,null],\"line\":{\"color\":\"red\",\"width\":1},\"lon\":[null,null],\"mode\":\"lines\",\"name\":\"nan\",\"type\":\"scattergeo\"},{\"lat\":[null,null],\"line\":{\"color\":\"red\",\"width\":1},\"lon\":[null,null],\"mode\":\"lines\",\"name\":\"nan\",\"type\":\"scattergeo\"},{\"lat\":[null,null],\"line\":{\"color\":\"red\",\"width\":1},\"lon\":[null,null],\"mode\":\"lines\",\"name\":\"nan\",\"type\":\"scattergeo\"},{\"lat\":[null,null],\"line\":{\"color\":\"red\",\"width\":1},\"lon\":[null,null],\"mode\":\"lines\",\"name\":\"nan\",\"type\":\"scattergeo\"},{\"lat\":[null,null],\"line\":{\"color\":\"red\",\"width\":1},\"lon\":[null,null],\"mode\":\"lines\",\"name\":\"nan\",\"type\":\"scattergeo\"},{\"lat\":[null,null],\"line\":{\"color\":\"red\",\"width\":1},\"lon\":[null,null],\"mode\":\"lines\",\"name\":\"nan\",\"type\":\"scattergeo\"},{\"lat\":[null,null],\"line\":{\"color\":\"red\",\"width\":1},\"lon\":[null,null],\"mode\":\"lines\",\"name\":\"nan\",\"type\":\"scattergeo\"},{\"lat\":[null,null],\"line\":{\"color\":\"red\",\"width\":1},\"lon\":[null,null],\"mode\":\"lines\",\"name\":\"nan\",\"type\":\"scattergeo\"},{\"lat\":[null,null],\"line\":{\"color\":\"red\",\"width\":1},\"lon\":[null,null],\"mode\":\"lines\",\"name\":\"nan\",\"type\":\"scattergeo\"},{\"lat\":[null,null],\"line\":{\"color\":\"red\",\"width\":1},\"lon\":[null,null],\"mode\":\"lines\",\"name\":\"nan\",\"type\":\"scattergeo\"},{\"lat\":[null,null],\"line\":{\"color\":\"red\",\"width\":1},\"lon\":[null,null],\"mode\":\"lines\",\"name\":\"nan\",\"type\":\"scattergeo\"},{\"lat\":[null,null],\"line\":{\"color\":\"red\",\"width\":1},\"lon\":[null,null],\"mode\":\"lines\",\"name\":\"nan\",\"type\":\"scattergeo\"},{\"lat\":[null,null],\"line\":{\"color\":\"red\",\"width\":1},\"lon\":[null,null],\"mode\":\"lines\",\"name\":\"nan\",\"type\":\"scattergeo\"},{\"lat\":[null,null],\"line\":{\"color\":\"red\",\"width\":1},\"lon\":[null,null],\"mode\":\"lines\",\"name\":\"nan\",\"type\":\"scattergeo\"},{\"lat\":[null,null],\"line\":{\"color\":\"red\",\"width\":1},\"lon\":[null,null],\"mode\":\"lines\",\"name\":\"nan\",\"type\":\"scattergeo\"},{\"lat\":[null,null],\"line\":{\"color\":\"red\",\"width\":1},\"lon\":[null,null],\"mode\":\"lines\",\"name\":\"nan\",\"type\":\"scattergeo\"},{\"lat\":[null,null],\"line\":{\"color\":\"red\",\"width\":1},\"lon\":[null,null],\"mode\":\"lines\",\"name\":\"nan\",\"type\":\"scattergeo\"},{\"lat\":[null,null],\"line\":{\"color\":\"red\",\"width\":1},\"lon\":[null,null],\"mode\":\"lines\",\"name\":\"nan\",\"type\":\"scattergeo\"},{\"lat\":[null,null],\"line\":{\"color\":\"red\",\"width\":1},\"lon\":[null,null],\"mode\":\"lines\",\"name\":\"nan\",\"type\":\"scattergeo\"},{\"lat\":[null,null],\"line\":{\"color\":\"red\",\"width\":1},\"lon\":[null,null],\"mode\":\"lines\",\"name\":\"nan\",\"type\":\"scattergeo\"},{\"lat\":[null,null],\"line\":{\"color\":\"red\",\"width\":1},\"lon\":[null,null],\"mode\":\"lines\",\"name\":\"nan\",\"type\":\"scattergeo\"},{\"lat\":[null,null],\"line\":{\"color\":\"red\",\"width\":1},\"lon\":[null,null],\"mode\":\"lines\",\"name\":\"nan\",\"type\":\"scattergeo\"},{\"lat\":[null,null],\"line\":{\"color\":\"red\",\"width\":1},\"lon\":[null,null],\"mode\":\"lines\",\"name\":\"nan\",\"type\":\"scattergeo\"},{\"lat\":[null,null],\"line\":{\"color\":\"red\",\"width\":1},\"lon\":[null,null],\"mode\":\"lines\",\"name\":\"nan\",\"type\":\"scattergeo\"},{\"lat\":[null,null],\"line\":{\"color\":\"red\",\"width\":1},\"lon\":[null,null],\"mode\":\"lines\",\"name\":\"nan\",\"type\":\"scattergeo\"},{\"lat\":[null,null],\"line\":{\"color\":\"red\",\"width\":1},\"lon\":[null,null],\"mode\":\"lines\",\"name\":\"nan\",\"type\":\"scattergeo\"},{\"lat\":[null,null],\"line\":{\"color\":\"red\",\"width\":1},\"lon\":[null,null],\"mode\":\"lines\",\"name\":\"nan\",\"type\":\"scattergeo\"},{\"lat\":[null,null],\"line\":{\"color\":\"red\",\"width\":1},\"lon\":[null,null],\"mode\":\"lines\",\"name\":\"nan\",\"type\":\"scattergeo\"},{\"lat\":[null,null],\"line\":{\"color\":\"red\",\"width\":1},\"lon\":[null,null],\"mode\":\"lines\",\"name\":\"nan\",\"type\":\"scattergeo\"},{\"lat\":[null,null],\"line\":{\"color\":\"red\",\"width\":1},\"lon\":[null,null],\"mode\":\"lines\",\"name\":\"nan\",\"type\":\"scattergeo\"},{\"lat\":[null,null],\"line\":{\"color\":\"red\",\"width\":1},\"lon\":[null,null],\"mode\":\"lines\",\"name\":\"nan\",\"type\":\"scattergeo\"},{\"lat\":[null,null],\"line\":{\"color\":\"red\",\"width\":1},\"lon\":[null,null],\"mode\":\"lines\",\"name\":\"nan\",\"type\":\"scattergeo\"},{\"lat\":[null,null],\"line\":{\"color\":\"red\",\"width\":1},\"lon\":[null,null],\"mode\":\"lines\",\"name\":\"nan\",\"type\":\"scattergeo\"},{\"lat\":[null,null],\"line\":{\"color\":\"red\",\"width\":1},\"lon\":[null,null],\"mode\":\"lines\",\"name\":\"nan\",\"type\":\"scattergeo\"},{\"lat\":[null,null],\"line\":{\"color\":\"red\",\"width\":1},\"lon\":[null,null],\"mode\":\"lines\",\"name\":\"nan\",\"type\":\"scattergeo\"},{\"lat\":[null,null],\"line\":{\"color\":\"red\",\"width\":1},\"lon\":[null,null],\"mode\":\"lines\",\"name\":\"nan\",\"type\":\"scattergeo\"},{\"lat\":[null,null],\"line\":{\"color\":\"red\",\"width\":1},\"lon\":[null,null],\"mode\":\"lines\",\"name\":\"nan\",\"type\":\"scattergeo\"},{\"lat\":[null,null],\"line\":{\"color\":\"red\",\"width\":1},\"lon\":[null,null],\"mode\":\"lines\",\"name\":\"nan\",\"type\":\"scattergeo\"},{\"lat\":[null,null],\"line\":{\"color\":\"red\",\"width\":1},\"lon\":[null,null],\"mode\":\"lines\",\"name\":\"nan\",\"type\":\"scattergeo\"},{\"lat\":[null,null],\"line\":{\"color\":\"red\",\"width\":1},\"lon\":[null,null],\"mode\":\"lines\",\"name\":\"nan\",\"type\":\"scattergeo\"},{\"lat\":[null,null],\"line\":{\"color\":\"red\",\"width\":1},\"lon\":[null,null],\"mode\":\"lines\",\"name\":\"nan\",\"type\":\"scattergeo\"},{\"lat\":[null,null],\"line\":{\"color\":\"red\",\"width\":1},\"lon\":[null,null],\"mode\":\"lines\",\"name\":\"nan\",\"type\":\"scattergeo\"},{\"lat\":[null,null],\"line\":{\"color\":\"red\",\"width\":1},\"lon\":[null,null],\"mode\":\"lines\",\"name\":\"nan\",\"type\":\"scattergeo\"},{\"lat\":[null,null],\"line\":{\"color\":\"red\",\"width\":1},\"lon\":[null,null],\"mode\":\"lines\",\"name\":\"nan\",\"type\":\"scattergeo\"},{\"lat\":[null,null],\"line\":{\"color\":\"red\",\"width\":1},\"lon\":[null,null],\"mode\":\"lines\",\"name\":\"nan\",\"type\":\"scattergeo\"},{\"lat\":[null,null],\"line\":{\"color\":\"red\",\"width\":1},\"lon\":[null,null],\"mode\":\"lines\",\"name\":\"nan\",\"type\":\"scattergeo\"},{\"lat\":[null,null],\"line\":{\"color\":\"red\",\"width\":1},\"lon\":[null,null],\"mode\":\"lines\",\"name\":\"nan\",\"type\":\"scattergeo\"},{\"lat\":[null,null],\"line\":{\"color\":\"red\",\"width\":1},\"lon\":[null,null],\"mode\":\"lines\",\"name\":\"nan\",\"type\":\"scattergeo\"},{\"lat\":[null,null],\"line\":{\"color\":\"red\",\"width\":1},\"lon\":[null,null],\"mode\":\"lines\",\"name\":\"nan\",\"type\":\"scattergeo\"},{\"lat\":[null,null],\"line\":{\"color\":\"red\",\"width\":1},\"lon\":[null,null],\"mode\":\"lines\",\"name\":\"nan\",\"type\":\"scattergeo\"},{\"lat\":[null,null],\"line\":{\"color\":\"red\",\"width\":1},\"lon\":[null,null],\"mode\":\"lines\",\"name\":\"nan\",\"type\":\"scattergeo\"},{\"lat\":[null,null],\"line\":{\"color\":\"red\",\"width\":1},\"lon\":[null,null],\"mode\":\"lines\",\"name\":\"nan\",\"type\":\"scattergeo\"},{\"lat\":[null,null],\"line\":{\"color\":\"red\",\"width\":1},\"lon\":[null,null],\"mode\":\"lines\",\"name\":\"nan\",\"type\":\"scattergeo\"},{\"lat\":[null,null],\"line\":{\"color\":\"red\",\"width\":1},\"lon\":[null,null],\"mode\":\"lines\",\"name\":\"nan\",\"type\":\"scattergeo\"},{\"lat\":[null,null],\"line\":{\"color\":\"red\",\"width\":1},\"lon\":[null,null],\"mode\":\"lines\",\"name\":\"nan\",\"type\":\"scattergeo\"},{\"lat\":[null,null],\"line\":{\"color\":\"red\",\"width\":1},\"lon\":[null,null],\"mode\":\"lines\",\"name\":\"nan\",\"type\":\"scattergeo\"},{\"lat\":[null,null],\"line\":{\"color\":\"red\",\"width\":1},\"lon\":[null,null],\"mode\":\"lines\",\"name\":\"nan\",\"type\":\"scattergeo\"},{\"lat\":[null,null],\"line\":{\"color\":\"red\",\"width\":1},\"lon\":[null,null],\"mode\":\"lines\",\"name\":\"nan\",\"type\":\"scattergeo\"},{\"lat\":[null,null],\"line\":{\"color\":\"red\",\"width\":1},\"lon\":[null,null],\"mode\":\"lines\",\"name\":\"nan\",\"type\":\"scattergeo\"},{\"lat\":[null,null],\"line\":{\"color\":\"red\",\"width\":1},\"lon\":[null,null],\"mode\":\"lines\",\"name\":\"nan\",\"type\":\"scattergeo\"},{\"lat\":[null,null],\"line\":{\"color\":\"red\",\"width\":1},\"lon\":[null,null],\"mode\":\"lines\",\"name\":\"nan\",\"type\":\"scattergeo\"},{\"lat\":[null,null],\"line\":{\"color\":\"red\",\"width\":1},\"lon\":[null,null],\"mode\":\"lines\",\"name\":\"nan\",\"type\":\"scattergeo\"},{\"lat\":[null,null],\"line\":{\"color\":\"red\",\"width\":1},\"lon\":[null,null],\"mode\":\"lines\",\"name\":\"nan\",\"type\":\"scattergeo\"},{\"lat\":[null,null],\"line\":{\"color\":\"red\",\"width\":1},\"lon\":[null,null],\"mode\":\"lines\",\"name\":\"nan\",\"type\":\"scattergeo\"},{\"lat\":[null,null],\"line\":{\"color\":\"red\",\"width\":1},\"lon\":[null,null],\"mode\":\"lines\",\"name\":\"nan\",\"type\":\"scattergeo\"},{\"lat\":[null,null],\"line\":{\"color\":\"red\",\"width\":1},\"lon\":[null,null],\"mode\":\"lines\",\"name\":\"nan\",\"type\":\"scattergeo\"},{\"lat\":[null,null],\"line\":{\"color\":\"red\",\"width\":1},\"lon\":[null,null],\"mode\":\"lines\",\"name\":\"nan\",\"type\":\"scattergeo\"},{\"lat\":[null,null],\"line\":{\"color\":\"red\",\"width\":1},\"lon\":[null,null],\"mode\":\"lines\",\"name\":\"nan\",\"type\":\"scattergeo\"},{\"lat\":[null,null],\"line\":{\"color\":\"red\",\"width\":1},\"lon\":[null,null],\"mode\":\"lines\",\"name\":\"nan\",\"type\":\"scattergeo\"},{\"lat\":[null,null],\"line\":{\"color\":\"red\",\"width\":1},\"lon\":[null,null],\"mode\":\"lines\",\"name\":\"nan\",\"type\":\"scattergeo\"},{\"lat\":[null,null],\"line\":{\"color\":\"red\",\"width\":1},\"lon\":[null,null],\"mode\":\"lines\",\"name\":\"nan\",\"type\":\"scattergeo\"},{\"lat\":[null,null],\"line\":{\"color\":\"red\",\"width\":1},\"lon\":[null,null],\"mode\":\"lines\",\"name\":\"nan\",\"type\":\"scattergeo\"},{\"lat\":[null,null],\"line\":{\"color\":\"red\",\"width\":1},\"lon\":[null,null],\"mode\":\"lines\",\"name\":\"nan\",\"type\":\"scattergeo\"},{\"lat\":[null,null],\"line\":{\"color\":\"red\",\"width\":1},\"lon\":[null,null],\"mode\":\"lines\",\"name\":\"nan\",\"type\":\"scattergeo\"},{\"lat\":[null,null],\"line\":{\"color\":\"red\",\"width\":1},\"lon\":[null,null],\"mode\":\"lines\",\"name\":\"nan\",\"type\":\"scattergeo\"},{\"lat\":[null,null],\"line\":{\"color\":\"red\",\"width\":1},\"lon\":[null,null],\"mode\":\"lines\",\"name\":\"nan\",\"type\":\"scattergeo\"},{\"lat\":[null,null],\"line\":{\"color\":\"red\",\"width\":1},\"lon\":[null,null],\"mode\":\"lines\",\"name\":\"nan\",\"type\":\"scattergeo\"},{\"lat\":[null,null],\"line\":{\"color\":\"red\",\"width\":1},\"lon\":[null,null],\"mode\":\"lines\",\"name\":\"nan\",\"type\":\"scattergeo\"},{\"lat\":[null,null],\"line\":{\"color\":\"red\",\"width\":1},\"lon\":[null,null],\"mode\":\"lines\",\"name\":\"nan\",\"type\":\"scattergeo\"},{\"lat\":[null,null],\"line\":{\"color\":\"red\",\"width\":1},\"lon\":[null,null],\"mode\":\"lines\",\"name\":\"nan\",\"type\":\"scattergeo\"},{\"lat\":[null,null],\"line\":{\"color\":\"red\",\"width\":1},\"lon\":[null,null],\"mode\":\"lines\",\"name\":\"nan\",\"type\":\"scattergeo\"},{\"lat\":[null,null],\"line\":{\"color\":\"red\",\"width\":1},\"lon\":[null,null],\"mode\":\"lines\",\"name\":\"nan\",\"type\":\"scattergeo\"},{\"lat\":[null,null],\"line\":{\"color\":\"red\",\"width\":1},\"lon\":[null,null],\"mode\":\"lines\",\"name\":\"nan\",\"type\":\"scattergeo\"},{\"lat\":[null,null],\"line\":{\"color\":\"red\",\"width\":1},\"lon\":[null,null],\"mode\":\"lines\",\"name\":\"nan\",\"type\":\"scattergeo\"},{\"lat\":[null,null],\"line\":{\"color\":\"red\",\"width\":1},\"lon\":[null,null],\"mode\":\"lines\",\"name\":\"nan\",\"type\":\"scattergeo\"},{\"lat\":[null,null],\"line\":{\"color\":\"red\",\"width\":1},\"lon\":[null,null],\"mode\":\"lines\",\"name\":\"nan\",\"type\":\"scattergeo\"},{\"lat\":[null,null],\"line\":{\"color\":\"red\",\"width\":1},\"lon\":[null,null],\"mode\":\"lines\",\"name\":\"nan\",\"type\":\"scattergeo\"},{\"lat\":[null,null],\"line\":{\"color\":\"red\",\"width\":1},\"lon\":[null,null],\"mode\":\"lines\",\"name\":\"nan\",\"type\":\"scattergeo\"},{\"lat\":[null,null],\"line\":{\"color\":\"red\",\"width\":1},\"lon\":[null,null],\"mode\":\"lines\",\"name\":\"nan\",\"type\":\"scattergeo\"},{\"lat\":[null,null],\"line\":{\"color\":\"red\",\"width\":1},\"lon\":[null,null],\"mode\":\"lines\",\"name\":\"nan\",\"type\":\"scattergeo\"},{\"lat\":[null,null],\"line\":{\"color\":\"red\",\"width\":1},\"lon\":[null,null],\"mode\":\"lines\",\"name\":\"nan\",\"type\":\"scattergeo\"},{\"lat\":[null,null],\"line\":{\"color\":\"red\",\"width\":1},\"lon\":[null,null],\"mode\":\"lines\",\"name\":\"nan\",\"type\":\"scattergeo\"},{\"lat\":[null,null],\"line\":{\"color\":\"red\",\"width\":1},\"lon\":[null,null],\"mode\":\"lines\",\"name\":\"nan\",\"type\":\"scattergeo\"},{\"lat\":[null,null],\"line\":{\"color\":\"red\",\"width\":1},\"lon\":[null,null],\"mode\":\"lines\",\"name\":\"nan\",\"type\":\"scattergeo\"},{\"lat\":[null,null],\"line\":{\"color\":\"red\",\"width\":1},\"lon\":[null,null],\"mode\":\"lines\",\"name\":\"nan\",\"type\":\"scattergeo\"},{\"lat\":[null,null],\"line\":{\"color\":\"red\",\"width\":1},\"lon\":[null,null],\"mode\":\"lines\",\"name\":\"nan\",\"type\":\"scattergeo\"},{\"lat\":[null,null],\"line\":{\"color\":\"red\",\"width\":1},\"lon\":[null,null],\"mode\":\"lines\",\"name\":\"nan\",\"type\":\"scattergeo\"},{\"lat\":[null,null],\"line\":{\"color\":\"red\",\"width\":1},\"lon\":[null,null],\"mode\":\"lines\",\"name\":\"nan\",\"type\":\"scattergeo\"},{\"lat\":[null,null],\"line\":{\"color\":\"red\",\"width\":1},\"lon\":[null,null],\"mode\":\"lines\",\"name\":\"nan\",\"type\":\"scattergeo\"},{\"lat\":[null,null],\"line\":{\"color\":\"red\",\"width\":1},\"lon\":[null,null],\"mode\":\"lines\",\"name\":\"nan\",\"type\":\"scattergeo\"},{\"lat\":[null,null],\"line\":{\"color\":\"red\",\"width\":1},\"lon\":[null,null],\"mode\":\"lines\",\"name\":\"nan\",\"type\":\"scattergeo\"},{\"lat\":[null,null],\"line\":{\"color\":\"red\",\"width\":1},\"lon\":[null,null],\"mode\":\"lines\",\"name\":\"nan\",\"type\":\"scattergeo\"},{\"lat\":[null,null],\"line\":{\"color\":\"red\",\"width\":1},\"lon\":[null,null],\"mode\":\"lines\",\"name\":\"nan\",\"type\":\"scattergeo\"},{\"lat\":[null,null],\"line\":{\"color\":\"red\",\"width\":1},\"lon\":[null,null],\"mode\":\"lines\",\"name\":\"nan\",\"type\":\"scattergeo\"},{\"lat\":[null,null],\"line\":{\"color\":\"red\",\"width\":1},\"lon\":[null,null],\"mode\":\"lines\",\"name\":\"nan\",\"type\":\"scattergeo\"},{\"lat\":[null,null],\"line\":{\"color\":\"red\",\"width\":1},\"lon\":[null,null],\"mode\":\"lines\",\"name\":\"nan\",\"type\":\"scattergeo\"},{\"lat\":[null,null],\"line\":{\"color\":\"red\",\"width\":1},\"lon\":[null,null],\"mode\":\"lines\",\"name\":\"nan\",\"type\":\"scattergeo\"},{\"lat\":[null,null],\"line\":{\"color\":\"red\",\"width\":1},\"lon\":[null,null],\"mode\":\"lines\",\"name\":\"nan\",\"type\":\"scattergeo\"},{\"lat\":[null,null],\"line\":{\"color\":\"red\",\"width\":1},\"lon\":[null,null],\"mode\":\"lines\",\"name\":\"nan\",\"type\":\"scattergeo\"},{\"lat\":[null,null],\"line\":{\"color\":\"red\",\"width\":1},\"lon\":[null,null],\"mode\":\"lines\",\"name\":\"nan\",\"type\":\"scattergeo\"},{\"lat\":[null,null],\"line\":{\"color\":\"red\",\"width\":1},\"lon\":[null,null],\"mode\":\"lines\",\"name\":\"nan\",\"type\":\"scattergeo\"},{\"lat\":[null,null],\"line\":{\"color\":\"red\",\"width\":1},\"lon\":[null,null],\"mode\":\"lines\",\"name\":\"nan\",\"type\":\"scattergeo\"},{\"lat\":[null,null],\"line\":{\"color\":\"red\",\"width\":1},\"lon\":[null,null],\"mode\":\"lines\",\"name\":\"nan\",\"type\":\"scattergeo\"},{\"lat\":[null,null],\"line\":{\"color\":\"red\",\"width\":1},\"lon\":[null,null],\"mode\":\"lines\",\"name\":\"nan\",\"type\":\"scattergeo\"},{\"lat\":[null,null],\"line\":{\"color\":\"red\",\"width\":1},\"lon\":[null,null],\"mode\":\"lines\",\"name\":\"nan\",\"type\":\"scattergeo\"},{\"lat\":[null,null],\"line\":{\"color\":\"red\",\"width\":1},\"lon\":[null,null],\"mode\":\"lines\",\"name\":\"nan\",\"type\":\"scattergeo\"},{\"lat\":[null,null],\"line\":{\"color\":\"red\",\"width\":1},\"lon\":[null,null],\"mode\":\"lines\",\"name\":\"nan\",\"type\":\"scattergeo\"},{\"lat\":[null,null],\"line\":{\"color\":\"red\",\"width\":1},\"lon\":[null,null],\"mode\":\"lines\",\"name\":\"nan\",\"type\":\"scattergeo\"},{\"lat\":[null,null],\"line\":{\"color\":\"red\",\"width\":1},\"lon\":[null,null],\"mode\":\"lines\",\"name\":\"nan\",\"type\":\"scattergeo\"},{\"lat\":[null,null],\"line\":{\"color\":\"red\",\"width\":1},\"lon\":[null,null],\"mode\":\"lines\",\"name\":\"nan\",\"type\":\"scattergeo\"},{\"lat\":[null,null],\"line\":{\"color\":\"red\",\"width\":1},\"lon\":[null,null],\"mode\":\"lines\",\"name\":\"nan\",\"type\":\"scattergeo\"},{\"lat\":[null,null],\"line\":{\"color\":\"red\",\"width\":1},\"lon\":[null,null],\"mode\":\"lines\",\"name\":\"nan\",\"type\":\"scattergeo\"},{\"lat\":[null,null],\"line\":{\"color\":\"red\",\"width\":1},\"lon\":[null,null],\"mode\":\"lines\",\"name\":\"nan\",\"type\":\"scattergeo\"},{\"lat\":[null,null],\"line\":{\"color\":\"red\",\"width\":1},\"lon\":[null,null],\"mode\":\"lines\",\"name\":\"nan\",\"type\":\"scattergeo\"},{\"lat\":[null,null],\"line\":{\"color\":\"red\",\"width\":1},\"lon\":[null,null],\"mode\":\"lines\",\"name\":\"nan\",\"type\":\"scattergeo\"},{\"lat\":[null,null],\"line\":{\"color\":\"red\",\"width\":1},\"lon\":[null,null],\"mode\":\"lines\",\"name\":\"nan\",\"type\":\"scattergeo\"},{\"lat\":[null,null],\"line\":{\"color\":\"red\",\"width\":1},\"lon\":[null,null],\"mode\":\"lines\",\"name\":\"nan\",\"type\":\"scattergeo\"},{\"lat\":[null,null],\"line\":{\"color\":\"red\",\"width\":1},\"lon\":[null,null],\"mode\":\"lines\",\"name\":\"nan\",\"type\":\"scattergeo\"},{\"lat\":[null,null],\"line\":{\"color\":\"red\",\"width\":1},\"lon\":[null,null],\"mode\":\"lines\",\"name\":\"nan\",\"type\":\"scattergeo\"},{\"lat\":[null,null],\"line\":{\"color\":\"red\",\"width\":1},\"lon\":[null,null],\"mode\":\"lines\",\"name\":\"nan\",\"type\":\"scattergeo\"},{\"lat\":[null,null],\"line\":{\"color\":\"red\",\"width\":1},\"lon\":[null,null],\"mode\":\"lines\",\"name\":\"nan\",\"type\":\"scattergeo\"},{\"lat\":[null,null],\"line\":{\"color\":\"red\",\"width\":1},\"lon\":[null,null],\"mode\":\"lines\",\"name\":\"nan\",\"type\":\"scattergeo\"},{\"lat\":[null,null],\"line\":{\"color\":\"red\",\"width\":1},\"lon\":[null,null],\"mode\":\"lines\",\"name\":\"nan\",\"type\":\"scattergeo\"},{\"lat\":[null,null],\"line\":{\"color\":\"red\",\"width\":1},\"lon\":[null,null],\"mode\":\"lines\",\"name\":\"nan\",\"type\":\"scattergeo\"},{\"lat\":[null,null],\"line\":{\"color\":\"red\",\"width\":1},\"lon\":[null,null],\"mode\":\"lines\",\"name\":\"nan\",\"type\":\"scattergeo\"},{\"lat\":[null,null],\"line\":{\"color\":\"red\",\"width\":1},\"lon\":[null,null],\"mode\":\"lines\",\"name\":\"nan\",\"type\":\"scattergeo\"},{\"lat\":[null,null],\"line\":{\"color\":\"red\",\"width\":1},\"lon\":[null,null],\"mode\":\"lines\",\"name\":\"nan\",\"type\":\"scattergeo\"},{\"lat\":[null,null],\"line\":{\"color\":\"red\",\"width\":1},\"lon\":[null,null],\"mode\":\"lines\",\"name\":\"nan\",\"type\":\"scattergeo\"},{\"lat\":[null,null],\"line\":{\"color\":\"red\",\"width\":1},\"lon\":[null,null],\"mode\":\"lines\",\"name\":\"nan\",\"type\":\"scattergeo\"},{\"lat\":[null,null],\"line\":{\"color\":\"red\",\"width\":1},\"lon\":[null,null],\"mode\":\"lines\",\"name\":\"nan\",\"type\":\"scattergeo\"},{\"lat\":[null,null],\"line\":{\"color\":\"red\",\"width\":1},\"lon\":[null,null],\"mode\":\"lines\",\"name\":\"nan\",\"type\":\"scattergeo\"},{\"lat\":[null,null],\"line\":{\"color\":\"red\",\"width\":1},\"lon\":[null,null],\"mode\":\"lines\",\"name\":\"nan\",\"type\":\"scattergeo\"},{\"lat\":[null,null],\"line\":{\"color\":\"red\",\"width\":1},\"lon\":[null,null],\"mode\":\"lines\",\"name\":\"nan\",\"type\":\"scattergeo\"},{\"lat\":[null,null],\"line\":{\"color\":\"red\",\"width\":1},\"lon\":[null,null],\"mode\":\"lines\",\"name\":\"nan\",\"type\":\"scattergeo\"},{\"lat\":[null,null],\"line\":{\"color\":\"red\",\"width\":1},\"lon\":[null,null],\"mode\":\"lines\",\"name\":\"nan\",\"type\":\"scattergeo\"},{\"lat\":[null,null],\"line\":{\"color\":\"red\",\"width\":1},\"lon\":[null,null],\"mode\":\"lines\",\"name\":\"nan\",\"type\":\"scattergeo\"},{\"lat\":[null,null],\"line\":{\"color\":\"red\",\"width\":1},\"lon\":[null,null],\"mode\":\"lines\",\"name\":\"nan\",\"type\":\"scattergeo\"},{\"lat\":[null,null],\"line\":{\"color\":\"red\",\"width\":1},\"lon\":[null,null],\"mode\":\"lines\",\"name\":\"nan\",\"type\":\"scattergeo\"},{\"lat\":[null,null],\"line\":{\"color\":\"red\",\"width\":1},\"lon\":[null,null],\"mode\":\"lines\",\"name\":\"nan\",\"type\":\"scattergeo\"},{\"lat\":[null,null],\"line\":{\"color\":\"red\",\"width\":1},\"lon\":[null,null],\"mode\":\"lines\",\"name\":\"nan\",\"type\":\"scattergeo\"},{\"lat\":[null,null],\"line\":{\"color\":\"red\",\"width\":1},\"lon\":[null,null],\"mode\":\"lines\",\"name\":\"nan\",\"type\":\"scattergeo\"},{\"lat\":[null,null],\"line\":{\"color\":\"red\",\"width\":1},\"lon\":[null,null],\"mode\":\"lines\",\"name\":\"nan\",\"type\":\"scattergeo\"},{\"lat\":[null,null],\"line\":{\"color\":\"red\",\"width\":1},\"lon\":[null,null],\"mode\":\"lines\",\"name\":\"nan\",\"type\":\"scattergeo\"},{\"lat\":[null,null],\"line\":{\"color\":\"red\",\"width\":1},\"lon\":[null,null],\"mode\":\"lines\",\"name\":\"nan\",\"type\":\"scattergeo\"},{\"lat\":[null,null],\"line\":{\"color\":\"red\",\"width\":1},\"lon\":[null,null],\"mode\":\"lines\",\"name\":\"nan\",\"type\":\"scattergeo\"},{\"lat\":[null,null],\"line\":{\"color\":\"red\",\"width\":1},\"lon\":[null,null],\"mode\":\"lines\",\"name\":\"nan\",\"type\":\"scattergeo\"},{\"lat\":[null,null],\"line\":{\"color\":\"red\",\"width\":1},\"lon\":[null,null],\"mode\":\"lines\",\"name\":\"nan\",\"type\":\"scattergeo\"},{\"lat\":[null,null],\"line\":{\"color\":\"red\",\"width\":1},\"lon\":[null,null],\"mode\":\"lines\",\"name\":\"nan\",\"type\":\"scattergeo\"},{\"lat\":[null,null],\"line\":{\"color\":\"red\",\"width\":1},\"lon\":[null,null],\"mode\":\"lines\",\"name\":\"nan\",\"type\":\"scattergeo\"},{\"lat\":[null,null],\"line\":{\"color\":\"red\",\"width\":1},\"lon\":[null,null],\"mode\":\"lines\",\"name\":\"nan\",\"type\":\"scattergeo\"},{\"lat\":[null,null],\"line\":{\"color\":\"red\",\"width\":1},\"lon\":[null,null],\"mode\":\"lines\",\"name\":\"nan\",\"type\":\"scattergeo\"},{\"lat\":[null,null],\"line\":{\"color\":\"red\",\"width\":1},\"lon\":[null,null],\"mode\":\"lines\",\"name\":\"nan\",\"type\":\"scattergeo\"},{\"lat\":[null,null],\"line\":{\"color\":\"red\",\"width\":1},\"lon\":[null,null],\"mode\":\"lines\",\"name\":\"nan\",\"type\":\"scattergeo\"},{\"lat\":[null,null],\"line\":{\"color\":\"red\",\"width\":1},\"lon\":[null,null],\"mode\":\"lines\",\"name\":\"nan\",\"type\":\"scattergeo\"},{\"lat\":[null,null],\"line\":{\"color\":\"red\",\"width\":1},\"lon\":[null,null],\"mode\":\"lines\",\"name\":\"nan\",\"type\":\"scattergeo\"},{\"lat\":[null,null],\"line\":{\"color\":\"red\",\"width\":1},\"lon\":[null,null],\"mode\":\"lines\",\"name\":\"nan\",\"type\":\"scattergeo\"},{\"lat\":[null,null],\"line\":{\"color\":\"red\",\"width\":1},\"lon\":[null,null],\"mode\":\"lines\",\"name\":\"nan\",\"type\":\"scattergeo\"},{\"lat\":[null,null],\"line\":{\"color\":\"red\",\"width\":1},\"lon\":[null,null],\"mode\":\"lines\",\"name\":\"nan\",\"type\":\"scattergeo\"},{\"lat\":[null,null],\"line\":{\"color\":\"red\",\"width\":1},\"lon\":[null,null],\"mode\":\"lines\",\"name\":\"nan\",\"type\":\"scattergeo\"},{\"lat\":[null,null],\"line\":{\"color\":\"red\",\"width\":1},\"lon\":[null,null],\"mode\":\"lines\",\"name\":\"nan\",\"type\":\"scattergeo\"},{\"lat\":[null,null],\"line\":{\"color\":\"red\",\"width\":1},\"lon\":[null,null],\"mode\":\"lines\",\"name\":\"nan\",\"type\":\"scattergeo\"},{\"lat\":[null,null],\"line\":{\"color\":\"red\",\"width\":1},\"lon\":[null,null],\"mode\":\"lines\",\"name\":\"nan\",\"type\":\"scattergeo\"},{\"lat\":[null,null],\"line\":{\"color\":\"red\",\"width\":1},\"lon\":[null,null],\"mode\":\"lines\",\"name\":\"nan\",\"type\":\"scattergeo\"},{\"lat\":[null,null],\"line\":{\"color\":\"red\",\"width\":1},\"lon\":[null,null],\"mode\":\"lines\",\"name\":\"nan\",\"type\":\"scattergeo\"},{\"lat\":[null,null],\"line\":{\"color\":\"red\",\"width\":1},\"lon\":[null,null],\"mode\":\"lines\",\"name\":\"nan\",\"type\":\"scattergeo\"},{\"lat\":[null,null],\"line\":{\"color\":\"red\",\"width\":1},\"lon\":[null,null],\"mode\":\"lines\",\"name\":\"nan\",\"type\":\"scattergeo\"},{\"lat\":[null,null],\"line\":{\"color\":\"red\",\"width\":1},\"lon\":[null,null],\"mode\":\"lines\",\"name\":\"nan\",\"type\":\"scattergeo\"},{\"lat\":[null,null],\"line\":{\"color\":\"red\",\"width\":1},\"lon\":[null,null],\"mode\":\"lines\",\"name\":\"nan\",\"type\":\"scattergeo\"},{\"lat\":[null,null],\"line\":{\"color\":\"red\",\"width\":1},\"lon\":[null,null],\"mode\":\"lines\",\"name\":\"nan\",\"type\":\"scattergeo\"},{\"lat\":[null,null],\"line\":{\"color\":\"red\",\"width\":1},\"lon\":[null,null],\"mode\":\"lines\",\"name\":\"nan\",\"type\":\"scattergeo\"},{\"lat\":[null,null],\"line\":{\"color\":\"red\",\"width\":1},\"lon\":[null,null],\"mode\":\"lines\",\"name\":\"nan\",\"type\":\"scattergeo\"},{\"lat\":[null,null],\"line\":{\"color\":\"red\",\"width\":1},\"lon\":[null,null],\"mode\":\"lines\",\"name\":\"nan\",\"type\":\"scattergeo\"},{\"lat\":[null,null],\"line\":{\"color\":\"red\",\"width\":1},\"lon\":[null,null],\"mode\":\"lines\",\"name\":\"nan\",\"type\":\"scattergeo\"},{\"lat\":[null,null],\"line\":{\"color\":\"red\",\"width\":1},\"lon\":[null,null],\"mode\":\"lines\",\"name\":\"nan\",\"type\":\"scattergeo\"},{\"lat\":[null,null],\"line\":{\"color\":\"red\",\"width\":1},\"lon\":[null,null],\"mode\":\"lines\",\"name\":\"nan\",\"type\":\"scattergeo\"},{\"lat\":[null,null],\"line\":{\"color\":\"red\",\"width\":1},\"lon\":[null,null],\"mode\":\"lines\",\"name\":\"nan\",\"type\":\"scattergeo\"},{\"lat\":[null,null],\"line\":{\"color\":\"red\",\"width\":1},\"lon\":[null,null],\"mode\":\"lines\",\"name\":\"nan\",\"type\":\"scattergeo\"},{\"lat\":[null,null],\"line\":{\"color\":\"red\",\"width\":1},\"lon\":[null,null],\"mode\":\"lines\",\"name\":\"nan\",\"type\":\"scattergeo\"},{\"lat\":[null,null],\"line\":{\"color\":\"red\",\"width\":1},\"lon\":[null,null],\"mode\":\"lines\",\"name\":\"nan\",\"type\":\"scattergeo\"},{\"lat\":[null,null],\"line\":{\"color\":\"red\",\"width\":1},\"lon\":[null,null],\"mode\":\"lines\",\"name\":\"nan\",\"type\":\"scattergeo\"},{\"lat\":[null,null],\"line\":{\"color\":\"red\",\"width\":1},\"lon\":[null,null],\"mode\":\"lines\",\"name\":\"nan\",\"type\":\"scattergeo\"},{\"lat\":[null,null],\"line\":{\"color\":\"red\",\"width\":1},\"lon\":[null,null],\"mode\":\"lines\",\"name\":\"nan\",\"type\":\"scattergeo\"},{\"lat\":[null,null],\"line\":{\"color\":\"red\",\"width\":1},\"lon\":[null,null],\"mode\":\"lines\",\"name\":\"nan\",\"type\":\"scattergeo\"},{\"lat\":[null,null],\"line\":{\"color\":\"red\",\"width\":1},\"lon\":[null,null],\"mode\":\"lines\",\"name\":\"nan\",\"type\":\"scattergeo\"},{\"lat\":[null,null],\"line\":{\"color\":\"red\",\"width\":1},\"lon\":[null,null],\"mode\":\"lines\",\"name\":\"nan\",\"type\":\"scattergeo\"},{\"lat\":[null,null],\"line\":{\"color\":\"red\",\"width\":1},\"lon\":[null,null],\"mode\":\"lines\",\"name\":\"nan\",\"type\":\"scattergeo\"},{\"lat\":[null,null],\"line\":{\"color\":\"red\",\"width\":1},\"lon\":[null,null],\"mode\":\"lines\",\"name\":\"nan\",\"type\":\"scattergeo\"},{\"lat\":[null,null],\"line\":{\"color\":\"red\",\"width\":1},\"lon\":[null,null],\"mode\":\"lines\",\"name\":\"nan\",\"type\":\"scattergeo\"},{\"lat\":[null,null],\"line\":{\"color\":\"red\",\"width\":1},\"lon\":[null,null],\"mode\":\"lines\",\"name\":\"nan\",\"type\":\"scattergeo\"},{\"lat\":[null,null],\"line\":{\"color\":\"red\",\"width\":1},\"lon\":[null,null],\"mode\":\"lines\",\"name\":\"nan\",\"type\":\"scattergeo\"},{\"lat\":[null,null],\"line\":{\"color\":\"red\",\"width\":1},\"lon\":[null,null],\"mode\":\"lines\",\"name\":\"nan\",\"type\":\"scattergeo\"},{\"lat\":[null,null],\"line\":{\"color\":\"red\",\"width\":1},\"lon\":[null,null],\"mode\":\"lines\",\"name\":\"nan\",\"type\":\"scattergeo\"},{\"lat\":[null,null],\"line\":{\"color\":\"red\",\"width\":1},\"lon\":[null,null],\"mode\":\"lines\",\"name\":\"nan\",\"type\":\"scattergeo\"},{\"lat\":[null,null],\"line\":{\"color\":\"red\",\"width\":1},\"lon\":[null,null],\"mode\":\"lines\",\"name\":\"nan\",\"type\":\"scattergeo\"},{\"lat\":[null,null],\"line\":{\"color\":\"red\",\"width\":1},\"lon\":[null,null],\"mode\":\"lines\",\"name\":\"nan\",\"type\":\"scattergeo\"},{\"lat\":[null,null],\"line\":{\"color\":\"red\",\"width\":1},\"lon\":[null,null],\"mode\":\"lines\",\"name\":\"nan\",\"type\":\"scattergeo\"},{\"lat\":[null,null],\"line\":{\"color\":\"red\",\"width\":1},\"lon\":[null,null],\"mode\":\"lines\",\"name\":\"nan\",\"type\":\"scattergeo\"},{\"lat\":[null,null],\"line\":{\"color\":\"red\",\"width\":1},\"lon\":[null,null],\"mode\":\"lines\",\"name\":\"nan\",\"type\":\"scattergeo\"},{\"lat\":[null,null],\"line\":{\"color\":\"red\",\"width\":1},\"lon\":[null,null],\"mode\":\"lines\",\"name\":\"nan\",\"type\":\"scattergeo\"},{\"lat\":[null,null],\"line\":{\"color\":\"red\",\"width\":1},\"lon\":[null,null],\"mode\":\"lines\",\"name\":\"nan\",\"type\":\"scattergeo\"},{\"lat\":[null,null],\"line\":{\"color\":\"red\",\"width\":1},\"lon\":[null,null],\"mode\":\"lines\",\"name\":\"nan\",\"type\":\"scattergeo\"},{\"lat\":[null,null],\"line\":{\"color\":\"red\",\"width\":1},\"lon\":[null,null],\"mode\":\"lines\",\"name\":\"nan\",\"type\":\"scattergeo\"},{\"lat\":[null,null],\"line\":{\"color\":\"red\",\"width\":1},\"lon\":[null,null],\"mode\":\"lines\",\"name\":\"nan\",\"type\":\"scattergeo\"},{\"lat\":[null,null],\"line\":{\"color\":\"red\",\"width\":1},\"lon\":[null,null],\"mode\":\"lines\",\"name\":\"nan\",\"type\":\"scattergeo\"},{\"lat\":[null,null],\"line\":{\"color\":\"red\",\"width\":1},\"lon\":[null,null],\"mode\":\"lines\",\"name\":\"nan\",\"type\":\"scattergeo\"},{\"lat\":[null,null],\"line\":{\"color\":\"red\",\"width\":1},\"lon\":[null,null],\"mode\":\"lines\",\"name\":\"nan\",\"type\":\"scattergeo\"},{\"lat\":[null,null],\"line\":{\"color\":\"red\",\"width\":1},\"lon\":[null,null],\"mode\":\"lines\",\"name\":\"nan\",\"type\":\"scattergeo\"},{\"lat\":[null,null],\"line\":{\"color\":\"red\",\"width\":1},\"lon\":[null,null],\"mode\":\"lines\",\"name\":\"nan\",\"type\":\"scattergeo\"},{\"lat\":[null,null],\"line\":{\"color\":\"red\",\"width\":1},\"lon\":[null,null],\"mode\":\"lines\",\"name\":\"nan\",\"type\":\"scattergeo\"},{\"lat\":[null,null],\"line\":{\"color\":\"red\",\"width\":1},\"lon\":[null,null],\"mode\":\"lines\",\"name\":\"nan\",\"type\":\"scattergeo\"},{\"lat\":[null,null],\"line\":{\"color\":\"red\",\"width\":1},\"lon\":[null,null],\"mode\":\"lines\",\"name\":\"nan\",\"type\":\"scattergeo\"},{\"lat\":[null,null],\"line\":{\"color\":\"red\",\"width\":1},\"lon\":[null,null],\"mode\":\"lines\",\"name\":\"nan\",\"type\":\"scattergeo\"},{\"lat\":[null,null],\"line\":{\"color\":\"red\",\"width\":1},\"lon\":[null,null],\"mode\":\"lines\",\"name\":\"nan\",\"type\":\"scattergeo\"},{\"lat\":[null,null],\"line\":{\"color\":\"red\",\"width\":1},\"lon\":[null,null],\"mode\":\"lines\",\"name\":\"nan\",\"type\":\"scattergeo\"},{\"lat\":[null,null],\"line\":{\"color\":\"red\",\"width\":1},\"lon\":[null,null],\"mode\":\"lines\",\"name\":\"nan\",\"type\":\"scattergeo\"},{\"lat\":[null,null],\"line\":{\"color\":\"red\",\"width\":1},\"lon\":[null,null],\"mode\":\"lines\",\"name\":\"nan\",\"type\":\"scattergeo\"},{\"lat\":[null,null],\"line\":{\"color\":\"red\",\"width\":1},\"lon\":[null,null],\"mode\":\"lines\",\"name\":\"nan\",\"type\":\"scattergeo\"},{\"lat\":[null,null],\"line\":{\"color\":\"red\",\"width\":1},\"lon\":[null,null],\"mode\":\"lines\",\"name\":\"nan\",\"type\":\"scattergeo\"},{\"lat\":[null,null],\"line\":{\"color\":\"red\",\"width\":1},\"lon\":[null,null],\"mode\":\"lines\",\"name\":\"nan\",\"type\":\"scattergeo\"},{\"lat\":[null,null],\"line\":{\"color\":\"red\",\"width\":1},\"lon\":[null,null],\"mode\":\"lines\",\"name\":\"nan\",\"type\":\"scattergeo\"},{\"lat\":[null,null],\"line\":{\"color\":\"red\",\"width\":1},\"lon\":[null,null],\"mode\":\"lines\",\"name\":\"nan\",\"type\":\"scattergeo\"},{\"lat\":[null,null],\"line\":{\"color\":\"red\",\"width\":1},\"lon\":[null,null],\"mode\":\"lines\",\"name\":\"nan\",\"type\":\"scattergeo\"},{\"lat\":[null,null],\"line\":{\"color\":\"red\",\"width\":1},\"lon\":[null,null],\"mode\":\"lines\",\"name\":\"nan\",\"type\":\"scattergeo\"},{\"lat\":[null,null],\"line\":{\"color\":\"red\",\"width\":1},\"lon\":[null,null],\"mode\":\"lines\",\"name\":\"nan\",\"type\":\"scattergeo\"},{\"lat\":[null,null],\"line\":{\"color\":\"red\",\"width\":1},\"lon\":[null,null],\"mode\":\"lines\",\"name\":\"nan\",\"type\":\"scattergeo\"},{\"lat\":[null,null],\"line\":{\"color\":\"red\",\"width\":1},\"lon\":[null,null],\"mode\":\"lines\",\"name\":\"nan\",\"type\":\"scattergeo\"},{\"lat\":[null,null],\"line\":{\"color\":\"red\",\"width\":1},\"lon\":[null,null],\"mode\":\"lines\",\"name\":\"nan\",\"type\":\"scattergeo\"},{\"lat\":[null,null],\"line\":{\"color\":\"red\",\"width\":1},\"lon\":[null,null],\"mode\":\"lines\",\"name\":\"nan\",\"type\":\"scattergeo\"},{\"lat\":[null,null],\"line\":{\"color\":\"red\",\"width\":1},\"lon\":[null,null],\"mode\":\"lines\",\"name\":\"nan\",\"type\":\"scattergeo\"},{\"lat\":[null,null],\"line\":{\"color\":\"red\",\"width\":1},\"lon\":[null,null],\"mode\":\"lines\",\"name\":\"nan\",\"type\":\"scattergeo\"},{\"lat\":[null,null],\"line\":{\"color\":\"red\",\"width\":1},\"lon\":[null,null],\"mode\":\"lines\",\"name\":\"nan\",\"type\":\"scattergeo\"},{\"lat\":[null,null],\"line\":{\"color\":\"red\",\"width\":1},\"lon\":[null,null],\"mode\":\"lines\",\"name\":\"nan\",\"type\":\"scattergeo\"},{\"lat\":[null,null],\"line\":{\"color\":\"red\",\"width\":1},\"lon\":[null,null],\"mode\":\"lines\",\"name\":\"nan\",\"type\":\"scattergeo\"},{\"lat\":[null,null],\"line\":{\"color\":\"red\",\"width\":1},\"lon\":[null,null],\"mode\":\"lines\",\"name\":\"nan\",\"type\":\"scattergeo\"},{\"lat\":[null,null],\"line\":{\"color\":\"red\",\"width\":1},\"lon\":[null,null],\"mode\":\"lines\",\"name\":\"nan\",\"type\":\"scattergeo\"},{\"lat\":[null,null],\"line\":{\"color\":\"red\",\"width\":1},\"lon\":[null,null],\"mode\":\"lines\",\"name\":\"nan\",\"type\":\"scattergeo\"},{\"lat\":[null,null],\"line\":{\"color\":\"red\",\"width\":1},\"lon\":[null,null],\"mode\":\"lines\",\"name\":\"nan\",\"type\":\"scattergeo\"},{\"lat\":[null,null],\"line\":{\"color\":\"red\",\"width\":1},\"lon\":[null,null],\"mode\":\"lines\",\"name\":\"nan\",\"type\":\"scattergeo\"},{\"lat\":[null,null],\"line\":{\"color\":\"red\",\"width\":1},\"lon\":[null,null],\"mode\":\"lines\",\"name\":\"nan\",\"type\":\"scattergeo\"},{\"lat\":[null,null],\"line\":{\"color\":\"red\",\"width\":1},\"lon\":[null,null],\"mode\":\"lines\",\"name\":\"nan\",\"type\":\"scattergeo\"},{\"lat\":[null,null],\"line\":{\"color\":\"red\",\"width\":1},\"lon\":[null,null],\"mode\":\"lines\",\"name\":\"nan\",\"type\":\"scattergeo\"},{\"lat\":[null,null],\"line\":{\"color\":\"red\",\"width\":1},\"lon\":[null,null],\"mode\":\"lines\",\"name\":\"nan\",\"type\":\"scattergeo\"},{\"lat\":[null,null],\"line\":{\"color\":\"red\",\"width\":1},\"lon\":[null,null],\"mode\":\"lines\",\"name\":\"nan\",\"type\":\"scattergeo\"},{\"lat\":[null,null],\"line\":{\"color\":\"red\",\"width\":1},\"lon\":[null,null],\"mode\":\"lines\",\"name\":\"nan\",\"type\":\"scattergeo\"},{\"lat\":[null,null],\"line\":{\"color\":\"red\",\"width\":1},\"lon\":[null,null],\"mode\":\"lines\",\"name\":\"nan\",\"type\":\"scattergeo\"},{\"lat\":[null,null],\"line\":{\"color\":\"red\",\"width\":1},\"lon\":[null,null],\"mode\":\"lines\",\"name\":\"nan\",\"type\":\"scattergeo\"},{\"lat\":[null,null],\"line\":{\"color\":\"red\",\"width\":1},\"lon\":[null,null],\"mode\":\"lines\",\"name\":\"nan\",\"type\":\"scattergeo\"},{\"lat\":[null,null],\"line\":{\"color\":\"red\",\"width\":1},\"lon\":[null,null],\"mode\":\"lines\",\"name\":\"nan\",\"type\":\"scattergeo\"},{\"lat\":[null,null],\"line\":{\"color\":\"red\",\"width\":1},\"lon\":[null,null],\"mode\":\"lines\",\"name\":\"nan\",\"type\":\"scattergeo\"},{\"lat\":[null,null],\"line\":{\"color\":\"red\",\"width\":1},\"lon\":[null,null],\"mode\":\"lines\",\"name\":\"nan\",\"type\":\"scattergeo\"},{\"lat\":[null,null],\"line\":{\"color\":\"red\",\"width\":1},\"lon\":[null,null],\"mode\":\"lines\",\"name\":\"nan\",\"type\":\"scattergeo\"},{\"lat\":[null,null],\"line\":{\"color\":\"red\",\"width\":1},\"lon\":[null,null],\"mode\":\"lines\",\"name\":\"nan\",\"type\":\"scattergeo\"},{\"lat\":[null,null],\"line\":{\"color\":\"red\",\"width\":1},\"lon\":[null,null],\"mode\":\"lines\",\"name\":\"nan\",\"type\":\"scattergeo\"},{\"lat\":[null,null],\"line\":{\"color\":\"red\",\"width\":1},\"lon\":[null,null],\"mode\":\"lines\",\"name\":\"nan\",\"type\":\"scattergeo\"},{\"lat\":[null,null],\"line\":{\"color\":\"red\",\"width\":1},\"lon\":[null,null],\"mode\":\"lines\",\"name\":\"nan\",\"type\":\"scattergeo\"},{\"lat\":[null,null],\"line\":{\"color\":\"red\",\"width\":1},\"lon\":[null,null],\"mode\":\"lines\",\"name\":\"nan\",\"type\":\"scattergeo\"},{\"lat\":[null,null],\"line\":{\"color\":\"red\",\"width\":1},\"lon\":[null,null],\"mode\":\"lines\",\"name\":\"nan\",\"type\":\"scattergeo\"},{\"lat\":[null,null],\"line\":{\"color\":\"red\",\"width\":1},\"lon\":[null,null],\"mode\":\"lines\",\"name\":\"nan\",\"type\":\"scattergeo\"},{\"lat\":[null,null],\"line\":{\"color\":\"red\",\"width\":1},\"lon\":[null,null],\"mode\":\"lines\",\"name\":\"nan\",\"type\":\"scattergeo\"},{\"lat\":[null,null],\"line\":{\"color\":\"red\",\"width\":1},\"lon\":[null,null],\"mode\":\"lines\",\"name\":\"nan\",\"type\":\"scattergeo\"},{\"lat\":[null,null],\"line\":{\"color\":\"red\",\"width\":1},\"lon\":[null,null],\"mode\":\"lines\",\"name\":\"nan\",\"type\":\"scattergeo\"},{\"lat\":[null,null],\"line\":{\"color\":\"red\",\"width\":1},\"lon\":[null,null],\"mode\":\"lines\",\"name\":\"nan\",\"type\":\"scattergeo\"},{\"lat\":[null,null],\"line\":{\"color\":\"red\",\"width\":1},\"lon\":[null,null],\"mode\":\"lines\",\"name\":\"nan\",\"type\":\"scattergeo\"},{\"lat\":[null,null],\"line\":{\"color\":\"red\",\"width\":1},\"lon\":[null,null],\"mode\":\"lines\",\"name\":\"nan\",\"type\":\"scattergeo\"},{\"lat\":[null,null],\"line\":{\"color\":\"red\",\"width\":1},\"lon\":[null,null],\"mode\":\"lines\",\"name\":\"nan\",\"type\":\"scattergeo\"},{\"lat\":[null,null],\"line\":{\"color\":\"red\",\"width\":1},\"lon\":[null,null],\"mode\":\"lines\",\"name\":\"nan\",\"type\":\"scattergeo\"}],                        {\"template\":{\"data\":{\"histogram2dcontour\":[{\"type\":\"histogram2dcontour\",\"colorbar\":{\"outlinewidth\":0,\"ticks\":\"\"},\"colorscale\":[[0.0,\"#0d0887\"],[0.1111111111111111,\"#46039f\"],[0.2222222222222222,\"#7201a8\"],[0.3333333333333333,\"#9c179e\"],[0.4444444444444444,\"#bd3786\"],[0.5555555555555556,\"#d8576b\"],[0.6666666666666666,\"#ed7953\"],[0.7777777777777778,\"#fb9f3a\"],[0.8888888888888888,\"#fdca26\"],[1.0,\"#f0f921\"]]}],\"choropleth\":[{\"type\":\"choropleth\",\"colorbar\":{\"outlinewidth\":0,\"ticks\":\"\"}}],\"histogram2d\":[{\"type\":\"histogram2d\",\"colorbar\":{\"outlinewidth\":0,\"ticks\":\"\"},\"colorscale\":[[0.0,\"#0d0887\"],[0.1111111111111111,\"#46039f\"],[0.2222222222222222,\"#7201a8\"],[0.3333333333333333,\"#9c179e\"],[0.4444444444444444,\"#bd3786\"],[0.5555555555555556,\"#d8576b\"],[0.6666666666666666,\"#ed7953\"],[0.7777777777777778,\"#fb9f3a\"],[0.8888888888888888,\"#fdca26\"],[1.0,\"#f0f921\"]]}],\"heatmap\":[{\"type\":\"heatmap\",\"colorbar\":{\"outlinewidth\":0,\"ticks\":\"\"},\"colorscale\":[[0.0,\"#0d0887\"],[0.1111111111111111,\"#46039f\"],[0.2222222222222222,\"#7201a8\"],[0.3333333333333333,\"#9c179e\"],[0.4444444444444444,\"#bd3786\"],[0.5555555555555556,\"#d8576b\"],[0.6666666666666666,\"#ed7953\"],[0.7777777777777778,\"#fb9f3a\"],[0.8888888888888888,\"#fdca26\"],[1.0,\"#f0f921\"]]}],\"heatmapgl\":[{\"type\":\"heatmapgl\",\"colorbar\":{\"outlinewidth\":0,\"ticks\":\"\"},\"colorscale\":[[0.0,\"#0d0887\"],[0.1111111111111111,\"#46039f\"],[0.2222222222222222,\"#7201a8\"],[0.3333333333333333,\"#9c179e\"],[0.4444444444444444,\"#bd3786\"],[0.5555555555555556,\"#d8576b\"],[0.6666666666666666,\"#ed7953\"],[0.7777777777777778,\"#fb9f3a\"],[0.8888888888888888,\"#fdca26\"],[1.0,\"#f0f921\"]]}],\"contourcarpet\":[{\"type\":\"contourcarpet\",\"colorbar\":{\"outlinewidth\":0,\"ticks\":\"\"}}],\"contour\":[{\"type\":\"contour\",\"colorbar\":{\"outlinewidth\":0,\"ticks\":\"\"},\"colorscale\":[[0.0,\"#0d0887\"],[0.1111111111111111,\"#46039f\"],[0.2222222222222222,\"#7201a8\"],[0.3333333333333333,\"#9c179e\"],[0.4444444444444444,\"#bd3786\"],[0.5555555555555556,\"#d8576b\"],[0.6666666666666666,\"#ed7953\"],[0.7777777777777778,\"#fb9f3a\"],[0.8888888888888888,\"#fdca26\"],[1.0,\"#f0f921\"]]}],\"surface\":[{\"type\":\"surface\",\"colorbar\":{\"outlinewidth\":0,\"ticks\":\"\"},\"colorscale\":[[0.0,\"#0d0887\"],[0.1111111111111111,\"#46039f\"],[0.2222222222222222,\"#7201a8\"],[0.3333333333333333,\"#9c179e\"],[0.4444444444444444,\"#bd3786\"],[0.5555555555555556,\"#d8576b\"],[0.6666666666666666,\"#ed7953\"],[0.7777777777777778,\"#fb9f3a\"],[0.8888888888888888,\"#fdca26\"],[1.0,\"#f0f921\"]]}],\"mesh3d\":[{\"type\":\"mesh3d\",\"colorbar\":{\"outlinewidth\":0,\"ticks\":\"\"}}],\"scatter\":[{\"fillpattern\":{\"fillmode\":\"overlay\",\"size\":10,\"solidity\":0.2},\"type\":\"scatter\"}],\"parcoords\":[{\"type\":\"parcoords\",\"line\":{\"colorbar\":{\"outlinewidth\":0,\"ticks\":\"\"}}}],\"scatterpolargl\":[{\"type\":\"scatterpolargl\",\"marker\":{\"colorbar\":{\"outlinewidth\":0,\"ticks\":\"\"}}}],\"bar\":[{\"error_x\":{\"color\":\"#2a3f5f\"},\"error_y\":{\"color\":\"#2a3f5f\"},\"marker\":{\"line\":{\"color\":\"#E5ECF6\",\"width\":0.5},\"pattern\":{\"fillmode\":\"overlay\",\"size\":10,\"solidity\":0.2}},\"type\":\"bar\"}],\"scattergeo\":[{\"type\":\"scattergeo\",\"marker\":{\"colorbar\":{\"outlinewidth\":0,\"ticks\":\"\"}}}],\"scatterpolar\":[{\"type\":\"scatterpolar\",\"marker\":{\"colorbar\":{\"outlinewidth\":0,\"ticks\":\"\"}}}],\"histogram\":[{\"marker\":{\"pattern\":{\"fillmode\":\"overlay\",\"size\":10,\"solidity\":0.2}},\"type\":\"histogram\"}],\"scattergl\":[{\"type\":\"scattergl\",\"marker\":{\"colorbar\":{\"outlinewidth\":0,\"ticks\":\"\"}}}],\"scatter3d\":[{\"type\":\"scatter3d\",\"line\":{\"colorbar\":{\"outlinewidth\":0,\"ticks\":\"\"}},\"marker\":{\"colorbar\":{\"outlinewidth\":0,\"ticks\":\"\"}}}],\"scattermapbox\":[{\"type\":\"scattermapbox\",\"marker\":{\"colorbar\":{\"outlinewidth\":0,\"ticks\":\"\"}}}],\"scatterternary\":[{\"type\":\"scatterternary\",\"marker\":{\"colorbar\":{\"outlinewidth\":0,\"ticks\":\"\"}}}],\"scattercarpet\":[{\"type\":\"scattercarpet\",\"marker\":{\"colorbar\":{\"outlinewidth\":0,\"ticks\":\"\"}}}],\"carpet\":[{\"aaxis\":{\"endlinecolor\":\"#2a3f5f\",\"gridcolor\":\"white\",\"linecolor\":\"white\",\"minorgridcolor\":\"white\",\"startlinecolor\":\"#2a3f5f\"},\"baxis\":{\"endlinecolor\":\"#2a3f5f\",\"gridcolor\":\"white\",\"linecolor\":\"white\",\"minorgridcolor\":\"white\",\"startlinecolor\":\"#2a3f5f\"},\"type\":\"carpet\"}],\"table\":[{\"cells\":{\"fill\":{\"color\":\"#EBF0F8\"},\"line\":{\"color\":\"white\"}},\"header\":{\"fill\":{\"color\":\"#C8D4E3\"},\"line\":{\"color\":\"white\"}},\"type\":\"table\"}],\"barpolar\":[{\"marker\":{\"line\":{\"color\":\"#E5ECF6\",\"width\":0.5},\"pattern\":{\"fillmode\":\"overlay\",\"size\":10,\"solidity\":0.2}},\"type\":\"barpolar\"}],\"pie\":[{\"automargin\":true,\"type\":\"pie\"}]},\"layout\":{\"autotypenumbers\":\"strict\",\"colorway\":[\"#636efa\",\"#EF553B\",\"#00cc96\",\"#ab63fa\",\"#FFA15A\",\"#19d3f3\",\"#FF6692\",\"#B6E880\",\"#FF97FF\",\"#FECB52\"],\"font\":{\"color\":\"#2a3f5f\"},\"hovermode\":\"closest\",\"hoverlabel\":{\"align\":\"left\"},\"paper_bgcolor\":\"white\",\"plot_bgcolor\":\"#E5ECF6\",\"polar\":{\"bgcolor\":\"#E5ECF6\",\"angularaxis\":{\"gridcolor\":\"white\",\"linecolor\":\"white\",\"ticks\":\"\"},\"radialaxis\":{\"gridcolor\":\"white\",\"linecolor\":\"white\",\"ticks\":\"\"}},\"ternary\":{\"bgcolor\":\"#E5ECF6\",\"aaxis\":{\"gridcolor\":\"white\",\"linecolor\":\"white\",\"ticks\":\"\"},\"baxis\":{\"gridcolor\":\"white\",\"linecolor\":\"white\",\"ticks\":\"\"},\"caxis\":{\"gridcolor\":\"white\",\"linecolor\":\"white\",\"ticks\":\"\"}},\"coloraxis\":{\"colorbar\":{\"outlinewidth\":0,\"ticks\":\"\"}},\"colorscale\":{\"sequential\":[[0.0,\"#0d0887\"],[0.1111111111111111,\"#46039f\"],[0.2222222222222222,\"#7201a8\"],[0.3333333333333333,\"#9c179e\"],[0.4444444444444444,\"#bd3786\"],[0.5555555555555556,\"#d8576b\"],[0.6666666666666666,\"#ed7953\"],[0.7777777777777778,\"#fb9f3a\"],[0.8888888888888888,\"#fdca26\"],[1.0,\"#f0f921\"]],\"sequentialminus\":[[0.0,\"#0d0887\"],[0.1111111111111111,\"#46039f\"],[0.2222222222222222,\"#7201a8\"],[0.3333333333333333,\"#9c179e\"],[0.4444444444444444,\"#bd3786\"],[0.5555555555555556,\"#d8576b\"],[0.6666666666666666,\"#ed7953\"],[0.7777777777777778,\"#fb9f3a\"],[0.8888888888888888,\"#fdca26\"],[1.0,\"#f0f921\"]],\"diverging\":[[0,\"#8e0152\"],[0.1,\"#c51b7d\"],[0.2,\"#de77ae\"],[0.3,\"#f1b6da\"],[0.4,\"#fde0ef\"],[0.5,\"#f7f7f7\"],[0.6,\"#e6f5d0\"],[0.7,\"#b8e186\"],[0.8,\"#7fbc41\"],[0.9,\"#4d9221\"],[1,\"#276419\"]]},\"xaxis\":{\"gridcolor\":\"white\",\"linecolor\":\"white\",\"ticks\":\"\",\"title\":{\"standoff\":15},\"zerolinecolor\":\"white\",\"automargin\":true,\"zerolinewidth\":2},\"yaxis\":{\"gridcolor\":\"white\",\"linecolor\":\"white\",\"ticks\":\"\",\"title\":{\"standoff\":15},\"zerolinecolor\":\"white\",\"automargin\":true,\"zerolinewidth\":2},\"scene\":{\"xaxis\":{\"backgroundcolor\":\"#E5ECF6\",\"gridcolor\":\"white\",\"linecolor\":\"white\",\"showbackground\":true,\"ticks\":\"\",\"zerolinecolor\":\"white\",\"gridwidth\":2},\"yaxis\":{\"backgroundcolor\":\"#E5ECF6\",\"gridcolor\":\"white\",\"linecolor\":\"white\",\"showbackground\":true,\"ticks\":\"\",\"zerolinecolor\":\"white\",\"gridwidth\":2},\"zaxis\":{\"backgroundcolor\":\"#E5ECF6\",\"gridcolor\":\"white\",\"linecolor\":\"white\",\"showbackground\":true,\"ticks\":\"\",\"zerolinecolor\":\"white\",\"gridwidth\":2}},\"shapedefaults\":{\"line\":{\"color\":\"#2a3f5f\"}},\"annotationdefaults\":{\"arrowcolor\":\"#2a3f5f\",\"arrowhead\":0,\"arrowwidth\":1},\"geo\":{\"bgcolor\":\"white\",\"landcolor\":\"#E5ECF6\",\"subunitcolor\":\"white\",\"showland\":true,\"showlakes\":true,\"lakecolor\":\"white\"},\"title\":{\"x\":0.05},\"mapbox\":{\"style\":\"light\"}}},\"geo\":{\"projection\":{\"type\":\"orthographic\"}}},                        {\"responsive\": true}                    ).then(function(){\n",
       "                            \n",
       "var gd = document.getElementById('66c16387-3152-40c6-b28c-60345593af34');\n",
       "var x = new MutationObserver(function (mutations, observer) {{\n",
       "        var display = window.getComputedStyle(gd).display;\n",
       "        if (!display || display === 'none') {{\n",
       "            console.log([gd, 'removed!']);\n",
       "            Plotly.purge(gd);\n",
       "            observer.disconnect();\n",
       "        }}\n",
       "}});\n",
       "\n",
       "// Listen for the removal of the full notebook cells\n",
       "var notebookContainer = gd.closest('#notebook-container');\n",
       "if (notebookContainer) {{\n",
       "    x.observe(notebookContainer, {childList: true});\n",
       "}}\n",
       "\n",
       "// Listen for the clearing of the current output cell\n",
       "var outputEl = gd.closest('.output');\n",
       "if (outputEl) {{\n",
       "    x.observe(outputEl, {childList: true});\n",
       "}}\n",
       "\n",
       "                        })                };                });            </script>        </div>"
      ]
     },
     "metadata": {},
     "output_type": "display_data"
    }
   ],
   "source": [
    "fig = go.Figure(go.Scattergeo())\n",
    "\n",
    "fig.update_geos(projection_type=\"orthographic\")\n",
    "\n",
    "for i in range(len(flights)):\n",
    "    fig.add_trace(\n",
    "        go.Scattergeo(\n",
    "            lon = [flights[\"from logntitude\"][i], flights[\"to logntitude\"][i]],\n",
    "            lat = [flights[\"from lattitude\"][i], flights[\"to lattitude\"][i]],\n",
    "            mode = 'lines',\n",
    "            name=flights['date'][i],\n",
    "            line = dict(width = 1,color = 'red'),\n",
    "        )\n",
    "    )\n",
    "\n",
    "fig"
   ]
  },
  {
   "cell_type": "code",
   "execution_count": 6,
   "id": "3f92140f",
   "metadata": {},
   "outputs": [],
   "source": [
    "import plotly.express as px"
   ]
  },
  {
   "cell_type": "code",
   "execution_count": null,
   "id": "6628828e",
   "metadata": {},
   "outputs": [],
   "source": [
    "px.m"
   ]
  }
 ],
 "metadata": {
  "kernelspec": {
   "display_name": "Python 3 (ipykernel)",
   "language": "python",
   "name": "python3"
  },
  "language_info": {
   "codemirror_mode": {
    "name": "ipython",
    "version": 3
   },
   "file_extension": ".py",
   "mimetype": "text/x-python",
   "name": "python",
   "nbconvert_exporter": "python",
   "pygments_lexer": "ipython3",
   "version": "3.10.7"
  },
  "toc": {
   "base_numbering": 1,
   "nav_menu": {},
   "number_sections": true,
   "sideBar": true,
   "skip_h1_title": false,
   "title_cell": "Table of Contents",
   "title_sidebar": "Contents",
   "toc_cell": false,
   "toc_position": {},
   "toc_section_display": true,
   "toc_window_display": false
  }
 },
 "nbformat": 4,
 "nbformat_minor": 5
}
