{
 "cells": [
  {
   "cell_type": "markdown",
   "metadata": {},
   "source": [
    "# Creating a Map displaying all the flights I have ever taken and more...."
   ]
  },
  {
   "cell_type": "markdown",
   "metadata": {},
   "source": [
    "# Trying to add heads\n"
   ]
  },
  {
   "cell_type": "code",
   "execution_count": 1,
   "metadata": {
    "collapsed": false
   },
   "outputs": [
    {
     "name": "stdout",
     "output_type": "stream",
     "text": [
      "C:\\Users\\vz28\\Mapping project\\python mapping\n",
      "C:\\Users\\vz28\\Mapping project\\python mapping\\Data\\SW-J flight travel.csv\n",
      "frame count = 2177\n",
      "0\n"
     ]
    }
   ],
   "source": [
    "#!/usr/bin/env python\n",
    "# -*- coding: utf-8 -*-\n",
    "import numpy as np\n",
    "import pandas as pd\n",
    "from mpl_toolkits.basemap import Basemap\n",
    "import matplotlib.pyplot as plt\n",
    "from matplotlib.colors import Normalize, LinearSegmentedColormap, PowerNorm\n",
    "import os\n",
    "import matplotlib.animation as animation\n",
    "from matplotlib.lines import Line2D\n",
    "\n",
    "## sort the filenames out\n",
    "cwd = os.getcwd()\n",
    "print cwd\n",
    "in_filename = cwd + '\\Data\\SW-J flight travel.csv'\n",
    "print in_filename\n",
    "    \n",
    "# define the expected CSV columns\n",
    "csv_cols = ('flight', 'dep_coutry', 'dep_airport','dep_airport_code','dep_lat','dep_lon',\n",
    "                'arr_country','arr_airport','arr_airport_code','arr_lat','arr_lon',\n",
    "                'date', 'notes','trip_name')\n",
    "\n",
    "##clour set up\n",
    "bg_color = (0.0, 0.0, 0, 1.0)\n",
    "coast_color = (204/255.0, 0, 193/255.0, .9)\n",
    "#coast_color = (204/255.0, 0, 153/255.0, 0.7)\n",
    "color = (1.0, 0.80000000000000004, 0.90196078431372551, 1.0)\n",
    "\n",
    "#set initial conditions\n",
    "m = Basemap(projection='mill', lon_0=0, resolution= 'l')\n",
    "m.drawcoastlines(color=coast_color, linewidth=1.5)\n",
    "m.fillcontinents(color=bg_color, lake_color=bg_color)\n",
    "m.drawmapboundary(fill_color=bg_color)\n",
    "lines = []\n",
    "\n",
    "\n",
    "# Load in the file \n",
    "routes = pd.read_csv(in_filename,names= csv_cols, skiprows=1)\n",
    "\n",
    "\n",
    "#Populated the lines list\n",
    "for i, route in enumerate(routes.sort_values(by='flight',\n",
    "                              ascending=True).iterrows()):\n",
    "    route = route[1]\n",
    "    line, = m.drawgreatcircle(route['dep_lon'], route['dep_lat'],\n",
    "                                  route['arr_lon'], route['arr_lat'],\n",
    "                                  linewidth=2.0, color= color)\n",
    "    lines.append(line)  \n",
    "\n",
    "\n",
    "\n",
    "##set up the animation figure\n",
    "current_line = 0\n",
    "current_point = 0\n",
    "fig2 = plt.figure(figsize=(27, 20))\n",
    "m2 = Basemap(projection='mill', lon_0=0, resolution= 'l')\n",
    "m2.drawcoastlines(color=coast_color, linewidth=1.5)\n",
    "m2.fillcontinents(color=bg_color, lake_color=bg_color)\n",
    "m2.drawmapboundary(fill_color=bg_color)\n",
    "\n",
    "                   \n",
    "\n",
    "#initialise the flight path\n",
    "\n",
    "x,y = lines[current_line].get_data()\n",
    "x= x[0]\n",
    "y= y[0]\n",
    "flight_path = [[],[],[]]\n",
    "for i in iter(range(len(lines))):\n",
    "        line = m2.plot(x,y, color=color)[0]\n",
    "        line_head = m2.plot(x,y, color='red', marker='o', markeredgecolor='r')[0]\n",
    "        line_head_slice = m2.plot(x,y, color='red', linewidth=2)[0]\n",
    "        line.set_data(x, y)\n",
    "        flight_path[0].append(line)\n",
    "        flight_path[1].append(line_head)           #head\n",
    "        flight_path[2].append(line_head_slice)     #head slice\n",
    "        \n",
    "\n",
    "# used if repeat set to true\n",
    "def init():\n",
    "    #print \"data is\", repr(iter(range(len(lines))))\n",
    "    global  current_line , current_point, flight_path\n",
    "    current_line = 0\n",
    "    current_point = 0\n",
    "    x,y = lines[current_line].get_data()\n",
    "    x= x[0]\n",
    "    y= y[0]\n",
    "    for i in iter(range(len(lines))):\n",
    "        flight_path[0][i].set_data(x,y)\n",
    "        flight_path[1][i].set_data(x,y)       #head\n",
    "        flight_path[2][i].set_data(x,y)    #head slice\n",
    "    return flight_path[0] + flight_path[1] + flight_path[2]\n",
    "\n",
    "\n",
    "#how many frames do we need ??\n",
    "s=0\n",
    "for i in range(len(lines)):\n",
    "    s += len(lines[i].get_data()[0])\n",
    "print 'frame count = ' + str(s)\n",
    "\n",
    "r = 0\n",
    "##define the animation function\n",
    "def animate(frames):\n",
    "#def animate(frames, *args, **kwargs):\n",
    "    global  current_line , current_point, flight_path, lines,r\n",
    "    head_len = 10\n",
    "    x,y = lines[current_line].get_data()\n",
    "    \n",
    "    flight_path[0][current_line].set_data(x[:current_point+1],y[:current_point+1])\n",
    "    flight_path[1][current_line].set_data(x[current_point],y[current_point])\n",
    "    if (current_point < 10):\n",
    "        \n",
    "        flight_path[2][current_line].set_data(x[:current_point+1],y[:current_point+1])\n",
    "        \n",
    "    if (current_point > 9):\n",
    "        flight_path[2][current_line].set_data(x[(current_point-head_len):current_point],\n",
    "                                              y[(current_point-head_len):current_point])    \n",
    "        \n",
    "    \n",
    "    if (current_point == lines[current_line].get_data()[0].size -1):\n",
    "        \n",
    "        current_point = 0\n",
    "        flight_path[2][current_line].set_data([],[])\n",
    "        current_line += 1\n",
    "        \n",
    "    else:\n",
    "        current_point += 1   \n",
    "    r += 1\n",
    "    return flight_path[0] + flight_path[1] + flight_path[2]\n",
    "            \n",
    "#fargs= (current_line, current_point, flight_path, lines)\n",
    "# call the animator.  blit=True means only re-draw the parts that have changed.\n",
    "anim = animation.FuncAnimation(fig2, animate, frames=s-1, interval=5, blit=True, init_func=init, repeat= False)\n",
    "print r\n",
    "\n",
    "##movie stuff \n",
    "# Uncomment to save\n",
    "ffmpeg_path = cwd + '\\\\ffmpeg-20160924-267da70-win64-static\\\\bin'\n",
    "plt.rcParams['animation.ffmpeg_path'] = ffmpeg_path + '\\\\ffmpeg'\n",
    "#mywriter = animation.FFMpegWriter(fps = 70)\n",
    "#anim.save('mymovie.mp4',writer=mywriter)\n",
    "plt.show()"
   ]
  },
  {
   "cell_type": "markdown",
   "metadata": {},
   "source": [
    "# that's it for now folks"
   ]
  },
  {
   "cell_type": "code",
   "execution_count": 26,
   "metadata": {
    "collapsed": false
   },
   "outputs": [],
   "source": [
    "#plt.rcParams\n",
    "# animation.ImageMagickWriter.isAvailable()"
   ]
  },
  {
   "cell_type": "code",
   "execution_count": null,
   "metadata": {
    "collapsed": false
   },
   "outputs": [],
   "source": []
  },
  {
   "cell_type": "code",
   "execution_count": null,
   "metadata": {
    "collapsed": true
   },
   "outputs": [],
   "source": []
  },
  {
   "cell_type": "code",
   "execution_count": null,
   "metadata": {
    "collapsed": true
   },
   "outputs": [],
   "source": []
  }
 ],
 "metadata": {
  "kernelspec": {
   "display_name": "Python 2",
   "language": "python",
   "name": "python2"
  },
  "language_info": {
   "codemirror_mode": {
    "name": "ipython",
    "version": 2
   },
   "file_extension": ".py",
   "mimetype": "text/x-python",
   "name": "python",
   "nbconvert_exporter": "python",
   "pygments_lexer": "ipython2",
   "version": "2.7.12"
  }
 },
 "nbformat": 4,
 "nbformat_minor": 0
}
