{
 "cells": [
  {
   "cell_type": "markdown",
   "metadata": {},
   "source": [
    "# Creating a Map displaying all the flights I have ever taken and more...."
   ]
  },
  {
   "cell_type": "markdown",
   "metadata": {},
   "source": [
    "### Bringing in the required packages"
   ]
  },
  {
   "cell_type": "code",
   "execution_count": 1,
   "metadata": {
    "collapsed": true
   },
   "outputs": [],
   "source": [
    "import pandas as pd\n",
    "from mpl_toolkits.basemap import Basemap\n",
    "import matplotlib.pyplot as plt\n",
    "import os\n",
    "import matplotlib.animation as animation\n",
    "from matplotlib.lines import Line2D"
   ]
  },
  {
   "cell_type": "markdown",
   "metadata": {},
   "source": [
    "### Sort the filenames out"
   ]
  },
  {
   "cell_type": "code",
   "execution_count": 2,
   "metadata": {},
   "outputs": [
    {
     "name": "stdout",
     "output_type": "stream",
     "text": [
      "/Users/simon.ward-jones/Documents/General_Repos/mapping-project/python mapping\n",
      "/Users/simon.ward-jones/Documents/General_Repos/mapping-project/python mapping/Data/SW-J flight travel.csv\n"
     ]
    }
   ],
   "source": [
    "import os\n",
    "cwd = os.getcwd()\n",
    "print(cwd)\n",
    "in_filename = cwd + '/Data/SW-J flight travel.csv'\n",
    "print(in_filename)"
   ]
  },
  {
   "cell_type": "markdown",
   "metadata": {},
   "source": [
    "### Load the data in"
   ]
  },
  {
   "cell_type": "code",
   "execution_count": 3,
   "metadata": {},
   "outputs": [
    {
     "data": {
      "text/html": [
       "<div>\n",
       "<style scoped>\n",
       "    .dataframe tbody tr th:only-of-type {\n",
       "        vertical-align: middle;\n",
       "    }\n",
       "\n",
       "    .dataframe tbody tr th {\n",
       "        vertical-align: top;\n",
       "    }\n",
       "\n",
       "    .dataframe thead th {\n",
       "        text-align: right;\n",
       "    }\n",
       "</style>\n",
       "<table border=\"1\" class=\"dataframe\">\n",
       "  <thead>\n",
       "    <tr style=\"text-align: right;\">\n",
       "      <th></th>\n",
       "      <th>flight</th>\n",
       "      <th>dep_coutry</th>\n",
       "      <th>dep_airport</th>\n",
       "      <th>dep_airport_code</th>\n",
       "      <th>dep_lat</th>\n",
       "      <th>dep_lon</th>\n",
       "      <th>arr_country</th>\n",
       "      <th>arr_airport</th>\n",
       "      <th>arr_airport_code</th>\n",
       "      <th>arr_lat</th>\n",
       "      <th>arr_lon</th>\n",
       "      <th>date</th>\n",
       "      <th>notes</th>\n",
       "      <th>trip_name</th>\n",
       "    </tr>\n",
       "  </thead>\n",
       "  <tbody>\n",
       "    <tr>\n",
       "      <th>0</th>\n",
       "      <td>1</td>\n",
       "      <td>UK</td>\n",
       "      <td>Heathrow</td>\n",
       "      <td>LHR</td>\n",
       "      <td>51.477500</td>\n",
       "      <td>-0.461389</td>\n",
       "      <td>United States</td>\n",
       "      <td>Los Angeles</td>\n",
       "      <td>LAX</td>\n",
       "      <td>33.942536</td>\n",
       "      <td>-118.408075</td>\n",
       "      <td>01/08/2000</td>\n",
       "      <td>estimated date</td>\n",
       "      <td>Family United States 1</td>\n",
       "    </tr>\n",
       "    <tr>\n",
       "      <th>1</th>\n",
       "      <td>2</td>\n",
       "      <td>United States</td>\n",
       "      <td>San Francisco</td>\n",
       "      <td>SFO</td>\n",
       "      <td>37.618972</td>\n",
       "      <td>-122.374889</td>\n",
       "      <td>UK</td>\n",
       "      <td>Heathrow</td>\n",
       "      <td>LHR</td>\n",
       "      <td>51.477500</td>\n",
       "      <td>-0.461389</td>\n",
       "      <td>15/08/2000</td>\n",
       "      <td>estimated date</td>\n",
       "      <td>Family United States 1</td>\n",
       "    </tr>\n",
       "  </tbody>\n",
       "</table>\n",
       "</div>"
      ],
      "text/plain": [
       "   flight     dep_coutry    dep_airport dep_airport_code    dep_lat  \\\n",
       "0       1             UK       Heathrow              LHR  51.477500   \n",
       "1       2  United States  San Francisco              SFO  37.618972   \n",
       "\n",
       "      dep_lon    arr_country  arr_airport arr_airport_code    arr_lat  \\\n",
       "0   -0.461389  United States  Los Angeles              LAX  33.942536   \n",
       "1 -122.374889             UK     Heathrow              LHR  51.477500   \n",
       "\n",
       "      arr_lon        date           notes               trip_name  \n",
       "0 -118.408075  01/08/2000  estimated date  Family United States 1  \n",
       "1   -0.461389  15/08/2000  estimated date  Family United States 1  "
      ]
     },
     "execution_count": 3,
     "metadata": {},
     "output_type": "execute_result"
    }
   ],
   "source": [
    "csv_cols = ('flight', 'dep_coutry', 'dep_airport','dep_airport_code','dep_lat','dep_lon',\n",
    "                'arr_country','arr_airport','arr_airport_code','arr_lat','arr_lon',\n",
    "                'date', 'notes','trip_name')\n",
    "\n",
    "routes = pd.read_csv(in_filename,names= csv_cols, skiprows=1)\n",
    "routes.head(2)"
   ]
  },
  {
   "cell_type": "markdown",
   "metadata": {},
   "source": [
    "### Colour set up"
   ]
  },
  {
   "cell_type": "code",
   "execution_count": 4,
   "metadata": {
    "collapsed": true
   },
   "outputs": [],
   "source": [
    "bg_color = (0.0, 0.0, 0, 1.0)\n",
    "coast_color = (204/255.0, 0, 193/255.0, .9)\n",
    "color = (1.0, 0.80000000000000004, 0.90196078431372551, 1.0)"
   ]
  },
  {
   "cell_type": "markdown",
   "metadata": {},
   "source": [
    "### Set initial conditions"
   ]
  },
  {
   "cell_type": "code",
   "execution_count": 5,
   "metadata": {},
   "outputs": [
    {
     "name": "stderr",
     "output_type": "stream",
     "text": [
      "/Users/simon.ward-jones/anaconda/lib/python3.6/site-packages/mpl_toolkits/basemap/__init__.py:1708: MatplotlibDeprecationWarning: The axesPatch function was deprecated in version 2.1. Use Axes.patch instead.\n",
      "  limb = ax.axesPatch\n",
      "/Users/simon.ward-jones/anaconda/lib/python3.6/site-packages/mpl_toolkits/basemap/__init__.py:1711: MatplotlibDeprecationWarning: The axesPatch function was deprecated in version 2.1. Use Axes.patch instead.\n",
      "  if limb is not ax.axesPatch:\n"
     ]
    }
   ],
   "source": [
    "fig = plt.figure(figsize=(27,20))\n",
    "fig.subplots_adjust(left=0.05, bottom=0.05, right=0.95, top=0.95, wspace=None, hspace=None)\n",
    "m = Basemap(projection='mill', lon_0=0, resolution= 'l') \n",
    "m.drawcoastlines(color=coast_color, linewidth=2.5)\n",
    "m.fillcontinents(color=bg_color, lake_color=bg_color)\n",
    "m.drawmapboundary(fill_color=bg_color)\n",
    "lines = []"
   ]
  },
  {
   "cell_type": "markdown",
   "metadata": {},
   "source": [
    "### Populate the lines list"
   ]
  },
  {
   "cell_type": "code",
   "execution_count": 6,
   "metadata": {
    "collapsed": true
   },
   "outputs": [],
   "source": [
    "for i, route in enumerate(routes.sort_values(by='flight',\n",
    "                              ascending=True).iterrows()):\n",
    "    route = route[1]\n",
    "    line, = m.drawgreatcircle(route['dep_lon'], route['dep_lat'],\n",
    "                                  route['arr_lon'], route['arr_lat'],linewidth=2.5, color= color)\n",
    "    lines.append(line)  \n",
    "    "
   ]
  },
  {
   "cell_type": "markdown",
   "metadata": {},
   "source": [
    "##### \"lines\" now contains our flight paths"
   ]
  },
  {
   "cell_type": "markdown",
   "metadata": {},
   "source": [
    "### Set up the animation figure"
   ]
  },
  {
   "cell_type": "code",
   "execution_count": 7,
   "metadata": {},
   "outputs": [
    {
     "name": "stderr",
     "output_type": "stream",
     "text": [
      "/Users/simon.ward-jones/anaconda/lib/python3.6/site-packages/mpl_toolkits/basemap/__init__.py:1708: MatplotlibDeprecationWarning: The axesPatch function was deprecated in version 2.1. Use Axes.patch instead.\n",
      "  limb = ax.axesPatch\n",
      "/Users/simon.ward-jones/anaconda/lib/python3.6/site-packages/mpl_toolkits/basemap/__init__.py:1711: MatplotlibDeprecationWarning: The axesPatch function was deprecated in version 2.1. Use Axes.patch instead.\n",
      "  if limb is not ax.axesPatch:\n"
     ]
    },
    {
     "data": {
      "text/plain": [
       "<matplotlib.patches.Rectangle at 0x1090b97f0>"
      ]
     },
     "execution_count": 7,
     "metadata": {},
     "output_type": "execute_result"
    }
   ],
   "source": [
    "fig2 = plt.figure(figsize=(27,20))\n",
    "fig2.subplots_adjust(left=0.05, bottom=0.05, right=0.95, top=0.95, wspace=None, hspace=None)\n",
    "m2 = Basemap(projection='mill', lon_0=0, resolution= 'l')\n",
    "m2.drawcoastlines(color=coast_color, linewidth=2.5)\n",
    "m2.fillcontinents(color=bg_color, lake_color=bg_color)\n",
    "m2.drawmapboundary(fill_color=bg_color)      "
   ]
  },
  {
   "cell_type": "markdown",
   "metadata": {},
   "source": [
    "### Initialise the flight path"
   ]
  },
  {
   "cell_type": "code",
   "execution_count": 8,
   "metadata": {
    "collapsed": true
   },
   "outputs": [],
   "source": [
    "current_line = 0\n",
    "current_point = 0\n",
    "x,y = lines[current_line].get_data()\n",
    "x= x[0]\n",
    "y= y[0]\n",
    "flight_path = [[],[],[]]\n",
    "for i in iter(range(len(lines))):\n",
    "        line = m2.plot(x,y, color=color)[0]\n",
    "        line_head = m2.plot(x,y, color='red', marker='o', markeredgecolor='r')[0]\n",
    "        line_head_slice = m2.plot(x,y, color='red', linewidth=2.5)[0]\n",
    "        line.set_data(x, y)\n",
    "        flight_path[0].append(line)\n",
    "        flight_path[1].append(line_head)           #head\n",
    "        flight_path[2].append(line_head_slice)     #head slice\n",
    "        "
   ]
  },
  {
   "cell_type": "markdown",
   "metadata": {},
   "source": [
    "### Define Init to be used if repeat set to true"
   ]
  },
  {
   "cell_type": "code",
   "execution_count": 9,
   "metadata": {
    "collapsed": true
   },
   "outputs": [],
   "source": [
    "def init():\n",
    "    #print \"data is\", repr(iter(range(len(lines))))\n",
    "    global  current_line , current_point, flight_path\n",
    "    current_line = 0\n",
    "    current_point = 0\n",
    "    x,y = lines[current_line].get_data()\n",
    "    x= x[0]\n",
    "    y= y[0]\n",
    "    for i in iter(range(len(lines))):\n",
    "        flight_path[0][i].set_data(x,y)\n",
    "        flight_path[1][i].set_data(x,y)       #head\n",
    "        flight_path[2][i].set_data(x,y)    #head slice\n",
    "    return flight_path[0] + flight_path[1] + flight_path[2]"
   ]
  },
  {
   "cell_type": "markdown",
   "metadata": {},
   "source": [
    "### Calclulate how many frames do we need"
   ]
  },
  {
   "cell_type": "code",
   "execution_count": 10,
   "metadata": {},
   "outputs": [
    {
     "name": "stdout",
     "output_type": "stream",
     "text": [
      "frame count = 2839\n"
     ]
    }
   ],
   "source": [
    "s=0\n",
    "for i in range(len(lines)):\n",
    "    s += len(lines[i].get_data()[0])\n",
    "print ('frame count = ' + str(s))"
   ]
  },
  {
   "cell_type": "markdown",
   "metadata": {},
   "source": [
    "### Define the animation function"
   ]
  },
  {
   "cell_type": "code",
   "execution_count": 11,
   "metadata": {
    "collapsed": true
   },
   "outputs": [],
   "source": [
    "r = 0\n",
    "def animate(frames):\n",
    "#def animate(frames, *args, **kwargs):\n",
    "    global  current_line , current_point, flight_path, lines,r\n",
    "    head_len = 10\n",
    "    x,y = lines[current_line].get_data()\n",
    "    \n",
    "    flight_path[0][current_line].set_data(x[:current_point+1],y[:current_point+1])\n",
    "    flight_path[1][current_line].set_data(x[current_point],y[current_point])\n",
    "    if (current_point < 10):\n",
    "        \n",
    "        flight_path[2][current_line].set_data(x[:current_point+1],y[:current_point+1])\n",
    "        \n",
    "    if (current_point > 9):\n",
    "        flight_path[2][current_line].set_data(x[(current_point-head_len):current_point],\n",
    "                                              y[(current_point-head_len):current_point])    \n",
    "        \n",
    "    \n",
    "    if (current_point == lines[current_line].get_data()[0].size -1):\n",
    "        \n",
    "        current_point = 0\n",
    "        flight_path[2][current_line].set_data([],[])\n",
    "        current_line += 1\n",
    "        \n",
    "    else:\n",
    "        current_point += 1   \n",
    "    r += 1\n",
    "    return flight_path[0] + flight_path[1] + flight_path[2]"
   ]
  },
  {
   "cell_type": "markdown",
   "metadata": {},
   "source": [
    "### Call the animator.  \n",
    "\n",
    "'blit=True' means only re-draw the parts that have changed."
   ]
  },
  {
   "cell_type": "code",
   "execution_count": 12,
   "metadata": {},
   "outputs": [
    {
     "name": "stdout",
     "output_type": "stream",
     "text": [
      "0\n"
     ]
    }
   ],
   "source": [
    "anim = animation.FuncAnimation(fig2, animate, frames= s-1,\n",
    "                               blit=True,\n",
    "                               init_func=init, \n",
    "                               repeat= False)\n",
    "print(r)"
   ]
  },
  {
   "cell_type": "markdown",
   "metadata": {},
   "source": [
    "# Save the animation"
   ]
  },
  {
   "cell_type": "code",
   "execution_count": 15,
   "metadata": {},
   "outputs": [],
   "source": [
    "# saves the video\n",
    "from matplotlib.animation import writers\n",
    "Writer = writers['ffmpeg']\n",
    "writer = Writer(fps=120, metadata=dict(artist='Me'), bitrate=1800, extra_args=['-vcodec', 'libx264'])\n",
    "writer_ios = Writer(fps=30, metadata=dict(artist='SW-J'),extra_args=['-vcodec', 'libx264','-vf', \"scale=-2:720:flags=lanczos\"])\n",
    "anim.save('mapping_video_ios.mp4', writer=writer_ios)\n",
    "anim.save('mapping_video.mp4',writer=writer)"
   ]
  },
  {
   "cell_type": "markdown",
   "metadata": {},
   "source": [
    "We changed the plt params plt.rcParams to use the ffmpeg writer\n",
    "\n",
    "Animation.ffmpeg.isAvailable() checks if the ffmpeg writer is available for use\n",
    "\n",
    "HTML(anim.to_html5_video()) for use in warning takes ages"
   ]
  },
  {
   "cell_type": "markdown",
   "metadata": {},
   "source": [
    "### Other ffmpeg settings\n",
    "'-pix_fmt','yuv420p' --pixel squash?\n",
    ",'-profile:v','high' --quality \n",
    ",'-level','4.1', --quality\n",
    "'-b:v','200K' --bitrate"
   ]
  },
  {
   "cell_type": "markdown",
   "metadata": {},
   "source": [
    "# That's it for now folks"
   ]
  },
  {
   "cell_type": "code",
   "execution_count": null,
   "metadata": {
    "collapsed": true
   },
   "outputs": [],
   "source": []
  }
 ],
 "metadata": {
  "kernelspec": {
   "display_name": "Python 3",
   "language": "python",
   "name": "python3"
  },
  "language_info": {
   "codemirror_mode": {
    "name": "ipython",
    "version": 3
   },
   "file_extension": ".py",
   "mimetype": "text/x-python",
   "name": "python",
   "nbconvert_exporter": "python",
   "pygments_lexer": "ipython3",
   "version": "3.6.1"
  }
 },
 "nbformat": 4,
 "nbformat_minor": 1
}
