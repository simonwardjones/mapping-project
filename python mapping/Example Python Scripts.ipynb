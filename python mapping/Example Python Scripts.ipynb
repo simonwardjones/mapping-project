{
 "cells": [
  {
   "cell_type": "markdown",
   "metadata": {},
   "source": [
    "# This is a workbook full of example Python"
   ]
  },
  {
   "cell_type": "markdown",
   "metadata": {},
   "source": [
    "## Projectile Example"
   ]
  },
  {
   "cell_type": "markdown",
   "metadata": {},
   "source": [
    "# How do use notebook\n",
    "\n",
    "## ctrl + m breaks into options mode\n",
    "## from here a to get another line\n",
    "## double tap d to delete\n",
    "## m to mark down \n",
    "## y to turn into cell\n",
    "## h for help\n",
    "## shift enter to execute\n",
    "## when coding use tab for auto complete\n"
   ]
  },
  {
   "cell_type": "code",
   "execution_count": 1,
   "metadata": {
    "collapsed": false
   },
   "outputs": [],
   "source": [
    "import numpy as np\n",
    "import matplotlib.pyplot as plt\n",
    "import matplotlib.animation as animation\n",
    "\n",
    "fig, ax = plt.subplots()\n",
    "\n",
    "g = 9.8                                                        #value of gravity\n",
    "v = 10.0                                                       #initial velocity\n",
    "theta = 40.0 * np.pi / 180.0                                   #initial angle of launch in radians\n",
    "t = 2 * v * np.sin(theta) / g                                  \n",
    "t = np.arange(0, 0.1, 0.01)                                    #time of flight into an array\n",
    "x = np.arange(0, 0.1, 0.01)\n",
    "line, = ax.plot(x, v * np.sin(theta) * x - (0.5) * g * x**2)   # plot of x and y in time\n",
    "\n",
    "def animate(i):\n",
    "    \"\"\"change the divisor of i to get a faster (but less precise) animation \"\"\"\n",
    "    line.set_xdata(v * np.cos(theta) * (t + i /100.0))\n",
    "    line.set_ydata(v * np.sin(theta) * (x + i /100.0) - (0.5) * g * (x + i / 100.0)**2)  \n",
    "    return line,\n",
    "\n",
    "plt.axis([0.0, 10.0, 0.0, 5.0])\n",
    "ax.set_autoscale_on(False)\n",
    "\n",
    "ani = animation.FuncAnimation(fig, animate, np.arange(1, 200))\n",
    "plt.show()\n",
    "\n"
   ]
  },
  {
   "cell_type": "code",
   "execution_count": null,
   "metadata": {
    "collapsed": true
   },
   "outputs": [],
   "source": []
  },
  {
   "cell_type": "code",
   "execution_count": 2,
   "metadata": {
    "collapsed": false
   },
   "outputs": [
    {
     "name": "stdout",
     "output_type": "stream",
     "text": [
      "(array([ 4.51966221,  4.59626666,  4.6728711 ,  4.74947555,  4.82607999,\n",
      "        4.90268444,  4.97928888,  5.05589332,  5.13249777,  5.20910221]), array([ 2.0867569 ,  2.09272566,  2.09771442,  2.10172318,  2.10475194,\n",
      "        2.1068007 ,  2.10786946,  2.10795822,  2.10706698,  2.10519575]))\n"
     ]
    }
   ],
   "source": [
    "print line.get_data()\n"
   ]
  },
  {
   "cell_type": "markdown",
   "metadata": {},
   "source": [
    "## Matlpolt basemap example - random dots animation"
   ]
  },
  {
   "cell_type": "code",
   "execution_count": 3,
   "metadata": {
    "collapsed": false
   },
   "outputs": [],
   "source": [
    "from mpl_toolkits.basemap import Basemap\n",
    "import matplotlib.pyplot as plt\n",
    "import numpy as np\n",
    "import matplotlib.animation as animation\n",
    "my_map = Basemap(projection='robin', resolution = 'l', area_thresh = 1000.0,\n",
    "          lat_0=0, lon_0=-130)\n",
    "my_map.drawcoastlines()\n",
    "my_map.drawcountries()\n",
    "my_map.fillcontinents(color = 'gray')\n",
    "my_map.drawmapboundary()\n",
    "my_map.drawmeridians(np.arange(0, 360, 30))\n",
    "my_map.drawparallels(np.arange(-90, 90, 30))\n",
    "\n",
    "x,y = my_map(0, 0)\n",
    "point = my_map.plot(x, y, 'ro', markersize=5)[0]\n",
    "\n",
    "def init():\n",
    "    point.set_data([], [])\n",
    "    return point,\n",
    "\n",
    "# animation function.  This is called sequentially\n",
    "def animate(i):\n",
    "    lons, lats =  np.random.random_integers(-130, 130, 2)\n",
    "    x, y = my_map(lons, lats)\n",
    "    point.set_data(x, y)\n",
    "    return point,\n",
    "\n",
    "# call the animator.  blit=True means only re-draw the parts that have changed.\n",
    "anim = animation.FuncAnimation(plt.gcf(), animate, init_func=init,\n",
    "                               frames=20, interval=500, blit=True)\n",
    "\n",
    "plt.show()"
   ]
  },
  {
   "cell_type": "code",
   "execution_count": 4,
   "metadata": {
    "collapsed": false
   },
   "outputs": [
    {
     "data": {
      "text/plain": [
       "<matplotlib.lines.Line2D at 0xcec7d68>"
      ]
     },
     "execution_count": 4,
     "metadata": {},
     "output_type": "execute_result"
    }
   ],
   "source": [
    "point, = my_map.plot(x, y, 'ro', markersize=5)\n",
    "point.get_data()\n",
    "point"
   ]
  },
  {
   "cell_type": "code",
   "execution_count": 5,
   "metadata": {
    "collapsed": false
   },
   "outputs": [
    {
     "data": {
      "text/plain": [
       "29255037.83970316"
      ]
     },
     "execution_count": 5,
     "metadata": {},
     "output_type": "execute_result"
    }
   ],
   "source": [
    "x\n"
   ]
  },
  {
   "cell_type": "markdown",
   "metadata": {},
   "source": [
    "## Sublpot animations  - sine /cos wave animation"
   ]
  },
  {
   "cell_type": "code",
   "execution_count": 6,
   "metadata": {
    "collapsed": false
   },
   "outputs": [],
   "source": [
    "import numpy as np\n",
    "import matplotlib.pyplot as plt\n",
    "from matplotlib.lines import Line2D\n",
    "import matplotlib.animation as animation\n",
    "\n",
    "\n",
    "# This example uses subclassing, but there is no reason that the proper\n",
    "# function couldn't be set up and then use FuncAnimation. The code is long, but\n",
    "# not really complex. The length is due solely to the fact that there are a\n",
    "# total of 9 lines that need to be changed for the animation as well as 3\n",
    "# subplots that need initial set up.\n",
    "class SubplotAnimation(animation.TimedAnimation):\n",
    "    def __init__(self):\n",
    "        fig = plt.figure()\n",
    "        ax1 = fig.add_subplot(1, 2, 1)\n",
    "        ax2 = fig.add_subplot(2, 2, 2)\n",
    "        ax3 = fig.add_subplot(2, 2, 4)\n",
    "\n",
    "        self.t = np.linspace(0, 80, 400)\n",
    "        self.x = np.cos(2 * np.pi * self.t / 10.)\n",
    "        self.y = np.sin(2 * np.pi * self.t / 10.)\n",
    "        self.z = 10 * self.t\n",
    "\n",
    "        ax1.set_xlabel('x')\n",
    "        ax1.set_ylabel('y')\n",
    "        self.line1 = Line2D([], [], color='black')\n",
    "        self.line1a = Line2D([], [], color='red', linewidth=2)\n",
    "        self.line1e = Line2D(\n",
    "            [], [], color='red', marker='o', markeredgecolor='r')\n",
    "        ax1.add_line(self.line1)\n",
    "        ax1.add_line(self.line1a)\n",
    "        ax1.add_line(self.line1e)\n",
    "        ax1.set_xlim(-1, 1)\n",
    "        ax1.set_ylim(-2, 2)\n",
    "        ax1.set_aspect('equal', 'datalim')\n",
    "\n",
    "        ax2.set_xlabel('y')\n",
    "        ax2.set_ylabel('z')\n",
    "        self.line2 = Line2D([], [], color='black')\n",
    "        self.line2a = Line2D([], [], color='red', linewidth=2)\n",
    "        self.line2e = Line2D(\n",
    "            [], [], color='red', marker='o', markeredgecolor='r')\n",
    "        ax2.add_line(self.line2)\n",
    "        ax2.add_line(self.line2a)\n",
    "        ax2.add_line(self.line2e)\n",
    "        ax2.set_xlim(-1, 1)\n",
    "        ax2.set_ylim(0, 800)\n",
    "\n",
    "        ax3.set_xlabel('x')\n",
    "        ax3.set_ylabel('z')\n",
    "        self.line3 = Line2D([], [], color='black')\n",
    "        self.line3a = Line2D([], [], color='red', linewidth=2)\n",
    "        self.line3e = Line2D(\n",
    "            [], [], color='red', marker='o', markeredgecolor='r')\n",
    "        ax3.add_line(self.line3)\n",
    "        ax3.add_line(self.line3a)\n",
    "        ax3.add_line(self.line3e)\n",
    "        ax3.set_xlim(-1, 1)\n",
    "        ax3.set_ylim(0, 800)\n",
    "\n",
    "        animation.TimedAnimation.__init__(self, fig, interval=50, blit=True)\n",
    "\n",
    "    def _draw_frame(self, framedata):\n",
    "        i = framedata\n",
    "        head = i -1\n",
    "        head_len = 10\n",
    "        head_slice = (self.t > self.t[i] - 1.0) & (self.t < self.t[i])\n",
    "\n",
    "        self.line1.set_data(self.x[:i], self.y[:i])\n",
    "        self.line1a.set_data(self.x[head_slice], self.y[head_slice])\n",
    "        self.line1e.set_data(self.x[head], self.y[head])\n",
    "\n",
    "        self.line2.set_data(self.y[:i], self.z[:i])\n",
    "        self.line2a.set_data(self.y[head_slice], self.z[head_slice])\n",
    "        self.line2e.set_data(self.y[head], self.z[head])\n",
    "\n",
    "        self.line3.set_data(self.x[:i], self.z[:i])\n",
    "        self.line3a.set_data(self.x[head_slice], self.z[head_slice])\n",
    "        self.line3e.set_data(self.x[head], self.z[head])\n",
    "\n",
    "        self._drawn_artists = [self.line1, self.line1a, self.line1e,\n",
    "                               self.line2, self.line2a, self.line2e,\n",
    "                               self.line3, self.line3a, self.line3e]\n",
    "\n",
    "    def new_frame_seq(self):\n",
    "        return iter(range(self.t.size))\n",
    "\n",
    "    def _init_draw(self):\n",
    "        lines = [self.line1, self.line1a, self.line1e,\n",
    "                 self.line2, self.line2a, self.line2e,\n",
    "                 self.line3, self.line3a, self.line3e]\n",
    "        for l in lines:\n",
    "            l.set_data([], [])\n",
    "\n",
    "ani = SubplotAnimation()\n",
    "#ani.save('test_sub.mp4')\n",
    "plt.show()"
   ]
  },
  {
   "cell_type": "markdown",
   "metadata": {
    "collapsed": false
   },
   "source": [
    "## two different figure animations"
   ]
  },
  {
   "cell_type": "code",
   "execution_count": null,
   "metadata": {
    "collapsed": false
   },
   "outputs": [],
   "source": []
  },
  {
   "cell_type": "code",
   "execution_count": 7,
   "metadata": {
    "collapsed": true
   },
   "outputs": [],
   "source": [
    "import numpy as np\n",
    "import matplotlib.pyplot as plt\n",
    "import matplotlib.animation as animation\n",
    "\n",
    "\n",
    "def update_line(num, data, line):\n",
    "    line.set_data(data[..., :num])\n",
    "    return line,\n",
    "\n",
    "fig1 = plt.figure()\n",
    "\n",
    "data = np.random.rand(2, 25)\n",
    "l, = plt.plot([], [], 'r-')\n",
    "plt.xlim(0, 1)\n",
    "plt.ylim(0, 1)\n",
    "plt.xlabel('x')\n",
    "plt.title('test')\n",
    "line_ani = animation.FuncAnimation(fig1, update_line, 25, fargs=(data, l),\n",
    "                                   interval=500, blit=True)\n",
    "#line_ani.save('lines.mp4')\n",
    "\n",
    "fig2 = plt.figure()\n",
    "\n",
    "x = np.arange(-9, 10)\n",
    "y = np.arange(-9, 10).reshape(-1, 1)\n",
    "base = np.hypot(x, y)\n",
    "ims = []\n",
    "for add in np.arange(15):\n",
    "    ims.append((plt.pcolor(x, y, base + add, norm=plt.Normalize(0, 30)),))\n",
    "\n",
    "im_ani = animation.ArtistAnimation(fig2, ims, interval=50, repeat_delay=3000,\n",
    "                                   blit=True)\n",
    "#im_ani.save('im.mp4', metadata={'artist':'Guido'})\n",
    "\n",
    "plt.show()"
   ]
  },
  {
   "cell_type": "markdown",
   "metadata": {},
   "source": [
    "## Moving Colour dots on figure"
   ]
  },
  {
   "cell_type": "code",
   "execution_count": 8,
   "metadata": {
    "collapsed": true
   },
   "outputs": [],
   "source": [
    "#!/usr/bin/env python\n",
    "\"\"\"\n",
    "An animated image\n",
    "\"\"\"\n",
    "import numpy as np\n",
    "import matplotlib.pyplot as plt\n",
    "import matplotlib.animation as animation\n",
    "\n",
    "fig = plt.figure()\n",
    "\n",
    "\n",
    "def f(x, y):\n",
    "    return np.sin(x) + np.cos(y)\n",
    "\n",
    "x = np.linspace(0, 2 * np.pi, 120)\n",
    "y = np.linspace(0, 2 * np.pi, 100).reshape(-1, 1)\n",
    "# ims is a list of lists, each row is a list of artists to draw in the\n",
    "# current frame; here we are just animating one artist, the image, in\n",
    "# each frame\n",
    "ims = []\n",
    "for i in range(60):\n",
    "    x += np.pi / 15.\n",
    "    y += np.pi / 20.\n",
    "    im = plt.imshow(f(x, y), cmap='viridis', animated=True)\n",
    "    ims.append([im])\n",
    "\n",
    "ani = animation.ArtistAnimation(fig, ims, interval=50, blit=True,\n",
    "                                repeat_delay=1000)\n",
    "\n",
    "#ani.save('dynamic_images.mp4')\n",
    "\n",
    "\n",
    "plt.show()"
   ]
  },
  {
   "cell_type": "markdown",
   "metadata": {},
   "source": [
    "# MAtplot lib unchained example"
   ]
  },
  {
   "cell_type": "code",
   "execution_count": 9,
   "metadata": {
    "collapsed": false
   },
   "outputs": [
    {
     "ename": "IndentationError",
     "evalue": "unexpected indent (<ipython-input-9-cb404ada67ec>, line 47)",
     "output_type": "error",
     "traceback": [
      "\u001b[1;36m  File \u001b[1;32m\"<ipython-input-9-cb404ada67ec>\"\u001b[1;36m, line \u001b[1;32m47\u001b[0m\n\u001b[1;33m    data[:, 0] = np.random.uniform(0, 1, len(data))\u001b[0m\n\u001b[1;37m    ^\u001b[0m\n\u001b[1;31mIndentationError\u001b[0m\u001b[1;31m:\u001b[0m unexpected indent\n"
     ]
    }
   ],
   "source": [
    "import numpy as np\n",
    "import matplotlib.pyplot as plt\n",
    "import matplotlib.animation as animation\n",
    "\n",
    "# Create new Figure with black background\n",
    "fig = plt.figure(figsize=(8, 8), facecolor='black')\n",
    "\n",
    "# Add a subplot with no frame\n",
    "ax = plt.subplot(111, frameon=False)\n",
    "\n",
    "# Generate random data\n",
    "data = np.random.uniform(0, 1, (64, 75))\n",
    "X = np.linspace(-1, 1, data.shape[-1])\n",
    "G = 1.5 * np.exp(-4 * X * X)\n",
    "\n",
    "# Generate line plots\n",
    "lines = []\n",
    "for i in range(len(data)):\n",
    "    # Small reduction of the X extents to get a cheap perspective effect\n",
    "    xscale = 1 - i / 200.\n",
    "    # Same for linewidth (thicker strokes on bottom)\n",
    "    lw = 1.5 - i / 100.0\n",
    "    line, = ax.plot(xscale * X, i + G * data[i], lw=lw)\n",
    "    lines.append(line)\n",
    "\n",
    "# Set y limit (or first line is cropped because of thickness)\n",
    "ax.set_ylim(-1, 70)\n",
    "\n",
    "# No ticks\n",
    "ax.set_xticks([])\n",
    "ax.set_yticks([])\n",
    "\n",
    "# 2 part titles to get different font weights\n",
    "ax.text(0.5, 1.0, \"MATPLOTLIB \", transform=ax.transAxes,\n",
    "        ha=\"right\", va=\"bottom\", color=\"w\",\n",
    "        family=\"sans-serif\", fontweight=\"light\", fontsize=16)\n",
    "ax.text(0.5, 1.0, \"UNCHAINED\", transform=ax.transAxes,\n",
    "        ha=\"left\", va=\"bottom\", color=\"w\",\n",
    "        family=\"sans-serif\", fontweight=\"bold\", fontsize=16)\n",
    "\n",
    "\n",
    "def update(*args):\n",
    "    # Shift all data to the right\n",
    "    data[:, 1:] = data[:, :-1]\n",
    "far\n",
    "    # Fill-in new values\n",
    "    data[:, 0] = np.random.uniform(0, 1, len(data))\n",
    "\n",
    "    # Update data\n",
    "    for i in range(len(data)):\n",
    "        lines[i].set_ydata(i + G * data[i])\n",
    "\n",
    "    # Return modified artists\n",
    "    return lines\n",
    "\n",
    "# Construct the animation, using the update function as the animation\n",
    "# director.\n",
    "anim = animation.FuncAnimation(fig, update, interval=10)\n",
    "plt.show()"
   ]
  },
  {
   "cell_type": "markdown",
   "metadata": {},
   "source": [
    "## Event driven figure example"
   ]
  },
  {
   "cell_type": "code",
   "execution_count": 54,
   "metadata": {
    "collapsed": false
   },
   "outputs": [
    {
     "name": "stdout",
     "output_type": "stream",
     "text": [
      "enter_figure Figure(640x480)\n",
      "enter_axes Axes(0.125,0.1;0.775x0.363636)\n",
      "leave_axes Axes(0.125,0.1;0.775x0.363636)\n",
      "enter_axes Axes(0.125,0.536364;0.775x0.363636)\n",
      "leave_axes Axes(0.125,0.536364;0.775x0.363636)\n",
      "leave_figure Figure(640x476)\n",
      "enter_figure Figure(640x476)\n",
      "enter_axes Axes(0.125,0.536364;0.775x0.363636)\n",
      "leave_axes Axes(0.125,0.536364;0.775x0.363636)\n",
      "enter_axes Axes(0.125,0.1;0.775x0.363636)\n",
      "leave_axes Axes(0.125,0.1;0.775x0.363636)\n",
      "enter_axes Axes(0.125,0.536364;0.775x0.363636)\n",
      "leave_axes Axes(0.125,0.536364;0.775x0.363636)\n",
      "leave_figure Figure(640x476)\n"
     ]
    }
   ],
   "source": [
    "from __future__ import print_function\n",
    "import matplotlib.pyplot as plt\n",
    "\n",
    "\n",
    "def enter_axes(event):\n",
    "    print('enter_axes', event.inaxes)\n",
    "    event.inaxes.patch.set_facecolor('yellow')\n",
    "    event.canvas.draw()\n",
    "\n",
    "\n",
    "def leave_axes(event):\n",
    "    print('leave_axes', event.inaxes)\n",
    "    event.inaxes.patch.set_facecolor('white')\n",
    "    event.canvas.draw()\n",
    "\n",
    "\n",
    "def enter_figure(event):\n",
    "    print('enter_figure', event.canvas.figure)\n",
    "    event.canvas.figure.patch.set_facecolor('red')\n",
    "    event.canvas.draw()\n",
    "\n",
    "\n",
    "def leave_figure(event):\n",
    "    print('leave_figure', event.canvas.figure)\n",
    "    event.canvas.figure.patch.set_facecolor('grey')\n",
    "    event.canvas.draw()\n",
    "\n",
    "fig1, (ax, ax2) = plt.subplots(2, 1)\n",
    "fig1.suptitle('mouse hover over figure or axes to trigger events')\n",
    "\n",
    "fig1.canvas.mpl_connect('figure_enter_event', enter_figure)\n",
    "fig1.canvas.mpl_connect('figure_leave_event', leave_figure)\n",
    "fig1.canvas.mpl_connect('axes_enter_event', enter_axes)\n",
    "fig1.canvas.mpl_connect('axes_leave_event', leave_axes)\n",
    "\n",
    "fig2, (ax, ax2) = plt.subplots(2, 1)\n",
    "fig2.suptitle('mouse hover over figure or axes to trigger events')\n",
    "\n",
    "fig2.canvas.mpl_connect('figure_enter_event', enter_figure)\n",
    "fig2.canvas.mpl_connect('figure_leave_event', leave_figure)\n",
    "fig2.canvas.mpl_connect('axes_enter_event', enter_axes)\n",
    "fig2.canvas.mpl_connect('axes_leave_event', leave_axes)\n",
    "\n",
    "plt.show()"
   ]
  },
  {
   "cell_type": "markdown",
   "metadata": {},
   "source": [
    "## Histogram animations"
   ]
  },
  {
   "cell_type": "code",
   "execution_count": 10,
   "metadata": {
    "collapsed": true
   },
   "outputs": [],
   "source": [
    "import numpy as np\n",
    "\n",
    "import matplotlib.pyplot as plt\n",
    "import matplotlib.patches as patches\n",
    "import matplotlib.path as path\n",
    "import matplotlib.animation as animation\n",
    "\n",
    "fig, ax = plt.subplots()\n",
    "\n",
    "# histogram our data with numpy\n",
    "data = np.random.randn(1000)\n",
    "n, bins = np.histogram(data, 100)\n",
    "\n",
    "# get the corners of the rectangles for the histogram\n",
    "left = np.array(bins[:-1])\n",
    "right = np.array(bins[1:])\n",
    "bottom = np.zeros(len(left))\n",
    "top = bottom + n\n",
    "nrects = len(left)\n",
    "\n",
    "# here comes the tricky part -- we have to set up the vertex and path\n",
    "# codes arrays using moveto, lineto and closepoly\n",
    "\n",
    "# for each rect: 1 for the MOVETO, 3 for the LINETO, 1 for the\n",
    "# CLOSEPOLY; the vert for the closepoly is ignored but we still need\n",
    "# it to keep the codes aligned with the vertices\n",
    "nverts = nrects*(1 + 3 + 1)\n",
    "verts = np.zeros((nverts, 2))\n",
    "codes = np.ones(nverts, int) * path.Path.LINETO\n",
    "codes[0::5] = path.Path.MOVETO\n",
    "codes[4::5] = path.Path.CLOSEPOLY\n",
    "verts[0::5, 0] = left\n",
    "verts[0::5, 1] = bottom\n",
    "verts[1::5, 0] = left\n",
    "verts[1::5, 1] = top\n",
    "verts[2::5, 0] = right\n",
    "verts[2::5, 1] = top\n",
    "verts[3::5, 0] = right\n",
    "verts[3::5, 1] = bottom\n",
    "\n",
    "barpath = path.Path(verts, codes)\n",
    "patch = patches.PathPatch(\n",
    "    barpath, facecolor='green', edgecolor='yellow', alpha=0.5)\n",
    "ax.add_patch(patch)\n",
    "\n",
    "ax.set_xlim(left[0], right[-1])\n",
    "ax.set_ylim(bottom.min(), top.max())\n",
    "\n",
    "\n",
    "def animate(i):\n",
    "    # simulate new data coming in\n",
    "    data = np.random.randn(1000)\n",
    "    n, bins = np.histogram(data, 100)\n",
    "    top = bottom + n\n",
    "    verts[1::5, 1] = top\n",
    "    verts[2::5, 1] = top\n",
    "    return [patch, ]\n",
    "\n",
    "ani = animation.FuncAnimation(fig, animate, 100, repeat=False, blit=True)\n",
    "plt.show()"
   ]
  },
  {
   "cell_type": "markdown",
   "metadata": {
    "collapsed": false
   },
   "source": [
    "# Moving Sine wave Example"
   ]
  },
  {
   "cell_type": "code",
   "execution_count": 11,
   "metadata": {
    "collapsed": true
   },
   "outputs": [],
   "source": [
    "import numpy as np\n",
    "from matplotlib import pyplot as plt\n",
    "from matplotlib import animation\n",
    "\n",
    "# First set up the figure, the axis, and the plot element we want to animate\n",
    "fig = plt.figure()\n",
    "ax = plt.axes(xlim=(0, 2), ylim=(-2, 2))\n",
    "line, = ax.plot([], [], lw=2)\n",
    "\n",
    "# initialization function: plot the background of each frame\n",
    "def init():\n",
    "    line.set_data([], [])\n",
    "    return line,\n",
    "\n",
    "# animation function.  This is called sequentially\n",
    "def animate(i):\n",
    "    x = np.linspace(0, 2, 1000)\n",
    "    y = np.sin(2 * np.pi * (x - 0.01 * i))\n",
    "    line.set_data(x, y)\n",
    "    return line,\n",
    "\n",
    "# call the animator.  blit=True means only re-draw the parts that have changed.\n",
    "anim = animation.FuncAnimation(fig, animate, init_func=init,\n",
    "                               frames=200, interval=20, blit=True)\n",
    "plt.show()"
   ]
  },
  {
   "cell_type": "markdown",
   "metadata": {},
   "source": [
    "## rainwater example animation"
   ]
  },
  {
   "cell_type": "code",
   "execution_count": 12,
   "metadata": {
    "collapsed": false
   },
   "outputs": [],
   "source": [
    "\n",
    "import numpy as np\n",
    "import matplotlib.pyplot as plt\n",
    "from matplotlib.animation import FuncAnimation\n",
    "\n",
    "\n",
    "# Create new Figure and an Axes which fills it.\n",
    "fig = plt.figure(figsize=(7, 7))\n",
    "ax = fig.add_axes([0, 0, 1, 1], frameon=False)\n",
    "ax.set_xlim(0, 1), ax.set_xticks([])\n",
    "ax.set_ylim(0, 1), ax.set_yticks([])\n",
    "\n",
    "# Create rain data\n",
    "n_drops = 50\n",
    "rain_drops = np.zeros(n_drops, dtype=[('position', float, 2),\n",
    "                                      ('size',     float, 1),\n",
    "                                      ('growth',   float, 1),\n",
    "                                      ('color',    float, 4)])\n",
    "\n",
    "# Initialize the raindrops in random positions and with\n",
    "# random growth rates.\n",
    "rain_drops['position'] = np.random.uniform(0, 1, (n_drops, 2))\n",
    "rain_drops['growth'] = np.random.uniform(50, 200, n_drops)\n",
    "\n",
    "# Construct the scatter which we will update during animation\n",
    "# as the raindrops develop.\n",
    "scat = ax.scatter(rain_drops['position'][:, 0], rain_drops['position'][:, 1],\n",
    "                  s=rain_drops['size'], lw=0.5, edgecolors=rain_drops['color'],\n",
    "                  facecolors='none')\n",
    "\n",
    "\n",
    "def update(frame_number):\n",
    "    # Get an index which we can use to re-spawn the oldest raindrop.\n",
    "    current_index = frame_number % n_drops\n",
    "\n",
    "    # Make all colors more transparent as time progresses.\n",
    "    rain_drops['color'][:, 3] -= 1.0/len(rain_drops)\n",
    "    rain_drops['color'][:, 3] = np.clip(rain_drops['color'][:, 3], 0, 1)\n",
    "\n",
    "    # Make all circles bigger.\n",
    "    rain_drops['size'] += rain_drops['growth']\n",
    "\n",
    "    # Pick a new position for oldest rain drop, resetting its size,\n",
    "    # color and growth factor.\n",
    "    rain_drops['position'][current_index] = np.random.uniform(0, 1, 2)\n",
    "    rain_drops['size'][current_index] = 5\n",
    "    rain_drops['color'][current_index] = (0, 0, 0, 1)\n",
    "    rain_drops['growth'][current_index] = np.random.uniform(50, 200)\n",
    "\n",
    "    # Update the scatter collection, with the new colors, sizes and positions.\n",
    "    scat.set_edgecolors(rain_drops['color'])\n",
    "    scat.set_sizes(rain_drops['size'])\n",
    "    scat.set_offsets(rain_drops['position'])\n",
    "\n",
    "\n",
    "# Construct the animation, using the update function as the animation\n",
    "# director.\n",
    "animation = FuncAnimation(fig, update, interval=50)\n",
    "plt.show()\n",
    "\n"
   ]
  },
  {
   "cell_type": "code",
   "execution_count": null,
   "metadata": {
    "collapsed": false
   },
   "outputs": [],
   "source": []
  },
  {
   "cell_type": "markdown",
   "metadata": {},
   "source": [
    "## Mission Abi's project\n",
    "\n"
   ]
  },
  {
   "cell_type": "code",
   "execution_count": 20,
   "metadata": {
    "collapsed": false
   },
   "outputs": [],
   "source": [
    "from graphics import *\n",
    "import math,time\n",
    "\n",
    "\n",
    "''' Simulation of a mass hanging on a vertical spring '''\n",
    "\n",
    "class Block():\n",
    "    ''' object block is given 5 values, a mass, the springs constant K,\n",
    "        the inital force applied to make it oscillate, gravity it experiences,\n",
    "        and damping force.'''\n",
    "    \n",
    "    def __init__(self,mass,k,force,gravity,damp):\n",
    "        self.mass = float(mass)\n",
    "        self.k = float(k)\n",
    "        self.gravity = float(gravity)\n",
    "        self.damp = float(damp)\n",
    "        self.force = float(force)\n",
    "        \n",
    "        self.initPos = (self.mass*self.gravity)/self.k          # Hooke's Law F = k*x\n",
    "        self.amp = ((self.mass*self.gravity) + self.force) / self.k  # calculating max amplitude\n",
    "        self.omega = math.sqrt(self.k/self.mass)                # speed of mass\n",
    "\n",
    "    def getMass(self):\n",
    "        return self.mass\n",
    "    def getForce(self):\n",
    "        return self.force\n",
    "    def getK(self):\n",
    "        return self.k\n",
    "    def getGravity(self):\n",
    "        return self.gravity\n",
    "    def getDamp(self):\n",
    "        return self.damp\n",
    "\n",
    "    def update(self,t):\n",
    "        ''' Calculating the new postion of the block at a certain time,t,\n",
    "            using oscillation equation and damping'''\n",
    "        \n",
    "        pos = self.initPos + self.amp*(math.cos(self.omega*t))*math.exp(-self.damp*t)\n",
    "        self.initPos = pos                                      #setting the inital postion to current position\n",
    "        return pos\n",
    "\n",
    "\n",
    "def main():\n",
    "\n",
    "    b = Block(3.0,2.0,10.0,9.8,0.05)\n",
    "    win = GraphWin(\"oscillation\",400,400)\n",
    "    win.setCoords(0,-80,400,400)\n",
    "    win.setBackground(color_rgb(244,250,159))\n",
    "\n",
    "    windowGraphics(win)\n",
    "    simulation(b,win)\n",
    "    \n",
    "def windowGraphics(win):\n",
    "    '''Drawing all the shapes/items onto the screen via graphics module'''\n",
    "    \n",
    "    #base\n",
    "    base = Rectangle(Point(90,250),Point(320,270))\n",
    "    base.setFill(color_rgb(81,94,98))\n",
    "    base.setWidth(2)\n",
    "    base.setOutline(color_rgb(52,61,64))\n",
    "    base.draw(win)\n",
    "\n",
    "    #Texts\n",
    "    massText = TextFun(26,380,\"Mass: \",8,\"black\",'italic',win)\n",
    "    gravityText = TextFun(28,360,\"Gravity: \",8,\"black\",'italic',win)\n",
    "    springKText = TextFun(31,340,\"Spring K: \",8,\"black\",'italic',win)\n",
    "    forceText= TextFun(43,320,\"Force Applied: \",8,\"black\",'italic',win)\n",
    "    dampedText= TextFun(39,300,\"Damp Value: \",8,\"black\",'italic',win)\n",
    "\n",
    "    #Apply Button\n",
    "    button = Rectangle(Point(200,350),Point(270,380))\n",
    "    button.setFill(color_rgb(165,203,122))\n",
    "    button.setOutline(color_rgb(116,137,95))\n",
    "    button.setWidth(2)\n",
    "    button.draw(win)\n",
    "    point = button.getCenter()\n",
    "    applyT = TextFun(point.getX(),point.getY(),'APPLY',10,'black','bold',win)\n",
    "\n",
    "\n",
    "    #Simulate Button\n",
    "    button = Rectangle(Point(200,310),Point(270,340))\n",
    "    button.setFill(color_rgb(165,203,122))\n",
    "    button.setOutline(color_rgb(116,137,95))\n",
    "    button.setWidth(2)\n",
    "    button.draw(win)\n",
    "    point = button.getCenter()\n",
    "    simT = TextFun(point.getX(),point.getY(),'RESET',8,'black','bold',win)    \n",
    "\n",
    "def simulation(b,win):\n",
    "    '''Apply a simulation based on entry from user'''\n",
    "\n",
    "    #graph plotter\n",
    "    plot = GraphWin(\"plot\", 300,300)\n",
    "    plot.setCoords(0,-300,300,300)\n",
    "\n",
    "    \n",
    "    #entry information\n",
    "    mass = b.getMass()\n",
    "    springK = b.getK()\n",
    "    force = b.getForce()\n",
    "    gravity = b.getGravity()\n",
    "    damp = b.getDamp()\n",
    "\n",
    "    massE = Entry(Point(100,380),7)\n",
    "    massE.setText(mass)\n",
    "    EntryFun(massE,8,'white',win)\n",
    "\n",
    "    springE = Entry(Point(100,340),7)\n",
    "    springE.setText(springK)\n",
    "    EntryFun(springE,8,'white',win)\n",
    "    \n",
    "    gravityE = Entry(Point(100,360),7)\n",
    "    gravityE.setText(gravity)  \n",
    "    EntryFun(gravityE,8,'white',win)\n",
    "\n",
    "    forceE = Entry(Point(100,320),7)\n",
    "    forceE.setText(force)\n",
    "    EntryFun(forceE,8,'white',win)\n",
    "\n",
    "    dampE = Entry(Point(100,300),7)\n",
    "    dampE.setText(damp)\n",
    "    EntryFun(dampE,8,'white',win)\n",
    "\n",
    "    click = win.getMouse()\n",
    "    x = click.getX()\n",
    "    y = click.getY()\n",
    "\n",
    "\n",
    "    #apply button\n",
    "    if 200<x<270 and 350<y<380:\n",
    "        b = Block(massE.getText(),springE.getText(),forceE.getText(),gravityE.getText(),dampE.getText())\n",
    "\n",
    "\n",
    "\n",
    "    done = False\n",
    "    t = 0\n",
    "    while not done:\n",
    "\n",
    "\n",
    "        xaxis = Line(Point(10,0),Point(260,0)).draw(plot)\n",
    "        yaxis = Line(Point(30,-290),Point(30,290)).draw(plot)\n",
    "\n",
    "        t+=0.5\n",
    "        y = int(b.update(t))  #postion of block at a given time\n",
    "\n",
    "        reset= win.checkMouse()\n",
    "        if reset!=None:\n",
    "            x1=reset.getX()\n",
    "            y1 = reset.getY()\n",
    "            if 200<x1<270 and 310<y1<340:\n",
    "                done=True\n",
    "        \n",
    "        block = Rectangle(Point(170,y),Point(200, y+30))\n",
    "        block.setFill(\"red\")\n",
    "        block.setOutline(\"black\")\n",
    "        block.draw(win)\n",
    "\n",
    "        line = Line(Point(185,250),Point(185,y+30))\n",
    "        line.draw(win)\n",
    "        \n",
    "        time.sleep(0.1)\n",
    "        block.undraw()\n",
    "        line.undraw()\n",
    "\n",
    "        plotz(plot,y,t)\n",
    "    plot.close()\n",
    "    simulation(b,win)\n",
    "\n",
    "        \n",
    "\n",
    "'''These methods below just simplify the code above'''    \n",
    "    \n",
    "def EntryFun(e,size,color,win):\n",
    "    e.setSize(size)\n",
    "    e.setFill(color)\n",
    "    e.draw(win)\n",
    "    \n",
    "def TextFun(x,y,string,size,color,style,win):\n",
    "    ''' quick and efficent way to draw text on screen'''\n",
    "\n",
    "    t = Text(Point(x,y),string)\n",
    "    t.setSize(size)\n",
    "    t.setFill(str(color))\n",
    "    t.setStyle(str(style))\n",
    "    t.draw(win)\n",
    "\n",
    "def plotz(plot,y,t):\n",
    "\n",
    "    point = Point(t*2+30,y).draw(plot)\n"
   ]
  },
  {
   "cell_type": "code",
   "execution_count": null,
   "metadata": {
    "collapsed": true
   },
   "outputs": [],
   "source": []
  },
  {
   "cell_type": "code",
   "execution_count": null,
   "metadata": {
    "collapsed": true
   },
   "outputs": [],
   "source": []
  },
  {
   "cell_type": "code",
   "execution_count": null,
   "metadata": {
    "collapsed": true
   },
   "outputs": [],
   "source": []
  },
  {
   "cell_type": "code",
   "execution_count": null,
   "metadata": {
    "collapsed": true
   },
   "outputs": [],
   "source": []
  },
  {
   "cell_type": "code",
   "execution_count": null,
   "metadata": {
    "collapsed": true
   },
   "outputs": [],
   "source": []
  },
  {
   "cell_type": "code",
   "execution_count": null,
   "metadata": {
    "collapsed": true
   },
   "outputs": [],
   "source": []
  },
  {
   "cell_type": "code",
   "execution_count": null,
   "metadata": {
    "collapsed": true
   },
   "outputs": [],
   "source": []
  },
  {
   "cell_type": "code",
   "execution_count": null,
   "metadata": {
    "collapsed": false
   },
   "outputs": [],
   "source": []
  },
  {
   "cell_type": "code",
   "execution_count": null,
   "metadata": {
    "collapsed": true
   },
   "outputs": [],
   "source": []
  }
 ],
 "metadata": {
  "celltoolbar": "Raw Cell Format",
  "kernelspec": {
   "display_name": "Python 2",
   "language": "python",
   "name": "python2"
  },
  "language_info": {
   "codemirror_mode": {
    "name": "ipython",
    "version": 2
   },
   "file_extension": ".py",
   "mimetype": "text/x-python",
   "name": "python",
   "nbconvert_exporter": "python",
   "pygments_lexer": "ipython2",
   "version": "2.7.12"
  }
 },
 "nbformat": 4,
 "nbformat_minor": 0
}
