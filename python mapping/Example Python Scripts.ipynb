{
 "cells": [
  {
   "cell_type": "markdown",
   "metadata": {},
   "source": [
    "# This is a workbook full of example Python"
   ]
  },
  {
   "cell_type": "markdown",
   "metadata": {},
   "source": [
    "## Matlpolt basemap example - random dots animation"
   ]
  },
  {
   "cell_type": "markdown",
   "metadata": {},
   "source": [
    "####  Most recent version on conda forge:\n",
    "conda install -c conda-forge basemap"
   ]
  },
  {
   "cell_type": "code",
   "execution_count": 2,
   "metadata": {},
   "outputs": [
    {
     "name": "stderr",
     "output_type": "stream",
     "text": [
      "/Users/simon.ward-jones/anaconda/lib/python3.6/site-packages/mpl_toolkits/basemap/__init__.py:1711: MatplotlibDeprecationWarning: The axesPatch function was deprecated in version 2.1. Use Axes.patch instead.\n",
      "  if limb is not ax.axesPatch:\n",
      "/Users/simon.ward-jones/anaconda/lib/python3.6/site-packages/ipykernel_launcher.py:23: DeprecationWarning: This function is deprecated. Please call randint(-130, 130 + 1) instead\n"
     ]
    }
   ],
   "source": [
    "from mpl_toolkits.basemap import Basemap\n",
    "import matplotlib.pyplot as plt\n",
    "import numpy as np\n",
    "import matplotlib.animation as animation\n",
    "my_map = Basemap(projection='robin', resolution = 'l', area_thresh = 1000.0,\n",
    "          lat_0=0, lon_0=-130)\n",
    "my_map.drawcoastlines()\n",
    "my_map.drawcountries()\n",
    "my_map.fillcontinents(color = 'gray')\n",
    "my_map.drawmapboundary()\n",
    "my_map.drawmeridians(np.arange(0, 360, 30))\n",
    "my_map.drawparallels(np.arange(-90, 90, 30))\n",
    "\n",
    "x,y = my_map(0, 0)\n",
    "point = my_map.plot(x, y, 'ro', markersize=5)[0]\n",
    "\n",
    "def init():\n",
    "    point.set_data([], [])\n",
    "    return point,\n",
    "\n",
    "# animation function.  This is called sequentially\n",
    "def animate(i):\n",
    "    lons, lats =  np.random.random_integers(-130, 130, 2)\n",
    "    x, y = my_map(lons, lats)\n",
    "    point.set_data(x, y)\n",
    "    return point,\n",
    "\n",
    "# call the animator.  blit=True means only re-draw the parts that have changed.\n",
    "anim = animation.FuncAnimation(plt.gcf(), animate, init_func=init,\n",
    "                               frames=20, interval=500, blit=True)\n",
    "\n",
    "anim.save(filename='example1.mp4')"
   ]
  },
  {
   "cell_type": "markdown",
   "metadata": {},
   "source": [
    "## Sublpot animations  - sine /cos wave animation"
   ]
  },
  {
   "cell_type": "code",
   "execution_count": 4,
   "metadata": {
    "collapsed": true
   },
   "outputs": [],
   "source": [
    "import numpy as np\n",
    "import matplotlib.pyplot as plt\n",
    "from matplotlib.lines import Line2D\n",
    "import matplotlib.animation as animation\n",
    "\n",
    "\n",
    "# This example uses subclassing, but there is no reason that the proper\n",
    "# function couldn't be set up and then use FuncAnimation. The code is long, but\n",
    "# not really complex. The length is due solely to the fact that there are a\n",
    "# total of 9 lines that need to be changed for the animation as well as 3\n",
    "# subplots that need initial set up.\n",
    "class SubplotAnimation(animation.TimedAnimation):\n",
    "    def __init__(self):\n",
    "        fig = plt.figure()\n",
    "        ax1 = fig.add_subplot(1, 2, 1)\n",
    "        ax2 = fig.add_subplot(2, 2, 2)\n",
    "        ax3 = fig.add_subplot(2, 2, 4)\n",
    "\n",
    "        self.t = np.linspace(0, 80, 400)\n",
    "        self.x = np.cos(2 * np.pi * self.t / 10.)\n",
    "        self.y = np.sin(2 * np.pi * self.t / 10.)\n",
    "        self.z = 10 * self.t\n",
    "\n",
    "        ax1.set_xlabel('x')\n",
    "        ax1.set_ylabel('y')\n",
    "        self.line1 = Line2D([], [], color='black')\n",
    "        self.line1a = Line2D([], [], color='red', linewidth=2)\n",
    "        self.line1e = Line2D(\n",
    "            [], [], color='red', marker='o', markeredgecolor='r')\n",
    "        ax1.add_line(self.line1)\n",
    "        ax1.add_line(self.line1a)\n",
    "        ax1.add_line(self.line1e)\n",
    "        ax1.set_xlim(-1, 1)\n",
    "        ax1.set_ylim(-2, 2)\n",
    "        ax1.set_aspect('equal', 'datalim')\n",
    "\n",
    "        ax2.set_xlabel('y')\n",
    "        ax2.set_ylabel('z')\n",
    "        self.line2 = Line2D([], [], color='black')\n",
    "        self.line2a = Line2D([], [], color='red', linewidth=2)\n",
    "        self.line2e = Line2D(\n",
    "            [], [], color='red', marker='o', markeredgecolor='r')\n",
    "        ax2.add_line(self.line2)\n",
    "        ax2.add_line(self.line2a)\n",
    "        ax2.add_line(self.line2e)\n",
    "        ax2.set_xlim(-1, 1)\n",
    "        ax2.set_ylim(0, 800)\n",
    "\n",
    "        ax3.set_xlabel('x')\n",
    "        ax3.set_ylabel('z')\n",
    "        self.line3 = Line2D([], [], color='black')\n",
    "        self.line3a = Line2D([], [], color='red', linewidth=2)\n",
    "        self.line3e = Line2D(\n",
    "            [], [], color='red', marker='o', markeredgecolor='r')\n",
    "        ax3.add_line(self.line3)\n",
    "        ax3.add_line(self.line3a)\n",
    "        ax3.add_line(self.line3e)\n",
    "        ax3.set_xlim(-1, 1)\n",
    "        ax3.set_ylim(0, 800)\n",
    "\n",
    "        animation.TimedAnimation.__init__(self, fig, interval=50, blit=True)\n",
    "\n",
    "    def _draw_frame(self, framedata):\n",
    "        i = framedata\n",
    "        head = i -1\n",
    "        head_len = 10\n",
    "        head_slice = (self.t > self.t[i] - 1.0) & (self.t < self.t[i])\n",
    "\n",
    "        self.line1.set_data(self.x[:i], self.y[:i])\n",
    "        self.line1a.set_data(self.x[head_slice], self.y[head_slice])\n",
    "        self.line1e.set_data(self.x[head], self.y[head])\n",
    "\n",
    "        self.line2.set_data(self.y[:i], self.z[:i])\n",
    "        self.line2a.set_data(self.y[head_slice], self.z[head_slice])\n",
    "        self.line2e.set_data(self.y[head], self.z[head])\n",
    "\n",
    "        self.line3.set_data(self.x[:i], self.z[:i])\n",
    "        self.line3a.set_data(self.x[head_slice], self.z[head_slice])\n",
    "        self.line3e.set_data(self.x[head], self.z[head])\n",
    "\n",
    "        self._drawn_artists = [self.line1, self.line1a, self.line1e,\n",
    "                               self.line2, self.line2a, self.line2e,\n",
    "                               self.line3, self.line3a, self.line3e]\n",
    "\n",
    "    def new_frame_seq(self):\n",
    "        return iter(range(self.t.size))\n",
    "\n",
    "    def _init_draw(self):\n",
    "        lines = [self.line1, self.line1a, self.line1e,\n",
    "                 self.line2, self.line2a, self.line2e,\n",
    "                 self.line3, self.line3a, self.line3e]\n",
    "        for l in lines:\n",
    "            l.set_data([], [])\n",
    "\n",
    "ani = SubplotAnimation()\n",
    "#ani.save('test_sub.mp4')\n",
    "ani.save(filename='example2.mp4')"
   ]
  },
  {
   "cell_type": "markdown",
   "metadata": {},
   "source": [
    "## two different figure animations"
   ]
  },
  {
   "cell_type": "code",
   "execution_count": 5,
   "metadata": {},
   "outputs": [],
   "source": [
    "import numpy as np\n",
    "import matplotlib.pyplot as plt\n",
    "import matplotlib.animation as animation\n",
    "\n",
    "\n",
    "def update_line(num, data, line):\n",
    "    line.set_data(data[..., :num])\n",
    "    return line,\n",
    "\n",
    "fig1 = plt.figure()\n",
    "\n",
    "data = np.random.rand(2, 25)\n",
    "l, = plt.plot([], [], 'r-')\n",
    "plt.xlim(0, 1)\n",
    "plt.ylim(0, 1)\n",
    "plt.xlabel('x')\n",
    "plt.title('test')\n",
    "line_ani = animation.FuncAnimation(fig1, update_line, 25, fargs=(data, l),\n",
    "                                   interval=500, blit=True)\n",
    "#line_ani.save('lines.mp4')\n",
    "\n",
    "fig2 = plt.figure()\n",
    "\n",
    "x = np.arange(-9, 10)\n",
    "y = np.arange(-9, 10).reshape(-1, 1)\n",
    "base = np.hypot(x, y)\n",
    "ims = []\n",
    "for add in np.arange(15):\n",
    "    ims.append((plt.pcolor(x, y, base + add, norm=plt.Normalize(0, 30)),))\n",
    "\n",
    "im_ani = animation.ArtistAnimation(fig2, ims, interval=50, repeat_delay=3000,\n",
    "                                   blit=True)\n",
    "\n",
    "im_ani.save('example3.mp4', metadata={'artist':'Guido'})"
   ]
  },
  {
   "cell_type": "markdown",
   "metadata": {},
   "source": [
    "## Moving Colour dots on figure"
   ]
  },
  {
   "cell_type": "code",
   "execution_count": 6,
   "metadata": {},
   "outputs": [],
   "source": [
    "#!/usr/bin/env python\n",
    "\"\"\"\n",
    "An animated image\n",
    "\"\"\"\n",
    "import numpy as np\n",
    "import matplotlib.pyplot as plt\n",
    "import matplotlib.animation as animation\n",
    "\n",
    "fig = plt.figure()\n",
    "\n",
    "\n",
    "def f(x, y):\n",
    "    return np.sin(x) + np.cos(y)\n",
    "\n",
    "x = np.linspace(0, 2 * np.pi, 120)\n",
    "y = np.linspace(0, 2 * np.pi, 100).reshape(-1, 1)\n",
    "# ims is a list of lists, each row is a list of artists to draw in the\n",
    "# current frame; here we are just animating one artist, the image, in\n",
    "# each frame\n",
    "ims = []\n",
    "for i in range(60):\n",
    "    x += np.pi / 15.\n",
    "    y += np.pi / 20.\n",
    "    im = plt.imshow(f(x, y), cmap='viridis', animated=True)\n",
    "    ims.append([im])\n",
    "\n",
    "ani = animation.ArtistAnimation(fig, ims, interval=50, blit=True,\n",
    "                                repeat_delay=1000)\n",
    "\n",
    "ani.save('example4.mp4')\n"
   ]
  },
  {
   "cell_type": "markdown",
   "metadata": {},
   "source": [
    "# MAtplot lib unchained example"
   ]
  },
  {
   "cell_type": "code",
   "execution_count": 10,
   "metadata": {},
   "outputs": [],
   "source": [
    "import numpy as np\n",
    "import matplotlib.pyplot as plt\n",
    "import matplotlib.animation as animation\n",
    "\n",
    "# Create new Figure with black background\n",
    "fig = plt.figure(figsize=(8, 8), facecolor='black')\n",
    "\n",
    "# Add a subplot with no frame\n",
    "ax = plt.subplot(111, frameon=False)\n",
    "\n",
    "# Generate random data\n",
    "data = np.random.uniform(0, 1, (64, 75))\n",
    "X = np.linspace(-1, 1, data.shape[-1])\n",
    "G = 1.5 * np.exp(-4 * X * X)\n",
    "\n",
    "# Generate line plots\n",
    "lines = []\n",
    "for i in range(len(data)):\n",
    "    # Small reduction of the X extents to get a cheap perspective effect\n",
    "    xscale = 1 - i / 200.\n",
    "    # Same for linewidth (thicker strokes on bottom)\n",
    "    lw = 1.5 - i / 100.0\n",
    "    line, = ax.plot(xscale * X, i + G * data[i], lw=lw)\n",
    "    lines.append(line)\n",
    "\n",
    "# Set y limit (or first line is cropped because of thickness)\n",
    "ax.set_ylim(-1, 70)\n",
    "\n",
    "# No ticks\n",
    "ax.set_xticks([])\n",
    "ax.set_yticks([])\n",
    "\n",
    "# 2 part titles to get different font weights\n",
    "ax.text(0.5, 1.0, \"MATPLOTLIB \", transform=ax.transAxes,\n",
    "        ha=\"right\", va=\"bottom\", color=\"b\",\n",
    "        family=\"sans-serif\", fontweight=\"light\", fontsize=16)\n",
    "ax.text(0.5, 1.0, \"UNCHAINED\", transform=ax.transAxes,\n",
    "        ha=\"left\", va=\"bottom\", color=\"b\",\n",
    "        family=\"sans-serif\", fontweight=\"bold\", fontsize=16)\n",
    "\n",
    "\n",
    "def update(*args):\n",
    "    # Shift all data to the right\n",
    "    data[:, 1:] = data[:, :-1]\n",
    "    \n",
    "    # Fill-in new values\n",
    "    data[:, 0] = np.random.uniform(0, 1, len(data))\n",
    "\n",
    "    # Update data\n",
    "    for i in range(len(data)):\n",
    "        lines[i].set_ydata(i + G * data[i])\n",
    "\n",
    "    # Return modified artists\n",
    "    return lines\n",
    "\n",
    "# Construct the animation, using the update function as the animation\n",
    "# director.\n",
    "anim = animation.FuncAnimation(fig, update, interval=10)\n",
    "anim.save('example5.mp4')"
   ]
  },
  {
   "cell_type": "code",
   "execution_count": null,
   "metadata": {
    "collapsed": true
   },
   "outputs": [],
   "source": []
  },
  {
   "cell_type": "code",
   "execution_count": null,
   "metadata": {
    "collapsed": true
   },
   "outputs": [],
   "source": []
  },
  {
   "cell_type": "code",
   "execution_count": null,
   "metadata": {
    "collapsed": true
   },
   "outputs": [],
   "source": []
  },
  {
   "cell_type": "code",
   "execution_count": null,
   "metadata": {
    "collapsed": true
   },
   "outputs": [],
   "source": []
  },
  {
   "cell_type": "code",
   "execution_count": null,
   "metadata": {
    "collapsed": true
   },
   "outputs": [],
   "source": []
  },
  {
   "cell_type": "code",
   "execution_count": null,
   "metadata": {
    "collapsed": true
   },
   "outputs": [],
   "source": []
  },
  {
   "cell_type": "code",
   "execution_count": null,
   "metadata": {
    "collapsed": true
   },
   "outputs": [],
   "source": []
  },
  {
   "cell_type": "code",
   "execution_count": null,
   "metadata": {
    "collapsed": true
   },
   "outputs": [],
   "source": []
  },
  {
   "cell_type": "code",
   "execution_count": null,
   "metadata": {
    "collapsed": true
   },
   "outputs": [],
   "source": []
  },
  {
   "cell_type": "code",
   "execution_count": null,
   "metadata": {
    "collapsed": true
   },
   "outputs": [],
   "source": []
  }
 ],
 "metadata": {
  "celltoolbar": "Raw Cell Format",
  "kernelspec": {
   "display_name": "Python 3",
   "language": "python",
   "name": "python3"
  },
  "language_info": {
   "codemirror_mode": {
    "name": "ipython",
    "version": 3
   },
   "file_extension": ".py",
   "mimetype": "text/x-python",
   "name": "python",
   "nbconvert_exporter": "python",
   "pygments_lexer": "ipython3",
   "version": "3.6.1"
  }
 },
 "nbformat": 4,
 "nbformat_minor": 1
}
